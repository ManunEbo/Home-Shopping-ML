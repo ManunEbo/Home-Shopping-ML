{
 "cells": [
  {
   "cell_type": "markdown",
   "id": "f355bb2d",
   "metadata": {},
   "source": [
    "<h1 style=\"color: green;\">Summary</h1>\n",
    "\n",
    "<p>\n",
    "The following tasks are accomplished in this section:\n",
    "<ul>\n",
    "<li>Balancing the data with imblearn</li>\n",
    "<li>Hyperparameter tuning with GridSearchCV</li>\n",
    "<li>Model comparison: imbalanced vs balanced </li>\n",
    "<li>Final feature selection using selectfrom</li>\n",
    "<li>Optimization and threshold tuning</li>\n",
    "</ul>\n",
    "\n",
    "</p>"
   ]
  },
  {
   "cell_type": "markdown",
   "id": "feda3a4b",
   "metadata": {},
   "source": [
    "<h1 style=\"color: green;\">Import libraries</h1>"
   ]
  },
  {
   "cell_type": "code",
   "execution_count": 1,
   "id": "9297bffd",
   "metadata": {},
   "outputs": [],
   "source": [
    "import pandas as pd\n",
    "import numpy as np\n",
    "import seaborn as sb\n",
    "import matplotlib.pyplot as plt\n",
    "\n",
    "import time\n",
    "\n",
    "# Imblearn for oversampling\n",
    "from imblearn.over_sampling import SMOTE\n",
    "\n",
    "# Scaling the values\n",
    "from sklearn.preprocessing import binarize\n",
    "\n",
    "# GridsearchCV\n",
    "from sklearn.model_selection import GridSearchCV\n",
    "\n",
    "# feature selection\n",
    "from sklearn.feature_selection import SelectFromModel\n",
    "\n",
    "\n",
    "# Cross validation score\n",
    "from sklearn.model_selection import cross_val_score\n",
    "\n",
    "# Metrics Accuracy\n",
    "from sklearn.metrics import \\\n",
    "accuracy_score, confusion_matrix, recall_score, roc_curve,roc_auc_score\n",
    "\n",
    "# joblib for storing models\n",
    "import joblib\n",
    "\n",
    "# feature importance\n",
    "from sklearn.inspection import permutation_importance\n",
    "\n",
    "# for deep copy\n",
    "import copy\n",
    "\n",
    "\n",
    "# RandomForestClassifier\n",
    "from sklearn.ensemble import RandomForestClassifier as rfc\n",
    "\n",
    "# XGB.classifier\n",
    "\n",
    "from xgboost import XGBClassifier as xgb\n",
    "\n",
    "# Catboost\n",
    "from catboost import CatBoostClassifier as catb\n",
    "\n",
    "# LightGMB\n",
    "from lightgbm import LGBMClassifier as lgbm\n",
    "\n",
    "# Gradient boosting classifier\n",
    "from sklearn.ensemble import GradientBoostingClassifier as gbc\n",
    "\n",
    "# Adadboost classifier\n",
    "from sklearn.ensemble import AdaBoostClassifier as adb\n",
    "\n",
    "import warnings\n",
    "warnings.filterwarnings('ignore')"
   ]
  },
  {
   "cell_type": "markdown",
   "id": "8a545b23",
   "metadata": {},
   "source": [
    "<h1 style=\"color: green;\">Import data</h1>"
   ]
  },
  {
   "cell_type": "code",
   "execution_count": 2,
   "id": "a10943d5",
   "metadata": {},
   "outputs": [],
   "source": [
    "# import the data\n",
    "X_train = pd.read_csv(\"../2. Data/homeshopping_classif_X_train.csv\")\n",
    "X_test = pd.read_csv(\"../2. Data/homeshopping_classif_X_test.csv\")"
   ]
  },
  {
   "cell_type": "code",
   "execution_count": 3,
   "id": "e4cf7f7b",
   "metadata": {},
   "outputs": [
    {
     "data": {
      "text/plain": [
       "0    1\n",
       "1    0\n",
       "2    1\n",
       "3    0\n",
       "4    0\n",
       "Name: target, dtype: int64"
      ]
     },
     "execution_count": 3,
     "metadata": {},
     "output_type": "execute_result"
    }
   ],
   "source": [
    "# extracting y_train\n",
    "y_train = X_train.target\n",
    "X_train.drop(['target'], axis=1, inplace=True)\n",
    "y_train.head()"
   ]
  },
  {
   "cell_type": "code",
   "execution_count": 4,
   "id": "76818d34",
   "metadata": {},
   "outputs": [
    {
     "data": {
      "text/plain": [
       "0    0\n",
       "1    0\n",
       "2    0\n",
       "3    1\n",
       "4    0\n",
       "Name: target, dtype: int64"
      ]
     },
     "execution_count": 4,
     "metadata": {},
     "output_type": "execute_result"
    }
   ],
   "source": [
    "# extracting y_test\n",
    "y_test = X_test.target\n",
    "X_test.drop(['target'], axis=1, inplace=True)\n",
    "y_test.head()"
   ]
  },
  {
   "cell_type": "markdown",
   "id": "9885c070",
   "metadata": {},
   "source": [
    "<h1 style=\"color: green;\">Balancing the data with imblearn.over_sampling SMOTE </h1>\n",
    "\n",
    "<P>\n",
    "Binary classification models have a bias towards the majority target attribute.<br> \n",
    "This means that if the target distribution favours target = 0 then the model will learn to predict<br>\n",
    "that attribute better than the target = 1 attribute. This effect is visible in the sensitivity and<br>\n",
    "specificity of such models.\n",
    "</P>\n",
    "<p><b>\n",
    "    Below resampling is performed using Imblearn oversampling with SMOTE.<br>\n",
    "    SMOTE employes a nearest neighbour algorithm to generate/interpolate samples.<br>\n",
    "    This introduces variability around the original data points being sampled such that<br>\n",
    "    the model doesn't overfit the original data points\n",
    "</b></p>"
   ]
  },
  {
   "cell_type": "code",
   "execution_count": 5,
   "id": "cc2a34e8",
   "metadata": {},
   "outputs": [],
   "source": [
    "resamp = SMOTE(random_state=44)\n",
    "X_train_resample, y_train_resample = resamp.fit_resample(X_train,y_train)"
   ]
  },
  {
   "cell_type": "code",
   "execution_count": 6,
   "id": "d1b5ef7c",
   "metadata": {},
   "outputs": [
    {
     "name": "stdout",
     "output_type": "stream",
     "text": [
      "(942, 76)\n"
     ]
    },
    {
     "data": {
      "text/html": [
       "<div>\n",
       "<style scoped>\n",
       "    .dataframe tbody tr th:only-of-type {\n",
       "        vertical-align: middle;\n",
       "    }\n",
       "\n",
       "    .dataframe tbody tr th {\n",
       "        vertical-align: top;\n",
       "    }\n",
       "\n",
       "    .dataframe thead th {\n",
       "        text-align: right;\n",
       "    }\n",
       "</style>\n",
       "<table border=\"1\" class=\"dataframe\">\n",
       "  <thead>\n",
       "    <tr style=\"text-align: right;\">\n",
       "      <th></th>\n",
       "      <th>Total_Nbr_of_Items</th>\n",
       "      <th>Total_Price</th>\n",
       "      <th>Date_diff</th>\n",
       "      <th>Nbr_items_per_wk</th>\n",
       "      <th>Expenditure_per_wk</th>\n",
       "      <th>Total_Exp_wk_perc</th>\n",
       "      <th>AVG_exp_item_per_wk</th>\n",
       "      <th>hour</th>\n",
       "      <th>Drinks</th>\n",
       "      <th>Bread_wk</th>\n",
       "      <th>...</th>\n",
       "      <th>Week_day_name_Friday</th>\n",
       "      <th>Week_day_name_Monday</th>\n",
       "      <th>Week_day_name_Saturday</th>\n",
       "      <th>Week_day_name_Sunday</th>\n",
       "      <th>Week_day_name_Thursday</th>\n",
       "      <th>Week_day_name_Tuesday</th>\n",
       "      <th>Week_day_name_Wednesday</th>\n",
       "      <th>Part_of_day_Afternoon</th>\n",
       "      <th>Part_of_day_Evening</th>\n",
       "      <th>Part_of_day_Morning</th>\n",
       "    </tr>\n",
       "  </thead>\n",
       "  <tbody>\n",
       "    <tr>\n",
       "      <th>0</th>\n",
       "      <td>-0.839123</td>\n",
       "      <td>-0.116272</td>\n",
       "      <td>-0.516401</td>\n",
       "      <td>-2.325070</td>\n",
       "      <td>-0.360978</td>\n",
       "      <td>0.958724</td>\n",
       "      <td>0.176983</td>\n",
       "      <td>-0.281813</td>\n",
       "      <td>-0.540089</td>\n",
       "      <td>-1.338859</td>\n",
       "      <td>...</td>\n",
       "      <td>-0.392779</td>\n",
       "      <td>-0.456258</td>\n",
       "      <td>-0.484347</td>\n",
       "      <td>-0.299122</td>\n",
       "      <td>2.461060</td>\n",
       "      <td>-0.387298</td>\n",
       "      <td>-0.419686</td>\n",
       "      <td>1.031079</td>\n",
       "      <td>-0.373429</td>\n",
       "      <td>-0.709670</td>\n",
       "    </tr>\n",
       "    <tr>\n",
       "      <th>1</th>\n",
       "      <td>1.789132</td>\n",
       "      <td>0.101658</td>\n",
       "      <td>0.463288</td>\n",
       "      <td>-0.999776</td>\n",
       "      <td>-0.316871</td>\n",
       "      <td>1.714483</td>\n",
       "      <td>-0.179935</td>\n",
       "      <td>-0.534346</td>\n",
       "      <td>0.589188</td>\n",
       "      <td>-0.415046</td>\n",
       "      <td>...</td>\n",
       "      <td>-0.392779</td>\n",
       "      <td>-0.456258</td>\n",
       "      <td>2.064634</td>\n",
       "      <td>-0.299122</td>\n",
       "      <td>-0.406329</td>\n",
       "      <td>-0.387298</td>\n",
       "      <td>-0.419686</td>\n",
       "      <td>-0.969858</td>\n",
       "      <td>-0.373429</td>\n",
       "      <td>1.409105</td>\n",
       "    </tr>\n",
       "    <tr>\n",
       "      <th>2</th>\n",
       "      <td>-0.138255</td>\n",
       "      <td>-0.131116</td>\n",
       "      <td>-0.516401</td>\n",
       "      <td>-1.467527</td>\n",
       "      <td>-0.392313</td>\n",
       "      <td>1.564838</td>\n",
       "      <td>-0.217456</td>\n",
       "      <td>0.728321</td>\n",
       "      <td>-0.540089</td>\n",
       "      <td>-0.415046</td>\n",
       "      <td>...</td>\n",
       "      <td>-0.392779</td>\n",
       "      <td>-0.456258</td>\n",
       "      <td>-0.484347</td>\n",
       "      <td>-0.299122</td>\n",
       "      <td>-0.406329</td>\n",
       "      <td>-0.387298</td>\n",
       "      <td>2.382734</td>\n",
       "      <td>1.031079</td>\n",
       "      <td>-0.373429</td>\n",
       "      <td>-0.709670</td>\n",
       "    </tr>\n",
       "    <tr>\n",
       "      <th>3</th>\n",
       "      <td>1.088264</td>\n",
       "      <td>-0.164677</td>\n",
       "      <td>0.789851</td>\n",
       "      <td>-0.999776</td>\n",
       "      <td>-0.396774</td>\n",
       "      <td>1.297044</td>\n",
       "      <td>-0.247721</td>\n",
       "      <td>1.485921</td>\n",
       "      <td>0.589188</td>\n",
       "      <td>-0.415046</td>\n",
       "      <td>...</td>\n",
       "      <td>-0.392779</td>\n",
       "      <td>-0.456258</td>\n",
       "      <td>-0.484347</td>\n",
       "      <td>-0.299122</td>\n",
       "      <td>2.461060</td>\n",
       "      <td>-0.387298</td>\n",
       "      <td>-0.419686</td>\n",
       "      <td>-0.969858</td>\n",
       "      <td>2.677882</td>\n",
       "      <td>-0.709670</td>\n",
       "    </tr>\n",
       "    <tr>\n",
       "      <th>4</th>\n",
       "      <td>-0.839123</td>\n",
       "      <td>-0.131116</td>\n",
       "      <td>-0.516401</td>\n",
       "      <td>0.247559</td>\n",
       "      <td>-0.278559</td>\n",
       "      <td>0.049752</td>\n",
       "      <td>-0.217792</td>\n",
       "      <td>-1.291946</td>\n",
       "      <td>-0.540089</td>\n",
       "      <td>0.508766</td>\n",
       "      <td>...</td>\n",
       "      <td>-0.392779</td>\n",
       "      <td>-0.456258</td>\n",
       "      <td>-0.484347</td>\n",
       "      <td>-0.299122</td>\n",
       "      <td>-0.406329</td>\n",
       "      <td>2.581989</td>\n",
       "      <td>-0.419686</td>\n",
       "      <td>-0.969858</td>\n",
       "      <td>-0.373429</td>\n",
       "      <td>1.409105</td>\n",
       "    </tr>\n",
       "  </tbody>\n",
       "</table>\n",
       "<p>5 rows × 76 columns</p>\n",
       "</div>"
      ],
      "text/plain": [
       "   Total_Nbr_of_Items  Total_Price  Date_diff  Nbr_items_per_wk  \\\n",
       "0           -0.839123    -0.116272  -0.516401         -2.325070   \n",
       "1            1.789132     0.101658   0.463288         -0.999776   \n",
       "2           -0.138255    -0.131116  -0.516401         -1.467527   \n",
       "3            1.088264    -0.164677   0.789851         -0.999776   \n",
       "4           -0.839123    -0.131116  -0.516401          0.247559   \n",
       "\n",
       "   Expenditure_per_wk  Total_Exp_wk_perc  AVG_exp_item_per_wk      hour  \\\n",
       "0           -0.360978           0.958724             0.176983 -0.281813   \n",
       "1           -0.316871           1.714483            -0.179935 -0.534346   \n",
       "2           -0.392313           1.564838            -0.217456  0.728321   \n",
       "3           -0.396774           1.297044            -0.247721  1.485921   \n",
       "4           -0.278559           0.049752            -0.217792 -1.291946   \n",
       "\n",
       "     Drinks  Bread_wk  ...  Week_day_name_Friday  Week_day_name_Monday  \\\n",
       "0 -0.540089 -1.338859  ...             -0.392779             -0.456258   \n",
       "1  0.589188 -0.415046  ...             -0.392779             -0.456258   \n",
       "2 -0.540089 -0.415046  ...             -0.392779             -0.456258   \n",
       "3  0.589188 -0.415046  ...             -0.392779             -0.456258   \n",
       "4 -0.540089  0.508766  ...             -0.392779             -0.456258   \n",
       "\n",
       "   Week_day_name_Saturday  Week_day_name_Sunday  Week_day_name_Thursday  \\\n",
       "0               -0.484347             -0.299122                2.461060   \n",
       "1                2.064634             -0.299122               -0.406329   \n",
       "2               -0.484347             -0.299122               -0.406329   \n",
       "3               -0.484347             -0.299122                2.461060   \n",
       "4               -0.484347             -0.299122               -0.406329   \n",
       "\n",
       "   Week_day_name_Tuesday  Week_day_name_Wednesday  Part_of_day_Afternoon  \\\n",
       "0              -0.387298                -0.419686               1.031079   \n",
       "1              -0.387298                -0.419686              -0.969858   \n",
       "2              -0.387298                 2.382734               1.031079   \n",
       "3              -0.387298                -0.419686              -0.969858   \n",
       "4               2.581989                -0.419686              -0.969858   \n",
       "\n",
       "   Part_of_day_Evening  Part_of_day_Morning  \n",
       "0            -0.373429            -0.709670  \n",
       "1            -0.373429             1.409105  \n",
       "2            -0.373429            -0.709670  \n",
       "3             2.677882            -0.709670  \n",
       "4            -0.373429             1.409105  \n",
       "\n",
       "[5 rows x 76 columns]"
      ]
     },
     "execution_count": 6,
     "metadata": {},
     "output_type": "execute_result"
    }
   ],
   "source": [
    "print(X_train_resample.shape)\n",
    "X_train_resample.head()"
   ]
  },
  {
   "cell_type": "code",
   "execution_count": 7,
   "id": "79f63fbd",
   "metadata": {},
   "outputs": [
    {
     "name": "stdout",
     "output_type": "stream",
     "text": [
      "(942,)\n"
     ]
    },
    {
     "data": {
      "text/plain": [
       "1    471\n",
       "0    471\n",
       "Name: target, dtype: int64"
      ]
     },
     "execution_count": 7,
     "metadata": {},
     "output_type": "execute_result"
    }
   ],
   "source": [
    "print(y_train_resample.shape)\n",
    "y_train_resample.value_counts()"
   ]
  },
  {
   "cell_type": "code",
   "execution_count": 8,
   "id": "4b5cfc11",
   "metadata": {},
   "outputs": [
    {
     "data": {
      "text/plain": [
       "<matplotlib.legend.Legend at 0x7f1cb56284f0>"
      ]
     },
     "execution_count": 8,
     "metadata": {},
     "output_type": "execute_result"
    },
    {
     "data": {
      "image/png": "[encoded data removed]",
      "text/plain": [
       "<Figure size 640x480 with 1 Axes>"
      ]
     },
     "metadata": {},
     "output_type": "display_data"
    }
   ],
   "source": [
    "# figure background\n",
    "fig = plt.figure()\n",
    "fig.patch.set_facecolor('#212121')\n",
    "fig.patch.set_alpha(0.95)\n",
    "\n",
    "ax = fig.add_subplot(111)\n",
    "ax.patch.set_facecolor('#212121')\n",
    "ax.patch.set_alpha(1.0)\n",
    "ax.yaxis.label.set_color('lime')\n",
    "ax.xaxis.label.set_color('lime')\n",
    "ax.title.set_color('lime')\n",
    "ax.tick_params(colors='lime', which='both')\n",
    "\n",
    "ax = y_train.value_counts().plot.pie(autopct='%.2f', colors=['yellow','green'])\n",
    "_ = ax.set_title(\"Actual data split\")\n",
    "plt.legend()"
   ]
  },
  {
   "cell_type": "code",
   "execution_count": 9,
   "id": "43518204",
   "metadata": {},
   "outputs": [
    {
     "data": {
      "text/plain": [
       "<matplotlib.legend.Legend at 0x7f7a406f1b40>"
      ]
     },
     "execution_count": 9,
     "metadata": {},
     "output_type": "execute_result"
    },
    {
     "data": {
      "image/png": "[encoded data removed]",
      "text/plain": [
       "<Figure size 640x480 with 1 Axes>"
      ]
     },
     "metadata": {},
     "output_type": "display_data"
    }
   ],
   "source": [
    "# figure background\n",
    "fig = plt.figure()\n",
    "fig.patch.set_facecolor('#212121')\n",
    "fig.patch.set_alpha(0.95)\n",
    "\n",
    "ax = fig.add_subplot(111)\n",
    "ax.patch.set_facecolor('#212121')\n",
    "ax.patch.set_alpha(1.0)\n",
    "ax.yaxis.label.set_color('lime')\n",
    "ax.xaxis.label.set_color('lime')\n",
    "ax.title.set_color('lime')\n",
    "ax.tick_params(colors='lime', which='both')\n",
    "\n",
    "ax = y_train_resample.value_counts().plot.pie(autopct='%.2f', colors=['red','lime'])\n",
    "_ = ax.set_title(\"Synthetic Over-sampling\\nWith SMOTE\")\n",
    "plt.legend()"
   ]
  },
  {
   "cell_type": "markdown",
   "id": "d654ddce",
   "metadata": {},
   "source": [
    "<p>\n",
    "    As can be seen above, there is now an equal amount of target = 1 and target = 0<br>\n",
    "    The dataset is now balanced\n",
    "\n",
    "</p>"
   ]
  },
  {
   "cell_type": "markdown",
   "id": "a3173887",
   "metadata": {},
   "source": [
    "<h1 style=\"color: green;\">Model building with GridSearchCV</h1>"
   ]
  },
  {
   "cell_type": "code",
   "execution_count": 8,
   "id": "74d3054a",
   "metadata": {},
   "outputs": [],
   "source": [
    "keys = ['AdaBoost','Catboost','LightGBM','GradientBoosting','RandomForest','XGBoost']\n",
    "\n",
    "\n",
    "models_list = {\n",
    "    'AdaBoost': adb(),\n",
    "    'Catboost': catb(),\n",
    "    'LightGBM': lgbm(),\n",
    "    'GradientBoosting': gbc(),\n",
    "    'RandomForest': rfc(),\n",
    "    'XGBoost':xgb()\n",
    "}\n",
    "\n",
    "param_list = {\n",
    "    'AdaBoost': {\n",
    "                'n_estimators': [100, 300, 500, 800, 1000],\n",
    "                'learning_rate': [0.01, 0.03, 0.06, 0.08, 0.1, 0.15],\n",
    "                'algorithm': ['SAMME', 'SAMME.R'],\n",
    "                'random_state': [44]\n",
    "    },\n",
    "    \n",
    "    'Catboost': {\n",
    "                'n_estimators': [100, 300, 500, 1000],\n",
    "                'depth': [4, 6, 8],\n",
    "                'learning_rate': [0.01, 0.03, 0.06, 0.08, 0.1, 0.15],\n",
    "                'loss_function': ['Logloss', 'CrossEntropy'],\n",
    "                'verbose': [False],\n",
    "                'random_seed': [44]\n",
    "    },\n",
    "    \n",
    "    'LightGBM':{\n",
    "                'n_estimators': [100, 300, 500, 800, 1000],\n",
    "                'learning_rate': [0.01, 0.03, 0.06, 0.08, 0.1, 0.15],\n",
    "                'max_depth': [4, 6, 8, 10],\n",
    "    },\n",
    "    \n",
    "    'GradientBoosting': {\n",
    "                'learning_rate': [0.01, 0.03, 0.06, 0.08, 0.1, 0.15],\n",
    "                'n_estimators': [100, 300, 500, 800, 1000],\n",
    "                'max_depth': [6, 8, 10],\n",
    "                'random_state': [44]\n",
    "    },\n",
    "    \n",
    "    'RandomForest': {\n",
    "                'n_estimators': [100, 300, 400, 600, 800, 1000, 1300],\n",
    "                'max_depth': [6, 8, 10, 12],\n",
    "                'min_samples_split': [1, 3, 4, 6],\n",
    "                'random_state': [44]\n",
    "    },\n",
    "\n",
    "    'XGBoost':{\n",
    "                'learning_rate': [0.01, 0.03, 0.06, 0.08, 0.1, 0.15],\n",
    "                'n_estimators': [100, 400, 700, 1000],\n",
    "                'min_child_weight':[4,6,8],\n",
    "                'max_depth':[4,6,8],\n",
    "                'gamma':[0, 1],\n",
    "    }\n",
    "}\n"
   ]
  },
  {
   "cell_type": "markdown",
   "id": "54e6b5b1",
   "metadata": {},
   "source": [
    "<h3 style=\"color: green;\">GridSearch with imbalanced data</h3>\n",
    "Note, below cross validation is employed as previously mentioned, the time series component of the<br>\n",
    "data is ignored here. For a full explaination please see \"Feature engineering/Classifier feature engineering.ipynb\"."
   ]
  },
  {
   "cell_type": "code",
   "execution_count": 11,
   "id": "5e761055",
   "metadata": {},
   "outputs": [
    {
     "name": "stdout",
     "output_type": "stream",
     "text": [
      "Fitting 5 folds for each of 60 candidates, totalling 300 fits\n",
      "Fitting 5 folds for each of 144 candidates, totalling 720 fits\n",
      "Fitting 5 folds for each of 120 candidates, totalling 600 fits\n",
      "Fitting 5 folds for each of 90 candidates, totalling 450 fits\n",
      "Fitting 5 folds for each of 112 candidates, totalling 560 fits\n",
      "Fitting 5 folds for each of 432 candidates, totalling 2160 fits\n"
     ]
    }
   ],
   "source": [
    "key_model_params = []\n",
    "for key in keys:\n",
    "    string = []\n",
    "    string.append(key)\n",
    "    string.append(param_list[key])\n",
    "    \n",
    "    start_time =  time.perf_counter()\n",
    "    gs = GridSearchCV(models_list[key],param_grid=param_list[key],cv=5, verbose=True, n_jobs=-1)\n",
    "    gs.fit(X_train,y_train)\n",
    "    end_time = time.perf_counter()\n",
    "    training_duration = end_time - start_time\n",
    "    \n",
    "    string.append(gs.best_params_)\n",
    "    string.append(gs.best_score_)\n",
    "    string.append(gs.score(X_test,y_test))\n",
    "    string.append(training_duration)\n",
    "    \n",
    "    key_model_params.append(string)"
   ]
  },
  {
   "cell_type": "code",
   "execution_count": 12,
   "id": "f7f9a33e",
   "metadata": {},
   "outputs": [
    {
     "data": {
      "text/html": [
       "<div>\n",
       "<style scoped>\n",
       "    .dataframe tbody tr th:only-of-type {\n",
       "        vertical-align: middle;\n",
       "    }\n",
       "\n",
       "    .dataframe tbody tr th {\n",
       "        vertical-align: top;\n",
       "    }\n",
       "\n",
       "    .dataframe thead th {\n",
       "        text-align: right;\n",
       "    }\n",
       "</style>\n",
       "<table border=\"1\" class=\"dataframe\">\n",
       "  <thead>\n",
       "    <tr style=\"text-align: right;\">\n",
       "      <th></th>\n",
       "      <th>Model</th>\n",
       "      <th>Param_list_in</th>\n",
       "      <th>best_params</th>\n",
       "      <th>best_score</th>\n",
       "      <th>score_x_y_test</th>\n",
       "      <th>Training_duration_seconds</th>\n",
       "    </tr>\n",
       "  </thead>\n",
       "  <tbody>\n",
       "    <tr>\n",
       "      <th>2</th>\n",
       "      <td>LightGMB</td>\n",
       "      <td>{'n_estimators': [100, 300, 500, 800, 1000], '...</td>\n",
       "      <td>{'learning_rate': 0.08, 'max_depth': 6, 'n_est...</td>\n",
       "      <td>0.985535</td>\n",
       "      <td>0.996255</td>\n",
       "      <td>20.151566</td>\n",
       "    </tr>\n",
       "    <tr>\n",
       "      <th>0</th>\n",
       "      <td>AdaBoost</td>\n",
       "      <td>{'n_estimators': [100, 300, 500, 800, 1000], '...</td>\n",
       "      <td>{'algorithm': 'SAMME.R', 'learning_rate': 0.15...</td>\n",
       "      <td>0.969419</td>\n",
       "      <td>0.996255</td>\n",
       "      <td>63.182733</td>\n",
       "    </tr>\n",
       "    <tr>\n",
       "      <th>1</th>\n",
       "      <td>Catboost</td>\n",
       "      <td>{'n_estimators': [100, 300, 500, 1000], 'depth...</td>\n",
       "      <td>{'depth': 8, 'learning_rate': 0.1, 'loss_funct...</td>\n",
       "      <td>0.982310</td>\n",
       "      <td>0.985019</td>\n",
       "      <td>1343.561123</td>\n",
       "    </tr>\n",
       "    <tr>\n",
       "      <th>3</th>\n",
       "      <td>GradientBoosting</td>\n",
       "      <td>{'learning_rate': [0.01, 0.03, 0.06, 0.08, 0.1...</td>\n",
       "      <td>{'learning_rate': 0.08, 'max_depth': 6, 'n_est...</td>\n",
       "      <td>0.982297</td>\n",
       "      <td>0.985019</td>\n",
       "      <td>128.925706</td>\n",
       "    </tr>\n",
       "    <tr>\n",
       "      <th>5</th>\n",
       "      <td>XGBoost</td>\n",
       "      <td>{'learning_rate': [0.01, 0.03, 0.06, 0.08, 0.1...</td>\n",
       "      <td>{'gamma': 0, 'learning_rate': 0.15, 'max_depth...</td>\n",
       "      <td>0.967858</td>\n",
       "      <td>0.970037</td>\n",
       "      <td>302.536318</td>\n",
       "    </tr>\n",
       "    <tr>\n",
       "      <th>4</th>\n",
       "      <td>RandomForest</td>\n",
       "      <td>{'n_estimators': [100, 300, 400, 600, 800, 100...</td>\n",
       "      <td>{'max_depth': 12, 'min_samples_split': 4, 'n_e...</td>\n",
       "      <td>0.938865</td>\n",
       "      <td>0.921348</td>\n",
       "      <td>109.053314</td>\n",
       "    </tr>\n",
       "  </tbody>\n",
       "</table>\n",
       "</div>"
      ],
      "text/plain": [
       "              Model                                      Param_list_in  \\\n",
       "2          LightGMB  {'n_estimators': [100, 300, 500, 800, 1000], '...   \n",
       "0          AdaBoost  {'n_estimators': [100, 300, 500, 800, 1000], '...   \n",
       "1          Catboost  {'n_estimators': [100, 300, 500, 1000], 'depth...   \n",
       "3  GradientBoosting  {'learning_rate': [0.01, 0.03, 0.06, 0.08, 0.1...   \n",
       "5           XGBoost  {'learning_rate': [0.01, 0.03, 0.06, 0.08, 0.1...   \n",
       "4      RandomForest  {'n_estimators': [100, 300, 400, 600, 800, 100...   \n",
       "\n",
       "                                         best_params  best_score  \\\n",
       "2  {'learning_rate': 0.08, 'max_depth': 6, 'n_est...    0.985535   \n",
       "0  {'algorithm': 'SAMME.R', 'learning_rate': 0.15...    0.969419   \n",
       "1  {'depth': 8, 'learning_rate': 0.1, 'loss_funct...    0.982310   \n",
       "3  {'learning_rate': 0.08, 'max_depth': 6, 'n_est...    0.982297   \n",
       "5  {'gamma': 0, 'learning_rate': 0.15, 'max_depth...    0.967858   \n",
       "4  {'max_depth': 12, 'min_samples_split': 4, 'n_e...    0.938865   \n",
       "\n",
       "   score_x_y_test  Training_duration_seconds  \n",
       "2        0.996255                  20.151566  \n",
       "0        0.996255                  63.182733  \n",
       "1        0.985019                1343.561123  \n",
       "3        0.985019                 128.925706  \n",
       "5        0.970037                 302.536318  \n",
       "4        0.921348                 109.053314  "
      ]
     },
     "execution_count": 12,
     "metadata": {},
     "output_type": "execute_result"
    }
   ],
   "source": [
    "GridSearchOutput = pd.DataFrame(key_model_params, columns =['Model','Param_list_in','best_params',\n",
    "                                                            'best_score','score_x_y_test',\n",
    "                                                            'Training_duration_seconds'])\n",
    "GridSearchOutput.sort_values(by=['score_x_y_test','best_score'], ascending=False)"
   ]
  },
  {
   "cell_type": "markdown",
   "id": "abc9ad85",
   "metadata": {},
   "source": [
    "<h3 style=\"color: green;\">GridSearch with balanced data</h3>"
   ]
  },
  {
   "cell_type": "code",
   "execution_count": 16,
   "id": "5463f635",
   "metadata": {},
   "outputs": [
    {
     "name": "stdout",
     "output_type": "stream",
     "text": [
      "Fitting 5 folds for each of 60 candidates, totalling 300 fits\n",
      "Fitting 5 folds for each of 144 candidates, totalling 720 fits\n",
      "Fitting 5 folds for each of 120 candidates, totalling 600 fits\n",
      "Fitting 5 folds for each of 90 candidates, totalling 450 fits\n",
      "Fitting 5 folds for each of 112 candidates, totalling 560 fits\n",
      "Fitting 5 folds for each of 432 candidates, totalling 2160 fits\n"
     ]
    }
   ],
   "source": [
    "key_model_params = []\n",
    "for key in keys:\n",
    "    string = []\n",
    "    string.append(key)\n",
    "    string.append(param_list[key])\n",
    "    \n",
    "    start_time =  time.perf_counter()\n",
    "    gs = GridSearchCV(models_list[key],param_grid=param_list[key],cv=5, verbose=True, n_jobs=-1)\n",
    "    gs.fit(X_train_resample,y_train_resample)\n",
    "    end_time = time.perf_counter()\n",
    "    training_duration = end_time - start_time\n",
    "    \n",
    "    string.append(gs.best_params_)\n",
    "    string.append(gs.best_score_)\n",
    "    string.append(gs.score(X_test,y_test))\n",
    "    string.append(training_duration)\n",
    "    \n",
    "    key_model_params.append(string)"
   ]
  },
  {
   "cell_type": "code",
   "execution_count": 17,
   "id": "622544ef",
   "metadata": {},
   "outputs": [
    {
     "data": {
      "text/html": [
       "<div>\n",
       "<style scoped>\n",
       "    .dataframe tbody tr th:only-of-type {\n",
       "        vertical-align: middle;\n",
       "    }\n",
       "\n",
       "    .dataframe tbody tr th {\n",
       "        vertical-align: top;\n",
       "    }\n",
       "\n",
       "    .dataframe thead th {\n",
       "        text-align: right;\n",
       "    }\n",
       "</style>\n",
       "<table border=\"1\" class=\"dataframe\">\n",
       "  <thead>\n",
       "    <tr style=\"text-align: right;\">\n",
       "      <th></th>\n",
       "      <th>Model</th>\n",
       "      <th>Param_list_in</th>\n",
       "      <th>best_params</th>\n",
       "      <th>best_score</th>\n",
       "      <th>score_x_y_test</th>\n",
       "      <th>Training_duration_seconds</th>\n",
       "    </tr>\n",
       "  </thead>\n",
       "  <tbody>\n",
       "    <tr>\n",
       "      <th>1</th>\n",
       "      <td>Catboost</td>\n",
       "      <td>{'n_estimators': [100, 300, 500, 1000], 'depth...</td>\n",
       "      <td>{'depth': 8, 'learning_rate': 0.08, 'loss_func...</td>\n",
       "      <td>0.994703</td>\n",
       "      <td>0.996255</td>\n",
       "      <td>2523.258240</td>\n",
       "    </tr>\n",
       "    <tr>\n",
       "      <th>2</th>\n",
       "      <td>LightGMB</td>\n",
       "      <td>{'n_estimators': [100, 300, 500, 800, 1000], '...</td>\n",
       "      <td>{'learning_rate': 0.06, 'max_depth': 4, 'n_est...</td>\n",
       "      <td>0.987302</td>\n",
       "      <td>0.996255</td>\n",
       "      <td>38.840495</td>\n",
       "    </tr>\n",
       "    <tr>\n",
       "      <th>3</th>\n",
       "      <td>GradientBoosting</td>\n",
       "      <td>{'learning_rate': [0.01, 0.03, 0.06, 0.08, 0.1...</td>\n",
       "      <td>{'learning_rate': 0.15, 'max_depth': 6, 'n_est...</td>\n",
       "      <td>0.979860</td>\n",
       "      <td>0.985019</td>\n",
       "      <td>245.822177</td>\n",
       "    </tr>\n",
       "    <tr>\n",
       "      <th>5</th>\n",
       "      <td>XGBoost</td>\n",
       "      <td>{'learning_rate': [0.01, 0.03, 0.06, 0.08, 0.1...</td>\n",
       "      <td>{'gamma': 0, 'learning_rate': 0.06, 'max_depth...</td>\n",
       "      <td>0.970348</td>\n",
       "      <td>0.985019</td>\n",
       "      <td>474.345078</td>\n",
       "    </tr>\n",
       "    <tr>\n",
       "      <th>0</th>\n",
       "      <td>AdaBoost</td>\n",
       "      <td>{'n_estimators': [100, 300, 500, 800, 1000], '...</td>\n",
       "      <td>{'algorithm': 'SAMME.R', 'learning_rate': 0.1,...</td>\n",
       "      <td>0.965034</td>\n",
       "      <td>0.985019</td>\n",
       "      <td>79.249708</td>\n",
       "    </tr>\n",
       "    <tr>\n",
       "      <th>4</th>\n",
       "      <td>RandomForest</td>\n",
       "      <td>{'n_estimators': [100, 300, 400, 600, 800, 100...</td>\n",
       "      <td>{'max_depth': 12, 'min_samples_split': 4, 'n_e...</td>\n",
       "      <td>0.974564</td>\n",
       "      <td>0.943820</td>\n",
       "      <td>132.804714</td>\n",
       "    </tr>\n",
       "  </tbody>\n",
       "</table>\n",
       "</div>"
      ],
      "text/plain": [
       "              Model                                      Param_list_in  \\\n",
       "1          Catboost  {'n_estimators': [100, 300, 500, 1000], 'depth...   \n",
       "2          LightGMB  {'n_estimators': [100, 300, 500, 800, 1000], '...   \n",
       "3  GradientBoosting  {'learning_rate': [0.01, 0.03, 0.06, 0.08, 0.1...   \n",
       "5           XGBoost  {'learning_rate': [0.01, 0.03, 0.06, 0.08, 0.1...   \n",
       "0          AdaBoost  {'n_estimators': [100, 300, 500, 800, 1000], '...   \n",
       "4      RandomForest  {'n_estimators': [100, 300, 400, 600, 800, 100...   \n",
       "\n",
       "                                         best_params  best_score  \\\n",
       "1  {'depth': 8, 'learning_rate': 0.08, 'loss_func...    0.994703   \n",
       "2  {'learning_rate': 0.06, 'max_depth': 4, 'n_est...    0.987302   \n",
       "3  {'learning_rate': 0.15, 'max_depth': 6, 'n_est...    0.979860   \n",
       "5  {'gamma': 0, 'learning_rate': 0.06, 'max_depth...    0.970348   \n",
       "0  {'algorithm': 'SAMME.R', 'learning_rate': 0.1,...    0.965034   \n",
       "4  {'max_depth': 12, 'min_samples_split': 4, 'n_e...    0.974564   \n",
       "\n",
       "   score_x_y_test  Training_duration_seconds  \n",
       "1        0.996255                2523.258240  \n",
       "2        0.996255                  38.840495  \n",
       "3        0.985019                 245.822177  \n",
       "5        0.985019                 474.345078  \n",
       "0        0.985019                  79.249708  \n",
       "4        0.943820                 132.804714  "
      ]
     },
     "execution_count": 17,
     "metadata": {},
     "output_type": "execute_result"
    }
   ],
   "source": [
    "GridSearchOutput_balanced = pd.DataFrame(key_model_params, columns =['Model','Param_list_in','best_params',\n",
    "                                                            'best_score','score_x_y_test',\n",
    "                                                            'Training_duration_seconds'])\n",
    "GridSearchOutput_balanced.sort_values(by=['score_x_y_test','best_score'], ascending=False)"
   ]
  },
  {
   "cell_type": "markdown",
   "id": "223f1ab4",
   "metadata": {},
   "source": [
    "<p>\n",
    "<b>Surprisingly XGBoost</b> is not the best performing model coming out of the gridsearch, <b>Catboost</b> is;<br>\n",
    "when considering its test and training accuracy. However, the remaining models aren't too dissimilar in test performance.<br>This is a good indicator for using a voting regressor on these high performing models.<br><br>\n",
    "Note, lightGBM was the best model using the imbalanced data with a train accuracy of 0.986 and a test accuracy of 0.996;<br> with the balanced data, lightGBM comes in second place with an improvement in train score of 0.987 while the test score remains unchanged 0.996.<br>This improvement can be said to be a result of modelling with balanced data. Although in this instance the improvement is not dramatic.\n",
    "\n",
    "</p>"
   ]
  },
  {
   "cell_type": "markdown",
   "id": "97476ae2",
   "metadata": {},
   "source": [
    "<h1 style=\"color: green;\">Comparing the best models for balanced and imbalanced data</h1>"
   ]
  },
  {
   "cell_type": "markdown",
   "id": "75a708d1",
   "metadata": {},
   "source": [
    "<h3 style=\"color: green;\">Imbalanced data best model</h3>"
   ]
  },
  {
   "cell_type": "markdown",
   "id": "58855bee",
   "metadata": {},
   "source": [
    "<h5 style=\"color: green;\">LightGBM best parameters for imbalanced data</h5>"
   ]
  },
  {
   "cell_type": "code",
   "execution_count": 19,
   "id": "6b1725c8",
   "metadata": {},
   "outputs": [
    {
     "data": {
      "text/plain": [
       "{'learning_rate': 0.08, 'max_depth': 6, 'n_estimators': 500}"
      ]
     },
     "execution_count": 19,
     "metadata": {},
     "output_type": "execute_result"
    }
   ],
   "source": [
    "# Retrieving the best parameters for LightGBM\n",
    "GridSearchOutput['best_params'][2]"
   ]
  },
  {
   "cell_type": "code",
   "execution_count": 19,
   "id": "7f30c65e",
   "metadata": {},
   "outputs": [
    {
     "data": {
      "text/html": [
       "<style>#sk-container-id-2 {color: black;background-color: white;}#sk-container-id-2 pre{padding: 0;}#sk-container-id-2 div.sk-toggleable {background-color: white;}#sk-container-id-2 label.sk-toggleable__label {cursor: pointer;display: block;width: 100%;margin-bottom: 0;padding: 0.3em;box-sizing: border-box;text-align: center;}#sk-container-id-2 label.sk-toggleable__label-arrow:before {content: \"▸\";float: left;margin-right: 0.25em;color: #696969;}#sk-container-id-2 label.sk-toggleable__label-arrow:hover:before {color: black;}#sk-container-id-2 div.sk-estimator:hover label.sk-toggleable__label-arrow:before {color: black;}#sk-container-id-2 div.sk-toggleable__content {max-height: 0;max-width: 0;overflow: hidden;text-align: left;background-color: #f0f8ff;}#sk-container-id-2 div.sk-toggleable__content pre {margin: 0.2em;color: black;border-radius: 0.25em;background-color: #f0f8ff;}#sk-container-id-2 input.sk-toggleable__control:checked~div.sk-toggleable__content {max-height: 200px;max-width: 100%;overflow: auto;}#sk-container-id-2 input.sk-toggleable__control:checked~label.sk-toggleable__label-arrow:before {content: \"▾\";}#sk-container-id-2 div.sk-estimator input.sk-toggleable__control:checked~label.sk-toggleable__label {background-color: #d4ebff;}#sk-container-id-2 div.sk-label input.sk-toggleable__control:checked~label.sk-toggleable__label {background-color: #d4ebff;}#sk-container-id-2 input.sk-hidden--visually {border: 0;clip: rect(1px 1px 1px 1px);clip: rect(1px, 1px, 1px, 1px);height: 1px;margin: -1px;overflow: hidden;padding: 0;position: absolute;width: 1px;}#sk-container-id-2 div.sk-estimator {font-family: monospace;background-color: #f0f8ff;border: 1px dotted black;border-radius: 0.25em;box-sizing: border-box;margin-bottom: 0.5em;}#sk-container-id-2 div.sk-estimator:hover {background-color: #d4ebff;}#sk-container-id-2 div.sk-parallel-item::after {content: \"\";width: 100%;border-bottom: 1px solid gray;flex-grow: 1;}#sk-container-id-2 div.sk-label:hover label.sk-toggleable__label {background-color: #d4ebff;}#sk-container-id-2 div.sk-serial::before {content: \"\";position: absolute;border-left: 1px solid gray;box-sizing: border-box;top: 0;bottom: 0;left: 50%;z-index: 0;}#sk-container-id-2 div.sk-serial {display: flex;flex-direction: column;align-items: center;background-color: white;padding-right: 0.2em;padding-left: 0.2em;position: relative;}#sk-container-id-2 div.sk-item {position: relative;z-index: 1;}#sk-container-id-2 div.sk-parallel {display: flex;align-items: stretch;justify-content: center;background-color: white;position: relative;}#sk-container-id-2 div.sk-item::before, #sk-container-id-2 div.sk-parallel-item::before {content: \"\";position: absolute;border-left: 1px solid gray;box-sizing: border-box;top: 0;bottom: 0;left: 50%;z-index: -1;}#sk-container-id-2 div.sk-parallel-item {display: flex;flex-direction: column;z-index: 1;position: relative;background-color: white;}#sk-container-id-2 div.sk-parallel-item:first-child::after {align-self: flex-end;width: 50%;}#sk-container-id-2 div.sk-parallel-item:last-child::after {align-self: flex-start;width: 50%;}#sk-container-id-2 div.sk-parallel-item:only-child::after {width: 0;}#sk-container-id-2 div.sk-dashed-wrapped {border: 1px dashed gray;margin: 0 0.4em 0.5em 0.4em;box-sizing: border-box;padding-bottom: 0.4em;background-color: white;}#sk-container-id-2 div.sk-label label {font-family: monospace;font-weight: bold;display: inline-block;line-height: 1.2em;}#sk-container-id-2 div.sk-label-container {text-align: center;}#sk-container-id-2 div.sk-container {/* jupyter's `normalize.less` sets `[hidden] { display: none; }` but bootstrap.min.css set `[hidden] { display: none !important; }` so we also need the `!important` here to be able to override the default hidden behavior on the sphinx rendered scikit-learn.org. See: https://github.com/scikit-learn/scikit-learn/issues/21755 */display: inline-block !important;position: relative;}#sk-container-id-2 div.sk-text-repr-fallback {display: none;}</style><div id=\"sk-container-id-2\" class=\"sk-top-container\"><div class=\"sk-text-repr-fallback\"><pre>LGBMClassifier(learning_rate=0.08, max_depth=6, n_estimators=500)</pre><b>In a Jupyter environment, please rerun this cell to show the HTML representation or trust the notebook. <br />On GitHub, the HTML representation is unable to render, please try loading this page with nbviewer.org.</b></div><div class=\"sk-container\" hidden><div class=\"sk-item\"><div class=\"sk-estimator sk-toggleable\"><input class=\"sk-toggleable__control sk-hidden--visually\" id=\"sk-estimator-id-2\" type=\"checkbox\" checked><label for=\"sk-estimator-id-2\" class=\"sk-toggleable__label sk-toggleable__label-arrow\">LGBMClassifier</label><div class=\"sk-toggleable__content\"><pre>LGBMClassifier(learning_rate=0.08, max_depth=6, n_estimators=500)</pre></div></div></div></div></div>"
      ],
      "text/plain": [
       "LGBMClassifier(learning_rate=0.08, max_depth=6, n_estimators=500)"
      ]
     },
     "execution_count": 19,
     "metadata": {},
     "output_type": "execute_result"
    }
   ],
   "source": [
    "# instantiate the model, lightGBM\n",
    "lgbm_imb = lgbm(\n",
    "    learning_rate = 0.08,\n",
    "    max_depth = 6,\n",
    "    n_estimators = 500\n",
    ")\n",
    "\n",
    "# fit the model with cross validation\n",
    "lgbm_imb.fit(X_train,y_train)"
   ]
  },
  {
   "cell_type": "markdown",
   "id": "8ab8ecff",
   "metadata": {},
   "source": [
    "<h5 style=\"color: green;\">Model accuracy</h5>"
   ]
  },
  {
   "cell_type": "code",
   "execution_count": 22,
   "id": "b039bbda",
   "metadata": {},
   "outputs": [
    {
     "data": {
      "text/plain": [
       "1.0"
      ]
     },
     "execution_count": 22,
     "metadata": {},
     "output_type": "execute_result"
    }
   ],
   "source": [
    "# Checking the train accuracy of the model\n",
    "lgbm_imb.score(X_train,y_train)"
   ]
  },
  {
   "cell_type": "code",
   "execution_count": 23,
   "id": "6cb9acb2",
   "metadata": {},
   "outputs": [
    {
     "data": {
      "text/plain": [
       "0.9962546816479401"
      ]
     },
     "execution_count": 23,
     "metadata": {},
     "output_type": "execute_result"
    }
   ],
   "source": [
    "# Checking the test accuracy of the model\n",
    "lgbm_imb.score(X_test,y_test)"
   ]
  },
  {
   "cell_type": "code",
   "execution_count": 24,
   "id": "f752ba9b",
   "metadata": {
    "scrolled": true
   },
   "outputs": [
    {
     "data": {
      "text/plain": [
       "0.9855354838709676"
      ]
     },
     "execution_count": 24,
     "metadata": {},
     "output_type": "execute_result"
    }
   ],
   "source": [
    "# Cross validation train score\n",
    "score = cross_val_score(lgbm_imb, X_train, y_train, cv=5)\n",
    "accuracy = score.mean()\n",
    "accuracy"
   ]
  },
  {
   "cell_type": "markdown",
   "id": "88d2acbf",
   "metadata": {},
   "source": [
    "<p>\n",
    "The model has a perfect training accuracy of 1.0 and an approximately perfect test score of 0.996.<br>\n",
    "The cross validation training score however is 0.986 with cv=5, which is slightly lower but still excellent.\n",
    "</p>"
   ]
  },
  {
   "cell_type": "markdown",
   "id": "49ea7254",
   "metadata": {},
   "source": [
    "<h5 style=\"color: green;\">Feature importance for LightGBM classifier</h5>"
   ]
  },
  {
   "cell_type": "code",
   "execution_count": 27,
   "id": "4e903ef2",
   "metadata": {},
   "outputs": [
    {
     "data": {
      "image/png": "[encoded data removed]",
      "text/plain": [
       "<Figure size 640x480 with 1 Axes>"
      ]
     },
     "metadata": {},
     "output_type": "display_data"
    }
   ],
   "source": [
    "lgbm_clfier_imp = pd.Series(lgbm_imb.feature_importances_, \n",
    "                    index=X_train.columns)\n",
    "\n",
    "# plotting importance\n",
    "# figure background\n",
    "fig = plt.figure()\n",
    "fig.patch.set_facecolor('#212121')\n",
    "fig.patch.set_alpha(0.95)\n",
    "\n",
    "ax = fig.add_subplot(111)\n",
    "ax.patch.set_facecolor('#212121')\n",
    "ax.patch.set_alpha(1.0)\n",
    "ax.yaxis.label.set_color('lime')\n",
    "ax.xaxis.label.set_color('lime')\n",
    "ax.title.set_color('lime')\n",
    "ax.tick_params(colors='lime', which='both')\n",
    "\n",
    "\n",
    "lgbm_clfier_imp.nlargest(19).sort_values().plot(ax=ax,\n",
    "                                        kind='barh', \n",
    "                                        color='red',\n",
    "                                        title='LightGBM feature importance\\nImpurity based')\n",
    "plt.show()"
   ]
  },
  {
   "cell_type": "markdown",
   "id": "c225c035",
   "metadata": {},
   "source": [
    "<h1 style=\"color: green;\">Balanced data best model</h1>"
   ]
  },
  {
   "cell_type": "markdown",
   "id": "20763135",
   "metadata": {},
   "source": [
    "<h5 style=\"color: green;\">Catboost best parameters for balanced data</h5>"
   ]
  },
  {
   "cell_type": "code",
   "execution_count": 59,
   "id": "5c39d3f9",
   "metadata": {},
   "outputs": [
    {
     "data": {
      "text/plain": [
       "{'depth': 8,\n",
       " 'learning_rate': 0.08,\n",
       " 'loss_function': 'Logloss',\n",
       " 'n_estimators': 500,\n",
       " 'random_seed': 44,\n",
       " 'verbose': False}"
      ]
     },
     "execution_count": 59,
     "metadata": {},
     "output_type": "execute_result"
    }
   ],
   "source": [
    "# Retrieving the best parameters for Catboost\n",
    "GridSearchOutput_balanced['best_params'][1]"
   ]
  },
  {
   "cell_type": "code",
   "execution_count": 8,
   "id": "b5186138",
   "metadata": {},
   "outputs": [
    {
     "data": {
      "text/plain": [
       "<catboost.core.CatBoostClassifier at 0x7f0d306fbac0>"
      ]
     },
     "execution_count": 8,
     "metadata": {},
     "output_type": "execute_result"
    }
   ],
   "source": [
    "catb_b = catb(\n",
    "    depth = 8,\n",
    "    learning_rate = 0.08,\n",
    "    loss_function = 'Logloss',\n",
    "    n_estimators = 500,\n",
    "    random_seed = 44,\n",
    "    verbose = False\n",
    ")\n",
    "\n",
    "catb_b.fit(X_train_resample,y_train_resample)"
   ]
  },
  {
   "cell_type": "code",
   "execution_count": 10,
   "id": "9e29f140",
   "metadata": {},
   "outputs": [
    {
     "data": {
      "text/plain": [
       "0.9947033659799617"
      ]
     },
     "execution_count": 10,
     "metadata": {},
     "output_type": "execute_result"
    }
   ],
   "source": [
    "# Cross validation train score\n",
    "score = cross_val_score(catb_b, X_train_resample,y_train_resample, cv=5)\n",
    "accuracy = score.mean()\n",
    "accuracy"
   ]
  },
  {
   "cell_type": "code",
   "execution_count": 11,
   "id": "a492a592",
   "metadata": {},
   "outputs": [
    {
     "data": {
      "text/plain": [
       "0.9962546816479401"
      ]
     },
     "execution_count": 11,
     "metadata": {},
     "output_type": "execute_result"
    }
   ],
   "source": [
    "catb_b.score(X_test, y_test)"
   ]
  },
  {
   "cell_type": "markdown",
   "id": "c4eaff4b",
   "metadata": {},
   "source": [
    "<h5 style=\"color: green;\">Feature importance for Catboost classifier</h5>"
   ]
  },
  {
   "cell_type": "code",
   "execution_count": 12,
   "id": "efdf2a60",
   "metadata": {},
   "outputs": [
    {
     "data": {
      "image/png": "[encoded data removed]",
      "text/plain": [
       "<Figure size 640x480 with 1 Axes>"
      ]
     },
     "metadata": {},
     "output_type": "display_data"
    }
   ],
   "source": [
    "catb_clfier_imp = pd.Series(catb_b.feature_importances_, \n",
    "                    index=X_train.columns)\n",
    "\n",
    "# plotting importance\n",
    "# figure background\n",
    "fig = plt.figure()\n",
    "fig.patch.set_facecolor('#212121')\n",
    "fig.patch.set_alpha(0.95)\n",
    "\n",
    "ax = fig.add_subplot(111)\n",
    "ax.patch.set_facecolor('#212121')\n",
    "ax.patch.set_alpha(1.0)\n",
    "ax.yaxis.label.set_color('lime')\n",
    "ax.xaxis.label.set_color('lime')\n",
    "ax.title.set_color('lime')\n",
    "ax.tick_params(colors='lime', which='both')\n",
    "\n",
    "\n",
    "catb_clfier_imp.nlargest(19).sort_values().plot(ax=ax,\n",
    "                                        kind='barh', \n",
    "                                        color='red',\n",
    "                                        title='CatBoost feature importance\\nImpurity based')\n",
    "plt.show()"
   ]
  },
  {
   "cell_type": "markdown",
   "id": "6150d723",
   "metadata": {},
   "source": [
    "<h5 style=\"color: green;\">RandomForest best parameters for balanced data</h5>\n",
    "Since RandomForest classifier is the worst performing model, it will be used below for demonstrating threshold tuning"
   ]
  },
  {
   "cell_type": "code",
   "execution_count": 14,
   "id": "04e2221c",
   "metadata": {},
   "outputs": [],
   "source": [
    "# Retrieving the best parameters for RandomForest\n",
    "GridSearchOutput_balanced['best_params'][4]"
   ]
  },
  {
   "cell_type": "code",
   "execution_count": 9,
   "id": "0b736d6e",
   "metadata": {},
   "outputs": [
    {
     "data": {
      "text/html": [
       "<style>#sk-container-id-1 {color: black;background-color: white;}#sk-container-id-1 pre{padding: 0;}#sk-container-id-1 div.sk-toggleable {background-color: white;}#sk-container-id-1 label.sk-toggleable__label {cursor: pointer;display: block;width: 100%;margin-bottom: 0;padding: 0.3em;box-sizing: border-box;text-align: center;}#sk-container-id-1 label.sk-toggleable__label-arrow:before {content: \"▸\";float: left;margin-right: 0.25em;color: #696969;}#sk-container-id-1 label.sk-toggleable__label-arrow:hover:before {color: black;}#sk-container-id-1 div.sk-estimator:hover label.sk-toggleable__label-arrow:before {color: black;}#sk-container-id-1 div.sk-toggleable__content {max-height: 0;max-width: 0;overflow: hidden;text-align: left;background-color: #f0f8ff;}#sk-container-id-1 div.sk-toggleable__content pre {margin: 0.2em;color: black;border-radius: 0.25em;background-color: #f0f8ff;}#sk-container-id-1 input.sk-toggleable__control:checked~div.sk-toggleable__content {max-height: 200px;max-width: 100%;overflow: auto;}#sk-container-id-1 input.sk-toggleable__control:checked~label.sk-toggleable__label-arrow:before {content: \"▾\";}#sk-container-id-1 div.sk-estimator input.sk-toggleable__control:checked~label.sk-toggleable__label {background-color: #d4ebff;}#sk-container-id-1 div.sk-label input.sk-toggleable__control:checked~label.sk-toggleable__label {background-color: #d4ebff;}#sk-container-id-1 input.sk-hidden--visually {border: 0;clip: rect(1px 1px 1px 1px);clip: rect(1px, 1px, 1px, 1px);height: 1px;margin: -1px;overflow: hidden;padding: 0;position: absolute;width: 1px;}#sk-container-id-1 div.sk-estimator {font-family: monospace;background-color: #f0f8ff;border: 1px dotted black;border-radius: 0.25em;box-sizing: border-box;margin-bottom: 0.5em;}#sk-container-id-1 div.sk-estimator:hover {background-color: #d4ebff;}#sk-container-id-1 div.sk-parallel-item::after {content: \"\";width: 100%;border-bottom: 1px solid gray;flex-grow: 1;}#sk-container-id-1 div.sk-label:hover label.sk-toggleable__label {background-color: #d4ebff;}#sk-container-id-1 div.sk-serial::before {content: \"\";position: absolute;border-left: 1px solid gray;box-sizing: border-box;top: 0;bottom: 0;left: 50%;z-index: 0;}#sk-container-id-1 div.sk-serial {display: flex;flex-direction: column;align-items: center;background-color: white;padding-right: 0.2em;padding-left: 0.2em;position: relative;}#sk-container-id-1 div.sk-item {position: relative;z-index: 1;}#sk-container-id-1 div.sk-parallel {display: flex;align-items: stretch;justify-content: center;background-color: white;position: relative;}#sk-container-id-1 div.sk-item::before, #sk-container-id-1 div.sk-parallel-item::before {content: \"\";position: absolute;border-left: 1px solid gray;box-sizing: border-box;top: 0;bottom: 0;left: 50%;z-index: -1;}#sk-container-id-1 div.sk-parallel-item {display: flex;flex-direction: column;z-index: 1;position: relative;background-color: white;}#sk-container-id-1 div.sk-parallel-item:first-child::after {align-self: flex-end;width: 50%;}#sk-container-id-1 div.sk-parallel-item:last-child::after {align-self: flex-start;width: 50%;}#sk-container-id-1 div.sk-parallel-item:only-child::after {width: 0;}#sk-container-id-1 div.sk-dashed-wrapped {border: 1px dashed gray;margin: 0 0.4em 0.5em 0.4em;box-sizing: border-box;padding-bottom: 0.4em;background-color: white;}#sk-container-id-1 div.sk-label label {font-family: monospace;font-weight: bold;display: inline-block;line-height: 1.2em;}#sk-container-id-1 div.sk-label-container {text-align: center;}#sk-container-id-1 div.sk-container {/* jupyter's `normalize.less` sets `[hidden] { display: none; }` but bootstrap.min.css set `[hidden] { display: none !important; }` so we also need the `!important` here to be able to override the default hidden behavior on the sphinx rendered scikit-learn.org. See: https://github.com/scikit-learn/scikit-learn/issues/21755 */display: inline-block !important;position: relative;}#sk-container-id-1 div.sk-text-repr-fallback {display: none;}</style><div id=\"sk-container-id-1\" class=\"sk-top-container\"><div class=\"sk-text-repr-fallback\"><pre>RandomForestClassifier(max_depth=12, min_samples_split=4, n_estimators=300,\n",
       "                       random_state=44)</pre><b>In a Jupyter environment, please rerun this cell to show the HTML representation or trust the notebook. <br />On GitHub, the HTML representation is unable to render, please try loading this page with nbviewer.org.</b></div><div class=\"sk-container\" hidden><div class=\"sk-item\"><div class=\"sk-estimator sk-toggleable\"><input class=\"sk-toggleable__control sk-hidden--visually\" id=\"sk-estimator-id-1\" type=\"checkbox\" checked><label for=\"sk-estimator-id-1\" class=\"sk-toggleable__label sk-toggleable__label-arrow\">RandomForestClassifier</label><div class=\"sk-toggleable__content\"><pre>RandomForestClassifier(max_depth=12, min_samples_split=4, n_estimators=300,\n",
       "                       random_state=44)</pre></div></div></div></div></div>"
      ],
      "text/plain": [
       "RandomForestClassifier(max_depth=12, min_samples_split=4, n_estimators=300,\n",
       "                       random_state=44)"
      ]
     },
     "execution_count": 9,
     "metadata": {},
     "output_type": "execute_result"
    }
   ],
   "source": [
    "rfc_b = rfc(\n",
    "    max_depth = 12,\n",
    "    min_samples_split = 4,\n",
    "    n_estimators = 300,\n",
    "    random_state = 44\n",
    ")\n",
    "\n",
    "rfc_b.fit(X_train_resample,y_train_resample)"
   ]
  },
  {
   "cell_type": "code",
   "execution_count": 16,
   "id": "0bd65053",
   "metadata": {},
   "outputs": [
    {
     "data": {
      "text/plain": [
       "0.9745637734999437"
      ]
     },
     "execution_count": 16,
     "metadata": {},
     "output_type": "execute_result"
    }
   ],
   "source": [
    "# Cross validation train score\n",
    "score = cross_val_score(rfc_b, X_train_resample,y_train_resample, cv=5)\n",
    "accuracy = score.mean()\n",
    "accuracy"
   ]
  },
  {
   "cell_type": "code",
   "execution_count": 20,
   "id": "b49fdf4a",
   "metadata": {},
   "outputs": [
    {
     "data": {
      "text/plain": [
       "0.9438202247191011"
      ]
     },
     "execution_count": 20,
     "metadata": {},
     "output_type": "execute_result"
    }
   ],
   "source": [
    "rfc_b.score(X_test, y_test)"
   ]
  },
  {
   "cell_type": "markdown",
   "id": "b80ae0cd",
   "metadata": {},
   "source": [
    "<h1 style=\"color: green;\">Evaluating the best models (LightGBM vs CatBoost)</h1>\n",
    "<p style=\"color: red;\">\n",
    "This is done for the purpose of demonstrating knowledge in key areas.<br>\n",
    "</p>\n",
    "<p>\n",
    "    Below a comparison is made between LightGBM and CatBoost:<br>\n",
    "<ul>\n",
    "    <li><b>LightGBM</b>: model built with imbalanced data</li>\n",
    "    <li><b>CatBoost</b>: model built with balanced data</li>\n",
    "</ul>\n",
    "Since the objective is to determine whether I will have less than 5 shopping trips in a week,<br>\n",
    "the aim is to optimize the model for sensitivity i.e. to maximise the correct predictions of<br>\n",
    "less than 5 shopping trips in a week, true positives, while minimizing false negatives,<br>\n",
    "the model incorrectly predicts more than four shopping trips a week.<br><br>\n",
    "The comparison will also illustrate the advantage of using balanced data over imbalanced data.\n",
    "</p>"
   ]
  },
  {
   "cell_type": "markdown",
   "id": "c5f98a7a",
   "metadata": {},
   "source": [
    "<h3 style=\"color: green;\">Retrieving the models</h3>\n",
    "<p style=\"color:red;\">Model A: imbalanced data model</p>"
   ]
  },
  {
   "cell_type": "code",
   "execution_count": 21,
   "id": "1685c9c3",
   "metadata": {},
   "outputs": [
    {
     "data": {
      "text/html": [
       "<style>#sk-container-id-4 {color: black;background-color: white;}#sk-container-id-4 pre{padding: 0;}#sk-container-id-4 div.sk-toggleable {background-color: white;}#sk-container-id-4 label.sk-toggleable__label {cursor: pointer;display: block;width: 100%;margin-bottom: 0;padding: 0.3em;box-sizing: border-box;text-align: center;}#sk-container-id-4 label.sk-toggleable__label-arrow:before {content: \"▸\";float: left;margin-right: 0.25em;color: #696969;}#sk-container-id-4 label.sk-toggleable__label-arrow:hover:before {color: black;}#sk-container-id-4 div.sk-estimator:hover label.sk-toggleable__label-arrow:before {color: black;}#sk-container-id-4 div.sk-toggleable__content {max-height: 0;max-width: 0;overflow: hidden;text-align: left;background-color: #f0f8ff;}#sk-container-id-4 div.sk-toggleable__content pre {margin: 0.2em;color: black;border-radius: 0.25em;background-color: #f0f8ff;}#sk-container-id-4 input.sk-toggleable__control:checked~div.sk-toggleable__content {max-height: 200px;max-width: 100%;overflow: auto;}#sk-container-id-4 input.sk-toggleable__control:checked~label.sk-toggleable__label-arrow:before {content: \"▾\";}#sk-container-id-4 div.sk-estimator input.sk-toggleable__control:checked~label.sk-toggleable__label {background-color: #d4ebff;}#sk-container-id-4 div.sk-label input.sk-toggleable__control:checked~label.sk-toggleable__label {background-color: #d4ebff;}#sk-container-id-4 input.sk-hidden--visually {border: 0;clip: rect(1px 1px 1px 1px);clip: rect(1px, 1px, 1px, 1px);height: 1px;margin: -1px;overflow: hidden;padding: 0;position: absolute;width: 1px;}#sk-container-id-4 div.sk-estimator {font-family: monospace;background-color: #f0f8ff;border: 1px dotted black;border-radius: 0.25em;box-sizing: border-box;margin-bottom: 0.5em;}#sk-container-id-4 div.sk-estimator:hover {background-color: #d4ebff;}#sk-container-id-4 div.sk-parallel-item::after {content: \"\";width: 100%;border-bottom: 1px solid gray;flex-grow: 1;}#sk-container-id-4 div.sk-label:hover label.sk-toggleable__label {background-color: #d4ebff;}#sk-container-id-4 div.sk-serial::before {content: \"\";position: absolute;border-left: 1px solid gray;box-sizing: border-box;top: 0;bottom: 0;left: 50%;z-index: 0;}#sk-container-id-4 div.sk-serial {display: flex;flex-direction: column;align-items: center;background-color: white;padding-right: 0.2em;padding-left: 0.2em;position: relative;}#sk-container-id-4 div.sk-item {position: relative;z-index: 1;}#sk-container-id-4 div.sk-parallel {display: flex;align-items: stretch;justify-content: center;background-color: white;position: relative;}#sk-container-id-4 div.sk-item::before, #sk-container-id-4 div.sk-parallel-item::before {content: \"\";position: absolute;border-left: 1px solid gray;box-sizing: border-box;top: 0;bottom: 0;left: 50%;z-index: -1;}#sk-container-id-4 div.sk-parallel-item {display: flex;flex-direction: column;z-index: 1;position: relative;background-color: white;}#sk-container-id-4 div.sk-parallel-item:first-child::after {align-self: flex-end;width: 50%;}#sk-container-id-4 div.sk-parallel-item:last-child::after {align-self: flex-start;width: 50%;}#sk-container-id-4 div.sk-parallel-item:only-child::after {width: 0;}#sk-container-id-4 div.sk-dashed-wrapped {border: 1px dashed gray;margin: 0 0.4em 0.5em 0.4em;box-sizing: border-box;padding-bottom: 0.4em;background-color: white;}#sk-container-id-4 div.sk-label label {font-family: monospace;font-weight: bold;display: inline-block;line-height: 1.2em;}#sk-container-id-4 div.sk-label-container {text-align: center;}#sk-container-id-4 div.sk-container {/* jupyter's `normalize.less` sets `[hidden] { display: none; }` but bootstrap.min.css set `[hidden] { display: none !important; }` so we also need the `!important` here to be able to override the default hidden behavior on the sphinx rendered scikit-learn.org. See: https://github.com/scikit-learn/scikit-learn/issues/21755 */display: inline-block !important;position: relative;}#sk-container-id-4 div.sk-text-repr-fallback {display: none;}</style><div id=\"sk-container-id-4\" class=\"sk-top-container\"><div class=\"sk-text-repr-fallback\"><pre>LGBMClassifier(learning_rate=0.08, max_depth=6, n_estimators=500)</pre><b>In a Jupyter environment, please rerun this cell to show the HTML representation or trust the notebook. <br />On GitHub, the HTML representation is unable to render, please try loading this page with nbviewer.org.</b></div><div class=\"sk-container\" hidden><div class=\"sk-item\"><div class=\"sk-estimator sk-toggleable\"><input class=\"sk-toggleable__control sk-hidden--visually\" id=\"sk-estimator-id-4\" type=\"checkbox\" checked><label for=\"sk-estimator-id-4\" class=\"sk-toggleable__label sk-toggleable__label-arrow\">LGBMClassifier</label><div class=\"sk-toggleable__content\"><pre>LGBMClassifier(learning_rate=0.08, max_depth=6, n_estimators=500)</pre></div></div></div></div></div>"
      ],
      "text/plain": [
       "LGBMClassifier(learning_rate=0.08, max_depth=6, n_estimators=500)"
      ]
     },
     "execution_count": 21,
     "metadata": {},
     "output_type": "execute_result"
    }
   ],
   "source": [
    "lgbm_imb"
   ]
  },
  {
   "cell_type": "markdown",
   "id": "d0d35a11",
   "metadata": {},
   "source": [
    "<p style=\"color:red;\">Model B: SMOTE balanced data model</p>"
   ]
  },
  {
   "cell_type": "code",
   "execution_count": 10,
   "id": "b9e238b8",
   "metadata": {},
   "outputs": [
    {
     "data": {
      "text/plain": [
       "<catboost.core.CatBoostClassifier at 0x7f0d306fbac0>"
      ]
     },
     "execution_count": 10,
     "metadata": {},
     "output_type": "execute_result"
    }
   ],
   "source": [
    "catb_b"
   ]
  },
  {
   "cell_type": "markdown",
   "id": "9d7a925f",
   "metadata": {},
   "source": [
    "<h3 style=\"color: green;\">Confusion matrix</h3>"
   ]
  },
  {
   "cell_type": "markdown",
   "id": "187a48c0",
   "metadata": {},
   "source": [
    "<h1>\n",
    "$\\begin {bmatrix} Sample size=n & Predicted: 0 & Predicted: 1 \n",
    "\\\\ Actual: 0 & TN & FP \n",
    "\\\\ Actual: 1 & FN & TP  \n",
    "\\end{bmatrix}$\n",
    "</h1>"
   ]
  },
  {
   "cell_type": "markdown",
   "id": "90ffa701",
   "metadata": {},
   "source": [
    "<ul style=\"color: black;\">\n",
    "<b style=\"color: green;\">Basic terminolgy:</b>\n",
    "<li><b>True positive(TP): </b> we correctly predicted that they do have the condition</li>\n",
    "<li><b>True negatives(TN): </b> we correctly predicted that they don't have the condition</li>\n",
    "<li><b>False positive (FP):</b> we incorrectly predicted that they do have the condition ( a <b>\"Type I error\"</b>)</li>\n",
    "<li><b>False negatives (FN):</b> we incorrectly predicted that they don't have the condition (a <b>\"Type II error\"</b>)</li>\n",
    "</ul>"
   ]
  },
  {
   "cell_type": "markdown",
   "id": "67c39f7a",
   "metadata": {},
   "source": [
    "<p style=\"color: red;\">Model A</p>"
   ]
  },
  {
   "cell_type": "code",
   "execution_count": 23,
   "id": "a08ca0fb",
   "metadata": {},
   "outputs": [
    {
     "data": {
      "text/plain": [
       "(267,)"
      ]
     },
     "execution_count": 23,
     "metadata": {},
     "output_type": "execute_result"
    }
   ],
   "source": [
    "m1_y_pred = lgbm_imb.predict(X_test)\n",
    "m1_y_pred.shape"
   ]
  },
  {
   "cell_type": "code",
   "execution_count": 24,
   "id": "f1724b8d",
   "metadata": {},
   "outputs": [
    {
     "data": {
      "text/plain": [
       "(267,)"
      ]
     },
     "execution_count": 24,
     "metadata": {},
     "output_type": "execute_result"
    }
   ],
   "source": [
    "y_test.shape"
   ]
  },
  {
   "cell_type": "code",
   "execution_count": 25,
   "id": "dbd9e69e",
   "metadata": {},
   "outputs": [
    {
     "data": {
      "text/plain": [
       "array([[199,   0],\n",
       "       [  1,  67]])"
      ]
     },
     "execution_count": 25,
     "metadata": {},
     "output_type": "execute_result"
    }
   ],
   "source": [
    "m1_confusion_matrix = confusion_matrix(y_test,m1_y_pred)\n",
    "m1_confusion_matrix"
   ]
  },
  {
   "cell_type": "markdown",
   "id": "98042526",
   "metadata": {},
   "source": [
    "<h1>\n",
    "$\\begin {bmatrix} n=267 & Predicted: 0 & Predicted: 1 & Totals\n",
    "\\\\ Actual: 0 & 199 & 0 & 199\n",
    "\\\\ Actual: 1 & 1 & 67  & 68\n",
    "\\\\ Totals: & 200 & 67 & 267\n",
    "\\end{bmatrix}$\n",
    "</h1>"
   ]
  },
  {
   "cell_type": "code",
   "execution_count": 26,
   "id": "dc5e60b8",
   "metadata": {},
   "outputs": [],
   "source": [
    "# unraveling the confusion matrix\n",
    "m1_tn,m1_fp,m1_fn,m1_tp = confusion_matrix(y_test,m1_y_pred).ravel()"
   ]
  },
  {
   "cell_type": "markdown",
   "id": "7957229f",
   "metadata": {},
   "source": [
    "<p style=\"color: red;\">Model B</p>"
   ]
  },
  {
   "cell_type": "code",
   "execution_count": 11,
   "id": "225e62f3",
   "metadata": {},
   "outputs": [
    {
     "data": {
      "text/plain": [
       "(267,)"
      ]
     },
     "execution_count": 11,
     "metadata": {},
     "output_type": "execute_result"
    }
   ],
   "source": [
    "m2_y_pred = catb_b.predict(X_test)\n",
    "m2_y_pred.shape"
   ]
  },
  {
   "cell_type": "code",
   "execution_count": 12,
   "id": "2305294f",
   "metadata": {},
   "outputs": [
    {
     "data": {
      "text/plain": [
       "(267,)"
      ]
     },
     "execution_count": 12,
     "metadata": {},
     "output_type": "execute_result"
    }
   ],
   "source": [
    "y_test.shape"
   ]
  },
  {
   "cell_type": "code",
   "execution_count": 13,
   "id": "1704e0ff",
   "metadata": {},
   "outputs": [
    {
     "data": {
      "text/plain": [
       "array([[199,   0],\n",
       "       [  1,  67]])"
      ]
     },
     "execution_count": 13,
     "metadata": {},
     "output_type": "execute_result"
    }
   ],
   "source": [
    "m2_confusion_matrix = confusion_matrix(y_test,m2_y_pred)\n",
    "m2_confusion_matrix"
   ]
  },
  {
   "cell_type": "markdown",
   "id": "2089054e",
   "metadata": {},
   "source": [
    "<h1>\n",
    "$\\begin {bmatrix} n=267 & Predicted: 0 & Predicted: 1 & Totals\n",
    "\\\\ Actual: 0 & 199 & 0 & 199\n",
    "\\\\ Actual: 1 & 1 & 67  & 68\n",
    "\\\\ Totals: & 200 & 67 & 267\n",
    "\\end{bmatrix}$\n",
    "</h1>"
   ]
  },
  {
   "cell_type": "code",
   "execution_count": 14,
   "id": "c0a80b23",
   "metadata": {},
   "outputs": [],
   "source": [
    "# unraveling the confusion matrix\n",
    "m2_tn,m2_fp,m2_fn,m2_tp = confusion_matrix(y_test,m2_y_pred).ravel()"
   ]
  },
  {
   "cell_type": "markdown",
   "id": "975aa743",
   "metadata": {},
   "source": [
    "<p style=\"color: red;\">\n",
    "The two confusion matrix are identical, this is a reflection of two very powerful algorithms fitted to a dataset<br>with very good feature engineering for the classifier target. However, in general balancing the data is helpful in modelling.\n",
    "</p>\n",
    "<br>\n",
    "<b>Below we continue with CatBoost and the RandomForest for demonstrating augmenting models when the performance is less than perfect</b>"
   ]
  },
  {
   "cell_type": "markdown",
   "id": "1dacb4b3",
   "metadata": {},
   "source": [
    "<p style=\"color: red;\">Model C</p>"
   ]
  },
  {
   "cell_type": "code",
   "execution_count": 15,
   "id": "65bdbcbf",
   "metadata": {},
   "outputs": [
    {
     "data": {
      "text/html": [
       "<style>#sk-container-id-2 {color: black;background-color: white;}#sk-container-id-2 pre{padding: 0;}#sk-container-id-2 div.sk-toggleable {background-color: white;}#sk-container-id-2 label.sk-toggleable__label {cursor: pointer;display: block;width: 100%;margin-bottom: 0;padding: 0.3em;box-sizing: border-box;text-align: center;}#sk-container-id-2 label.sk-toggleable__label-arrow:before {content: \"▸\";float: left;margin-right: 0.25em;color: #696969;}#sk-container-id-2 label.sk-toggleable__label-arrow:hover:before {color: black;}#sk-container-id-2 div.sk-estimator:hover label.sk-toggleable__label-arrow:before {color: black;}#sk-container-id-2 div.sk-toggleable__content {max-height: 0;max-width: 0;overflow: hidden;text-align: left;background-color: #f0f8ff;}#sk-container-id-2 div.sk-toggleable__content pre {margin: 0.2em;color: black;border-radius: 0.25em;background-color: #f0f8ff;}#sk-container-id-2 input.sk-toggleable__control:checked~div.sk-toggleable__content {max-height: 200px;max-width: 100%;overflow: auto;}#sk-container-id-2 input.sk-toggleable__control:checked~label.sk-toggleable__label-arrow:before {content: \"▾\";}#sk-container-id-2 div.sk-estimator input.sk-toggleable__control:checked~label.sk-toggleable__label {background-color: #d4ebff;}#sk-container-id-2 div.sk-label input.sk-toggleable__control:checked~label.sk-toggleable__label {background-color: #d4ebff;}#sk-container-id-2 input.sk-hidden--visually {border: 0;clip: rect(1px 1px 1px 1px);clip: rect(1px, 1px, 1px, 1px);height: 1px;margin: -1px;overflow: hidden;padding: 0;position: absolute;width: 1px;}#sk-container-id-2 div.sk-estimator {font-family: monospace;background-color: #f0f8ff;border: 1px dotted black;border-radius: 0.25em;box-sizing: border-box;margin-bottom: 0.5em;}#sk-container-id-2 div.sk-estimator:hover {background-color: #d4ebff;}#sk-container-id-2 div.sk-parallel-item::after {content: \"\";width: 100%;border-bottom: 1px solid gray;flex-grow: 1;}#sk-container-id-2 div.sk-label:hover label.sk-toggleable__label {background-color: #d4ebff;}#sk-container-id-2 div.sk-serial::before {content: \"\";position: absolute;border-left: 1px solid gray;box-sizing: border-box;top: 0;bottom: 0;left: 50%;z-index: 0;}#sk-container-id-2 div.sk-serial {display: flex;flex-direction: column;align-items: center;background-color: white;padding-right: 0.2em;padding-left: 0.2em;position: relative;}#sk-container-id-2 div.sk-item {position: relative;z-index: 1;}#sk-container-id-2 div.sk-parallel {display: flex;align-items: stretch;justify-content: center;background-color: white;position: relative;}#sk-container-id-2 div.sk-item::before, #sk-container-id-2 div.sk-parallel-item::before {content: \"\";position: absolute;border-left: 1px solid gray;box-sizing: border-box;top: 0;bottom: 0;left: 50%;z-index: -1;}#sk-container-id-2 div.sk-parallel-item {display: flex;flex-direction: column;z-index: 1;position: relative;background-color: white;}#sk-container-id-2 div.sk-parallel-item:first-child::after {align-self: flex-end;width: 50%;}#sk-container-id-2 div.sk-parallel-item:last-child::after {align-self: flex-start;width: 50%;}#sk-container-id-2 div.sk-parallel-item:only-child::after {width: 0;}#sk-container-id-2 div.sk-dashed-wrapped {border: 1px dashed gray;margin: 0 0.4em 0.5em 0.4em;box-sizing: border-box;padding-bottom: 0.4em;background-color: white;}#sk-container-id-2 div.sk-label label {font-family: monospace;font-weight: bold;display: inline-block;line-height: 1.2em;}#sk-container-id-2 div.sk-label-container {text-align: center;}#sk-container-id-2 div.sk-container {/* jupyter's `normalize.less` sets `[hidden] { display: none; }` but bootstrap.min.css set `[hidden] { display: none !important; }` so we also need the `!important` here to be able to override the default hidden behavior on the sphinx rendered scikit-learn.org. See: https://github.com/scikit-learn/scikit-learn/issues/21755 */display: inline-block !important;position: relative;}#sk-container-id-2 div.sk-text-repr-fallback {display: none;}</style><div id=\"sk-container-id-2\" class=\"sk-top-container\"><div class=\"sk-text-repr-fallback\"><pre>RandomForestClassifier(max_depth=12, min_samples_split=4, n_estimators=300,\n",
       "                       random_state=44)</pre><b>In a Jupyter environment, please rerun this cell to show the HTML representation or trust the notebook. <br />On GitHub, the HTML representation is unable to render, please try loading this page with nbviewer.org.</b></div><div class=\"sk-container\" hidden><div class=\"sk-item\"><div class=\"sk-estimator sk-toggleable\"><input class=\"sk-toggleable__control sk-hidden--visually\" id=\"sk-estimator-id-2\" type=\"checkbox\" checked><label for=\"sk-estimator-id-2\" class=\"sk-toggleable__label sk-toggleable__label-arrow\">RandomForestClassifier</label><div class=\"sk-toggleable__content\"><pre>RandomForestClassifier(max_depth=12, min_samples_split=4, n_estimators=300,\n",
       "                       random_state=44)</pre></div></div></div></div></div>"
      ],
      "text/plain": [
       "RandomForestClassifier(max_depth=12, min_samples_split=4, n_estimators=300,\n",
       "                       random_state=44)"
      ]
     },
     "execution_count": 15,
     "metadata": {},
     "output_type": "execute_result"
    }
   ],
   "source": [
    "rfc_b"
   ]
  },
  {
   "cell_type": "code",
   "execution_count": 16,
   "id": "6ccd581b",
   "metadata": {},
   "outputs": [
    {
     "data": {
      "text/plain": [
       "(267,)"
      ]
     },
     "execution_count": 16,
     "metadata": {},
     "output_type": "execute_result"
    }
   ],
   "source": [
    "m3_y_pred = rfc_b.predict(X_test)\n",
    "m3_y_pred.shape"
   ]
  },
  {
   "cell_type": "code",
   "execution_count": 17,
   "id": "5221deba",
   "metadata": {},
   "outputs": [
    {
     "data": {
      "text/plain": [
       "array([[195,   4],\n",
       "       [ 11,  57]])"
      ]
     },
     "execution_count": 17,
     "metadata": {},
     "output_type": "execute_result"
    }
   ],
   "source": [
    "m3_confusion_matrix = confusion_matrix(y_test,m3_y_pred)\n",
    "m3_confusion_matrix"
   ]
  },
  {
   "cell_type": "markdown",
   "id": "2ebc3694",
   "metadata": {},
   "source": [
    "<h1>\n",
    "$\\begin {bmatrix} n=267 & Predicted: 0 & Predicted: 1 & Totals\n",
    "\\\\ Actual: 0 & 195 & 4 & 199\n",
    "\\\\ Actual: 1 & 11 & 57  & 68\n",
    "\\\\ Totals: & 206 & 61 & 267\n",
    "\\end{bmatrix}$\n",
    "</h1>"
   ]
  },
  {
   "cell_type": "markdown",
   "id": "3c9937f4",
   "metadata": {},
   "source": [
    "<b>The confusion matrix shows relatively more false negatives and false positives in comparison to model 2</b>"
   ]
  },
  {
   "cell_type": "code",
   "execution_count": 18,
   "id": "88c54b88",
   "metadata": {},
   "outputs": [],
   "source": [
    "# unraveling the confusion matrix\n",
    "m3_tn,m3_fp,m3_fn,m3_tp = confusion_matrix(y_test,m3_y_pred).ravel()"
   ]
  },
  {
   "cell_type": "markdown",
   "id": "a782fad4",
   "metadata": {},
   "source": [
    "<h3 style=\"color: green;\">Sensitivity(recall): when the actual value is positive,how often is the prediction correct</h3>"
   ]
  },
  {
   "cell_type": "markdown",
   "id": "719e24f3",
   "metadata": {},
   "source": [
    "<p style=\"color: red;\">Model B</p>"
   ]
  },
  {
   "cell_type": "code",
   "execution_count": 35,
   "id": "50e74531",
   "metadata": {},
   "outputs": [
    {
     "name": "stdout",
     "output_type": "stream",
     "text": [
      "Model 2 sensitivity via recall_score: 0.9852941176470589\n",
      "Model 2 hand calculated sensitivity: 0.9852941176470589\n"
     ]
    }
   ],
   "source": [
    "m2_sensitivity = recall_score(y_test,m2_y_pred)\n",
    "print(\"Model 2 sensitivity via recall_score: {}\".format(m2_sensitivity))\n",
    "\n",
    "print(\"Model 2 hand calculated sensitivity: {}\".format(m2_tp /(m2_tp + m2_fn)))"
   ]
  },
  {
   "cell_type": "markdown",
   "id": "cd42205a",
   "metadata": {},
   "source": [
    "<p style=\"color: red;\">Model C</p>"
   ]
  },
  {
   "cell_type": "code",
   "execution_count": 36,
   "id": "47146688",
   "metadata": {},
   "outputs": [
    {
     "name": "stdout",
     "output_type": "stream",
     "text": [
      "Model 3 sensitivity via recall_score: 0.8382352941176471\n",
      "Model 3 hand calculated sensitivity: 0.8382352941176471\n"
     ]
    }
   ],
   "source": [
    "m3_sensitivity = recall_score(y_test,m3_y_pred)\n",
    "print(\"Model 3 sensitivity via recall_score: {}\".format(m3_sensitivity))\n",
    "\n",
    "print(\"Model 3 hand calculated sensitivity: {}\".format(m3_tp /(m3_tp + m3_fn)))"
   ]
  },
  {
   "cell_type": "markdown",
   "id": "48255fc1",
   "metadata": {},
   "source": [
    "As can be seen, model 3 recall/sensitivity is much lower than model 2."
   ]
  },
  {
   "cell_type": "markdown",
   "id": "c244c3e2",
   "metadata": {},
   "source": [
    "<h3 style=\"color: green;\">Specificity: When the actual value is negative, how often is the prediction correct</h3>"
   ]
  },
  {
   "cell_type": "markdown",
   "id": "1a264490",
   "metadata": {},
   "source": [
    "<p style=\"color: red;\">Model B</p>"
   ]
  },
  {
   "cell_type": "code",
   "execution_count": 37,
   "id": "8407b66d",
   "metadata": {},
   "outputs": [
    {
     "name": "stdout",
     "output_type": "stream",
     "text": [
      "Model 2 specificity: 1.0\n"
     ]
    }
   ],
   "source": [
    "m2_Specificity = m2_tn/(m2_tn + m2_fp)\n",
    "print(\"Model 2 specificity: {}\".format(m2_Specificity))"
   ]
  },
  {
   "cell_type": "markdown",
   "id": "a7bf81bc",
   "metadata": {},
   "source": [
    "<p style=\"color: red;\">Model C</p>"
   ]
  },
  {
   "cell_type": "code",
   "execution_count": 38,
   "id": "4a94e5fd",
   "metadata": {},
   "outputs": [
    {
     "name": "stdout",
     "output_type": "stream",
     "text": [
      "Model 3 specificity: 0.9798994974874372\n"
     ]
    }
   ],
   "source": [
    "m3_Specificity = m3_tn/(m3_tn + m3_fp)\n",
    "print(\"Model 3 specificity: {}\".format(m3_Specificity))"
   ]
  },
  {
   "cell_type": "markdown",
   "id": "e4c9a902",
   "metadata": {},
   "source": [
    "Yet again model 2 has superior outcome with a specificity of 1 while model 3 lags behind with a relatively lower 0.98\n",
    "\n",
    "Both the models have higher specificity than sensitivity. This means the models predicts negative<br>\n",
    "instances better than it does positive instances i.e. the models are better at telling when<br>\n",
    "I'm going to have more than 4 shopping trips in a week than when I'm going to have 4 <br>\n",
    "or less shopping trips in a week."
   ]
  },
  {
   "cell_type": "markdown",
   "id": "2110a265",
   "metadata": {},
   "source": [
    "<h3 style=\"color: green;\">Precision: when a positive value is predicted, how often is the prediction correct</h3>"
   ]
  },
  {
   "cell_type": "markdown",
   "id": "13cfe4eb",
   "metadata": {},
   "source": [
    "<p style=\"color: red;\">Model B</p>"
   ]
  },
  {
   "cell_type": "code",
   "execution_count": 39,
   "id": "867bf843",
   "metadata": {},
   "outputs": [
    {
     "name": "stdout",
     "output_type": "stream",
     "text": [
      "Model 2 precision: 1.0\n"
     ]
    }
   ],
   "source": [
    "m2_precision = m2_tp / (m2_tp + m2_fp)\n",
    "print(\"Model 2 precision: {}\".format(m2_precision))"
   ]
  },
  {
   "cell_type": "markdown",
   "id": "5ad61db0",
   "metadata": {},
   "source": [
    "<p style=\"color: red;\">Model C</p>"
   ]
  },
  {
   "cell_type": "code",
   "execution_count": 40,
   "id": "cdb42f4d",
   "metadata": {},
   "outputs": [
    {
     "name": "stdout",
     "output_type": "stream",
     "text": [
      "Model 3 precision: 0.9344262295081968\n"
     ]
    }
   ],
   "source": [
    "m3_precision = m3_tp / (m3_tp + m3_fp)\n",
    "print(\"Model 3 precision: {}\".format(m3_precision))"
   ]
  },
  {
   "cell_type": "code",
   "execution_count": 41,
   "id": "f7f2c637",
   "metadata": {},
   "outputs": [
    {
     "data": {
      "text/plain": [
       "0.07017543859649118"
      ]
     },
     "execution_count": 41,
     "metadata": {},
     "output_type": "execute_result"
    }
   ],
   "source": [
    "# calculating the precision percentage difference between model 1 and model 3\n",
    "(1.0 - 0.9344262295081968)/0.9344262295081968"
   ]
  },
  {
   "cell_type": "markdown",
   "id": "c881b83c",
   "metadata": {},
   "source": [
    "<p style=\"color: black;\">\n",
    "It must be noted that the models have very high precision: the proportion of the true<br> \n",
    "positive rates are higher than false positive rates for both models. However, model 2 has a<br>\n",
    "7% lead with respect to precision.\n",
    "</p>"
   ]
  },
  {
   "cell_type": "markdown",
   "id": "9673788d",
   "metadata": {},
   "source": [
    "<p>\n",
    "<b>Although the performance improvement of balancing the data was not evident, it is generally the case that balancing the data improves the model accuracy.</b><br>\n",
    "Thus final model feature selection and threshold tuning will be done with the balanced data model, CatBoost.<br>\n",
    "<b>The random forest model will be used to illustrate better the effects of threshold tuning for operational use.</b>\n",
    "</p>"
   ]
  },
  {
   "cell_type": "markdown",
   "id": "c94d2f37",
   "metadata": {},
   "source": [
    "<h1 style=\"color: green;\">Final model feature selection</h1>"
   ]
  },
  {
   "cell_type": "code",
   "execution_count": 19,
   "id": "edc7362b",
   "metadata": {},
   "outputs": [
    {
     "data": {
      "text/plain": [
       "(942, 76)"
      ]
     },
     "execution_count": 19,
     "metadata": {},
     "output_type": "execute_result"
    }
   ],
   "source": [
    "# shape of X_train_resample before final feature selection\n",
    "X_train_resample.shape"
   ]
  },
  {
   "cell_type": "code",
   "execution_count": 20,
   "id": "2bd766c0",
   "metadata": {},
   "outputs": [],
   "source": [
    "# select features using the importance derived from XGBoost\n",
    "sel_ = SelectFromModel(catb(\n",
    "                            depth = 8,\n",
    "                            learning_rate = 0.08,\n",
    "                            loss_function = 'Logloss',\n",
    "                            n_estimators = 500,\n",
    "                            random_seed = 44,\n",
    "                            verbose = False\n",
    "                        ))\n",
    "\n",
    "sel_.fit(X_train_resample, y_train_resample)\n",
    "\n",
    "# remove features with zero coefficient from dataset\n",
    "# and parse again as dataframe (output of sklearn is\n",
    "# numpy array)\n",
    "X_train_catb = pd.DataFrame(sel_.transform(X_train_resample))\n",
    "X_test_catb = pd.DataFrame(sel_.transform(X_test))\n",
    "\n",
    "# add the columns name\n",
    "X_train_catb.columns = X_train_resample.columns[(sel_.get_support())]\n",
    "X_test_catb.columns = X_test.columns[(sel_.get_support())]"
   ]
  },
  {
   "cell_type": "code",
   "execution_count": 21,
   "id": "e9f527e1",
   "metadata": {},
   "outputs": [
    {
     "data": {
      "text/plain": [
       "((942, 19), (267, 19))"
      ]
     },
     "execution_count": 21,
     "metadata": {},
     "output_type": "execute_result"
    }
   ],
   "source": [
    "X_train_catb.shape,X_test_catb.shape"
   ]
  },
  {
   "cell_type": "code",
   "execution_count": 22,
   "id": "0d376423",
   "metadata": {},
   "outputs": [
    {
     "data": {
      "text/plain": [
       "Index(['Date_diff', 'Nbr_items_per_wk', 'Expenditure_per_wk',\n",
       "       'Total_Exp_wk_perc', 'AVG_exp_item_per_wk', 'Bread_wk',\n",
       "       'Cooked_meats_wk', 'Raw_meats_wk', 'Eating_out_wk', 'Snacks_wk',\n",
       "       'Drinks_wk', 'Vegetables_wk', 'Cooking_base_wk', 'Dairy_produce_wk',\n",
       "       'Seasoning_wk', 'Breakfast_wk', 'Transport_wk',\n",
       "       'Cosmetics_and_selfcare_wk', 'House_and_kitchen_wk'],\n",
       "      dtype='object')"
      ]
     },
     "execution_count": 22,
     "metadata": {},
     "output_type": "execute_result"
    }
   ],
   "source": [
    "# features remaining in the model\n",
    "X_train_catb.columns"
   ]
  },
  {
   "cell_type": "markdown",
   "id": "468a80eb",
   "metadata": {},
   "source": [
    "<h3 style=\"color: green;\">Re-running the model with final features</h3>"
   ]
  },
  {
   "cell_type": "code",
   "execution_count": 23,
   "id": "2f06d28d",
   "metadata": {},
   "outputs": [
    {
     "data": {
      "text/plain": [
       "<catboost.core.CatBoostClassifier at 0x7f0ce15b74c0>"
      ]
     },
     "execution_count": 23,
     "metadata": {},
     "output_type": "execute_result"
    }
   ],
   "source": [
    "# instantiate the model\n",
    "\n",
    "catb_clfier_final_features = catb(\n",
    "                            depth = 8,\n",
    "                            learning_rate = 0.08,\n",
    "                            loss_function = 'Logloss',\n",
    "                            n_estimators = 500,\n",
    "                            random_seed = 44,\n",
    "                            verbose = False\n",
    "                        )\n",
    "\n",
    "# Fitting the model\n",
    "catb_clfier_final_features.fit(X_train_catb,y_train_resample)"
   ]
  },
  {
   "cell_type": "code",
   "execution_count": 24,
   "id": "dc18780d",
   "metadata": {},
   "outputs": [
    {
     "data": {
      "text/plain": [
       "0.9925869638635596"
      ]
     },
     "execution_count": 24,
     "metadata": {},
     "output_type": "execute_result"
    }
   ],
   "source": [
    "# Cross validation train score\n",
    "score = cross_val_score(catb_clfier_final_features, X_train_catb,y_train_resample, cv=5)\n",
    "accuracy = score.mean()\n",
    "accuracy"
   ]
  },
  {
   "cell_type": "code",
   "execution_count": 53,
   "id": "8c832c1d",
   "metadata": {},
   "outputs": [
    {
     "data": {
      "text/plain": [
       "0.9947033659799617"
      ]
     },
     "execution_count": 53,
     "metadata": {},
     "output_type": "execute_result"
    }
   ],
   "source": [
    "# Comparison with the previous CatBoost model\n",
    "# Cross validation train accuracy score\n",
    "score = cross_val_score(catb_b, X_train_resample,y_train_resample, cv=5)\n",
    "accuracy = score.mean()\n",
    "accuracy"
   ]
  },
  {
   "cell_type": "code",
   "execution_count": 56,
   "id": "58554953",
   "metadata": {},
   "outputs": [
    {
     "data": {
      "text/plain": [
       "(942, 76)"
      ]
     },
     "execution_count": 56,
     "metadata": {},
     "output_type": "execute_result"
    }
   ],
   "source": [
    "#  Checking the shape of X_train_resample to indicate the number of \n",
    "# features that went into the balanced data model, 76\n",
    "X_train_resample.shape"
   ]
  },
  {
   "cell_type": "code",
   "execution_count": 55,
   "id": "0e8a5f62",
   "metadata": {},
   "outputs": [
    {
     "data": {
      "text/plain": [
       "-0.0021276716142576185"
      ]
     },
     "execution_count": 55,
     "metadata": {},
     "output_type": "execute_result"
    }
   ],
   "source": [
    "# percentage change in accuracy from balanced data model to final feature model\n",
    "(0.9925869638635596-0.9947033659799617)/0.9947033659799617"
   ]
  },
  {
   "cell_type": "code",
   "execution_count": 52,
   "id": "9030c7be",
   "metadata": {},
   "outputs": [
    {
     "data": {
      "text/plain": [
       "0.9925093632958801"
      ]
     },
     "execution_count": 52,
     "metadata": {},
     "output_type": "execute_result"
    }
   ],
   "source": [
    "# Test accuracy score for final features model\n",
    "catb_clfier_final_features.score(X_test_catb,y_test)"
   ]
  },
  {
   "cell_type": "code",
   "execution_count": 54,
   "id": "eefcd378",
   "metadata": {},
   "outputs": [
    {
     "data": {
      "text/plain": [
       "0.9962546816479401"
      ]
     },
     "execution_count": 54,
     "metadata": {},
     "output_type": "execute_result"
    }
   ],
   "source": [
    "# Test accuracy score for balanced data catboost model\n",
    "catb_b.score(X_test, y_test)"
   ]
  },
  {
   "cell_type": "code",
   "execution_count": 57,
   "id": "dd6b35eb",
   "metadata": {},
   "outputs": [
    {
     "data": {
      "text/plain": [
       "-0.003759398496240611"
      ]
     },
     "execution_count": 57,
     "metadata": {},
     "output_type": "execute_result"
    }
   ],
   "source": [
    "# percentage change in test accuracy from balanced data model to final feature selection model\n",
    "(0.9925093632958801 - 0.9962546816479401)/0.9962546816479401"
   ]
  },
  {
   "cell_type": "code",
   "execution_count": 58,
   "id": "959c4a2e",
   "metadata": {},
   "outputs": [
    {
     "data": {
      "text/plain": [
       "-0.75"
      ]
     },
     "execution_count": 58,
     "metadata": {},
     "output_type": "execute_result"
    }
   ],
   "source": [
    "# percentage change in the number of features\n",
    "(19-76)/76"
   ]
  },
  {
   "cell_type": "markdown",
   "id": "95473911",
   "metadata": {},
   "source": [
    "<p>\n",
    "The cross-validation score and the test scores for the final feature model are marginally less than their balanced data counterparts.<br>Thus the feature selection has reduced the number of features by 75% at a cost of 0.2% loss\n",
    "of cross-validation accuracy and <br>a 0.3% loss of test accuracy i.e. restricting the model to the most powerful features has not changed the performance<br> while improving the efficiency, parsimony, for deployment.\n",
    "\n",
    "</p>"
   ]
  },
  {
   "cell_type": "markdown",
   "id": "3b1e607e",
   "metadata": {},
   "source": [
    "<h3 style=\"color: green;\">Final model feature selection importance</h3>"
   ]
  },
  {
   "cell_type": "code",
   "execution_count": 61,
   "id": "09001cba",
   "metadata": {},
   "outputs": [
    {
     "data": {
      "image/png": "[encoded data removed]",
      "text/plain": [
       "<Figure size 640x480 with 1 Axes>"
      ]
     },
     "metadata": {},
     "output_type": "display_data"
    }
   ],
   "source": [
    "catb_clfier_final_features_imp = pd.Series(catb_clfier_final_features.feature_importances_, \n",
    "                    index=X_train_catb.columns)\n",
    "\n",
    "# plotting importance\n",
    "fig = plt.figure()\n",
    "fig.patch.set_facecolor('#212121')\n",
    "fig.patch.set_alpha(0.95)\n",
    "\n",
    "ax = fig.add_subplot(111)\n",
    "ax.patch.set_facecolor('#212121')\n",
    "ax.patch.set_alpha(1.0)\n",
    "ax.yaxis.label.set_color('lime')\n",
    "ax.xaxis.label.set_color('lime')\n",
    "ax.title.set_color('lime')\n",
    "ax.tick_params(colors='lime', which='both')\n",
    "\n",
    "\n",
    "catb_clfier_final_features_imp.nlargest(31).sort_values().plot(ax=ax,\n",
    "                                        kind='barh', \n",
    "                                        color='red',\n",
    "                                        title='CatBoost final model feature importance')\n",
    "plt.show()"
   ]
  },
  {
   "cell_type": "markdown",
   "id": "f644d712",
   "metadata": {},
   "source": [
    "<h1 style=\"color: green;\">Extracting X_train, X_test, for Explainable AI with SHAP</h1>"
   ]
  },
  {
   "cell_type": "code",
   "execution_count": 25,
   "id": "a8ed7a10",
   "metadata": {},
   "outputs": [],
   "source": [
    "X_train_ = copy.deepcopy(X_train_catb)\n",
    "X_test_ = copy.deepcopy(X_test_catb)\n",
    "\n",
    "# Export the data\n",
    "X_train_.to_csv(\"../2. Data/Classif_X_train_Shap.csv\",index=False)\n",
    "X_test_.to_csv(\"../2. Data/Classif_X_test_Shap.csv\",index=False)"
   ]
  },
  {
   "cell_type": "markdown",
   "id": "2f9d0f87",
   "metadata": {},
   "source": [
    "<h1 style=\"color: green;\">Extracting X_test_catb,y_test for final model evaluation</h1>"
   ]
  },
  {
   "cell_type": "code",
   "execution_count": 26,
   "id": "9ccc07f5",
   "metadata": {},
   "outputs": [],
   "source": [
    "X_test_catb_ = copy.deepcopy(X_test_catb)\n",
    "X_test_catb_['target'] = y_test\n",
    "\n",
    "X_test_catb_.to_csv(\"../2. Data/Classif_X_test_catb.csv\",index=False)"
   ]
  },
  {
   "cell_type": "markdown",
   "id": "7c122fbb",
   "metadata": {},
   "source": [
    "<h1 style=\"color: green;\">Extracting X_test, y_test for Random forest evaluation</h1>"
   ]
  },
  {
   "cell_type": "code",
   "execution_count": 27,
   "id": "ce525888",
   "metadata": {},
   "outputs": [],
   "source": [
    "X_test_rfc = copy.deepcopy(X_test)\n",
    "X_test_rfc['target'] = y_test\n",
    "\n",
    "X_test_rfc.to_csv(\"../2. Data/Classif_X_test_rfc.csv\",index=False)"
   ]
  },
  {
   "cell_type": "markdown",
   "id": "9c90eb57",
   "metadata": {},
   "source": [
    "<h1 style=\"color: green;\">Saving the best model and the Random forest model for evaluation</h1>"
   ]
  },
  {
   "cell_type": "code",
   "execution_count": 29,
   "id": "ec952516",
   "metadata": {},
   "outputs": [
    {
     "data": {
      "text/plain": [
       "['../8. Models/Classifier_models/random_forest_classifier14082023']"
      ]
     },
     "execution_count": 29,
     "metadata": {},
     "output_type": "execute_result"
    }
   ],
   "source": [
    "joblib.dump(catb_clfier_final_features,'../8. Models/Classifier_models/catboost_classifier14082023')\n",
    "\n",
    "joblib.dump(rfc_b,'../8. Models/Classifier_models/random_forest_classifier14082023')"
   ]
  },
  {
   "cell_type": "markdown",
   "id": "6703d2be",
   "metadata": {},
   "source": [
    "<h1 style=\"color: green;\">Conclusion</h1>"
   ]
  },
  {
   "cell_type": "code",
   "execution_count": null,
   "id": "edd8884a",
   "metadata": {},
   "outputs": [],
   "source": []
  }
 ],
 "metadata": {
  "kernelspec": {
   "display_name": "Python 3 (ipykernel)",
   "language": "python",
   "name": "python3"
  },
  "language_info": {
   "codemirror_mode": {
    "name": "ipython",
    "version": 3
   },
   "file_extension": ".py",
   "mimetype": "text/x-python",
   "name": "python",
   "nbconvert_exporter": "python",
   "pygments_lexer": "ipython3",
   "version": "3.10.12"
  }
 },
 "nbformat": 4,
 "nbformat_minor": 5
}
