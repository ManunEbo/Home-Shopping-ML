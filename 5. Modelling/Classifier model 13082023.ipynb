{
 "cells": [
  {
   "cell_type": "markdown",
   "id": "f355bb2d",
   "metadata": {},
   "source": [
    "<h1 style=\"color: green;\">Summary</h1>\n",
    "\n",
    "<p>\n",
    "The following tasks are accomplished in this section:\n",
    "<ul>\n",
    "<li>Balancing the data with imblearn</li>\n",
    "<li>Hyperparameter tuning with GridSearchCV</li>\n",
    "<li>Model comparison: imbalanced vs balanced </li>\n",
    "<li>Final feature selection using selectfrom</li>\n",
    "<li>Optimization and threshold tuning</li>\n",
    "</ul>\n",
    "\n",
    "</p>"
   ]
  },
  {
   "cell_type": "markdown",
   "id": "feda3a4b",
   "metadata": {},
   "source": [
    "<h1 style=\"color: green;\">Import libraries</h1>"
   ]
  },
  {
   "cell_type": "code",
   "execution_count": 1,
   "id": "9297bffd",
   "metadata": {},
   "outputs": [],
   "source": [
    "import pandas as pd\n",
    "import numpy as np\n",
    "import seaborn as sb\n",
    "import matplotlib.pyplot as plt\n",
    "\n",
    "import time\n",
    "\n",
    "# Imblearn for oversampling\n",
    "from imblearn.over_sampling import SMOTE\n",
    "\n",
    "# Scaling the values\n",
    "from sklearn.preprocessing import binarize\n",
    "\n",
    "# GridsearchCV\n",
    "from sklearn.model_selection import GridSearchCV\n",
    "\n",
    "# feature selection\n",
    "from sklearn.feature_selection import SelectFromModel\n",
    "\n",
    "\n",
    "# Cross validation score\n",
    "from sklearn.model_selection import cross_val_score\n",
    "\n",
    "# Metrics Accuracy\n",
    "from sklearn.metrics import \\\n",
    "accuracy_score, confusion_matrix, recall_score, roc_curve,roc_auc_score\n",
    "\n",
    "# joblib for storing models\n",
    "import joblib\n",
    "\n",
    "# feature importance\n",
    "from sklearn.inspection import permutation_importance\n",
    "\n",
    "# for deep copy\n",
    "import copy\n",
    "\n",
    "\n",
    "# RandomForestClassifier\n",
    "from sklearn.ensemble import RandomForestClassifier as rfc\n",
    "\n",
    "# XGB.classifier\n",
    "from xgboost import XGBClassifier as xgb\n",
    "\n",
    "# Catboost\n",
    "from catboost import CatBoostClassifier as catb\n",
    "\n",
    "# LightGMB\n",
    "from lightgbm import LGBMClassifier as lgbm\n",
    "\n",
    "# Gradient boosting classifier\n",
    "from sklearn.ensemble import GradientBoostingClassifier as gbc\n",
    "\n",
    "# Adadboost classifier\n",
    "from sklearn.ensemble import AdaBoostClassifier as adb\n",
    "\n",
    "import warnings\n",
    "warnings.filterwarnings('ignore')"
   ]
  },
  {
   "cell_type": "markdown",
   "id": "8a545b23",
   "metadata": {},
   "source": [
    "<h1 style=\"color: green;\">Import data</h1>"
   ]
  },
  {
   "cell_type": "code",
   "execution_count": 2,
   "id": "a10943d5",
   "metadata": {},
   "outputs": [],
   "source": [
    "# import the data\n",
    "X_train = pd.read_csv(\"../2. Data/homeshopping_classif_X_train.csv\")\n",
    "X_test = pd.read_csv(\"../2. Data/homeshopping_classif_X_test.csv\")"
   ]
  },
  {
   "cell_type": "code",
   "execution_count": 3,
   "id": "e4cf7f7b",
   "metadata": {},
   "outputs": [
    {
     "data": {
      "text/plain": [
       "0    0\n",
       "1    0\n",
       "2    1\n",
       "3    0\n",
       "4    1\n",
       "Name: target, dtype: int64"
      ]
     },
     "execution_count": 3,
     "metadata": {},
     "output_type": "execute_result"
    }
   ],
   "source": [
    "# extracting y_train\n",
    "y_train = X_train.target\n",
    "X_train.drop(['target'], axis=1, inplace=True)\n",
    "y_train.head()"
   ]
  },
  {
   "cell_type": "code",
   "execution_count": 4,
   "id": "76818d34",
   "metadata": {},
   "outputs": [
    {
     "data": {
      "text/plain": [
       "0    1\n",
       "1    0\n",
       "2    0\n",
       "3    0\n",
       "4    0\n",
       "Name: target, dtype: int64"
      ]
     },
     "execution_count": 4,
     "metadata": {},
     "output_type": "execute_result"
    }
   ],
   "source": [
    "# extracting y_test\n",
    "y_test = X_test.target\n",
    "X_test.drop(['target'], axis=1, inplace=True)\n",
    "y_test.head()"
   ]
  },
  {
   "cell_type": "markdown",
   "id": "9885c070",
   "metadata": {},
   "source": [
    "<h1 style=\"color: green;\">Balancing the data with imblearn.over_sampling SMOTE </h1>\n",
    "\n",
    "<P>\n",
    "Binary classification models have a bias towards the majority target attribute.<br> \n",
    "This means that if the target distribution favours target = 0 then the model will learn to predict<br>\n",
    "that attribute better than the target = 1 attribute. This effect is visible in the sensitivity and<br>\n",
    "specificity of such models.\n",
    "</P>\n",
    "<p><b>\n",
    "    Below resampling is performed using Imblearn oversampling with SMOTE.<br>\n",
    "    SMOTE employes a nearest neighbour algorithm to generate/interpolate samples.<br>\n",
    "    This introduces variability around the original data points being sampled such that<br>\n",
    "    the model doesn't overfit the original data points\n",
    "</b></p>"
   ]
  },
  {
   "cell_type": "code",
   "execution_count": 5,
   "id": "cc2a34e8",
   "metadata": {},
   "outputs": [],
   "source": [
    "resamp = SMOTE(random_state=44)\n",
    "X_train_resample, y_train_resample = resamp.fit_resample(X_train,y_train)"
   ]
  },
  {
   "cell_type": "code",
   "execution_count": 6,
   "id": "d1b5ef7c",
   "metadata": {},
   "outputs": [
    {
     "name": "stdout",
     "output_type": "stream",
     "text": [
      "(1018, 73)\n"
     ]
    },
    {
     "data": {
      "text/html": [
       "<div>\n",
       "<style scoped>\n",
       "    .dataframe tbody tr th:only-of-type {\n",
       "        vertical-align: middle;\n",
       "    }\n",
       "\n",
       "    .dataframe tbody tr th {\n",
       "        vertical-align: top;\n",
       "    }\n",
       "\n",
       "    .dataframe thead th {\n",
       "        text-align: right;\n",
       "    }\n",
       "</style>\n",
       "<table border=\"1\" class=\"dataframe\">\n",
       "  <thead>\n",
       "    <tr style=\"text-align: right;\">\n",
       "      <th></th>\n",
       "      <th>Total_Nbr_of_Items</th>\n",
       "      <th>Total_Price</th>\n",
       "      <th>Date_diff</th>\n",
       "      <th>Nbr_items_per_wk</th>\n",
       "      <th>Expenditure_per_wk</th>\n",
       "      <th>Total_Exp_wk_perc</th>\n",
       "      <th>AVG_exp_item_per_wk</th>\n",
       "      <th>hour</th>\n",
       "      <th>Bread_wk</th>\n",
       "      <th>Bread_exp_wk</th>\n",
       "      <th>...</th>\n",
       "      <th>Week_day_name_Friday</th>\n",
       "      <th>Week_day_name_Monday</th>\n",
       "      <th>Week_day_name_Saturday</th>\n",
       "      <th>Week_day_name_Sunday</th>\n",
       "      <th>Week_day_name_Thursday</th>\n",
       "      <th>Week_day_name_Tuesday</th>\n",
       "      <th>Week_day_name_Wednesday</th>\n",
       "      <th>Part_of_day_Afternoon</th>\n",
       "      <th>Part_of_day_Evening</th>\n",
       "      <th>Part_of_day_Morning</th>\n",
       "    </tr>\n",
       "  </thead>\n",
       "  <tbody>\n",
       "    <tr>\n",
       "      <th>0</th>\n",
       "      <td>0.086329</td>\n",
       "      <td>-0.236649</td>\n",
       "      <td>0.487672</td>\n",
       "      <td>-0.295981</td>\n",
       "      <td>-0.294171</td>\n",
       "      <td>-0.410729</td>\n",
       "      <td>-0.211435</td>\n",
       "      <td>-1.324821</td>\n",
       "      <td>2.398472</td>\n",
       "      <td>1.694186</td>\n",
       "      <td>...</td>\n",
       "      <td>-0.39654</td>\n",
       "      <td>-0.449260</td>\n",
       "      <td>-0.483241</td>\n",
       "      <td>-0.326219</td>\n",
       "      <td>-0.393958</td>\n",
       "      <td>2.680951</td>\n",
       "      <td>-0.426978</td>\n",
       "      <td>-0.974374</td>\n",
       "      <td>-0.393958</td>\n",
       "      <td>1.445553</td>\n",
       "    </tr>\n",
       "    <tr>\n",
       "      <th>1</th>\n",
       "      <td>-0.816953</td>\n",
       "      <td>-0.320357</td>\n",
       "      <td>-0.516810</td>\n",
       "      <td>0.983922</td>\n",
       "      <td>0.181543</td>\n",
       "      <td>-0.972653</td>\n",
       "      <td>-0.079624</td>\n",
       "      <td>0.450253</td>\n",
       "      <td>0.566403</td>\n",
       "      <td>-0.473094</td>\n",
       "      <td>...</td>\n",
       "      <td>-0.39654</td>\n",
       "      <td>-0.449260</td>\n",
       "      <td>-0.483241</td>\n",
       "      <td>3.065424</td>\n",
       "      <td>-0.393958</td>\n",
       "      <td>-0.373002</td>\n",
       "      <td>-0.426978</td>\n",
       "      <td>1.026300</td>\n",
       "      <td>-0.393958</td>\n",
       "      <td>-0.691777</td>\n",
       "    </tr>\n",
       "    <tr>\n",
       "      <th>2</th>\n",
       "      <td>1.170267</td>\n",
       "      <td>-0.134987</td>\n",
       "      <td>0.822500</td>\n",
       "      <td>-1.350020</td>\n",
       "      <td>-0.330668</td>\n",
       "      <td>0.465925</td>\n",
       "      <td>-0.161957</td>\n",
       "      <td>-0.310493</td>\n",
       "      <td>-0.349632</td>\n",
       "      <td>0.511028</td>\n",
       "      <td>...</td>\n",
       "      <td>-0.39654</td>\n",
       "      <td>-0.449260</td>\n",
       "      <td>-0.483241</td>\n",
       "      <td>-0.326219</td>\n",
       "      <td>-0.393958</td>\n",
       "      <td>-0.373002</td>\n",
       "      <td>2.342039</td>\n",
       "      <td>1.026300</td>\n",
       "      <td>-0.393958</td>\n",
       "      <td>-0.691777</td>\n",
       "    </tr>\n",
       "    <tr>\n",
       "      <th>3</th>\n",
       "      <td>-0.455640</td>\n",
       "      <td>-0.307790</td>\n",
       "      <td>-0.181982</td>\n",
       "      <td>0.758057</td>\n",
       "      <td>0.582345</td>\n",
       "      <td>-0.974993</td>\n",
       "      <td>0.086687</td>\n",
       "      <td>0.450253</td>\n",
       "      <td>0.566403</td>\n",
       "      <td>-0.473094</td>\n",
       "      <td>...</td>\n",
       "      <td>-0.39654</td>\n",
       "      <td>-0.449260</td>\n",
       "      <td>-0.483241</td>\n",
       "      <td>3.065424</td>\n",
       "      <td>-0.393958</td>\n",
       "      <td>-0.373002</td>\n",
       "      <td>-0.426978</td>\n",
       "      <td>1.026300</td>\n",
       "      <td>-0.393958</td>\n",
       "      <td>-0.691777</td>\n",
       "    </tr>\n",
       "    <tr>\n",
       "      <th>4</th>\n",
       "      <td>-0.274984</td>\n",
       "      <td>-0.184135</td>\n",
       "      <td>-0.516810</td>\n",
       "      <td>0.231038</td>\n",
       "      <td>-0.188122</td>\n",
       "      <td>-0.460624</td>\n",
       "      <td>-0.182369</td>\n",
       "      <td>0.703836</td>\n",
       "      <td>0.566403</td>\n",
       "      <td>-0.473094</td>\n",
       "      <td>...</td>\n",
       "      <td>-0.39654</td>\n",
       "      <td>2.225881</td>\n",
       "      <td>-0.483241</td>\n",
       "      <td>-0.326219</td>\n",
       "      <td>-0.393958</td>\n",
       "      <td>-0.373002</td>\n",
       "      <td>-0.426978</td>\n",
       "      <td>1.026300</td>\n",
       "      <td>-0.393958</td>\n",
       "      <td>-0.691777</td>\n",
       "    </tr>\n",
       "  </tbody>\n",
       "</table>\n",
       "<p>5 rows × 73 columns</p>\n",
       "</div>"
      ],
      "text/plain": [
       "   Total_Nbr_of_Items  Total_Price  Date_diff  Nbr_items_per_wk  \\\n",
       "0            0.086329    -0.236649   0.487672         -0.295981   \n",
       "1           -0.816953    -0.320357  -0.516810          0.983922   \n",
       "2            1.170267    -0.134987   0.822500         -1.350020   \n",
       "3           -0.455640    -0.307790  -0.181982          0.758057   \n",
       "4           -0.274984    -0.184135  -0.516810          0.231038   \n",
       "\n",
       "   Expenditure_per_wk  Total_Exp_wk_perc  AVG_exp_item_per_wk      hour  \\\n",
       "0           -0.294171          -0.410729            -0.211435 -1.324821   \n",
       "1            0.181543          -0.972653            -0.079624  0.450253   \n",
       "2           -0.330668           0.465925            -0.161957 -0.310493   \n",
       "3            0.582345          -0.974993             0.086687  0.450253   \n",
       "4           -0.188122          -0.460624            -0.182369  0.703836   \n",
       "\n",
       "   Bread_wk  Bread_exp_wk  ...  Week_day_name_Friday  Week_day_name_Monday  \\\n",
       "0  2.398472      1.694186  ...              -0.39654             -0.449260   \n",
       "1  0.566403     -0.473094  ...              -0.39654             -0.449260   \n",
       "2 -0.349632      0.511028  ...              -0.39654             -0.449260   \n",
       "3  0.566403     -0.473094  ...              -0.39654             -0.449260   \n",
       "4  0.566403     -0.473094  ...              -0.39654              2.225881   \n",
       "\n",
       "   Week_day_name_Saturday  Week_day_name_Sunday  Week_day_name_Thursday  \\\n",
       "0               -0.483241             -0.326219               -0.393958   \n",
       "1               -0.483241              3.065424               -0.393958   \n",
       "2               -0.483241             -0.326219               -0.393958   \n",
       "3               -0.483241              3.065424               -0.393958   \n",
       "4               -0.483241             -0.326219               -0.393958   \n",
       "\n",
       "   Week_day_name_Tuesday  Week_day_name_Wednesday  Part_of_day_Afternoon  \\\n",
       "0               2.680951                -0.426978              -0.974374   \n",
       "1              -0.373002                -0.426978               1.026300   \n",
       "2              -0.373002                 2.342039               1.026300   \n",
       "3              -0.373002                -0.426978               1.026300   \n",
       "4              -0.373002                -0.426978               1.026300   \n",
       "\n",
       "   Part_of_day_Evening  Part_of_day_Morning  \n",
       "0            -0.393958             1.445553  \n",
       "1            -0.393958            -0.691777  \n",
       "2            -0.393958            -0.691777  \n",
       "3            -0.393958            -0.691777  \n",
       "4            -0.393958            -0.691777  \n",
       "\n",
       "[5 rows x 73 columns]"
      ]
     },
     "execution_count": 6,
     "metadata": {},
     "output_type": "execute_result"
    }
   ],
   "source": [
    "print(X_train_resample.shape)\n",
    "X_train_resample.head()"
   ]
  },
  {
   "cell_type": "code",
   "execution_count": 7,
   "id": "79f63fbd",
   "metadata": {},
   "outputs": [
    {
     "name": "stdout",
     "output_type": "stream",
     "text": [
      "(1018,)\n"
     ]
    },
    {
     "data": {
      "text/plain": [
       "0    509\n",
       "1    509\n",
       "Name: target, dtype: int64"
      ]
     },
     "execution_count": 7,
     "metadata": {},
     "output_type": "execute_result"
    }
   ],
   "source": [
    "print(y_train_resample.shape)\n",
    "y_train_resample.value_counts()"
   ]
  },
  {
   "cell_type": "code",
   "execution_count": 8,
   "id": "4b5cfc11",
   "metadata": {},
   "outputs": [
    {
     "data": {
      "text/plain": [
       "<matplotlib.legend.Legend at 0x7f2e067a4d00>"
      ]
     },
     "execution_count": 8,
     "metadata": {},
     "output_type": "execute_result"
    },
    {
     "data": {
      "image/png": "[encoded data removed]",
      "text/plain": [
       "<Figure size 640x480 with 1 Axes>"
      ]
     },
     "metadata": {},
     "output_type": "display_data"
    }
   ],
   "source": [
    "# figure background\n",
    "fig = plt.figure()\n",
    "fig.patch.set_facecolor('#212121')\n",
    "fig.patch.set_alpha(0.95)\n",
    "\n",
    "ax = fig.add_subplot(111)\n",
    "ax.patch.set_facecolor('#212121')\n",
    "ax.patch.set_alpha(1.0)\n",
    "ax.yaxis.label.set_color('lime')\n",
    "ax.xaxis.label.set_color('lime')\n",
    "ax.title.set_color('lime')\n",
    "ax.tick_params(colors='lime', which='both')\n",
    "\n",
    "ax = y_train.value_counts().plot.pie(autopct='%.2f', colors=['yellow','green'])\n",
    "_ = ax.set_title(\"Actual data split\")\n",
    "plt.legend()"
   ]
  },
  {
   "cell_type": "code",
   "execution_count": 9,
   "id": "43518204",
   "metadata": {},
   "outputs": [
    {
     "data": {
      "text/plain": [
       "<matplotlib.legend.Legend at 0x7f2e007afac0>"
      ]
     },
     "execution_count": 9,
     "metadata": {},
     "output_type": "execute_result"
    },
    {
     "data": {
      "image/png": "[encoded data removed]",
      "text/plain": [
       "<Figure size 640x480 with 1 Axes>"
      ]
     },
     "metadata": {},
     "output_type": "display_data"
    }
   ],
   "source": [
    "# figure background\n",
    "fig = plt.figure()\n",
    "fig.patch.set_facecolor('#212121')\n",
    "fig.patch.set_alpha(0.95)\n",
    "\n",
    "ax = fig.add_subplot(111)\n",
    "ax.patch.set_facecolor('#212121')\n",
    "ax.patch.set_alpha(1.0)\n",
    "ax.yaxis.label.set_color('lime')\n",
    "ax.xaxis.label.set_color('lime')\n",
    "ax.title.set_color('lime')\n",
    "ax.tick_params(colors='lime', which='both')\n",
    "\n",
    "ax = y_train_resample.value_counts().plot.pie(autopct='%.2f', colors=['red','lime'])\n",
    "_ = ax.set_title(\"Synthetic Over-sampling\\nWith SMOTE\")\n",
    "plt.legend()"
   ]
  },
  {
   "cell_type": "markdown",
   "id": "d654ddce",
   "metadata": {},
   "source": [
    "<p>\n",
    "    As can be seen above, there is now an equal amount of target = 1 and target = 0<br>\n",
    "    The dataset is now balanced\n",
    "\n",
    "</p>"
   ]
  },
  {
   "cell_type": "markdown",
   "id": "a3173887",
   "metadata": {},
   "source": [
    "<h1 style=\"color: green;\">Model building with GridSearchCV</h1>"
   ]
  },
  {
   "cell_type": "code",
   "execution_count": 10,
   "id": "74d3054a",
   "metadata": {},
   "outputs": [],
   "source": [
    "keys = ['AdaBoost','Catboost','LightGBM','GradientBoosting','RandomForest','XGBoost']\n",
    "\n",
    "\n",
    "models_list = {\n",
    "    'AdaBoost': adb(),\n",
    "    'Catboost': catb(),\n",
    "    'LightGBM': lgbm(),\n",
    "    'GradientBoosting': gbc(),\n",
    "    'RandomForest': rfc(),\n",
    "    'XGBoost':xgb()\n",
    "}\n",
    "\n",
    "param_list = {\n",
    "    'AdaBoost': {\n",
    "                'n_estimators': [100, 300, 500, 800, 1000],\n",
    "                'learning_rate': [0.01, 0.03, 0.06, 0.08, 0.1, 0.15],\n",
    "                'algorithm': ['SAMME', 'SAMME.R'],\n",
    "                'random_state': [44]\n",
    "    },\n",
    "    \n",
    "    'Catboost': {\n",
    "                'n_estimators': [100, 300, 500, 1000],\n",
    "                'depth': [4, 6, 8],\n",
    "                'learning_rate': [0.01, 0.03, 0.06, 0.08, 0.1, 0.15],\n",
    "                'loss_function': ['Logloss', 'CrossEntropy'],\n",
    "                'verbose': [False],\n",
    "                'random_seed': [44]\n",
    "    },\n",
    "    \n",
    "    'LightGBM':{\n",
    "                'n_estimators': [100, 300, 500, 800, 1000],\n",
    "                'learning_rate': [0.01, 0.03, 0.06, 0.08, 0.1, 0.15],\n",
    "                'max_depth': [4, 6, 8, 10],\n",
    "    },\n",
    "    \n",
    "    'GradientBoosting': {\n",
    "                'learning_rate': [0.01, 0.03, 0.06, 0.08, 0.1, 0.15],\n",
    "                'n_estimators': [100, 300, 500, 800, 1000],\n",
    "                'max_depth': [6, 8, 10],\n",
    "                'random_state': [44]\n",
    "    },\n",
    "    \n",
    "    'RandomForest': {\n",
    "                'n_estimators': [100, 300, 400, 600, 800, 1000, 1300],\n",
    "                'max_depth': [6, 8, 10, 12],\n",
    "                'min_samples_split': [1, 3, 4, 6],\n",
    "                'random_state': [44]\n",
    "    },\n",
    "\n",
    "    'XGBoost':{\n",
    "                'learning_rate': [0.01, 0.03, 0.06, 0.08, 0.1, 0.15],\n",
    "                'n_estimators': [100, 400, 700, 1000],\n",
    "                'min_child_weight':[4,6,8],\n",
    "                'max_depth':[4,6,8],\n",
    "                'gamma':[0, 1],\n",
    "    }\n",
    "}\n"
   ]
  },
  {
   "cell_type": "markdown",
   "id": "54e6b5b1",
   "metadata": {},
   "source": [
    "<h3 style=\"color: green;\">GridSearch with imbalanced data</h3>\n",
    "Note, below cross validation is employed as previously mentioned, the time series component of the<br>\n",
    "data is ignored here. For a full explaination please see \"Feature engineering/Classifier feature engineering.ipynb\"."
   ]
  },
  {
   "cell_type": "code",
   "execution_count": 11,
   "id": "5e761055",
   "metadata": {},
   "outputs": [
    {
     "name": "stdout",
     "output_type": "stream",
     "text": [
      "Fitting 5 folds for each of 60 candidates, totalling 300 fits\n",
      "Fitting 5 folds for each of 144 candidates, totalling 720 fits\n",
      "Fitting 5 folds for each of 120 candidates, totalling 600 fits\n",
      "Fitting 5 folds for each of 90 candidates, totalling 450 fits\n",
      "Fitting 5 folds for each of 112 candidates, totalling 560 fits\n",
      "Fitting 5 folds for each of 432 candidates, totalling 2160 fits\n"
     ]
    }
   ],
   "source": [
    "key_model_params = []\n",
    "for key in keys:\n",
    "    string = []\n",
    "    string.append(key)\n",
    "    string.append(param_list[key])\n",
    "    \n",
    "    start_time =  time.perf_counter()\n",
    "    gs = GridSearchCV(models_list[key],param_grid=param_list[key],cv=5, verbose=True, n_jobs=-1)\n",
    "    gs.fit(X_train,y_train)\n",
    "    end_time = time.perf_counter()\n",
    "    training_duration = end_time - start_time\n",
    "    \n",
    "    string.append(gs.best_params_)\n",
    "    string.append(gs.best_score_)\n",
    "    string.append(gs.score(X_test,y_test))\n",
    "    string.append(training_duration)\n",
    "    \n",
    "    key_model_params.append(string)"
   ]
  },
  {
   "cell_type": "code",
   "execution_count": 12,
   "id": "f7f9a33e",
   "metadata": {},
   "outputs": [
    {
     "data": {
      "text/html": [
       "<div>\n",
       "<style scoped>\n",
       "    .dataframe tbody tr th:only-of-type {\n",
       "        vertical-align: middle;\n",
       "    }\n",
       "\n",
       "    .dataframe tbody tr th {\n",
       "        vertical-align: top;\n",
       "    }\n",
       "\n",
       "    .dataframe thead th {\n",
       "        text-align: right;\n",
       "    }\n",
       "</style>\n",
       "<table border=\"1\" class=\"dataframe\">\n",
       "  <thead>\n",
       "    <tr style=\"text-align: right;\">\n",
       "      <th></th>\n",
       "      <th>Model</th>\n",
       "      <th>Param_list_in</th>\n",
       "      <th>best_params</th>\n",
       "      <th>best_score</th>\n",
       "      <th>score_x_y_test</th>\n",
       "      <th>Training_duration_seconds</th>\n",
       "    </tr>\n",
       "  </thead>\n",
       "  <tbody>\n",
       "    <tr>\n",
       "      <th>2</th>\n",
       "      <td>LightGBM</td>\n",
       "      <td>{'n_estimators': [100, 300, 500, 800, 1000], '...</td>\n",
       "      <td>{'learning_rate': 0.03, 'max_depth': 4, 'n_est...</td>\n",
       "      <td>0.987786</td>\n",
       "      <td>0.996441</td>\n",
       "      <td>21.548759</td>\n",
       "    </tr>\n",
       "    <tr>\n",
       "      <th>0</th>\n",
       "      <td>AdaBoost</td>\n",
       "      <td>{'n_estimators': [100, 300, 500, 800, 1000], '...</td>\n",
       "      <td>{'algorithm': 'SAMME.R', 'learning_rate': 0.15...</td>\n",
       "      <td>0.986260</td>\n",
       "      <td>0.985765</td>\n",
       "      <td>52.761906</td>\n",
       "    </tr>\n",
       "    <tr>\n",
       "      <th>3</th>\n",
       "      <td>GradientBoosting</td>\n",
       "      <td>{'learning_rate': [0.01, 0.03, 0.06, 0.08, 0.1...</td>\n",
       "      <td>{'learning_rate': 0.03, 'max_depth': 6, 'n_est...</td>\n",
       "      <td>0.981679</td>\n",
       "      <td>0.985765</td>\n",
       "      <td>143.798425</td>\n",
       "    </tr>\n",
       "    <tr>\n",
       "      <th>1</th>\n",
       "      <td>Catboost</td>\n",
       "      <td>{'n_estimators': [100, 300, 500, 1000], 'depth...</td>\n",
       "      <td>{'depth': 6, 'learning_rate': 0.08, 'loss_func...</td>\n",
       "      <td>0.981679</td>\n",
       "      <td>0.992883</td>\n",
       "      <td>1257.884081</td>\n",
       "    </tr>\n",
       "    <tr>\n",
       "      <th>5</th>\n",
       "      <td>XGBoost</td>\n",
       "      <td>{'learning_rate': [0.01, 0.03, 0.06, 0.08, 0.1...</td>\n",
       "      <td>{'gamma': 0, 'learning_rate': 0.03, 'max_depth...</td>\n",
       "      <td>0.958779</td>\n",
       "      <td>0.992883</td>\n",
       "      <td>314.583220</td>\n",
       "    </tr>\n",
       "    <tr>\n",
       "      <th>4</th>\n",
       "      <td>RandomForest</td>\n",
       "      <td>{'n_estimators': [100, 300, 400, 600, 800, 100...</td>\n",
       "      <td>{'max_depth': 12, 'min_samples_split': 1, 'n_e...</td>\n",
       "      <td>0.925191</td>\n",
       "      <td>0.911032</td>\n",
       "      <td>112.574353</td>\n",
       "    </tr>\n",
       "  </tbody>\n",
       "</table>\n",
       "</div>"
      ],
      "text/plain": [
       "              Model                                      Param_list_in  \\\n",
       "2          LightGBM  {'n_estimators': [100, 300, 500, 800, 1000], '...   \n",
       "0          AdaBoost  {'n_estimators': [100, 300, 500, 800, 1000], '...   \n",
       "3  GradientBoosting  {'learning_rate': [0.01, 0.03, 0.06, 0.08, 0.1...   \n",
       "1          Catboost  {'n_estimators': [100, 300, 500, 1000], 'depth...   \n",
       "5           XGBoost  {'learning_rate': [0.01, 0.03, 0.06, 0.08, 0.1...   \n",
       "4      RandomForest  {'n_estimators': [100, 300, 400, 600, 800, 100...   \n",
       "\n",
       "                                         best_params  best_score  \\\n",
       "2  {'learning_rate': 0.03, 'max_depth': 4, 'n_est...    0.987786   \n",
       "0  {'algorithm': 'SAMME.R', 'learning_rate': 0.15...    0.986260   \n",
       "3  {'learning_rate': 0.03, 'max_depth': 6, 'n_est...    0.981679   \n",
       "1  {'depth': 6, 'learning_rate': 0.08, 'loss_func...    0.981679   \n",
       "5  {'gamma': 0, 'learning_rate': 0.03, 'max_depth...    0.958779   \n",
       "4  {'max_depth': 12, 'min_samples_split': 1, 'n_e...    0.925191   \n",
       "\n",
       "   score_x_y_test  Training_duration_seconds  \n",
       "2        0.996441                  21.548759  \n",
       "0        0.985765                  52.761906  \n",
       "3        0.985765                 143.798425  \n",
       "1        0.992883                1257.884081  \n",
       "5        0.992883                 314.583220  \n",
       "4        0.911032                 112.574353  "
      ]
     },
     "execution_count": 12,
     "metadata": {},
     "output_type": "execute_result"
    }
   ],
   "source": [
    "# GridSearch with imbalanced data output\n",
    "GridSearchOutput = pd.DataFrame(key_model_params, columns =['Model','Param_list_in','best_params',\n",
    "                                                            'best_score','score_x_y_test',\n",
    "                                                            'Training_duration_seconds'])\n",
    "GridSearchOutput.sort_values(by=['best_score','score_x_y_test'], ascending=False)"
   ]
  },
  {
   "cell_type": "markdown",
   "id": "abc9ad85",
   "metadata": {},
   "source": [
    "<h3 style=\"color: green;\">GridSearch with balanced data</h3>"
   ]
  },
  {
   "cell_type": "code",
   "execution_count": 13,
   "id": "5463f635",
   "metadata": {},
   "outputs": [
    {
     "name": "stdout",
     "output_type": "stream",
     "text": [
      "Fitting 5 folds for each of 60 candidates, totalling 300 fits\n",
      "Fitting 5 folds for each of 144 candidates, totalling 720 fits\n",
      "Fitting 5 folds for each of 120 candidates, totalling 600 fits\n",
      "Fitting 5 folds for each of 90 candidates, totalling 450 fits\n",
      "Fitting 5 folds for each of 112 candidates, totalling 560 fits\n",
      "Fitting 5 folds for each of 432 candidates, totalling 2160 fits\n"
     ]
    }
   ],
   "source": [
    "key_model_params = []\n",
    "for key in keys:\n",
    "    string = []\n",
    "    string.append(key)\n",
    "    string.append(param_list[key])\n",
    "    \n",
    "    start_time =  time.perf_counter()\n",
    "    gs = GridSearchCV(models_list[key],param_grid=param_list[key],cv=5, verbose=True, n_jobs=-1)\n",
    "    gs.fit(X_train_resample,y_train_resample)\n",
    "    end_time = time.perf_counter()\n",
    "    training_duration = end_time - start_time\n",
    "    \n",
    "    string.append(gs.best_params_)\n",
    "    string.append(gs.best_score_)\n",
    "    string.append(gs.score(X_test,y_test))\n",
    "    string.append(training_duration)\n",
    "    \n",
    "    key_model_params.append(string)"
   ]
  },
  {
   "cell_type": "code",
   "execution_count": 14,
   "id": "622544ef",
   "metadata": {},
   "outputs": [
    {
     "data": {
      "text/html": [
       "<div>\n",
       "<style scoped>\n",
       "    .dataframe tbody tr th:only-of-type {\n",
       "        vertical-align: middle;\n",
       "    }\n",
       "\n",
       "    .dataframe tbody tr th {\n",
       "        vertical-align: top;\n",
       "    }\n",
       "\n",
       "    .dataframe thead th {\n",
       "        text-align: right;\n",
       "    }\n",
       "</style>\n",
       "<table border=\"1\" class=\"dataframe\">\n",
       "  <thead>\n",
       "    <tr style=\"text-align: right;\">\n",
       "      <th></th>\n",
       "      <th>Model</th>\n",
       "      <th>Param_list_in</th>\n",
       "      <th>best_params</th>\n",
       "      <th>best_score</th>\n",
       "      <th>score_x_y_test</th>\n",
       "      <th>Training_duration_seconds</th>\n",
       "    </tr>\n",
       "  </thead>\n",
       "  <tbody>\n",
       "    <tr>\n",
       "      <th>1</th>\n",
       "      <td>Catboost</td>\n",
       "      <td>{'n_estimators': [100, 300, 500, 1000], 'depth...</td>\n",
       "      <td>{'depth': 8, 'learning_rate': 0.03, 'loss_func...</td>\n",
       "      <td>0.996069</td>\n",
       "      <td>1.000000</td>\n",
       "      <td>2513.229930</td>\n",
       "    </tr>\n",
       "    <tr>\n",
       "      <th>2</th>\n",
       "      <td>LightGBM</td>\n",
       "      <td>{'n_estimators': [100, 300, 500, 800, 1000], '...</td>\n",
       "      <td>{'learning_rate': 0.08, 'max_depth': 4, 'n_est...</td>\n",
       "      <td>0.991167</td>\n",
       "      <td>1.000000</td>\n",
       "      <td>43.921647</td>\n",
       "    </tr>\n",
       "    <tr>\n",
       "      <th>3</th>\n",
       "      <td>GradientBoosting</td>\n",
       "      <td>{'learning_rate': [0.01, 0.03, 0.06, 0.08, 0.1...</td>\n",
       "      <td>{'learning_rate': 0.1, 'max_depth': 6, 'n_esti...</td>\n",
       "      <td>0.989196</td>\n",
       "      <td>0.971530</td>\n",
       "      <td>265.002701</td>\n",
       "    </tr>\n",
       "    <tr>\n",
       "      <th>0</th>\n",
       "      <td>AdaBoost</td>\n",
       "      <td>{'n_estimators': [100, 300, 500, 800, 1000], '...</td>\n",
       "      <td>{'algorithm': 'SAMME.R', 'learning_rate': 0.15...</td>\n",
       "      <td>0.976446</td>\n",
       "      <td>0.989324</td>\n",
       "      <td>91.176969</td>\n",
       "    </tr>\n",
       "    <tr>\n",
       "      <th>5</th>\n",
       "      <td>XGBoost</td>\n",
       "      <td>{'learning_rate': [0.01, 0.03, 0.06, 0.08, 0.1...</td>\n",
       "      <td>{'gamma': 0, 'learning_rate': 0.1, 'max_depth'...</td>\n",
       "      <td>0.975461</td>\n",
       "      <td>0.992883</td>\n",
       "      <td>521.317004</td>\n",
       "    </tr>\n",
       "    <tr>\n",
       "      <th>4</th>\n",
       "      <td>RandomForest</td>\n",
       "      <td>{'n_estimators': [100, 300, 400, 600, 800, 100...</td>\n",
       "      <td>{'max_depth': 12, 'min_samples_split': 3, 'n_e...</td>\n",
       "      <td>0.974471</td>\n",
       "      <td>0.950178</td>\n",
       "      <td>143.330856</td>\n",
       "    </tr>\n",
       "  </tbody>\n",
       "</table>\n",
       "</div>"
      ],
      "text/plain": [
       "              Model                                      Param_list_in  \\\n",
       "1          Catboost  {'n_estimators': [100, 300, 500, 1000], 'depth...   \n",
       "2          LightGBM  {'n_estimators': [100, 300, 500, 800, 1000], '...   \n",
       "3  GradientBoosting  {'learning_rate': [0.01, 0.03, 0.06, 0.08, 0.1...   \n",
       "0          AdaBoost  {'n_estimators': [100, 300, 500, 800, 1000], '...   \n",
       "5           XGBoost  {'learning_rate': [0.01, 0.03, 0.06, 0.08, 0.1...   \n",
       "4      RandomForest  {'n_estimators': [100, 300, 400, 600, 800, 100...   \n",
       "\n",
       "                                         best_params  best_score  \\\n",
       "1  {'depth': 8, 'learning_rate': 0.03, 'loss_func...    0.996069   \n",
       "2  {'learning_rate': 0.08, 'max_depth': 4, 'n_est...    0.991167   \n",
       "3  {'learning_rate': 0.1, 'max_depth': 6, 'n_esti...    0.989196   \n",
       "0  {'algorithm': 'SAMME.R', 'learning_rate': 0.15...    0.976446   \n",
       "5  {'gamma': 0, 'learning_rate': 0.1, 'max_depth'...    0.975461   \n",
       "4  {'max_depth': 12, 'min_samples_split': 3, 'n_e...    0.974471   \n",
       "\n",
       "   score_x_y_test  Training_duration_seconds  \n",
       "1        1.000000                2513.229930  \n",
       "2        1.000000                  43.921647  \n",
       "3        0.971530                 265.002701  \n",
       "0        0.989324                  91.176969  \n",
       "5        0.992883                 521.317004  \n",
       "4        0.950178                 143.330856  "
      ]
     },
     "execution_count": 14,
     "metadata": {},
     "output_type": "execute_result"
    }
   ],
   "source": [
    "# GridSearch with balanced data output\n",
    "GridSearchOutput_balanced = pd.DataFrame(key_model_params, columns =['Model','Param_list_in','best_params',\n",
    "                                                            'best_score','score_x_y_test',\n",
    "                                                            'Training_duration_seconds'])\n",
    "GridSearchOutput_balanced.sort_values(by=['best_score','score_x_y_test'], ascending=False)"
   ]
  },
  {
   "cell_type": "markdown",
   "id": "223f1ab4",
   "metadata": {},
   "source": [
    "<p>\n",
    "<b>Surprisingly XGBoost</b> is not the best performing model coming out of the gridsearch, <b>Catboost</b> is, followed by <b>LightGBM</b>;<br>\n",
    "when considering test and training accuracy. Both models have perfect test scores. However, the remaining models aren't too<br> dissimilar in test performance.This is a good indicator for using a voting regressor on these high performing models.<br><br>\n",
    "Note, lightGBM was the best model using the imbalanced data with a train accuracy of 0.988 and a test accuracy of 0.996;<br> with the balanced data, lightGBM comes in second place with an improvement in train score of 0.991 and a perfect test score, 1.0 .<br>\n",
    "In general, all models exhibit improved train and test scores when using balanced data.<br>\n",
    "This demonstrates the superiority of modelling with balanced data i.e. the model is able to accurately classify<br>the target attributes with less bias, if any towards the target = 0 class.\n",
    "</p>"
   ]
  },
  {
   "cell_type": "markdown",
   "id": "97476ae2",
   "metadata": {},
   "source": [
    "<h1 style=\"color: green;\">Comparing the best models for balanced and imbalanced data</h1>\n",
    "\n",
    "<p>The GridSearchCV hyperparameter tuning used CV = 5. In comparing the best models, below we use cv=10 i.e more <br>subsampling folds for training the best model. Then a decision can be made as to the best model to proceed with.<br><br>\n",
    "<b>This approach is taken because cross validation with 10 folds is considered a more rigorous representation of the <br>model's performance on unseen data.</b></p>"
   ]
  },
  {
   "cell_type": "markdown",
   "id": "75a708d1",
   "metadata": {},
   "source": [
    "<h3 style=\"color: green;\">Imbalanced data best model</h3>"
   ]
  },
  {
   "cell_type": "markdown",
   "id": "58855bee",
   "metadata": {},
   "source": [
    "<h5 style=\"color: green;\">LightGBM best parameters for imbalanced data</h5>"
   ]
  },
  {
   "cell_type": "code",
   "execution_count": 15,
   "id": "6b1725c8",
   "metadata": {},
   "outputs": [
    {
     "data": {
      "text/plain": [
       "{'learning_rate': 0.03, 'max_depth': 4, 'n_estimators': 1000}"
      ]
     },
     "execution_count": 15,
     "metadata": {},
     "output_type": "execute_result"
    }
   ],
   "source": [
    "# Retrieving the best parameters for LightGBM\n",
    "GridSearchOutput['best_params'][2]"
   ]
  },
  {
   "cell_type": "code",
   "execution_count": 16,
   "id": "7f30c65e",
   "metadata": {},
   "outputs": [
    {
     "data": {
      "text/html": [
       "<style>#sk-container-id-1 {color: black;background-color: white;}#sk-container-id-1 pre{padding: 0;}#sk-container-id-1 div.sk-toggleable {background-color: white;}#sk-container-id-1 label.sk-toggleable__label {cursor: pointer;display: block;width: 100%;margin-bottom: 0;padding: 0.3em;box-sizing: border-box;text-align: center;}#sk-container-id-1 label.sk-toggleable__label-arrow:before {content: \"▸\";float: left;margin-right: 0.25em;color: #696969;}#sk-container-id-1 label.sk-toggleable__label-arrow:hover:before {color: black;}#sk-container-id-1 div.sk-estimator:hover label.sk-toggleable__label-arrow:before {color: black;}#sk-container-id-1 div.sk-toggleable__content {max-height: 0;max-width: 0;overflow: hidden;text-align: left;background-color: #f0f8ff;}#sk-container-id-1 div.sk-toggleable__content pre {margin: 0.2em;color: black;border-radius: 0.25em;background-color: #f0f8ff;}#sk-container-id-1 input.sk-toggleable__control:checked~div.sk-toggleable__content {max-height: 200px;max-width: 100%;overflow: auto;}#sk-container-id-1 input.sk-toggleable__control:checked~label.sk-toggleable__label-arrow:before {content: \"▾\";}#sk-container-id-1 div.sk-estimator input.sk-toggleable__control:checked~label.sk-toggleable__label {background-color: #d4ebff;}#sk-container-id-1 div.sk-label input.sk-toggleable__control:checked~label.sk-toggleable__label {background-color: #d4ebff;}#sk-container-id-1 input.sk-hidden--visually {border: 0;clip: rect(1px 1px 1px 1px);clip: rect(1px, 1px, 1px, 1px);height: 1px;margin: -1px;overflow: hidden;padding: 0;position: absolute;width: 1px;}#sk-container-id-1 div.sk-estimator {font-family: monospace;background-color: #f0f8ff;border: 1px dotted black;border-radius: 0.25em;box-sizing: border-box;margin-bottom: 0.5em;}#sk-container-id-1 div.sk-estimator:hover {background-color: #d4ebff;}#sk-container-id-1 div.sk-parallel-item::after {content: \"\";width: 100%;border-bottom: 1px solid gray;flex-grow: 1;}#sk-container-id-1 div.sk-label:hover label.sk-toggleable__label {background-color: #d4ebff;}#sk-container-id-1 div.sk-serial::before {content: \"\";position: absolute;border-left: 1px solid gray;box-sizing: border-box;top: 0;bottom: 0;left: 50%;z-index: 0;}#sk-container-id-1 div.sk-serial {display: flex;flex-direction: column;align-items: center;background-color: white;padding-right: 0.2em;padding-left: 0.2em;position: relative;}#sk-container-id-1 div.sk-item {position: relative;z-index: 1;}#sk-container-id-1 div.sk-parallel {display: flex;align-items: stretch;justify-content: center;background-color: white;position: relative;}#sk-container-id-1 div.sk-item::before, #sk-container-id-1 div.sk-parallel-item::before {content: \"\";position: absolute;border-left: 1px solid gray;box-sizing: border-box;top: 0;bottom: 0;left: 50%;z-index: -1;}#sk-container-id-1 div.sk-parallel-item {display: flex;flex-direction: column;z-index: 1;position: relative;background-color: white;}#sk-container-id-1 div.sk-parallel-item:first-child::after {align-self: flex-end;width: 50%;}#sk-container-id-1 div.sk-parallel-item:last-child::after {align-self: flex-start;width: 50%;}#sk-container-id-1 div.sk-parallel-item:only-child::after {width: 0;}#sk-container-id-1 div.sk-dashed-wrapped {border: 1px dashed gray;margin: 0 0.4em 0.5em 0.4em;box-sizing: border-box;padding-bottom: 0.4em;background-color: white;}#sk-container-id-1 div.sk-label label {font-family: monospace;font-weight: bold;display: inline-block;line-height: 1.2em;}#sk-container-id-1 div.sk-label-container {text-align: center;}#sk-container-id-1 div.sk-container {/* jupyter's `normalize.less` sets `[hidden] { display: none; }` but bootstrap.min.css set `[hidden] { display: none !important; }` so we also need the `!important` here to be able to override the default hidden behavior on the sphinx rendered scikit-learn.org. See: https://github.com/scikit-learn/scikit-learn/issues/21755 */display: inline-block !important;position: relative;}#sk-container-id-1 div.sk-text-repr-fallback {display: none;}</style><div id=\"sk-container-id-1\" class=\"sk-top-container\"><div class=\"sk-text-repr-fallback\"><pre>LGBMClassifier(learning_rate=0.03, max_depth=4, n_estimators=1000)</pre><b>In a Jupyter environment, please rerun this cell to show the HTML representation or trust the notebook. <br />On GitHub, the HTML representation is unable to render, please try loading this page with nbviewer.org.</b></div><div class=\"sk-container\" hidden><div class=\"sk-item\"><div class=\"sk-estimator sk-toggleable\"><input class=\"sk-toggleable__control sk-hidden--visually\" id=\"sk-estimator-id-1\" type=\"checkbox\" checked><label for=\"sk-estimator-id-1\" class=\"sk-toggleable__label sk-toggleable__label-arrow\">LGBMClassifier</label><div class=\"sk-toggleable__content\"><pre>LGBMClassifier(learning_rate=0.03, max_depth=4, n_estimators=1000)</pre></div></div></div></div></div>"
      ],
      "text/plain": [
       "LGBMClassifier(learning_rate=0.03, max_depth=4, n_estimators=1000)"
      ]
     },
     "execution_count": 16,
     "metadata": {},
     "output_type": "execute_result"
    }
   ],
   "source": [
    "# instantiate the model, lightGBM\n",
    "lgbm_imb = lgbm(\n",
    "    learning_rate = 0.03,\n",
    "    max_depth = 4,\n",
    "    n_estimators = 1000\n",
    ")\n",
    "\n",
    "# fit the model with cross validation\n",
    "lgbm_imb.fit(X_train,y_train)"
   ]
  },
  {
   "cell_type": "markdown",
   "id": "16ede3be",
   "metadata": {},
   "source": [
    "<h5 style=\"color: green;\">lightGBM Model accuracy</h5>"
   ]
  },
  {
   "cell_type": "code",
   "execution_count": 17,
   "id": "97c91880",
   "metadata": {},
   "outputs": [
    {
     "data": {
      "text/plain": [
       "1.0"
      ]
     },
     "execution_count": 17,
     "metadata": {},
     "output_type": "execute_result"
    }
   ],
   "source": [
    "# Checking the train accuracy of the model\n",
    "lgbm_imb.score(X_train,y_train)"
   ]
  },
  {
   "cell_type": "code",
   "execution_count": 18,
   "id": "8e9adb8a",
   "metadata": {},
   "outputs": [
    {
     "data": {
      "text/plain": [
       "0.99644128113879"
      ]
     },
     "execution_count": 18,
     "metadata": {},
     "output_type": "execute_result"
    }
   ],
   "source": [
    "# Checking the test accuracy of the model\n",
    "lgbm_imb.score(X_test,y_test)"
   ]
  },
  {
   "cell_type": "code",
   "execution_count": 19,
   "id": "0cfecbc9",
   "metadata": {},
   "outputs": [
    {
     "data": {
      "text/plain": [
       "0.9908624708624709"
      ]
     },
     "execution_count": 19,
     "metadata": {},
     "output_type": "execute_result"
    }
   ],
   "source": [
    "# Cross validation train score\n",
    "score = cross_val_score(lgbm_imb, X_train, y_train, cv=10)\n",
    "accuracy = score.mean()\n",
    "accuracy"
   ]
  },
  {
   "cell_type": "markdown",
   "id": "8f4cf63b",
   "metadata": {},
   "source": [
    "<h5 style=\"color: green;\">CatBoost best parameters for imbalanced data</h5>"
   ]
  },
  {
   "cell_type": "code",
   "execution_count": 20,
   "id": "762a15fe",
   "metadata": {},
   "outputs": [
    {
     "data": {
      "text/plain": [
       "{'depth': 6,\n",
       " 'learning_rate': 0.08,\n",
       " 'loss_function': 'Logloss',\n",
       " 'n_estimators': 500,\n",
       " 'random_seed': 44,\n",
       " 'verbose': False}"
      ]
     },
     "execution_count": 20,
     "metadata": {},
     "output_type": "execute_result"
    }
   ],
   "source": [
    "# Retrieving the best parameters for 1 Catboost\n",
    "GridSearchOutput['best_params'][1]"
   ]
  },
  {
   "cell_type": "markdown",
   "id": "6d6b3681",
   "metadata": {},
   "source": [
    "<h5 style=\"color: green;\">XGBoost best parameters for imbalanced data</h5>"
   ]
  },
  {
   "cell_type": "code",
   "execution_count": 21,
   "id": "b6ac3a69",
   "metadata": {},
   "outputs": [
    {
     "data": {
      "text/plain": [
       "{'gamma': 0,\n",
       " 'learning_rate': 0.03,\n",
       " 'max_depth': 6,\n",
       " 'min_child_weight': 4,\n",
       " 'n_estimators': 700}"
      ]
     },
     "execution_count": 21,
     "metadata": {},
     "output_type": "execute_result"
    }
   ],
   "source": [
    "# Retrieving the best parameters for 5 xgboost\n",
    "GridSearchOutput['best_params'][5]"
   ]
  },
  {
   "cell_type": "markdown",
   "id": "9ba41179",
   "metadata": {},
   "source": [
    "<h5 style=\"color: green;\">AdaBoost best parameters for imbalanced data</h5>"
   ]
  },
  {
   "cell_type": "code",
   "execution_count": 22,
   "id": "4110a8c7",
   "metadata": {},
   "outputs": [
    {
     "data": {
      "text/plain": [
       "{'algorithm': 'SAMME.R',\n",
       " 'learning_rate': 0.15,\n",
       " 'n_estimators': 1000,\n",
       " 'random_state': 44}"
      ]
     },
     "execution_count": 22,
     "metadata": {},
     "output_type": "execute_result"
    }
   ],
   "source": [
    "# Retrieving the best parameters for 0 Adaboost\n",
    "GridSearchOutput['best_params'][0]"
   ]
  },
  {
   "cell_type": "markdown",
   "id": "bbf0949e",
   "metadata": {},
   "source": [
    "<h5 style=\"color: green;\">GradientBoosting best parameters for imbalanced data</h5>"
   ]
  },
  {
   "cell_type": "code",
   "execution_count": 23,
   "id": "19918b4e",
   "metadata": {},
   "outputs": [
    {
     "data": {
      "text/plain": [
       "{'learning_rate': 0.03,\n",
       " 'max_depth': 6,\n",
       " 'n_estimators': 800,\n",
       " 'random_state': 44}"
      ]
     },
     "execution_count": 23,
     "metadata": {},
     "output_type": "execute_result"
    }
   ],
   "source": [
    "# Retrieving the best parameters for 3 Gradient boost\n",
    "GridSearchOutput['best_params'][3]"
   ]
  },
  {
   "cell_type": "markdown",
   "id": "f7a4a683",
   "metadata": {},
   "source": [
    "<h5 style=\"color: green;\">RandomForest best parameters for imbalanced data</h5>"
   ]
  },
  {
   "cell_type": "code",
   "execution_count": 24,
   "id": "b2cd122a",
   "metadata": {},
   "outputs": [
    {
     "data": {
      "text/plain": [
       "{'max_depth': 12,\n",
       " 'min_samples_split': 1,\n",
       " 'n_estimators': 400,\n",
       " 'random_state': 44}"
      ]
     },
     "execution_count": 24,
     "metadata": {},
     "output_type": "execute_result"
    }
   ],
   "source": [
    "# Retrieving the best parameters for 4 Random forest\n",
    "GridSearchOutput['best_params'][4]"
   ]
  },
  {
   "cell_type": "markdown",
   "id": "268a6410",
   "metadata": {},
   "source": [
    "<h3 style=\"color: green;\">Imbalanced models cross validation cv = 10</h3>"
   ]
  },
  {
   "cell_type": "code",
   "execution_count": 25,
   "id": "470c1505",
   "metadata": {},
   "outputs": [],
   "source": [
    "keys1 = ['AdaBoost','Catboost','LightGBM','GradientBoosting','RandomForest','XGBoost']\n",
    "\n",
    "\n",
    "models_list1 = {\n",
    "    'AdaBoost': adb(\n",
    "            n_estimators = 1000,\n",
    "            learning_rate = 0.15,\n",
    "            algorithm = 'SAMME.R',\n",
    "            random_state = 44        \n",
    "    ),\n",
    "    'Catboost': catb(\n",
    "            depth = 6,\n",
    "            learning_rate = 0.08,\n",
    "            loss_function = 'Logloss',\n",
    "            n_estimators = 500,\n",
    "            random_seed = 44,\n",
    "            verbose = False\n",
    "    ),\n",
    "    \n",
    "    'LightGBM': lgbm(\n",
    "            learning_rate = 0.03,\n",
    "            max_depth = 4,\n",
    "            n_estimators = 1000\n",
    "    ),\n",
    "    \n",
    "    'GradientBoosting': gbc(\n",
    "            n_estimators = 800,\n",
    "            learning_rate = 0.03,\n",
    "            max_depth = 6,\n",
    "            random_state = 44        \n",
    "    ),\n",
    "    \n",
    "    'RandomForest': rfc(\n",
    "            n_estimators = 400,\n",
    "            min_samples_split = 1,\n",
    "            max_depth = 12,\n",
    "            random_state = 44        \n",
    "    ),\n",
    "    'XGBoost':xgb(\n",
    "            n_estimators = 700,\n",
    "            learning_rate = 0.03,\n",
    "            gamma = 0,\n",
    "            max_depth = 6,\n",
    "            min_child_weight = 4\n",
    "    )\n",
    "}\n"
   ]
  },
  {
   "cell_type": "code",
   "execution_count": 26,
   "id": "93f14a97",
   "metadata": {},
   "outputs": [],
   "source": [
    "key_model_params1 = []\n",
    "for key in keys1:\n",
    "    string = []\n",
    "    \n",
    "    gs = models_list1[key]\n",
    "    gs.fit(X_train,y_train)\n",
    "    train_score = gs.score(X_train, y_train)    \n",
    "    test_score = gs.score(X_test, y_test)\n",
    "    score_cv = cross_val_score(gs, X_train, y_train, cv=10)\n",
    "    accuracy_cv = score_cv.mean()\n",
    "    \n",
    "    string.append(key)\n",
    "    string.append(train_score)\n",
    "    string.append(test_score)\n",
    "    string.append(accuracy_cv)\n",
    "    \n",
    "    \n",
    "    key_model_params1.append(string)"
   ]
  },
  {
   "cell_type": "code",
   "execution_count": 27,
   "id": "1423fdb9",
   "metadata": {},
   "outputs": [
    {
     "data": {
      "text/html": [
       "<div>\n",
       "<style scoped>\n",
       "    .dataframe tbody tr th:only-of-type {\n",
       "        vertical-align: middle;\n",
       "    }\n",
       "\n",
       "    .dataframe tbody tr th {\n",
       "        vertical-align: top;\n",
       "    }\n",
       "\n",
       "    .dataframe thead th {\n",
       "        text-align: right;\n",
       "    }\n",
       "</style>\n",
       "<table border=\"1\" class=\"dataframe\">\n",
       "  <thead>\n",
       "    <tr style=\"text-align: right;\">\n",
       "      <th></th>\n",
       "      <th>Model</th>\n",
       "      <th>train_score</th>\n",
       "      <th>test_score</th>\n",
       "      <th>cv_10_score</th>\n",
       "    </tr>\n",
       "  </thead>\n",
       "  <tbody>\n",
       "    <tr>\n",
       "      <th>2</th>\n",
       "      <td>LightGBM</td>\n",
       "      <td>1.0</td>\n",
       "      <td>0.996441</td>\n",
       "      <td>0.990862</td>\n",
       "    </tr>\n",
       "    <tr>\n",
       "      <th>0</th>\n",
       "      <td>AdaBoost</td>\n",
       "      <td>1.0</td>\n",
       "      <td>0.985765</td>\n",
       "      <td>0.990862</td>\n",
       "    </tr>\n",
       "    <tr>\n",
       "      <th>3</th>\n",
       "      <td>GradientBoosting</td>\n",
       "      <td>1.0</td>\n",
       "      <td>0.985765</td>\n",
       "      <td>0.990839</td>\n",
       "    </tr>\n",
       "    <tr>\n",
       "      <th>1</th>\n",
       "      <td>Catboost</td>\n",
       "      <td>1.0</td>\n",
       "      <td>0.992883</td>\n",
       "      <td>0.986294</td>\n",
       "    </tr>\n",
       "    <tr>\n",
       "      <th>5</th>\n",
       "      <td>XGBoost</td>\n",
       "      <td>1.0</td>\n",
       "      <td>0.992883</td>\n",
       "      <td>0.963403</td>\n",
       "    </tr>\n",
       "    <tr>\n",
       "      <th>4</th>\n",
       "      <td>RandomForest</td>\n",
       "      <td>1.0</td>\n",
       "      <td>0.911032</td>\n",
       "      <td>0.925152</td>\n",
       "    </tr>\n",
       "  </tbody>\n",
       "</table>\n",
       "</div>"
      ],
      "text/plain": [
       "              Model  train_score  test_score  cv_10_score\n",
       "2          LightGBM          1.0    0.996441     0.990862\n",
       "0          AdaBoost          1.0    0.985765     0.990862\n",
       "3  GradientBoosting          1.0    0.985765     0.990839\n",
       "1          Catboost          1.0    0.992883     0.986294\n",
       "5           XGBoost          1.0    0.992883     0.963403\n",
       "4      RandomForest          1.0    0.911032     0.925152"
      ]
     },
     "execution_count": 27,
     "metadata": {},
     "output_type": "execute_result"
    }
   ],
   "source": [
    "Cv_10_imbalanced = pd.DataFrame(key_model_params1, \n",
    "                                columns =['Model',\n",
    "                                          'train_score',\n",
    "                                          'test_score',\n",
    "                                          'cv_10_score'])\n",
    "\n",
    "Cv_10_imbalanced.sort_values(by=['cv_10_score',\n",
    "                                  'test_score',\n",
    "                                  'train_score'], \n",
    "                                  ascending=False)"
   ]
  },
  {
   "cell_type": "markdown",
   "id": "c225c035",
   "metadata": {},
   "source": [
    "<h1 style=\"color: green;\">Balanced data best models</h1>"
   ]
  },
  {
   "cell_type": "markdown",
   "id": "20763135",
   "metadata": {},
   "source": [
    "<h5 style=\"color: green;\">CatBoost best parameters for balanced data</h5>"
   ]
  },
  {
   "cell_type": "code",
   "execution_count": 28,
   "id": "5c39d3f9",
   "metadata": {},
   "outputs": [
    {
     "data": {
      "text/plain": [
       "{'depth': 8,\n",
       " 'learning_rate': 0.03,\n",
       " 'loss_function': 'Logloss',\n",
       " 'n_estimators': 500,\n",
       " 'random_seed': 44,\n",
       " 'verbose': False}"
      ]
     },
     "execution_count": 28,
     "metadata": {},
     "output_type": "execute_result"
    }
   ],
   "source": [
    "# Retrieving the best parameters for Catboost\n",
    "GridSearchOutput_balanced['best_params'][1]"
   ]
  },
  {
   "cell_type": "markdown",
   "id": "2676a51c",
   "metadata": {},
   "source": [
    "<h5 style=\"color: green;\">LightGBM best parameters for balanced data</h5>"
   ]
  },
  {
   "cell_type": "code",
   "execution_count": 29,
   "id": "7135b3a7",
   "metadata": {},
   "outputs": [
    {
     "data": {
      "text/plain": [
       "{'learning_rate': 0.08, 'max_depth': 4, 'n_estimators': 500}"
      ]
     },
     "execution_count": 29,
     "metadata": {},
     "output_type": "execute_result"
    }
   ],
   "source": [
    "# Retrieving the best parameters for 2 Lightgbm\n",
    "GridSearchOutput_balanced['best_params'][2]"
   ]
  },
  {
   "cell_type": "markdown",
   "id": "5fb2906e",
   "metadata": {},
   "source": [
    "<h5 style=\"color: green;\">XGBoost best parameters for balanced data</h5>"
   ]
  },
  {
   "cell_type": "code",
   "execution_count": 30,
   "id": "746cb0f5",
   "metadata": {},
   "outputs": [
    {
     "data": {
      "text/plain": [
       "{'gamma': 0,\n",
       " 'learning_rate': 0.1,\n",
       " 'max_depth': 6,\n",
       " 'min_child_weight': 4,\n",
       " 'n_estimators': 100}"
      ]
     },
     "execution_count": 30,
     "metadata": {},
     "output_type": "execute_result"
    }
   ],
   "source": [
    "# Retrieving the best parameters for 5 XGBoost\n",
    "GridSearchOutput_balanced['best_params'][5]"
   ]
  },
  {
   "cell_type": "markdown",
   "id": "5cd12aaa",
   "metadata": {},
   "source": [
    "<h5 style=\"color: green;\">AdaBoost best parameters for balanced data</h5>"
   ]
  },
  {
   "cell_type": "code",
   "execution_count": 31,
   "id": "96b0ac74",
   "metadata": {},
   "outputs": [
    {
     "data": {
      "text/plain": [
       "{'algorithm': 'SAMME.R',\n",
       " 'learning_rate': 0.15,\n",
       " 'n_estimators': 1000,\n",
       " 'random_state': 44}"
      ]
     },
     "execution_count": 31,
     "metadata": {},
     "output_type": "execute_result"
    }
   ],
   "source": [
    "# Retrieving the best parameters for 0 Adaboost\n",
    "GridSearchOutput_balanced['best_params'][0]"
   ]
  },
  {
   "cell_type": "markdown",
   "id": "1522c35b",
   "metadata": {},
   "source": [
    "<h5 style=\"color: green;\">GradientBoosting best parameters for balanced data</h5>"
   ]
  },
  {
   "cell_type": "code",
   "execution_count": 32,
   "id": "de29d7bb",
   "metadata": {},
   "outputs": [
    {
     "data": {
      "text/plain": [
       "{'learning_rate': 0.1, 'max_depth': 6, 'n_estimators': 300, 'random_state': 44}"
      ]
     },
     "execution_count": 32,
     "metadata": {},
     "output_type": "execute_result"
    }
   ],
   "source": [
    "# Retrieving the best parameters for 3 Gradient Boost\n",
    "GridSearchOutput_balanced['best_params'][3]"
   ]
  },
  {
   "cell_type": "markdown",
   "id": "32cb8504",
   "metadata": {},
   "source": [
    "<h5 style=\"color: green;\">RandomForest best parameters for balanced data</h5>\n",
    "Since RandomForest classifier is the worst performing model, it will be used below for demonstrating threshold tuning"
   ]
  },
  {
   "cell_type": "code",
   "execution_count": 33,
   "id": "ca76d7ac",
   "metadata": {},
   "outputs": [
    {
     "data": {
      "text/plain": [
       "{'max_depth': 12,\n",
       " 'min_samples_split': 3,\n",
       " 'n_estimators': 300,\n",
       " 'random_state': 44}"
      ]
     },
     "execution_count": 33,
     "metadata": {},
     "output_type": "execute_result"
    }
   ],
   "source": [
    "# Retrieving the best parameters for 4 Random forest\n",
    "GridSearchOutput_balanced['best_params'][4]"
   ]
  },
  {
   "cell_type": "markdown",
   "id": "43f074d7",
   "metadata": {},
   "source": [
    "<h3 style=\"color: green;\">Balanced data models cross validation cv = 10</h3>"
   ]
  },
  {
   "cell_type": "code",
   "execution_count": 34,
   "id": "75169146",
   "metadata": {},
   "outputs": [],
   "source": [
    "keys1b = ['AdaBoost','Catboost','LightGBM','GradientBoosting',\n",
    "          'RandomForest','XGBoost']\n",
    "\n",
    "\n",
    "models_list1b = {\n",
    "    'AdaBoost': adb(\n",
    "            n_estimators = 1000,\n",
    "            learning_rate = 0.15,\n",
    "            algorithm = 'SAMME.R',\n",
    "            random_state = 44      \n",
    "    ),\n",
    "    'Catboost': catb(\n",
    "            depth = 8,\n",
    "            learning_rate = 0.08,\n",
    "            loss_function = 'Logloss',\n",
    "            n_estimators = 500,\n",
    "            random_seed = 44,\n",
    "            verbose = False\n",
    "    ),\n",
    "    \n",
    "    'LightGBM': lgbm(\n",
    "            n_estimators = 500,\n",
    "            learning_rate = 0.08,\n",
    "            max_depth = 4\n",
    "    ),\n",
    "    \n",
    "    'GradientBoosting': gbc(\n",
    "            n_estimators = 300,\n",
    "            learning_rate = 0.1,\n",
    "            max_depth = 6,\n",
    "            random_state = 44       \n",
    "    ),\n",
    "    \n",
    "    'RandomForest': rfc(\n",
    "            n_estimators = 300,\n",
    "            max_depth = 12,\n",
    "            min_samples_split = 3,\n",
    "            random_state = 44     \n",
    "    ),\n",
    "    'XGBoost':xgb(\n",
    "            n_estimators = 100,\n",
    "            learning_rate = 0.1,\n",
    "            max_depth = 6,\n",
    "            min_child_weight = 4,\n",
    "            gamma = 0\n",
    "    )\n",
    "}"
   ]
  },
  {
   "cell_type": "code",
   "execution_count": 35,
   "id": "cdd67392",
   "metadata": {},
   "outputs": [],
   "source": [
    "key_model_params1b = []\n",
    "for key in keys1b:\n",
    "    string = []\n",
    "    \n",
    "    gs = models_list1b[key]\n",
    "    gs.fit(X_train_resample,y_train_resample)\n",
    "    train_score = gs.score(X_train_resample,y_train_resample)    \n",
    "    test_score = gs.score(X_test, y_test)\n",
    "    score_cv = cross_val_score(gs, X_train_resample,y_train_resample, cv=10)\n",
    "    accuracy_cv = score_cv.mean()\n",
    "    \n",
    "    string.append(key)\n",
    "    string.append(train_score)\n",
    "    string.append(test_score)\n",
    "    string.append(accuracy_cv)    \n",
    "    \n",
    "    key_model_params1b.append(string)"
   ]
  },
  {
   "cell_type": "code",
   "execution_count": 36,
   "id": "28cffdee",
   "metadata": {},
   "outputs": [
    {
     "data": {
      "text/html": [
       "<div>\n",
       "<style scoped>\n",
       "    .dataframe tbody tr th:only-of-type {\n",
       "        vertical-align: middle;\n",
       "    }\n",
       "\n",
       "    .dataframe tbody tr th {\n",
       "        vertical-align: top;\n",
       "    }\n",
       "\n",
       "    .dataframe thead th {\n",
       "        text-align: right;\n",
       "    }\n",
       "</style>\n",
       "<table border=\"1\" class=\"dataframe\">\n",
       "  <thead>\n",
       "    <tr style=\"text-align: right;\">\n",
       "      <th></th>\n",
       "      <th>Model</th>\n",
       "      <th>train_score</th>\n",
       "      <th>test_score</th>\n",
       "      <th>cv_10_score</th>\n",
       "    </tr>\n",
       "  </thead>\n",
       "  <tbody>\n",
       "    <tr>\n",
       "      <th>1</th>\n",
       "      <td>Catboost</td>\n",
       "      <td>1.0</td>\n",
       "      <td>1.000000</td>\n",
       "      <td>0.998039</td>\n",
       "    </tr>\n",
       "    <tr>\n",
       "      <th>2</th>\n",
       "      <td>LightGBM</td>\n",
       "      <td>1.0</td>\n",
       "      <td>1.000000</td>\n",
       "      <td>0.996078</td>\n",
       "    </tr>\n",
       "    <tr>\n",
       "      <th>3</th>\n",
       "      <td>GradientBoosting</td>\n",
       "      <td>1.0</td>\n",
       "      <td>0.971530</td>\n",
       "      <td>0.992147</td>\n",
       "    </tr>\n",
       "    <tr>\n",
       "      <th>0</th>\n",
       "      <td>AdaBoost</td>\n",
       "      <td>1.0</td>\n",
       "      <td>0.989324</td>\n",
       "      <td>0.984304</td>\n",
       "    </tr>\n",
       "    <tr>\n",
       "      <th>5</th>\n",
       "      <td>XGBoost</td>\n",
       "      <td>1.0</td>\n",
       "      <td>0.992883</td>\n",
       "      <td>0.979383</td>\n",
       "    </tr>\n",
       "    <tr>\n",
       "      <th>4</th>\n",
       "      <td>RandomForest</td>\n",
       "      <td>1.0</td>\n",
       "      <td>0.950178</td>\n",
       "      <td>0.978383</td>\n",
       "    </tr>\n",
       "  </tbody>\n",
       "</table>\n",
       "</div>"
      ],
      "text/plain": [
       "              Model  train_score  test_score  cv_10_score\n",
       "1          Catboost          1.0    1.000000     0.998039\n",
       "2          LightGBM          1.0    1.000000     0.996078\n",
       "3  GradientBoosting          1.0    0.971530     0.992147\n",
       "0          AdaBoost          1.0    0.989324     0.984304\n",
       "5           XGBoost          1.0    0.992883     0.979383\n",
       "4      RandomForest          1.0    0.950178     0.978383"
      ]
     },
     "execution_count": 36,
     "metadata": {},
     "output_type": "execute_result"
    }
   ],
   "source": [
    "Cv_10_balanced = pd.DataFrame(key_model_params1b, \n",
    "                                columns =['Model',\n",
    "                                          'train_score',\n",
    "                                          'test_score',\n",
    "                                          'cv_10_score'])\n",
    "\n",
    "Cv_10_balanced.sort_values(by=['cv_10_score',\n",
    "                                'test_score',\n",
    "                                'train_score'], \n",
    "                                ascending=False)"
   ]
  },
  {
   "cell_type": "markdown",
   "id": "9d45284f",
   "metadata": {},
   "source": [
    "<p>\n",
    "<b>Imbalanced data models ranking</b><br>\n",
    "The ranking (cv=5 score) was:\n",
    "<h4 style=\"color: red;\">\n",
    "$\\begin {bmatrix} Model & cv = 5 score \n",
    "\\\\ LightGBM  & 0.988 \n",
    "\\\\ AdaBoost & 0.986\n",
    "\\\\ GradientBoosting  & 0.982\n",
    "\\\\ CatBoost & 0.982\n",
    "\\\\ XGBoost  & 0.959\n",
    "\\\\ RandomForest & 0.925\n",
    "\\end{bmatrix}$\n",
    "</h4>\n",
    "\n",
    "After 10 fold cross-validation it is now (cv=10 score): <br>\n",
    "<h4 style=\"color: green;\">\n",
    "$\\begin {bmatrix} Model & cv = 10 score \n",
    "\\\\ LightGBM  & 0.991 \n",
    "\\\\ AdaBoost & 0.991\n",
    "\\\\ GradientBoost  & 0.991 \n",
    "\\\\ CatBoost & 0.986\n",
    "\\\\ XGBoost  & 0.963 \n",
    "\\\\ RandomForest & 0.925\n",
    "\\end{bmatrix}$\n",
    "</h4>\n",
    "\n",
    "Contrary to expectation all the models except the RandomForest model have improved scores with cv = 10 in <br>\n",
    "comparison to cv = 5 for the imbalanced data\n",
    "</p>\n",
    "\n",
    "<p>\n",
    "<b>Balanced data models ranking</b><br><br>\n",
    "The ranking (cv=5 score):\n",
    "<h4 style=\"color: red;\">\n",
    "$\\begin {bmatrix} Model & cv = 5 score \n",
    "\\\\ CatBoost  & 0.996 \n",
    "\\\\ LightGBM & 0.991\n",
    "\\\\ GradientBoosting  & 0.989 \n",
    "\\\\ AdaBoost & 0.976\n",
    "\\\\ XGBoost  & 0.975 \n",
    "\\\\ RandomForest & 0.974\n",
    "\\end{bmatrix}$\n",
    "</h4>\n",
    "\n",
    "The ranking (cv = 10 score) \t\t\n",
    "<h4 style=\"color: green;\">\n",
    "$\\begin {bmatrix} Model & cv = 10 score \n",
    "\\\\ CatBoost  & 0.998 \n",
    "\\\\ LightGBM & 0.996\n",
    "\\\\ GradientBoosting  & 0.992 \n",
    "\\\\ AdaBoost & 0.984\n",
    "\\\\ XGBoost  & 0.979 \n",
    "\\\\ RandomForest & 0.978\n",
    "\\end{bmatrix}$\n",
    "</h4>\n",
    "\n",
    "The balanced data models all exhibit an improvement in cross validation score irrespective of cv = 5 or cv = 10. <br>This is a clear indication of the superiority of balancing the data.<br><br>\n",
    "We will proceed to model evaluation with CatBoost since CatBoost is the best model by cv = 10 score (balanced data).<br>\n",
    "Given that the RandomForest model is the weakest, it will be used to illustrate the process of threshold tuning<br>in situations where model performance is less than perfect.\n",
    "</p>"
   ]
  },
  {
   "cell_type": "markdown",
   "id": "c4eaff4b",
   "metadata": {},
   "source": [
    "<h3 style=\"color: green;\">Feature importance for Catboost classifier</h3>"
   ]
  },
  {
   "cell_type": "code",
   "execution_count": 38,
   "id": "c699ffb5",
   "metadata": {},
   "outputs": [
    {
     "data": {
      "text/plain": [
       "<catboost.core.CatBoostClassifier at 0x7f2e57f5df60>"
      ]
     },
     "execution_count": 38,
     "metadata": {},
     "output_type": "execute_result"
    }
   ],
   "source": [
    "catb_b= catb(\n",
    "            depth = 8,\n",
    "            learning_rate = 0.08,\n",
    "            loss_function = 'Logloss',\n",
    "            n_estimators = 500,\n",
    "            random_seed = 44,\n",
    "            verbose = False\n",
    "    )\n",
    "\n",
    "catb_b.fit(X_train_resample,y_train_resample)"
   ]
  },
  {
   "cell_type": "code",
   "execution_count": 39,
   "id": "efdf2a60",
   "metadata": {},
   "outputs": [
    {
     "data": {
      "image/png": "[encoded data removed]",
      "text/plain": [
       "<Figure size 640x480 with 1 Axes>"
      ]
     },
     "metadata": {},
     "output_type": "display_data"
    }
   ],
   "source": [
    "catb_clfier_imp = pd.Series(catb_b.feature_importances_, \n",
    "                    index=X_train.columns)\n",
    "\n",
    "# plotting importance\n",
    "# figure background\n",
    "fig = plt.figure()\n",
    "fig.patch.set_facecolor('#212121')\n",
    "fig.patch.set_alpha(0.95)\n",
    "\n",
    "ax = fig.add_subplot(111)\n",
    "ax.patch.set_facecolor('#212121')\n",
    "ax.patch.set_alpha(1.0)\n",
    "ax.yaxis.label.set_color('lime')\n",
    "ax.xaxis.label.set_color('lime')\n",
    "ax.title.set_color('lime')\n",
    "ax.tick_params(colors='lime', which='both')\n",
    "\n",
    "\n",
    "catb_clfier_imp.nlargest(19).sort_values().plot(ax=ax,\n",
    "                                        kind='barh', \n",
    "                                        color='red',\n",
    "                                        title='CatBoost feature importance\\nImpurity based')\n",
    "plt.show()"
   ]
  },
  {
   "cell_type": "markdown",
   "id": "b80ae0cd",
   "metadata": {},
   "source": [
    "<h1 style=\"color: green;\">Evaluating the best model (CatBoost)</h1>\n",
    "\n",
    "<p>\n",
    "Below a comparison is made between CatBoost imbalanced data and CatBoost balanced data model.<br><br>\n",
    "Since the objective is to determine whether I will have less than 5 shopping trips in a week,<br>\n",
    "the aim is to optimize the model for sensitivity i.e. to maximise the correct predictions of<br>\n",
    "less than 5 shopping trips in a week, true positives, while minimizing false negatives,<br>\n",
    "the model incorrectly predicts more than four shopping trips a week.<br><br>\n",
    "The aim is that the comparison will illustrate the advantage of using balanced data over imbalanced data.\n",
    "</p>"
   ]
  },
  {
   "cell_type": "markdown",
   "id": "c5f98a7a",
   "metadata": {},
   "source": [
    "<h3 style=\"color: green;\">Retrieving the models</h3>\n",
    "<p style=\"color:red;\">Model A: imbalanced data CatBoost model</p>"
   ]
  },
  {
   "cell_type": "code",
   "execution_count": 40,
   "id": "1685c9c3",
   "metadata": {},
   "outputs": [
    {
     "data": {
      "text/plain": [
       "<catboost.core.CatBoostClassifier at 0x7f2dfe50f8b0>"
      ]
     },
     "execution_count": 40,
     "metadata": {},
     "output_type": "execute_result"
    }
   ],
   "source": [
    "catb_imb = catb(\n",
    "            depth = 6,\n",
    "            learning_rate = 0.08,\n",
    "            loss_function = 'Logloss',\n",
    "            n_estimators = 500,\n",
    "            random_seed = 44,\n",
    "            verbose = False\n",
    "    )\n",
    "\n",
    "catb_imb.fit(X_train, y_train)"
   ]
  },
  {
   "cell_type": "markdown",
   "id": "d0d35a11",
   "metadata": {},
   "source": [
    "<p style=\"color:red;\">Model B: SMOTE balanced data CatBoost model</p>"
   ]
  },
  {
   "cell_type": "code",
   "execution_count": 41,
   "id": "b9e238b8",
   "metadata": {},
   "outputs": [
    {
     "data": {
      "text/plain": [
       "<catboost.core.CatBoostClassifier at 0x7f2e57f5df60>"
      ]
     },
     "execution_count": 41,
     "metadata": {},
     "output_type": "execute_result"
    }
   ],
   "source": [
    "catb_b"
   ]
  },
  {
   "cell_type": "markdown",
   "id": "9d7a925f",
   "metadata": {},
   "source": [
    "<h3 style=\"color: green;\">Confusion matrix</h3>"
   ]
  },
  {
   "cell_type": "markdown",
   "id": "187a48c0",
   "metadata": {},
   "source": [
    "<h1>\n",
    "$\\begin {bmatrix} Sample size=n & Predicted: 0 & Predicted: 1 \n",
    "\\\\ Actual: 0 & TN & FP \n",
    "\\\\ Actual: 1 & FN & TP  \n",
    "\\end{bmatrix}$\n",
    "</h1>"
   ]
  },
  {
   "cell_type": "markdown",
   "id": "90ffa701",
   "metadata": {},
   "source": [
    "<ul style=\"color: black;\">\n",
    "<b style=\"color: green;\">Basic terminolgy:</b>\n",
    "<li><b>True positive(TP): </b> we correctly predicted that they do have the condition</li>\n",
    "<li><b>True negatives(TN): </b> we correctly predicted that they don't have the condition</li>\n",
    "<li><b>False positive (FP):</b> we incorrectly predicted that they do have the condition ( a <b>\"Type I error\"</b>)</li>\n",
    "<li><b>False negatives (FN):</b> we incorrectly predicted that they don't have the condition (a <b>\"Type II error\"</b>)</li>\n",
    "</ul>"
   ]
  },
  {
   "cell_type": "markdown",
   "id": "67c39f7a",
   "metadata": {},
   "source": [
    "<p style=\"color: red;\">Model A</p>"
   ]
  },
  {
   "cell_type": "code",
   "execution_count": 49,
   "id": "a08ca0fb",
   "metadata": {},
   "outputs": [
    {
     "data": {
      "text/plain": [
       "(281,)"
      ]
     },
     "execution_count": 49,
     "metadata": {},
     "output_type": "execute_result"
    }
   ],
   "source": [
    "mA_y_pred = catb_imb.predict(X_test)\n",
    "mA_y_pred.shape"
   ]
  },
  {
   "cell_type": "code",
   "execution_count": 50,
   "id": "f1724b8d",
   "metadata": {},
   "outputs": [
    {
     "data": {
      "text/plain": [
       "(281,)"
      ]
     },
     "execution_count": 50,
     "metadata": {},
     "output_type": "execute_result"
    }
   ],
   "source": [
    "y_test.shape"
   ]
  },
  {
   "cell_type": "code",
   "execution_count": 51,
   "id": "dbd9e69e",
   "metadata": {},
   "outputs": [
    {
     "data": {
      "text/plain": [
       "array([[208,   0],\n",
       "       [  2,  71]])"
      ]
     },
     "execution_count": 51,
     "metadata": {},
     "output_type": "execute_result"
    }
   ],
   "source": [
    "mA_confusion_matrix = confusion_matrix(y_test,mA_y_pred)\n",
    "mA_confusion_matrix"
   ]
  },
  {
   "cell_type": "markdown",
   "id": "98042526",
   "metadata": {},
   "source": [
    "<h1>\n",
    "$\\begin {bmatrix} n=281 & Predicted: 0 & Predicted: 1 & Totals\n",
    "\\\\ Actual: 0 & 208 & 0 & 208\n",
    "\\\\ Actual: 1 & 2 & 71  & 73\n",
    "\\\\ Totals: & 210 & 71 & 281\n",
    "\\end{bmatrix}$\n",
    "</h1>"
   ]
  },
  {
   "cell_type": "code",
   "execution_count": 45,
   "id": "dc5e60b8",
   "metadata": {},
   "outputs": [],
   "source": [
    "# unraveling the confusion matrix\n",
    "mA_tn,mA_fp,mA_fn,mA_tp = confusion_matrix(y_test,mA_y_pred).ravel()"
   ]
  },
  {
   "cell_type": "markdown",
   "id": "7957229f",
   "metadata": {},
   "source": [
    "<p style=\"color: red;\">Model B</p>"
   ]
  },
  {
   "cell_type": "code",
   "execution_count": 53,
   "id": "225e62f3",
   "metadata": {},
   "outputs": [
    {
     "data": {
      "text/plain": [
       "(281,)"
      ]
     },
     "execution_count": 53,
     "metadata": {},
     "output_type": "execute_result"
    }
   ],
   "source": [
    "mB_y_pred = catb_b.predict(X_test)\n",
    "mB_y_pred.shape"
   ]
  },
  {
   "cell_type": "code",
   "execution_count": 54,
   "id": "2305294f",
   "metadata": {},
   "outputs": [
    {
     "data": {
      "text/plain": [
       "(281,)"
      ]
     },
     "execution_count": 54,
     "metadata": {},
     "output_type": "execute_result"
    }
   ],
   "source": [
    "y_test.shape"
   ]
  },
  {
   "cell_type": "code",
   "execution_count": 55,
   "id": "1704e0ff",
   "metadata": {},
   "outputs": [
    {
     "data": {
      "text/plain": [
       "array([[208,   0],\n",
       "       [  0,  73]])"
      ]
     },
     "execution_count": 55,
     "metadata": {},
     "output_type": "execute_result"
    }
   ],
   "source": [
    "mB_confusion_matrix = confusion_matrix(y_test,mB_y_pred)\n",
    "mB_confusion_matrix"
   ]
  },
  {
   "cell_type": "markdown",
   "id": "2089054e",
   "metadata": {},
   "source": [
    "<h1>\n",
    "$\\begin {bmatrix} n=281 & Predicted: 0 & Predicted: 1 & Totals\n",
    "\\\\ Actual: 0 & 208 & 0 & 208\n",
    "\\\\ Actual: 1 & 0 & 73  & 73\n",
    "\\\\ Totals: & 208 & 73 & 281\n",
    "\\end{bmatrix}$\n",
    "</h1>"
   ]
  },
  {
   "cell_type": "code",
   "execution_count": 62,
   "id": "c0a80b23",
   "metadata": {},
   "outputs": [],
   "source": [
    "# unraveling the confusion matrix\n",
    "mB_tn,mB_fp,mB_fn,mB_tp = confusion_matrix(y_test,mB_y_pred).ravel()"
   ]
  },
  {
   "cell_type": "markdown",
   "id": "975aa743",
   "metadata": {},
   "source": [
    "<p style=\"color: black;\">\n",
    "Model A confusion matrix has 2 false negatives and no false positives while model B has perfect classification; zero false negatives and zero false positives.<br>This emphasizes the superiority of balancing the data i.e. it improves the classification accuracy of the would be minority target group, reduces false negatives.\n",
    "</p>\n",
    "<br>\n",
    "<b>Below we continue with the balanced data CatBoost model and the RandomForest for demonstrating augmenting models when the performance is less than perfect.</b>"
   ]
  },
  {
   "cell_type": "markdown",
   "id": "1dacb4b3",
   "metadata": {},
   "source": [
    "<p style=\"color: red;\">Model C</p>"
   ]
  },
  {
   "cell_type": "code",
   "execution_count": 56,
   "id": "65bdbcbf",
   "metadata": {},
   "outputs": [
    {
     "data": {
      "text/html": [
       "<style>#sk-container-id-2 {color: black;background-color: white;}#sk-container-id-2 pre{padding: 0;}#sk-container-id-2 div.sk-toggleable {background-color: white;}#sk-container-id-2 label.sk-toggleable__label {cursor: pointer;display: block;width: 100%;margin-bottom: 0;padding: 0.3em;box-sizing: border-box;text-align: center;}#sk-container-id-2 label.sk-toggleable__label-arrow:before {content: \"▸\";float: left;margin-right: 0.25em;color: #696969;}#sk-container-id-2 label.sk-toggleable__label-arrow:hover:before {color: black;}#sk-container-id-2 div.sk-estimator:hover label.sk-toggleable__label-arrow:before {color: black;}#sk-container-id-2 div.sk-toggleable__content {max-height: 0;max-width: 0;overflow: hidden;text-align: left;background-color: #f0f8ff;}#sk-container-id-2 div.sk-toggleable__content pre {margin: 0.2em;color: black;border-radius: 0.25em;background-color: #f0f8ff;}#sk-container-id-2 input.sk-toggleable__control:checked~div.sk-toggleable__content {max-height: 200px;max-width: 100%;overflow: auto;}#sk-container-id-2 input.sk-toggleable__control:checked~label.sk-toggleable__label-arrow:before {content: \"▾\";}#sk-container-id-2 div.sk-estimator input.sk-toggleable__control:checked~label.sk-toggleable__label {background-color: #d4ebff;}#sk-container-id-2 div.sk-label input.sk-toggleable__control:checked~label.sk-toggleable__label {background-color: #d4ebff;}#sk-container-id-2 input.sk-hidden--visually {border: 0;clip: rect(1px 1px 1px 1px);clip: rect(1px, 1px, 1px, 1px);height: 1px;margin: -1px;overflow: hidden;padding: 0;position: absolute;width: 1px;}#sk-container-id-2 div.sk-estimator {font-family: monospace;background-color: #f0f8ff;border: 1px dotted black;border-radius: 0.25em;box-sizing: border-box;margin-bottom: 0.5em;}#sk-container-id-2 div.sk-estimator:hover {background-color: #d4ebff;}#sk-container-id-2 div.sk-parallel-item::after {content: \"\";width: 100%;border-bottom: 1px solid gray;flex-grow: 1;}#sk-container-id-2 div.sk-label:hover label.sk-toggleable__label {background-color: #d4ebff;}#sk-container-id-2 div.sk-serial::before {content: \"\";position: absolute;border-left: 1px solid gray;box-sizing: border-box;top: 0;bottom: 0;left: 50%;z-index: 0;}#sk-container-id-2 div.sk-serial {display: flex;flex-direction: column;align-items: center;background-color: white;padding-right: 0.2em;padding-left: 0.2em;position: relative;}#sk-container-id-2 div.sk-item {position: relative;z-index: 1;}#sk-container-id-2 div.sk-parallel {display: flex;align-items: stretch;justify-content: center;background-color: white;position: relative;}#sk-container-id-2 div.sk-item::before, #sk-container-id-2 div.sk-parallel-item::before {content: \"\";position: absolute;border-left: 1px solid gray;box-sizing: border-box;top: 0;bottom: 0;left: 50%;z-index: -1;}#sk-container-id-2 div.sk-parallel-item {display: flex;flex-direction: column;z-index: 1;position: relative;background-color: white;}#sk-container-id-2 div.sk-parallel-item:first-child::after {align-self: flex-end;width: 50%;}#sk-container-id-2 div.sk-parallel-item:last-child::after {align-self: flex-start;width: 50%;}#sk-container-id-2 div.sk-parallel-item:only-child::after {width: 0;}#sk-container-id-2 div.sk-dashed-wrapped {border: 1px dashed gray;margin: 0 0.4em 0.5em 0.4em;box-sizing: border-box;padding-bottom: 0.4em;background-color: white;}#sk-container-id-2 div.sk-label label {font-family: monospace;font-weight: bold;display: inline-block;line-height: 1.2em;}#sk-container-id-2 div.sk-label-container {text-align: center;}#sk-container-id-2 div.sk-container {/* jupyter's `normalize.less` sets `[hidden] { display: none; }` but bootstrap.min.css set `[hidden] { display: none !important; }` so we also need the `!important` here to be able to override the default hidden behavior on the sphinx rendered scikit-learn.org. See: https://github.com/scikit-learn/scikit-learn/issues/21755 */display: inline-block !important;position: relative;}#sk-container-id-2 div.sk-text-repr-fallback {display: none;}</style><div id=\"sk-container-id-2\" class=\"sk-top-container\"><div class=\"sk-text-repr-fallback\"><pre>RandomForestClassifier(max_depth=12, min_samples_split=3, n_estimators=300,\n",
       "                       random_state=44)</pre><b>In a Jupyter environment, please rerun this cell to show the HTML representation or trust the notebook. <br />On GitHub, the HTML representation is unable to render, please try loading this page with nbviewer.org.</b></div><div class=\"sk-container\" hidden><div class=\"sk-item\"><div class=\"sk-estimator sk-toggleable\"><input class=\"sk-toggleable__control sk-hidden--visually\" id=\"sk-estimator-id-2\" type=\"checkbox\" checked><label for=\"sk-estimator-id-2\" class=\"sk-toggleable__label sk-toggleable__label-arrow\">RandomForestClassifier</label><div class=\"sk-toggleable__content\"><pre>RandomForestClassifier(max_depth=12, min_samples_split=3, n_estimators=300,\n",
       "                       random_state=44)</pre></div></div></div></div></div>"
      ],
      "text/plain": [
       "RandomForestClassifier(max_depth=12, min_samples_split=3, n_estimators=300,\n",
       "                       random_state=44)"
      ]
     },
     "execution_count": 56,
     "metadata": {},
     "output_type": "execute_result"
    }
   ],
   "source": [
    "# RandomForest fitted with balanced data\n",
    "rfc_b =  rfc(\n",
    "            n_estimators = 300,\n",
    "            max_depth = 12,\n",
    "            min_samples_split = 3,\n",
    "            random_state = 44     \n",
    "    )\n",
    "\n",
    "rfc_b.fit(X_train_resample,y_train_resample)"
   ]
  },
  {
   "cell_type": "code",
   "execution_count": 57,
   "id": "6ccd581b",
   "metadata": {},
   "outputs": [
    {
     "data": {
      "text/plain": [
       "(281,)"
      ]
     },
     "execution_count": 57,
     "metadata": {},
     "output_type": "execute_result"
    }
   ],
   "source": [
    "mC_y_pred = rfc_b.predict(X_test)\n",
    "mC_y_pred.shape"
   ]
  },
  {
   "cell_type": "code",
   "execution_count": 59,
   "id": "5221deba",
   "metadata": {},
   "outputs": [
    {
     "data": {
      "text/plain": [
       "array([[206,   2],\n",
       "       [ 12,  61]])"
      ]
     },
     "execution_count": 59,
     "metadata": {},
     "output_type": "execute_result"
    }
   ],
   "source": [
    "mC_confusion_matrix = confusion_matrix(y_test,mC_y_pred)\n",
    "mC_confusion_matrix"
   ]
  },
  {
   "cell_type": "markdown",
   "id": "2ebc3694",
   "metadata": {},
   "source": [
    "<h1>\n",
    "$\\begin {bmatrix} n=281 & Predicted: 0 & Predicted: 1 & Totals\n",
    "\\\\ Actual: 0 & 206 & 2 & 208\n",
    "\\\\ Actual: 1 & 12 & 61  & 73\n",
    "\\\\ Totals: & 218 & 63 & 281\n",
    "\\end{bmatrix}$\n",
    "</h1>"
   ]
  },
  {
   "cell_type": "markdown",
   "id": "3c9937f4",
   "metadata": {},
   "source": [
    "<b>The confusion matrix shows relatively more false negatives and false positives in comparison to model B</b>"
   ]
  },
  {
   "cell_type": "code",
   "execution_count": 60,
   "id": "88c54b88",
   "metadata": {},
   "outputs": [],
   "source": [
    "# unraveling the confusion matrix\n",
    "mC_tn,mC_fp,mC_fn,mC_tp = confusion_matrix(y_test,mC_y_pred).ravel()"
   ]
  },
  {
   "cell_type": "markdown",
   "id": "a782fad4",
   "metadata": {},
   "source": [
    "<h3 style=\"color: green;\">Sensitivity(recall): when the actual value is positive,how often is the prediction correct</h3>"
   ]
  },
  {
   "cell_type": "markdown",
   "id": "719e24f3",
   "metadata": {},
   "source": [
    "<p style=\"color: red;\">Model B</p>"
   ]
  },
  {
   "cell_type": "code",
   "execution_count": 66,
   "id": "50e74531",
   "metadata": {},
   "outputs": [
    {
     "name": "stdout",
     "output_type": "stream",
     "text": [
      "Model B sensitivity via recall_score: 1.0\n",
      "Model B manually calculated sensitivity: 1.0\n"
     ]
    }
   ],
   "source": [
    "mB_sensitivity = recall_score(y_test,mB_y_pred)\n",
    "print(\"Model B sensitivity via recall_score: {}\".format(mB_sensitivity))\n",
    "\n",
    "print(\"Model B manually calculated sensitivity: {}\".format(mB_tp /(mB_tp + mB_fn)))"
   ]
  },
  {
   "cell_type": "markdown",
   "id": "cd42205a",
   "metadata": {},
   "source": [
    "<p style=\"color: red;\">Model C</p>"
   ]
  },
  {
   "cell_type": "code",
   "execution_count": 67,
   "id": "47146688",
   "metadata": {},
   "outputs": [
    {
     "name": "stdout",
     "output_type": "stream",
     "text": [
      "Model C sensitivity via recall_score: 0.8356164383561644\n",
      "Model C hand manually calculated sensitivity: 0.8356164383561644\n"
     ]
    }
   ],
   "source": [
    "mC_sensitivity = recall_score(y_test,mC_y_pred)\n",
    "print(\"Model C sensitivity via recall_score: {}\".format(mC_sensitivity))\n",
    "\n",
    "print(\"Model C hand manually calculated sensitivity: {}\".format(mC_tp /(mC_tp + mC_fn)))"
   ]
  },
  {
   "cell_type": "markdown",
   "id": "48255fc1",
   "metadata": {},
   "source": [
    "As can be seen, model C recall/sensitivity is much lower than model B."
   ]
  },
  {
   "cell_type": "markdown",
   "id": "c244c3e2",
   "metadata": {},
   "source": [
    "<h3 style=\"color: green;\">Specificity: When the actual value is negative, how often is the prediction correct</h3>"
   ]
  },
  {
   "cell_type": "markdown",
   "id": "1a264490",
   "metadata": {},
   "source": [
    "<p style=\"color: red;\">Model B</p>"
   ]
  },
  {
   "cell_type": "code",
   "execution_count": 68,
   "id": "8407b66d",
   "metadata": {},
   "outputs": [
    {
     "name": "stdout",
     "output_type": "stream",
     "text": [
      "Model 2 specificity: 1.0\n"
     ]
    }
   ],
   "source": [
    "mB_Specificity = mB_tn/(mB_tn + mB_fp)\n",
    "print(\"Model 2 specificity: {}\".format(mB_Specificity))"
   ]
  },
  {
   "cell_type": "markdown",
   "id": "a7bf81bc",
   "metadata": {},
   "source": [
    "<p style=\"color: red;\">Model C</p>"
   ]
  },
  {
   "cell_type": "code",
   "execution_count": 69,
   "id": "4a94e5fd",
   "metadata": {},
   "outputs": [
    {
     "name": "stdout",
     "output_type": "stream",
     "text": [
      "Model 3 specificity: 0.9903846153846154\n"
     ]
    }
   ],
   "source": [
    "mC_Specificity = mC_tn/(mC_tn + mC_fp)\n",
    "print(\"Model 3 specificity: {}\".format(mC_Specificity))"
   ]
  },
  {
   "cell_type": "markdown",
   "id": "e4c9a902",
   "metadata": {},
   "source": [
    "Yet again model B has superior outcome with a specificity of 1 while model C lags behind with a relatively lower 0.99 .\n",
    "\n",
    "Model B has perfect sensitivity and specificity\n",
    "\n",
    "Model C, however, has higher specificity than sensitivity. This means the model predicts negative<br>\n",
    "instances better than it does positive instances i.e. the model is better at telling when<br>\n",
    "I'm going to have more than 4 shopping trips in a week than when I'm going to have 4 <br>\n",
    "or less shopping trips in a week."
   ]
  },
  {
   "cell_type": "markdown",
   "id": "2110a265",
   "metadata": {},
   "source": [
    "<h3 style=\"color: green;\">Precision: when a positive value is predicted, how often is the prediction correct</h3>"
   ]
  },
  {
   "cell_type": "markdown",
   "id": "13cfe4eb",
   "metadata": {},
   "source": [
    "<p style=\"color: red;\">Model B</p>"
   ]
  },
  {
   "cell_type": "code",
   "execution_count": 71,
   "id": "867bf843",
   "metadata": {},
   "outputs": [
    {
     "name": "stdout",
     "output_type": "stream",
     "text": [
      "Model C precision: 1.0\n"
     ]
    }
   ],
   "source": [
    "mB_precision = mB_tp / (mB_tp + mB_fp)\n",
    "print(\"Model C precision: {}\".format(mB_precision))"
   ]
  },
  {
   "cell_type": "markdown",
   "id": "5ad61db0",
   "metadata": {},
   "source": [
    "<p style=\"color: red;\">Model C</p>"
   ]
  },
  {
   "cell_type": "code",
   "execution_count": 72,
   "id": "cdb42f4d",
   "metadata": {},
   "outputs": [
    {
     "name": "stdout",
     "output_type": "stream",
     "text": [
      "Model C precision: 0.9682539682539683\n"
     ]
    }
   ],
   "source": [
    "mC_precision = mC_tp / (mC_tp + mC_fp)\n",
    "print(\"Model C precision: {}\".format(mC_precision))"
   ]
  },
  {
   "cell_type": "code",
   "execution_count": 73,
   "id": "f7f2c637",
   "metadata": {
    "scrolled": true
   },
   "outputs": [
    {
     "data": {
      "text/plain": [
       "0.032786885245901634"
      ]
     },
     "execution_count": 73,
     "metadata": {},
     "output_type": "execute_result"
    }
   ],
   "source": [
    "# calculating the precision percentage difference between model B and model C\n",
    "(1.0 - 0.9682539682539683)/0.9682539682539683"
   ]
  },
  {
   "cell_type": "markdown",
   "id": "c881b83c",
   "metadata": {},
   "source": [
    "<p style=\"color: black;\">\n",
    "It must be noted that model C has a very high precision: the proportion of the true<br> \n",
    "positive rates is higher than false positive rates for the RandomForest model,<br>\n",
    "Model B has a 3% lead on precision: a reflection on the power of model B in distinguishing between the target attributes. \n",
    "</p>"
   ]
  },
  {
   "cell_type": "markdown",
   "id": "9673788d",
   "metadata": {},
   "source": [
    "<p>\n",
    "Thus final model feature selection and threshold tuning will be done with the best balanced data model, CatBoost.<br>\n",
    "<b>The random forest model will be used to illustrate better the effects of threshold tuning for operational use.</b>\n",
    "</p>"
   ]
  },
  {
   "cell_type": "markdown",
   "id": "c94d2f37",
   "metadata": {},
   "source": [
    "<h1 style=\"color: green;\">Final model feature selection</h1>"
   ]
  },
  {
   "cell_type": "code",
   "execution_count": 75,
   "id": "edc7362b",
   "metadata": {},
   "outputs": [
    {
     "data": {
      "text/plain": [
       "(1018, 73)"
      ]
     },
     "execution_count": 75,
     "metadata": {},
     "output_type": "execute_result"
    }
   ],
   "source": [
    "# shape of X_train_resample before final feature selection\n",
    "X_train_resample.shape"
   ]
  },
  {
   "cell_type": "code",
   "execution_count": 76,
   "id": "2bd766c0",
   "metadata": {},
   "outputs": [],
   "source": [
    "# select features using the importance derived from XGBoost\n",
    "sel_ = SelectFromModel(catb(\n",
    "                    depth = 8,\n",
    "                    learning_rate = 0.08,\n",
    "                    loss_function = 'Logloss',\n",
    "                    n_estimators = 500,\n",
    "                    random_seed = 44,\n",
    "                    verbose = False\n",
    "            ))\n",
    "\n",
    "sel_.fit(X_train_resample, y_train_resample)\n",
    "\n",
    "# remove features with zero coefficient from dataset\n",
    "# and parse again as dataframe (output of sklearn is\n",
    "# numpy array)\n",
    "X_train_catb = pd.DataFrame(sel_.transform(X_train_resample))\n",
    "X_test_catb = pd.DataFrame(sel_.transform(X_test))\n",
    "\n",
    "# add the columns name\n",
    "X_train_catb.columns = X_train_resample.columns[(sel_.get_support())]\n",
    "X_test_catb.columns = X_test.columns[(sel_.get_support())]"
   ]
  },
  {
   "cell_type": "code",
   "execution_count": 77,
   "id": "e9f527e1",
   "metadata": {},
   "outputs": [
    {
     "data": {
      "text/plain": [
       "((1018, 20), (281, 20))"
      ]
     },
     "execution_count": 77,
     "metadata": {},
     "output_type": "execute_result"
    }
   ],
   "source": [
    "X_train_catb.shape,X_test_catb.shape"
   ]
  },
  {
   "cell_type": "code",
   "execution_count": 78,
   "id": "0d376423",
   "metadata": {},
   "outputs": [
    {
     "data": {
      "text/plain": [
       "Index(['Date_diff', 'Nbr_items_per_wk', 'Expenditure_per_wk',\n",
       "       'Total_Exp_wk_perc', 'AVG_exp_item_per_wk', 'Bread_wk',\n",
       "       'Cooked_meats_wk', 'Raw_meats_wk', 'Eating_out_wk', 'Snacks_wk',\n",
       "       'Drinks_wk', 'Vegetables_wk', 'Fruit_wk', 'Cooking_base_wk',\n",
       "       'Dairy_produce_wk', 'Breakfast_wk', 'Transport_wk',\n",
       "       'Tech_and_services_wk', 'Cosmetics_and_selfcare_wk',\n",
       "       'House_and_kitchen_wk'],\n",
       "      dtype='object')"
      ]
     },
     "execution_count": 78,
     "metadata": {},
     "output_type": "execute_result"
    }
   ],
   "source": [
    "# features remaining in the model\n",
    "X_train_catb.columns"
   ]
  },
  {
   "cell_type": "markdown",
   "id": "468a80eb",
   "metadata": {},
   "source": [
    "<h3 style=\"color: green;\">Re-running the model with final features</h3>"
   ]
  },
  {
   "cell_type": "code",
   "execution_count": 79,
   "id": "2f06d28d",
   "metadata": {},
   "outputs": [
    {
     "data": {
      "text/plain": [
       "<catboost.core.CatBoostClassifier at 0x7f2dfe247bb0>"
      ]
     },
     "execution_count": 79,
     "metadata": {},
     "output_type": "execute_result"
    }
   ],
   "source": [
    "# instantiate the model\n",
    "\n",
    "catb_clfier_final_features = catb(\n",
    "                    depth = 8,\n",
    "                    learning_rate = 0.08,\n",
    "                    loss_function = 'Logloss',\n",
    "                    n_estimators = 500,\n",
    "                    random_seed = 44,\n",
    "                    verbose = False\n",
    "                )\n",
    "\n",
    "# Fitting the model\n",
    "catb_clfier_final_features.fit(X_train_catb,y_train_resample)"
   ]
  },
  {
   "cell_type": "code",
   "execution_count": 80,
   "id": "dc18780d",
   "metadata": {},
   "outputs": [
    {
     "data": {
      "text/plain": [
       "0.9990196078431373"
      ]
     },
     "execution_count": 80,
     "metadata": {},
     "output_type": "execute_result"
    }
   ],
   "source": [
    "# Cross validation train score\n",
    "score = cross_val_score(catb_clfier_final_features, X_train_catb,y_train_resample, cv=10)\n",
    "accuracy = score.mean()\n",
    "accuracy"
   ]
  },
  {
   "cell_type": "code",
   "execution_count": 81,
   "id": "8c832c1d",
   "metadata": {},
   "outputs": [
    {
     "data": {
      "text/plain": [
       "0.9980392156862745"
      ]
     },
     "execution_count": 81,
     "metadata": {},
     "output_type": "execute_result"
    }
   ],
   "source": [
    "# Comparison with the previous CatBoost model\n",
    "# Cross validation train accuracy score\n",
    "score = cross_val_score(catb_b, X_train_resample,y_train_resample, cv=10)\n",
    "accuracy = score.mean()\n",
    "accuracy"
   ]
  },
  {
   "cell_type": "code",
   "execution_count": 82,
   "id": "58554953",
   "metadata": {},
   "outputs": [
    {
     "data": {
      "text/plain": [
       "(1018, 73)"
      ]
     },
     "execution_count": 82,
     "metadata": {},
     "output_type": "execute_result"
    }
   ],
   "source": [
    "#  Checking the shape of X_train_resample to indicate the number of \n",
    "# features that went into the balanced data model, 76\n",
    "X_train_resample.shape"
   ]
  },
  {
   "cell_type": "code",
   "execution_count": 83,
   "id": "0e8a5f62",
   "metadata": {},
   "outputs": [
    {
     "data": {
      "text/plain": [
       "0.0009823182711198393"
      ]
     },
     "execution_count": 83,
     "metadata": {},
     "output_type": "execute_result"
    }
   ],
   "source": [
    "# percentage change in accuracy from balanced data model to final feature model\n",
    "(0.9990196078431373-0.9980392156862745)/0.9980392156862745"
   ]
  },
  {
   "cell_type": "markdown",
   "id": "ce10a823",
   "metadata": {},
   "source": [
    "There is hardly any difference in 10 fold cross validation score between the final features model and the best model coming out of GridSearchCV."
   ]
  },
  {
   "cell_type": "code",
   "execution_count": 85,
   "id": "9030c7be",
   "metadata": {},
   "outputs": [
    {
     "data": {
      "text/plain": [
       "1.0"
      ]
     },
     "execution_count": 85,
     "metadata": {},
     "output_type": "execute_result"
    }
   ],
   "source": [
    "# Test accuracy score for final features model\n",
    "catb_clfier_final_features.score(X_test_catb,y_test)"
   ]
  },
  {
   "cell_type": "code",
   "execution_count": 86,
   "id": "eefcd378",
   "metadata": {},
   "outputs": [
    {
     "data": {
      "text/plain": [
       "1.0"
      ]
     },
     "execution_count": 86,
     "metadata": {},
     "output_type": "execute_result"
    }
   ],
   "source": [
    "# Test accuracy score for balanced data catboost model\n",
    "catb_b.score(X_test, y_test)"
   ]
  },
  {
   "cell_type": "markdown",
   "id": "be0eec25",
   "metadata": {},
   "source": [
    "Both the models have perfect test accuracy scores, so no change there."
   ]
  },
  {
   "cell_type": "code",
   "execution_count": 87,
   "id": "959c4a2e",
   "metadata": {},
   "outputs": [
    {
     "data": {
      "text/plain": [
       "0.7368421052631579"
      ]
     },
     "execution_count": 87,
     "metadata": {},
     "output_type": "execute_result"
    }
   ],
   "source": [
    "# percentage change in the number of features\n",
    "(76 - 20)/76"
   ]
  },
  {
   "cell_type": "markdown",
   "id": "95473911",
   "metadata": {},
   "source": [
    "<p>\n",
    "The feature selection has reduced the number of features by 73% with very little change in accuracy;<br> surprisingly there is a slight improvement in cross validated accuracy and no change in test accuracy, 1.0 for both models;<br> while improving the efficiency, parsimony, for deployment.\n",
    "</p>"
   ]
  },
  {
   "cell_type": "markdown",
   "id": "3b1e607e",
   "metadata": {},
   "source": [
    "<h3 style=\"color: green;\">Final model feature selection importance</h3>"
   ]
  },
  {
   "cell_type": "code",
   "execution_count": 88,
   "id": "09001cba",
   "metadata": {},
   "outputs": [
    {
     "data": {
      "image/png": "[encoded data removed]",
      "text/plain": [
       "<Figure size 640x480 with 1 Axes>"
      ]
     },
     "metadata": {},
     "output_type": "display_data"
    }
   ],
   "source": [
    "catb_clfier_final_features_imp = pd.Series(catb_clfier_final_features.feature_importances_, \n",
    "                    index=X_train_catb.columns)\n",
    "\n",
    "# plotting importance\n",
    "fig = plt.figure()\n",
    "fig.patch.set_facecolor('#212121')\n",
    "fig.patch.set_alpha(0.95)\n",
    "\n",
    "ax = fig.add_subplot(111)\n",
    "ax.patch.set_facecolor('#212121')\n",
    "ax.patch.set_alpha(1.0)\n",
    "ax.yaxis.label.set_color('lime')\n",
    "ax.xaxis.label.set_color('lime')\n",
    "ax.title.set_color('lime')\n",
    "ax.tick_params(colors='lime', which='both')\n",
    "\n",
    "\n",
    "catb_clfier_final_features_imp.nlargest(31).sort_values().plot(ax=ax,\n",
    "                                        kind='barh', \n",
    "                                        color='red',\n",
    "                                        title='CatBoost final model feature importance')\n",
    "plt.show()"
   ]
  },
  {
   "cell_type": "markdown",
   "id": "f644d712",
   "metadata": {},
   "source": [
    "<h1 style=\"color: green;\">Extracting X_train, X_test, for Explainable AI with SHAP</h1>"
   ]
  },
  {
   "cell_type": "code",
   "execution_count": 89,
   "id": "a8ed7a10",
   "metadata": {},
   "outputs": [],
   "source": [
    "X_train_ = copy.deepcopy(X_train_catb)\n",
    "X_test_ = copy.deepcopy(X_test_catb)\n",
    "\n",
    "# Export the data\n",
    "X_train_.to_csv(\"../2. Data/Classif_X_train_Shap.csv\",index=False)\n",
    "X_test_.to_csv(\"../2. Data/Classif_X_test_Shap.csv\",index=False)"
   ]
  },
  {
   "cell_type": "markdown",
   "id": "2f9d0f87",
   "metadata": {},
   "source": [
    "<h1 style=\"color: green;\">Extracting X_test_catb,y_test for final model evaluation</h1>"
   ]
  },
  {
   "cell_type": "code",
   "execution_count": 90,
   "id": "9ccc07f5",
   "metadata": {},
   "outputs": [],
   "source": [
    "X_test_catb_ = copy.deepcopy(X_test_catb)\n",
    "X_test_catb_['target'] = y_test\n",
    "\n",
    "X_test_catb_.to_csv(\"../2. Data/Classif_X_test_catb.csv\",index=False)"
   ]
  },
  {
   "cell_type": "markdown",
   "id": "7c122fbb",
   "metadata": {},
   "source": [
    "<h1 style=\"color: green;\">Extracting X_test, y_test for Random forest evaluation</h1>"
   ]
  },
  {
   "cell_type": "code",
   "execution_count": 91,
   "id": "ce525888",
   "metadata": {},
   "outputs": [],
   "source": [
    "X_test_rfc = copy.deepcopy(X_test)\n",
    "X_test_rfc['target'] = y_test\n",
    "\n",
    "X_test_rfc.to_csv(\"../2. Data/Classif_X_test_rfc.csv\",index=False)"
   ]
  },
  {
   "cell_type": "markdown",
   "id": "9c90eb57",
   "metadata": {},
   "source": [
    "<h1 style=\"color: green;\">Saving the best model and the Random forest model for evaluation</h1>"
   ]
  },
  {
   "cell_type": "code",
   "execution_count": 92,
   "id": "ec952516",
   "metadata": {},
   "outputs": [
    {
     "data": {
      "text/plain": [
       "['../8. Models/Classifier_models/random_forest_classifier14082023']"
      ]
     },
     "execution_count": 92,
     "metadata": {},
     "output_type": "execute_result"
    }
   ],
   "source": [
    "joblib.dump(catb_clfier_final_features,'../8. Models/Classifier_models/catboost_classifier14082023')\n",
    "\n",
    "joblib.dump(rfc_b,'../8. Models/Classifier_models/random_forest_classifier14082023')"
   ]
  },
  {
   "cell_type": "markdown",
   "id": "6703d2be",
   "metadata": {},
   "source": [
    "<h1 style=\"color: green;\">Conclusion</h1>\n",
    "The superiority of balancing the data for modelling has been sufficiently demonstrated. \n",
    "This, coupled with highly predictive features and a powerful algorithm hyperparameter tuning \n",
    "will result in a very powerful highly accurate model."
   ]
  },
  {
   "cell_type": "code",
   "execution_count": null,
   "id": "edd8884a",
   "metadata": {},
   "outputs": [],
   "source": []
  }
 ],
 "metadata": {
  "kernelspec": {
   "display_name": "Python 3 (ipykernel)",
   "language": "python",
   "name": "python3"
  },
  "language_info": {
   "codemirror_mode": {
    "name": "ipython",
    "version": 3
   },
   "file_extension": ".py",
   "mimetype": "text/x-python",
   "name": "python",
   "nbconvert_exporter": "python",
   "pygments_lexer": "ipython3",
   "version": "3.10.12"
  }
 },
 "nbformat": 4,
 "nbformat_minor": 5
}
