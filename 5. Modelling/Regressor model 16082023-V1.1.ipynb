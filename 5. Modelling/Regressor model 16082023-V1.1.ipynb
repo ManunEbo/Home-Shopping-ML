{
 "cells": [
  {
   "cell_type": "markdown",
   "id": "9682f523",
   "metadata": {},
   "source": [
    "<h1 style=\"color: green;\">Regression modelling Home Shopping Expenditure per week</h1>\n",
    "<p>\n",
    "The following tasks are accomplished in this section:\n",
    "<ul>\n",
    "<li>Hyperparameter tuning with GridSearchCV</li>\n",
    "<li>Retrieving the best parameters for the top 4 models from GridSearchCV</li>\n",
    "<li>Comparing VotingRegressor with the best model using cross validation</li>\n",
    "<li>Working with the best model</li>\n",
    "<li>Feature importance of the best model</li>\n",
    "<li>Exporting the best model for evaluation</li>\n",
    "</ul>\n",
    "\n",
    "</p>"
   ]
  },
  {
   "cell_type": "markdown",
   "id": "9ab8c60e",
   "metadata": {},
   "source": [
    "<h1 style=\"color: green;\">Import libraries</h1>"
   ]
  },
  {
   "cell_type": "code",
   "execution_count": 1,
   "id": "6d646b23",
   "metadata": {},
   "outputs": [],
   "source": [
    "import pandas as pd\n",
    "import numpy as np\n",
    "import matplotlib\n",
    "import matplotlib.pyplot as plt\n",
    "import seaborn as sb\n",
    "\n",
    "from sklearn.ensemble import RandomForestRegressor as rf_r\n",
    "from sklearn.ensemble import GradientBoostingRegressor as gb_r\n",
    "from sklearn.ensemble import AdaBoostRegressor as adb_r\n",
    "from xgboost import XGBRegressor as xgb_r\n",
    "from catboost import CatBoostRegressor as catb_r\n",
    "from lightgbm import LGBMRegressor as lgbm_r\n",
    "\n",
    "from sklearn.ensemble import VotingRegressor as vot_r\n",
    "\n",
    "\n",
    "from sklearn.preprocessing import StandardScaler\n",
    "\n",
    "from sklearn.model_selection import GridSearchCV\n",
    "from sklearn.model_selection import cross_val_score\n",
    "\n",
    "from sklearn.metrics import make_scorer\n",
    "from sklearn.metrics import mean_squared_error\n",
    "from sklearn.metrics import explained_variance_score\n",
    "from sklearn.metrics import r2_score\n",
    "\n",
    "\n",
    "# Feature selection\n",
    "from sklearn.feature_selection import SelectFromModel\n",
    "\n",
    "\n",
    "import joblib\n",
    "\n",
    "import warnings\n",
    "warnings.filterwarnings('ignore')"
   ]
  },
  {
   "cell_type": "markdown",
   "id": "c0ecf5a2",
   "metadata": {},
   "source": [
    "<h1 style=\"color: green;\">Load the data</h1>"
   ]
  },
  {
   "cell_type": "code",
   "execution_count": 2,
   "id": "7350f65a",
   "metadata": {},
   "outputs": [],
   "source": [
    "X_train = pd.read_csv(\"../2. Data/homeshopping_Regressor_X_train.csv\")\n",
    "X_test = pd.read_csv(\"../2. Data/homeshopping_Regressor_X_test.csv\")"
   ]
  },
  {
   "cell_type": "code",
   "execution_count": 3,
   "id": "115f3116",
   "metadata": {
    "scrolled": true
   },
   "outputs": [
    {
     "data": {
      "text/html": [
       "<div>\n",
       "<style scoped>\n",
       "    .dataframe tbody tr th:only-of-type {\n",
       "        vertical-align: middle;\n",
       "    }\n",
       "\n",
       "    .dataframe tbody tr th {\n",
       "        vertical-align: top;\n",
       "    }\n",
       "\n",
       "    .dataframe thead th {\n",
       "        text-align: right;\n",
       "    }\n",
       "</style>\n",
       "<table border=\"1\" class=\"dataframe\">\n",
       "  <thead>\n",
       "    <tr style=\"text-align: right;\">\n",
       "      <th></th>\n",
       "      <th>Total_Nbr_of_Items</th>\n",
       "      <th>Total_Price</th>\n",
       "      <th>Date_diff</th>\n",
       "      <th>Nbr_trips_per_wk</th>\n",
       "      <th>Nbr_items_per_wk</th>\n",
       "      <th>Total_Exp_wk_perc</th>\n",
       "      <th>hour</th>\n",
       "      <th>Drinks</th>\n",
       "      <th>Bread_wk</th>\n",
       "      <th>Bread_exp_wk</th>\n",
       "      <th>...</th>\n",
       "      <th>Week_day_name_Monday</th>\n",
       "      <th>Week_day_name_Saturday</th>\n",
       "      <th>Week_day_name_Sunday</th>\n",
       "      <th>Week_day_name_Thursday</th>\n",
       "      <th>Week_day_name_Tuesday</th>\n",
       "      <th>Week_day_name_Wednesday</th>\n",
       "      <th>Part_of_day_Afternoon</th>\n",
       "      <th>Part_of_day_Evening</th>\n",
       "      <th>Part_of_day_Morning</th>\n",
       "      <th>target</th>\n",
       "    </tr>\n",
       "  </thead>\n",
       "  <tbody>\n",
       "    <tr>\n",
       "      <th>0</th>\n",
       "      <td>-0.839123</td>\n",
       "      <td>-0.116272</td>\n",
       "      <td>-0.516401</td>\n",
       "      <td>-0.786982</td>\n",
       "      <td>-2.325070</td>\n",
       "      <td>0.958724</td>\n",
       "      <td>-0.281813</td>\n",
       "      <td>-0.540089</td>\n",
       "      <td>-1.338859</td>\n",
       "      <td>-0.489901</td>\n",
       "      <td>...</td>\n",
       "      <td>-0.456258</td>\n",
       "      <td>-0.484347</td>\n",
       "      <td>-0.299122</td>\n",
       "      <td>2.461060</td>\n",
       "      <td>-0.387298</td>\n",
       "      <td>-0.419686</td>\n",
       "      <td>1.031079</td>\n",
       "      <td>-0.373429</td>\n",
       "      <td>-0.709670</td>\n",
       "      <td>-0.360978</td>\n",
       "    </tr>\n",
       "    <tr>\n",
       "      <th>1</th>\n",
       "      <td>1.789132</td>\n",
       "      <td>0.101658</td>\n",
       "      <td>0.463288</td>\n",
       "      <td>-0.504160</td>\n",
       "      <td>-0.999776</td>\n",
       "      <td>1.714483</td>\n",
       "      <td>-0.534346</td>\n",
       "      <td>0.589188</td>\n",
       "      <td>-0.415046</td>\n",
       "      <td>0.897160</td>\n",
       "      <td>...</td>\n",
       "      <td>-0.456258</td>\n",
       "      <td>2.064634</td>\n",
       "      <td>-0.299122</td>\n",
       "      <td>-0.406329</td>\n",
       "      <td>-0.387298</td>\n",
       "      <td>-0.419686</td>\n",
       "      <td>-0.969858</td>\n",
       "      <td>-0.373429</td>\n",
       "      <td>1.409105</td>\n",
       "      <td>-0.316871</td>\n",
       "    </tr>\n",
       "    <tr>\n",
       "      <th>2</th>\n",
       "      <td>-0.138255</td>\n",
       "      <td>-0.131116</td>\n",
       "      <td>-0.516401</td>\n",
       "      <td>-1.352626</td>\n",
       "      <td>-1.467527</td>\n",
       "      <td>1.564838</td>\n",
       "      <td>0.728321</td>\n",
       "      <td>-0.540089</td>\n",
       "      <td>-0.415046</td>\n",
       "      <td>-0.489901</td>\n",
       "      <td>...</td>\n",
       "      <td>-0.456258</td>\n",
       "      <td>-0.484347</td>\n",
       "      <td>-0.299122</td>\n",
       "      <td>-0.406329</td>\n",
       "      <td>-0.387298</td>\n",
       "      <td>2.382734</td>\n",
       "      <td>1.031079</td>\n",
       "      <td>-0.373429</td>\n",
       "      <td>-0.709670</td>\n",
       "      <td>-0.392313</td>\n",
       "    </tr>\n",
       "    <tr>\n",
       "      <th>3</th>\n",
       "      <td>1.088264</td>\n",
       "      <td>-0.164677</td>\n",
       "      <td>0.789851</td>\n",
       "      <td>-0.504160</td>\n",
       "      <td>-0.999776</td>\n",
       "      <td>1.297044</td>\n",
       "      <td>1.485921</td>\n",
       "      <td>0.589188</td>\n",
       "      <td>-0.415046</td>\n",
       "      <td>-0.120018</td>\n",
       "      <td>...</td>\n",
       "      <td>-0.456258</td>\n",
       "      <td>-0.484347</td>\n",
       "      <td>-0.299122</td>\n",
       "      <td>2.461060</td>\n",
       "      <td>-0.387298</td>\n",
       "      <td>-0.419686</td>\n",
       "      <td>-0.969858</td>\n",
       "      <td>2.677882</td>\n",
       "      <td>-0.709670</td>\n",
       "      <td>-0.396774</td>\n",
       "    </tr>\n",
       "    <tr>\n",
       "      <th>4</th>\n",
       "      <td>-0.839123</td>\n",
       "      <td>-0.131116</td>\n",
       "      <td>-0.516401</td>\n",
       "      <td>-0.221339</td>\n",
       "      <td>0.247559</td>\n",
       "      <td>0.049752</td>\n",
       "      <td>-1.291946</td>\n",
       "      <td>-0.540089</td>\n",
       "      <td>0.508766</td>\n",
       "      <td>-0.489901</td>\n",
       "      <td>...</td>\n",
       "      <td>-0.456258</td>\n",
       "      <td>-0.484347</td>\n",
       "      <td>-0.299122</td>\n",
       "      <td>-0.406329</td>\n",
       "      <td>2.581989</td>\n",
       "      <td>-0.419686</td>\n",
       "      <td>-0.969858</td>\n",
       "      <td>-0.373429</td>\n",
       "      <td>1.409105</td>\n",
       "      <td>-0.278559</td>\n",
       "    </tr>\n",
       "  </tbody>\n",
       "</table>\n",
       "<p>5 rows × 76 columns</p>\n",
       "</div>"
      ],
      "text/plain": [
       "   Total_Nbr_of_Items  Total_Price  Date_diff  Nbr_trips_per_wk  \\\n",
       "0           -0.839123    -0.116272  -0.516401         -0.786982   \n",
       "1            1.789132     0.101658   0.463288         -0.504160   \n",
       "2           -0.138255    -0.131116  -0.516401         -1.352626   \n",
       "3            1.088264    -0.164677   0.789851         -0.504160   \n",
       "4           -0.839123    -0.131116  -0.516401         -0.221339   \n",
       "\n",
       "   Nbr_items_per_wk  Total_Exp_wk_perc      hour    Drinks  Bread_wk  \\\n",
       "0         -2.325070           0.958724 -0.281813 -0.540089 -1.338859   \n",
       "1         -0.999776           1.714483 -0.534346  0.589188 -0.415046   \n",
       "2         -1.467527           1.564838  0.728321 -0.540089 -0.415046   \n",
       "3         -0.999776           1.297044  1.485921  0.589188 -0.415046   \n",
       "4          0.247559           0.049752 -1.291946 -0.540089  0.508766   \n",
       "\n",
       "   Bread_exp_wk  ...  Week_day_name_Monday  Week_day_name_Saturday  \\\n",
       "0     -0.489901  ...             -0.456258               -0.484347   \n",
       "1      0.897160  ...             -0.456258                2.064634   \n",
       "2     -0.489901  ...             -0.456258               -0.484347   \n",
       "3     -0.120018  ...             -0.456258               -0.484347   \n",
       "4     -0.489901  ...             -0.456258               -0.484347   \n",
       "\n",
       "   Week_day_name_Sunday  Week_day_name_Thursday  Week_day_name_Tuesday  \\\n",
       "0             -0.299122                2.461060              -0.387298   \n",
       "1             -0.299122               -0.406329              -0.387298   \n",
       "2             -0.299122               -0.406329              -0.387298   \n",
       "3             -0.299122                2.461060              -0.387298   \n",
       "4             -0.299122               -0.406329               2.581989   \n",
       "\n",
       "   Week_day_name_Wednesday  Part_of_day_Afternoon  Part_of_day_Evening  \\\n",
       "0                -0.419686               1.031079            -0.373429   \n",
       "1                -0.419686              -0.969858            -0.373429   \n",
       "2                 2.382734               1.031079            -0.373429   \n",
       "3                -0.419686              -0.969858             2.677882   \n",
       "4                -0.419686              -0.969858            -0.373429   \n",
       "\n",
       "   Part_of_day_Morning    target  \n",
       "0            -0.709670 -0.360978  \n",
       "1             1.409105 -0.316871  \n",
       "2            -0.709670 -0.392313  \n",
       "3            -0.709670 -0.396774  \n",
       "4             1.409105 -0.278559  \n",
       "\n",
       "[5 rows x 76 columns]"
      ]
     },
     "execution_count": 3,
     "metadata": {},
     "output_type": "execute_result"
    }
   ],
   "source": [
    "X_train.head()"
   ]
  },
  {
   "cell_type": "code",
   "execution_count": 4,
   "id": "01c99595",
   "metadata": {},
   "outputs": [],
   "source": [
    "# Extract y_train and y_test from X_train and X_test\n",
    "y_train = X_train.target.values\n",
    "y_test = X_test.target.values\n",
    "\n",
    "# drop y_train and y_test from X_train and X_test\n",
    "X_train.drop(['target'], axis=1, inplace=True)\n",
    "X_test.drop(['target'], axis=1, inplace=True)"
   ]
  },
  {
   "cell_type": "code",
   "execution_count": 5,
   "id": "c492d8ad",
   "metadata": {},
   "outputs": [
    {
     "data": {
      "text/html": [
       "<div>\n",
       "<style scoped>\n",
       "    .dataframe tbody tr th:only-of-type {\n",
       "        vertical-align: middle;\n",
       "    }\n",
       "\n",
       "    .dataframe tbody tr th {\n",
       "        vertical-align: top;\n",
       "    }\n",
       "\n",
       "    .dataframe thead th {\n",
       "        text-align: right;\n",
       "    }\n",
       "</style>\n",
       "<table border=\"1\" class=\"dataframe\">\n",
       "  <thead>\n",
       "    <tr style=\"text-align: right;\">\n",
       "      <th></th>\n",
       "      <th>Total_Nbr_of_Items</th>\n",
       "      <th>Total_Price</th>\n",
       "      <th>Date_diff</th>\n",
       "      <th>Nbr_trips_per_wk</th>\n",
       "      <th>Nbr_items_per_wk</th>\n",
       "      <th>Total_Exp_wk_perc</th>\n",
       "      <th>hour</th>\n",
       "      <th>Drinks</th>\n",
       "      <th>Bread_wk</th>\n",
       "      <th>Bread_exp_wk</th>\n",
       "      <th>...</th>\n",
       "      <th>Week_day_name_Friday</th>\n",
       "      <th>Week_day_name_Monday</th>\n",
       "      <th>Week_day_name_Saturday</th>\n",
       "      <th>Week_day_name_Sunday</th>\n",
       "      <th>Week_day_name_Thursday</th>\n",
       "      <th>Week_day_name_Tuesday</th>\n",
       "      <th>Week_day_name_Wednesday</th>\n",
       "      <th>Part_of_day_Afternoon</th>\n",
       "      <th>Part_of_day_Evening</th>\n",
       "      <th>Part_of_day_Morning</th>\n",
       "    </tr>\n",
       "  </thead>\n",
       "  <tbody>\n",
       "    <tr>\n",
       "      <th>0</th>\n",
       "      <td>-0.839123</td>\n",
       "      <td>-0.116272</td>\n",
       "      <td>-0.516401</td>\n",
       "      <td>-0.786982</td>\n",
       "      <td>-2.325070</td>\n",
       "      <td>0.958724</td>\n",
       "      <td>-0.281813</td>\n",
       "      <td>-0.540089</td>\n",
       "      <td>-1.338859</td>\n",
       "      <td>-0.489901</td>\n",
       "      <td>...</td>\n",
       "      <td>-0.392779</td>\n",
       "      <td>-0.456258</td>\n",
       "      <td>-0.484347</td>\n",
       "      <td>-0.299122</td>\n",
       "      <td>2.461060</td>\n",
       "      <td>-0.387298</td>\n",
       "      <td>-0.419686</td>\n",
       "      <td>1.031079</td>\n",
       "      <td>-0.373429</td>\n",
       "      <td>-0.709670</td>\n",
       "    </tr>\n",
       "    <tr>\n",
       "      <th>1</th>\n",
       "      <td>1.789132</td>\n",
       "      <td>0.101658</td>\n",
       "      <td>0.463288</td>\n",
       "      <td>-0.504160</td>\n",
       "      <td>-0.999776</td>\n",
       "      <td>1.714483</td>\n",
       "      <td>-0.534346</td>\n",
       "      <td>0.589188</td>\n",
       "      <td>-0.415046</td>\n",
       "      <td>0.897160</td>\n",
       "      <td>...</td>\n",
       "      <td>-0.392779</td>\n",
       "      <td>-0.456258</td>\n",
       "      <td>2.064634</td>\n",
       "      <td>-0.299122</td>\n",
       "      <td>-0.406329</td>\n",
       "      <td>-0.387298</td>\n",
       "      <td>-0.419686</td>\n",
       "      <td>-0.969858</td>\n",
       "      <td>-0.373429</td>\n",
       "      <td>1.409105</td>\n",
       "    </tr>\n",
       "    <tr>\n",
       "      <th>2</th>\n",
       "      <td>-0.138255</td>\n",
       "      <td>-0.131116</td>\n",
       "      <td>-0.516401</td>\n",
       "      <td>-1.352626</td>\n",
       "      <td>-1.467527</td>\n",
       "      <td>1.564838</td>\n",
       "      <td>0.728321</td>\n",
       "      <td>-0.540089</td>\n",
       "      <td>-0.415046</td>\n",
       "      <td>-0.489901</td>\n",
       "      <td>...</td>\n",
       "      <td>-0.392779</td>\n",
       "      <td>-0.456258</td>\n",
       "      <td>-0.484347</td>\n",
       "      <td>-0.299122</td>\n",
       "      <td>-0.406329</td>\n",
       "      <td>-0.387298</td>\n",
       "      <td>2.382734</td>\n",
       "      <td>1.031079</td>\n",
       "      <td>-0.373429</td>\n",
       "      <td>-0.709670</td>\n",
       "    </tr>\n",
       "    <tr>\n",
       "      <th>3</th>\n",
       "      <td>1.088264</td>\n",
       "      <td>-0.164677</td>\n",
       "      <td>0.789851</td>\n",
       "      <td>-0.504160</td>\n",
       "      <td>-0.999776</td>\n",
       "      <td>1.297044</td>\n",
       "      <td>1.485921</td>\n",
       "      <td>0.589188</td>\n",
       "      <td>-0.415046</td>\n",
       "      <td>-0.120018</td>\n",
       "      <td>...</td>\n",
       "      <td>-0.392779</td>\n",
       "      <td>-0.456258</td>\n",
       "      <td>-0.484347</td>\n",
       "      <td>-0.299122</td>\n",
       "      <td>2.461060</td>\n",
       "      <td>-0.387298</td>\n",
       "      <td>-0.419686</td>\n",
       "      <td>-0.969858</td>\n",
       "      <td>2.677882</td>\n",
       "      <td>-0.709670</td>\n",
       "    </tr>\n",
       "    <tr>\n",
       "      <th>4</th>\n",
       "      <td>-0.839123</td>\n",
       "      <td>-0.131116</td>\n",
       "      <td>-0.516401</td>\n",
       "      <td>-0.221339</td>\n",
       "      <td>0.247559</td>\n",
       "      <td>0.049752</td>\n",
       "      <td>-1.291946</td>\n",
       "      <td>-0.540089</td>\n",
       "      <td>0.508766</td>\n",
       "      <td>-0.489901</td>\n",
       "      <td>...</td>\n",
       "      <td>-0.392779</td>\n",
       "      <td>-0.456258</td>\n",
       "      <td>-0.484347</td>\n",
       "      <td>-0.299122</td>\n",
       "      <td>-0.406329</td>\n",
       "      <td>2.581989</td>\n",
       "      <td>-0.419686</td>\n",
       "      <td>-0.969858</td>\n",
       "      <td>-0.373429</td>\n",
       "      <td>1.409105</td>\n",
       "    </tr>\n",
       "  </tbody>\n",
       "</table>\n",
       "<p>5 rows × 75 columns</p>\n",
       "</div>"
      ],
      "text/plain": [
       "   Total_Nbr_of_Items  Total_Price  Date_diff  Nbr_trips_per_wk  \\\n",
       "0           -0.839123    -0.116272  -0.516401         -0.786982   \n",
       "1            1.789132     0.101658   0.463288         -0.504160   \n",
       "2           -0.138255    -0.131116  -0.516401         -1.352626   \n",
       "3            1.088264    -0.164677   0.789851         -0.504160   \n",
       "4           -0.839123    -0.131116  -0.516401         -0.221339   \n",
       "\n",
       "   Nbr_items_per_wk  Total_Exp_wk_perc      hour    Drinks  Bread_wk  \\\n",
       "0         -2.325070           0.958724 -0.281813 -0.540089 -1.338859   \n",
       "1         -0.999776           1.714483 -0.534346  0.589188 -0.415046   \n",
       "2         -1.467527           1.564838  0.728321 -0.540089 -0.415046   \n",
       "3         -0.999776           1.297044  1.485921  0.589188 -0.415046   \n",
       "4          0.247559           0.049752 -1.291946 -0.540089  0.508766   \n",
       "\n",
       "   Bread_exp_wk  ...  Week_day_name_Friday  Week_day_name_Monday  \\\n",
       "0     -0.489901  ...             -0.392779             -0.456258   \n",
       "1      0.897160  ...             -0.392779             -0.456258   \n",
       "2     -0.489901  ...             -0.392779             -0.456258   \n",
       "3     -0.120018  ...             -0.392779             -0.456258   \n",
       "4     -0.489901  ...             -0.392779             -0.456258   \n",
       "\n",
       "   Week_day_name_Saturday  Week_day_name_Sunday  Week_day_name_Thursday  \\\n",
       "0               -0.484347             -0.299122                2.461060   \n",
       "1                2.064634             -0.299122               -0.406329   \n",
       "2               -0.484347             -0.299122               -0.406329   \n",
       "3               -0.484347             -0.299122                2.461060   \n",
       "4               -0.484347             -0.299122               -0.406329   \n",
       "\n",
       "   Week_day_name_Tuesday  Week_day_name_Wednesday  Part_of_day_Afternoon  \\\n",
       "0              -0.387298                -0.419686               1.031079   \n",
       "1              -0.387298                -0.419686              -0.969858   \n",
       "2              -0.387298                 2.382734               1.031079   \n",
       "3              -0.387298                -0.419686              -0.969858   \n",
       "4               2.581989                -0.419686              -0.969858   \n",
       "\n",
       "   Part_of_day_Evening  Part_of_day_Morning  \n",
       "0            -0.373429            -0.709670  \n",
       "1            -0.373429             1.409105  \n",
       "2            -0.373429            -0.709670  \n",
       "3             2.677882            -0.709670  \n",
       "4            -0.373429             1.409105  \n",
       "\n",
       "[5 rows x 75 columns]"
      ]
     },
     "execution_count": 5,
     "metadata": {},
     "output_type": "execute_result"
    }
   ],
   "source": [
    "X_train.head()"
   ]
  },
  {
   "cell_type": "markdown",
   "id": "1e237c14",
   "metadata": {},
   "source": [
    "<h1 style=\"color: green;\">Hyperparameter tuning with GridSearchCV</h1>"
   ]
  },
  {
   "cell_type": "code",
   "execution_count": 6,
   "id": "00c4ea34",
   "metadata": {},
   "outputs": [],
   "source": [
    "keys = ['AdaBoost','Catboost','LightGBM','GradientBoosting','RandomForest','XGBoost']\n",
    "\n",
    "models_list = {\n",
    "    'AdaBoost': adb_r(),\n",
    "    'Catboost': catb_r(),\n",
    "    'LightGBM': lgbm_r(),\n",
    "    'GradientBoosting': gb_r(),\n",
    "    'RandomForest': rf_r(),\n",
    "    'XGBoost':xgb_r()\n",
    "}\n",
    "\n",
    "param_list = {\n",
    "    'AdaBoost': {\n",
    "                'n_estimators': [100, 300, 500, 800, 1000, 1500, 5000, 10000],\n",
    "                'learning_rate': [0.01, 0.03, 0.06, 0.08, 0.1, 0.15],\n",
    "                'loss': ['linear','square'],\n",
    "                'random_state': [44]\n",
    "    },\n",
    "    \n",
    "    'Catboost': {\n",
    "                'n_estimators': [100, 300, 500, 800, 1000, 1500, 5000, 10000],                \n",
    "                'learning_rate': [0.01, 0.03, 0.06, 0.08, 0.1, 0.15],\n",
    "                'depth': [4, 6, 8],\n",
    "                'verbose': [False],\n",
    "                'random_seed': [44]\n",
    "    },\n",
    "    \n",
    "    'LightGBM':{\n",
    "                'n_estimators': [100, 300, 500, 800, 1000, 1500, 5000, 10000],\n",
    "                'learning_rate': [0.01, 0.03, 0.06, 0.08, 0.1, 0.15],\n",
    "                'max_depth': [4, 6, 8, 10],\n",
    "    },\n",
    "    \n",
    "    'GradientBoosting': {                \n",
    "                'n_estimators': [100, 300, 500, 800, 1000, 1500, 5000, 10000],\n",
    "                'learning_rate': [0.01, 0.03, 0.06, 0.08, 0.1, 0.15],\n",
    "                'max_depth': [6, 8, 10],\n",
    "                'loss': ['squared_error','huber'],\n",
    "                'random_state': [44]\n",
    "    },\n",
    "    \n",
    "    'RandomForest': {\n",
    "                'n_estimators': [100, 300, 500, 800, 1000, 1500, 5000, 10000],\n",
    "                'max_depth': [6, 8, 10, 12],\n",
    "                'min_samples_split': [1, 3, 4, 6],\n",
    "                'random_state': [44]\n",
    "    },\n",
    "\n",
    "    'XGBoost':{                \n",
    "                'n_estimators': [100, 300, 500, 800, 1000, 1500, 5000, 10000],\n",
    "                'learning_rate': [0.01, 0.03, 0.06, 0.08, 0.1, 0.15],\n",
    "                'min_child_weight':[4,6,8],\n",
    "                'max_depth':[4,6,8],\n",
    "                'gamma':[0, 1],\n",
    "                'random_state':[4]\n",
    "    }\n",
    "}\n"
   ]
  },
  {
   "cell_type": "code",
   "execution_count": 7,
   "id": "269f08c0",
   "metadata": {},
   "outputs": [],
   "source": [
    "def gridSearch_run(keys, param_list, models_list, X_train, y_train, X_test, y_test):\n",
    "    \n",
    "    # Scoring metric\n",
    "    # defining the scoring parameter to be passed into GridSearchCV\n",
    "    # 'neg_mean_squared_error', metrics.mean_squared_error is used here\n",
    "    # make_scorer and set greater_is_better to false to make sure \n",
    "    # GridSearchCV optimizes the hyperparameters correctly\n",
    "    scoring_metrics = make_scorer(mean_squared_error, greater_is_better=False)\n",
    "\n",
    "    # Alternative\n",
    "    # scoring_metrics = \"neg_mean_squared_error\"\n",
    "\n",
    "    key_model_params = []\n",
    "    for key in keys:\n",
    "        string = []\n",
    "        string.append(key)\n",
    "        string.append(param_list[key])\n",
    "\n",
    "        gs = GridSearchCV(models_list[key],\n",
    "                          param_grid=param_list[key],\n",
    "                          cv=5, \n",
    "                          verbose=True, \n",
    "                          n_jobs=-1,\n",
    "                          scoring=scoring_metrics\n",
    "                         )\n",
    "\n",
    "        #gs.fit(X_train,y_train)\n",
    "        gs.fit(X_train, np.ravel(y_train))\n",
    "\n",
    "        y_train_pred = gs.predict(X_train)\n",
    "        y_test_pred = gs.predict(X_test)\n",
    "\n",
    "        string.append(gs.best_params_)\n",
    "        string.append(-gs.best_score_)\n",
    "        string.append(np.sqrt(-gs.best_score_))\n",
    "\n",
    "        string.append(explained_variance_score(y_train,y_train_pred))\n",
    "        string.append(r2_score(y_train,y_train_pred))\n",
    "\n",
    "        string.append(-gs.score(X_test,y_test))\n",
    "        string.append(np.sqrt(-gs.score(X_test,y_test)))\n",
    "\n",
    "        string.append(explained_variance_score(y_test,y_test_pred))\n",
    "        string.append(r2_score(y_test,y_test_pred))\n",
    "        key_model_params.append(string)\n",
    "\n",
    "\n",
    "    return key_model_params\n",
    "    \n",
    "    \n",
    "    "
   ]
  },
  {
   "cell_type": "code",
   "execution_count": 8,
   "id": "90a227e0",
   "metadata": {
    "scrolled": false
   },
   "outputs": [
    {
     "name": "stdout",
     "output_type": "stream",
     "text": [
      "Fitting 5 folds for each of 96 candidates, totalling 480 fits\n",
      "Fitting 5 folds for each of 144 candidates, totalling 720 fits\n",
      "Fitting 5 folds for each of 192 candidates, totalling 960 fits\n",
      "Fitting 5 folds for each of 288 candidates, totalling 1440 fits\n",
      "Fitting 5 folds for each of 128 candidates, totalling 640 fits\n",
      "Fitting 5 folds for each of 864 candidates, totalling 4320 fits\n"
     ]
    }
   ],
   "source": [
    "gridSearch_Output = gridSearch_run(keys, param_list, models_list, X_train, y_train, X_test,y_test)\n"
   ]
  },
  {
   "cell_type": "code",
   "execution_count": 9,
   "id": "496467e4",
   "metadata": {},
   "outputs": [
    {
     "data": {
      "text/html": [
       "<div>\n",
       "<style scoped>\n",
       "    .dataframe tbody tr th:only-of-type {\n",
       "        vertical-align: middle;\n",
       "    }\n",
       "\n",
       "    .dataframe tbody tr th {\n",
       "        vertical-align: top;\n",
       "    }\n",
       "\n",
       "    .dataframe thead th {\n",
       "        text-align: right;\n",
       "    }\n",
       "</style>\n",
       "<table border=\"1\" class=\"dataframe\">\n",
       "  <thead>\n",
       "    <tr style=\"text-align: right;\">\n",
       "      <th></th>\n",
       "      <th>Model</th>\n",
       "      <th>Param_list_in</th>\n",
       "      <th>best_params</th>\n",
       "      <th>train_mse</th>\n",
       "      <th>train_rmse</th>\n",
       "      <th>Explained_var_train</th>\n",
       "      <th>R_squared_train</th>\n",
       "      <th>test_mse</th>\n",
       "      <th>test_rmse</th>\n",
       "      <th>Explained_var_test</th>\n",
       "      <th>R_squared_test</th>\n",
       "    </tr>\n",
       "  </thead>\n",
       "  <tbody>\n",
       "    <tr>\n",
       "      <th>3</th>\n",
       "      <td>GradientBoosting</td>\n",
       "      <td>{'learning_rate': [0.01, 0.03, 0.06, 0.08, 0.1...</td>\n",
       "      <td>{'learning_rate': 0.01, 'loss': 'huber', 'max_...</td>\n",
       "      <td>0.023447</td>\n",
       "      <td>0.153125</td>\n",
       "      <td>1.000000</td>\n",
       "      <td>1.000000</td>\n",
       "      <td>0.006690</td>\n",
       "      <td>0.081789</td>\n",
       "      <td>0.994488</td>\n",
       "      <td>0.994470</td>\n",
       "    </tr>\n",
       "    <tr>\n",
       "      <th>0</th>\n",
       "      <td>AdaBoost</td>\n",
       "      <td>{'n_estimators': [100, 300, 500, 800, 1000, 15...</td>\n",
       "      <td>{'learning_rate': 0.06, 'loss': 'square', 'n_e...</td>\n",
       "      <td>0.061189</td>\n",
       "      <td>0.247364</td>\n",
       "      <td>0.956667</td>\n",
       "      <td>0.952792</td>\n",
       "      <td>0.043978</td>\n",
       "      <td>0.209710</td>\n",
       "      <td>0.969103</td>\n",
       "      <td>0.963643</td>\n",
       "    </tr>\n",
       "    <tr>\n",
       "      <th>1</th>\n",
       "      <td>Catboost</td>\n",
       "      <td>{'n_estimators': [100, 300, 500, 800, 1000, 15...</td>\n",
       "      <td>{'depth': 4, 'learning_rate': 0.01, 'n_estimat...</td>\n",
       "      <td>0.051884</td>\n",
       "      <td>0.227781</td>\n",
       "      <td>0.999982</td>\n",
       "      <td>0.999982</td>\n",
       "      <td>0.126625</td>\n",
       "      <td>0.355844</td>\n",
       "      <td>0.895997</td>\n",
       "      <td>0.895320</td>\n",
       "    </tr>\n",
       "    <tr>\n",
       "      <th>5</th>\n",
       "      <td>XGBoost</td>\n",
       "      <td>{'learning_rate': [0.01, 0.03, 0.06, 0.08, 0.1...</td>\n",
       "      <td>{'gamma': 0, 'learning_rate': 0.08, 'max_depth...</td>\n",
       "      <td>0.097767</td>\n",
       "      <td>0.312676</td>\n",
       "      <td>0.999995</td>\n",
       "      <td>0.999995</td>\n",
       "      <td>0.147380</td>\n",
       "      <td>0.383900</td>\n",
       "      <td>0.879192</td>\n",
       "      <td>0.878162</td>\n",
       "    </tr>\n",
       "    <tr>\n",
       "      <th>4</th>\n",
       "      <td>RandomForest</td>\n",
       "      <td>{'n_estimators': [100, 300, 500, 800, 1000, 15...</td>\n",
       "      <td>{'max_depth': 12, 'min_samples_split': 1, 'n_e...</td>\n",
       "      <td>0.263557</td>\n",
       "      <td>0.513378</td>\n",
       "      <td>0.969120</td>\n",
       "      <td>0.969096</td>\n",
       "      <td>0.244450</td>\n",
       "      <td>0.494419</td>\n",
       "      <td>0.798429</td>\n",
       "      <td>0.797915</td>\n",
       "    </tr>\n",
       "    <tr>\n",
       "      <th>2</th>\n",
       "      <td>LightGBM</td>\n",
       "      <td>{'n_estimators': [100, 300, 500, 800, 1000, 15...</td>\n",
       "      <td>{'learning_rate': 0.15, 'max_depth': 6, 'n_est...</td>\n",
       "      <td>0.106664</td>\n",
       "      <td>0.326595</td>\n",
       "      <td>1.000000</td>\n",
       "      <td>1.000000</td>\n",
       "      <td>0.361284</td>\n",
       "      <td>0.601069</td>\n",
       "      <td>0.701396</td>\n",
       "      <td>0.701330</td>\n",
       "    </tr>\n",
       "  </tbody>\n",
       "</table>\n",
       "</div>"
      ],
      "text/plain": [
       "              Model                                      Param_list_in  \\\n",
       "3  GradientBoosting  {'learning_rate': [0.01, 0.03, 0.06, 0.08, 0.1...   \n",
       "0          AdaBoost  {'n_estimators': [100, 300, 500, 800, 1000, 15...   \n",
       "1          Catboost  {'n_estimators': [100, 300, 500, 800, 1000, 15...   \n",
       "5           XGBoost  {'learning_rate': [0.01, 0.03, 0.06, 0.08, 0.1...   \n",
       "4      RandomForest  {'n_estimators': [100, 300, 500, 800, 1000, 15...   \n",
       "2          LightGBM  {'n_estimators': [100, 300, 500, 800, 1000, 15...   \n",
       "\n",
       "                                         best_params  train_mse  train_rmse  \\\n",
       "3  {'learning_rate': 0.01, 'loss': 'huber', 'max_...   0.023447    0.153125   \n",
       "0  {'learning_rate': 0.06, 'loss': 'square', 'n_e...   0.061189    0.247364   \n",
       "1  {'depth': 4, 'learning_rate': 0.01, 'n_estimat...   0.051884    0.227781   \n",
       "5  {'gamma': 0, 'learning_rate': 0.08, 'max_depth...   0.097767    0.312676   \n",
       "4  {'max_depth': 12, 'min_samples_split': 1, 'n_e...   0.263557    0.513378   \n",
       "2  {'learning_rate': 0.15, 'max_depth': 6, 'n_est...   0.106664    0.326595   \n",
       "\n",
       "   Explained_var_train  R_squared_train  test_mse  test_rmse  \\\n",
       "3             1.000000         1.000000  0.006690   0.081789   \n",
       "0             0.956667         0.952792  0.043978   0.209710   \n",
       "1             0.999982         0.999982  0.126625   0.355844   \n",
       "5             0.999995         0.999995  0.147380   0.383900   \n",
       "4             0.969120         0.969096  0.244450   0.494419   \n",
       "2             1.000000         1.000000  0.361284   0.601069   \n",
       "\n",
       "   Explained_var_test  R_squared_test  \n",
       "3            0.994488        0.994470  \n",
       "0            0.969103        0.963643  \n",
       "1            0.895997        0.895320  \n",
       "5            0.879192        0.878162  \n",
       "4            0.798429        0.797915  \n",
       "2            0.701396        0.701330  "
      ]
     },
     "execution_count": 9,
     "metadata": {},
     "output_type": "execute_result"
    }
   ],
   "source": [
    "model_output = pd.DataFrame(gridSearch_Output, columns =['Model',\n",
    "                                                            'Param_list_in',\n",
    "                                                            'best_params',\n",
    "                                                            'train_mse',\n",
    "                                                            'train_rmse',\n",
    "                                                            'Explained_var_train',\n",
    "                                                            'R_squared_train',\n",
    "                                                            'test_mse',\n",
    "                                                            'test_rmse',\n",
    "                                                            'Explained_var_test',\n",
    "                                                            'R_squared_test'])\n",
    "model_output.sort_values(by='test_mse', ascending=True)\n"
   ]
  },
  {
   "cell_type": "markdown",
   "id": "c87f4935",
   "metadata": {},
   "source": [
    "<P>\n",
    "On the basis of test rmse the top 4 models are \n",
    "<ol>\n",
    "    <li>GradientBoosting</li>\n",
    "    <li>AdaBoost</li>\n",
    "    <li>CatBoost</li>\n",
    "    <li>XGBoost</li>\n",
    "</ol>    \n",
    "<b>Surprisingly, XGBoost is not the best performing model.</b><br><br>\n",
    "Below the best params for the top 4 models judging by test rmse will be used to compare the best model with an<br> ensemble voting regressor before a final decision is made as to which model we will go ahead with.<br>\n",
    "</P>"
   ]
  },
  {
   "cell_type": "markdown",
   "id": "29fda846",
   "metadata": {},
   "source": [
    "<h3 style=\"color: green;\">Retrieving the best parameters for the top 4 models</h3>"
   ]
  },
  {
   "cell_type": "code",
   "execution_count": 10,
   "id": "bb938c1e",
   "metadata": {},
   "outputs": [
    {
     "data": {
      "text/plain": [
       "[{'learning_rate': 0.01,\n",
       "  'loss': 'huber',\n",
       "  'max_depth': 8,\n",
       "  'n_estimators': 5000,\n",
       "  'random_state': 44}]"
      ]
     },
     "execution_count": 10,
     "metadata": {},
     "output_type": "execute_result"
    }
   ],
   "source": [
    "# Retrieving the best params for GradientBoosting\n",
    "x = model_output[['Model','best_params']].query(\"Model=='GradientBoosting'\")\n",
    "gbr_params = x.best_params.to_list()\n",
    "gbr_params"
   ]
  },
  {
   "cell_type": "code",
   "execution_count": 11,
   "id": "4ba4aa8d",
   "metadata": {},
   "outputs": [
    {
     "data": {
      "text/plain": [
       "[{'learning_rate': 0.06,\n",
       "  'loss': 'square',\n",
       "  'n_estimators': 800,\n",
       "  'random_state': 44}]"
      ]
     },
     "execution_count": 11,
     "metadata": {},
     "output_type": "execute_result"
    }
   ],
   "source": [
    "# Retrieving the best params for AdaBoost\n",
    "x = model_output[['Model','best_params']].query(\"Model=='AdaBoost'\")\n",
    "adb_params = x.best_params.to_list()\n",
    "adb_params"
   ]
  },
  {
   "cell_type": "code",
   "execution_count": 12,
   "id": "90bfc2c6",
   "metadata": {},
   "outputs": [
    {
     "data": {
      "text/plain": [
       "[{'depth': 4,\n",
       "  'learning_rate': 0.01,\n",
       "  'n_estimators': 10000,\n",
       "  'random_seed': 44,\n",
       "  'verbose': False}]"
      ]
     },
     "execution_count": 12,
     "metadata": {},
     "output_type": "execute_result"
    }
   ],
   "source": [
    "# Retrieving the best params for Catboost\n",
    "x = model_output[['Model','best_params']].query(\"Model=='Catboost'\")\n",
    "XGB_params = x.best_params.to_list()\n",
    "XGB_params"
   ]
  },
  {
   "cell_type": "code",
   "execution_count": 13,
   "id": "3b0e0f0a",
   "metadata": {},
   "outputs": [
    {
     "data": {
      "text/plain": [
       "[{'gamma': 0,\n",
       "  'learning_rate': 0.08,\n",
       "  'max_depth': 4,\n",
       "  'min_child_weight': 8,\n",
       "  'n_estimators': 5000,\n",
       "  'random_state': 4}]"
      ]
     },
     "execution_count": 13,
     "metadata": {},
     "output_type": "execute_result"
    }
   ],
   "source": [
    "# Retrieving the best params for XGBoost\n",
    "x = model_output[['Model','best_params']].query(\"Model=='XGBoost'\")\n",
    "XGB_params = x.best_params.to_list()\n",
    "XGB_params"
   ]
  },
  {
   "cell_type": "markdown",
   "id": "0c205b9c",
   "metadata": {},
   "source": [
    "<h3 style=\"color: green;\">Cross validating with cross_val_score</h3>\n",
    "<p>\n",
    "Cross-validation provides information about how well a model generalizes i.e. how well the model can predict<br>\n",
    "using previously unseen data. This is an indicator of the model's would be performance once deployed.\n",
    "</p>"
   ]
  },
  {
   "cell_type": "markdown",
   "id": "922e9421",
   "metadata": {},
   "source": [
    "<h3 style=\"color: green;\">Function to return rmse via cross validation</h3>"
   ]
  },
  {
   "cell_type": "code",
   "execution_count": 6,
   "id": "36600482",
   "metadata": {},
   "outputs": [],
   "source": [
    "# RMSE function\n",
    "def rmse_cv(model,X,y):\n",
    "    rmse = np.sqrt(-cross_val_score(model,X,y, scoring=\"neg_mean_squared_error\",cv=10))\n",
    "    return rmse"
   ]
  },
  {
   "cell_type": "markdown",
   "id": "4ac69433",
   "metadata": {},
   "source": [
    "<h3 style=\"color: green;\">Ensemble VotingRegressor</h3>\n",
    "<p>\n",
    "Ensembles are used to achieve better predictive performance than a single predictive model. This operates on the <br>same principle as combining weak learners to collectively make a consistent decision, bagging/bootstrapping.<br>Thus the weakness of any one model is overcome by the crowd.\n",
    "</p>\n",
    "<p>\n",
    "Below we group the four models, an ensemble, to see if they outperform the best amongst them, GradientBoosting on it's own.<br>Note, GradientBoosting GridSearch test mse is already low, the voting regressor must exhibit a significant improvement on this for it to be<br> considered worthy.\n",
    "</p>"
   ]
  },
  {
   "cell_type": "code",
   "execution_count": 7,
   "id": "35df2899",
   "metadata": {},
   "outputs": [
    {
     "name": "stdout",
     "output_type": "stream",
     "text": [
      "Number of models in the regressor: 4\n"
     ]
    },
    {
     "data": {
      "text/html": [
       "<style>#sk-container-id-1 {color: black;background-color: white;}#sk-container-id-1 pre{padding: 0;}#sk-container-id-1 div.sk-toggleable {background-color: white;}#sk-container-id-1 label.sk-toggleable__label {cursor: pointer;display: block;width: 100%;margin-bottom: 0;padding: 0.3em;box-sizing: border-box;text-align: center;}#sk-container-id-1 label.sk-toggleable__label-arrow:before {content: \"▸\";float: left;margin-right: 0.25em;color: #696969;}#sk-container-id-1 label.sk-toggleable__label-arrow:hover:before {color: black;}#sk-container-id-1 div.sk-estimator:hover label.sk-toggleable__label-arrow:before {color: black;}#sk-container-id-1 div.sk-toggleable__content {max-height: 0;max-width: 0;overflow: hidden;text-align: left;background-color: #f0f8ff;}#sk-container-id-1 div.sk-toggleable__content pre {margin: 0.2em;color: black;border-radius: 0.25em;background-color: #f0f8ff;}#sk-container-id-1 input.sk-toggleable__control:checked~div.sk-toggleable__content {max-height: 200px;max-width: 100%;overflow: auto;}#sk-container-id-1 input.sk-toggleable__control:checked~label.sk-toggleable__label-arrow:before {content: \"▾\";}#sk-container-id-1 div.sk-estimator input.sk-toggleable__control:checked~label.sk-toggleable__label {background-color: #d4ebff;}#sk-container-id-1 div.sk-label input.sk-toggleable__control:checked~label.sk-toggleable__label {background-color: #d4ebff;}#sk-container-id-1 input.sk-hidden--visually {border: 0;clip: rect(1px 1px 1px 1px);clip: rect(1px, 1px, 1px, 1px);height: 1px;margin: -1px;overflow: hidden;padding: 0;position: absolute;width: 1px;}#sk-container-id-1 div.sk-estimator {font-family: monospace;background-color: #f0f8ff;border: 1px dotted black;border-radius: 0.25em;box-sizing: border-box;margin-bottom: 0.5em;}#sk-container-id-1 div.sk-estimator:hover {background-color: #d4ebff;}#sk-container-id-1 div.sk-parallel-item::after {content: \"\";width: 100%;border-bottom: 1px solid gray;flex-grow: 1;}#sk-container-id-1 div.sk-label:hover label.sk-toggleable__label {background-color: #d4ebff;}#sk-container-id-1 div.sk-serial::before {content: \"\";position: absolute;border-left: 1px solid gray;box-sizing: border-box;top: 0;bottom: 0;left: 50%;z-index: 0;}#sk-container-id-1 div.sk-serial {display: flex;flex-direction: column;align-items: center;background-color: white;padding-right: 0.2em;padding-left: 0.2em;position: relative;}#sk-container-id-1 div.sk-item {position: relative;z-index: 1;}#sk-container-id-1 div.sk-parallel {display: flex;align-items: stretch;justify-content: center;background-color: white;position: relative;}#sk-container-id-1 div.sk-item::before, #sk-container-id-1 div.sk-parallel-item::before {content: \"\";position: absolute;border-left: 1px solid gray;box-sizing: border-box;top: 0;bottom: 0;left: 50%;z-index: -1;}#sk-container-id-1 div.sk-parallel-item {display: flex;flex-direction: column;z-index: 1;position: relative;background-color: white;}#sk-container-id-1 div.sk-parallel-item:first-child::after {align-self: flex-end;width: 50%;}#sk-container-id-1 div.sk-parallel-item:last-child::after {align-self: flex-start;width: 50%;}#sk-container-id-1 div.sk-parallel-item:only-child::after {width: 0;}#sk-container-id-1 div.sk-dashed-wrapped {border: 1px dashed gray;margin: 0 0.4em 0.5em 0.4em;box-sizing: border-box;padding-bottom: 0.4em;background-color: white;}#sk-container-id-1 div.sk-label label {font-family: monospace;font-weight: bold;display: inline-block;line-height: 1.2em;}#sk-container-id-1 div.sk-label-container {text-align: center;}#sk-container-id-1 div.sk-container {/* jupyter's `normalize.less` sets `[hidden] { display: none; }` but bootstrap.min.css set `[hidden] { display: none !important; }` so we also need the `!important` here to be able to override the default hidden behavior on the sphinx rendered scikit-learn.org. See: https://github.com/scikit-learn/scikit-learn/issues/21755 */display: inline-block !important;position: relative;}#sk-container-id-1 div.sk-text-repr-fallback {display: none;}</style><div id=\"sk-container-id-1\" class=\"sk-top-container\"><div class=\"sk-text-repr-fallback\"><pre>VotingRegressor(estimators=[(&#x27;GradientBoosting&#x27;,\n",
       "                             GradientBoostingRegressor(learning_rate=0.01,\n",
       "                                                       loss=&#x27;huber&#x27;,\n",
       "                                                       max_depth=8,\n",
       "                                                       n_estimators=5000,\n",
       "                                                       random_state=44)),\n",
       "                            (&#x27;AdaBoost&#x27;,\n",
       "                             AdaBoostRegressor(learning_rate=0.06,\n",
       "                                               loss=&#x27;square&#x27;, n_estimators=800,\n",
       "                                               random_state=44)),\n",
       "                            (&#x27;Catboost&#x27;,\n",
       "                             &lt;catboost.core.CatBoostRegressor object at 0x7fed074c2590&gt;),\n",
       "                            (&#x27;XGBoost&#x27;,\n",
       "                             XGBRegressor(base_...\n",
       "                                          gamma=0, gpu_id=None,\n",
       "                                          grow_policy=None,\n",
       "                                          importance_type=None,\n",
       "                                          interaction_constraints=None,\n",
       "                                          learning_rate=0.08, max_bin=None,\n",
       "                                          max_cat_threshold=None,\n",
       "                                          max_cat_to_onehot=None,\n",
       "                                          max_delta_step=None, max_depth=4,\n",
       "                                          max_leaves=None, min_child_weight=8,\n",
       "                                          missing=nan,\n",
       "                                          monotone_constraints=None,\n",
       "                                          n_estimators=5000, n_jobs=None,\n",
       "                                          num_parallel_tree=None,\n",
       "                                          predictor=None, random_state=4, ...))])</pre><b>In a Jupyter environment, please rerun this cell to show the HTML representation or trust the notebook. <br />On GitHub, the HTML representation is unable to render, please try loading this page with nbviewer.org.</b></div><div class=\"sk-container\" hidden><div class=\"sk-item sk-dashed-wrapped\"><div class=\"sk-label-container\"><div class=\"sk-label sk-toggleable\"><input class=\"sk-toggleable__control sk-hidden--visually\" id=\"sk-estimator-id-1\" type=\"checkbox\" ><label for=\"sk-estimator-id-1\" class=\"sk-toggleable__label sk-toggleable__label-arrow\">VotingRegressor</label><div class=\"sk-toggleable__content\"><pre>VotingRegressor(estimators=[(&#x27;GradientBoosting&#x27;,\n",
       "                             GradientBoostingRegressor(learning_rate=0.01,\n",
       "                                                       loss=&#x27;huber&#x27;,\n",
       "                                                       max_depth=8,\n",
       "                                                       n_estimators=5000,\n",
       "                                                       random_state=44)),\n",
       "                            (&#x27;AdaBoost&#x27;,\n",
       "                             AdaBoostRegressor(learning_rate=0.06,\n",
       "                                               loss=&#x27;square&#x27;, n_estimators=800,\n",
       "                                               random_state=44)),\n",
       "                            (&#x27;Catboost&#x27;,\n",
       "                             &lt;catboost.core.CatBoostRegressor object at 0x7fed074c2590&gt;),\n",
       "                            (&#x27;XGBoost&#x27;,\n",
       "                             XGBRegressor(base_...\n",
       "                                          gamma=0, gpu_id=None,\n",
       "                                          grow_policy=None,\n",
       "                                          importance_type=None,\n",
       "                                          interaction_constraints=None,\n",
       "                                          learning_rate=0.08, max_bin=None,\n",
       "                                          max_cat_threshold=None,\n",
       "                                          max_cat_to_onehot=None,\n",
       "                                          max_delta_step=None, max_depth=4,\n",
       "                                          max_leaves=None, min_child_weight=8,\n",
       "                                          missing=nan,\n",
       "                                          monotone_constraints=None,\n",
       "                                          n_estimators=5000, n_jobs=None,\n",
       "                                          num_parallel_tree=None,\n",
       "                                          predictor=None, random_state=4, ...))])</pre></div></div></div><div class=\"sk-parallel\"><div class=\"sk-parallel-item\"><div class=\"sk-item\"><div class=\"sk-label-container\"><div class=\"sk-label sk-toggleable\"><label>GradientBoosting</label></div></div><div class=\"sk-serial\"><div class=\"sk-item\"><div class=\"sk-estimator sk-toggleable\"><input class=\"sk-toggleable__control sk-hidden--visually\" id=\"sk-estimator-id-2\" type=\"checkbox\" ><label for=\"sk-estimator-id-2\" class=\"sk-toggleable__label sk-toggleable__label-arrow\">GradientBoostingRegressor</label><div class=\"sk-toggleable__content\"><pre>GradientBoostingRegressor(learning_rate=0.01, loss=&#x27;huber&#x27;, max_depth=8,\n",
       "                          n_estimators=5000, random_state=44)</pre></div></div></div></div></div></div><div class=\"sk-parallel-item\"><div class=\"sk-item\"><div class=\"sk-label-container\"><div class=\"sk-label sk-toggleable\"><label>AdaBoost</label></div></div><div class=\"sk-serial\"><div class=\"sk-item\"><div class=\"sk-estimator sk-toggleable\"><input class=\"sk-toggleable__control sk-hidden--visually\" id=\"sk-estimator-id-3\" type=\"checkbox\" ><label for=\"sk-estimator-id-3\" class=\"sk-toggleable__label sk-toggleable__label-arrow\">AdaBoostRegressor</label><div class=\"sk-toggleable__content\"><pre>AdaBoostRegressor(learning_rate=0.06, loss=&#x27;square&#x27;, n_estimators=800,\n",
       "                  random_state=44)</pre></div></div></div></div></div></div><div class=\"sk-parallel-item\"><div class=\"sk-item\"><div class=\"sk-label-container\"><div class=\"sk-label sk-toggleable\"><label>Catboost</label></div></div><div class=\"sk-serial\"><div class=\"sk-item\"><div class=\"sk-estimator sk-toggleable\"><input class=\"sk-toggleable__control sk-hidden--visually\" id=\"sk-estimator-id-4\" type=\"checkbox\" ><label for=\"sk-estimator-id-4\" class=\"sk-toggleable__label sk-toggleable__label-arrow\">CatBoostRegressor</label><div class=\"sk-toggleable__content\"><pre>&lt;catboost.core.CatBoostRegressor object at 0x7fed074c2590&gt;</pre></div></div></div></div></div></div><div class=\"sk-parallel-item\"><div class=\"sk-item\"><div class=\"sk-label-container\"><div class=\"sk-label sk-toggleable\"><label>XGBoost</label></div></div><div class=\"sk-serial\"><div class=\"sk-item\"><div class=\"sk-estimator sk-toggleable\"><input class=\"sk-toggleable__control sk-hidden--visually\" id=\"sk-estimator-id-5\" type=\"checkbox\" ><label for=\"sk-estimator-id-5\" class=\"sk-toggleable__label sk-toggleable__label-arrow\">XGBRegressor</label><div class=\"sk-toggleable__content\"><pre>XGBRegressor(base_score=None, booster=None, callbacks=None,\n",
       "             colsample_bylevel=None, colsample_bynode=None,\n",
       "             colsample_bytree=None, early_stopping_rounds=None,\n",
       "             enable_categorical=False, eval_metric=None, feature_types=None,\n",
       "             gamma=0, gpu_id=None, grow_policy=None, importance_type=None,\n",
       "             interaction_constraints=None, learning_rate=0.08, max_bin=None,\n",
       "             max_cat_threshold=None, max_cat_to_onehot=None,\n",
       "             max_delta_step=None, max_depth=4, max_leaves=None,\n",
       "             min_child_weight=8, missing=nan, monotone_constraints=None,\n",
       "             n_estimators=5000, n_jobs=None, num_parallel_tree=None,\n",
       "             predictor=None, random_state=4, ...)</pre></div></div></div></div></div></div></div></div></div></div>"
      ],
      "text/plain": [
       "VotingRegressor(estimators=[('GradientBoosting',\n",
       "                             GradientBoostingRegressor(learning_rate=0.01,\n",
       "                                                       loss='huber',\n",
       "                                                       max_depth=8,\n",
       "                                                       n_estimators=5000,\n",
       "                                                       random_state=44)),\n",
       "                            ('AdaBoost',\n",
       "                             AdaBoostRegressor(learning_rate=0.06,\n",
       "                                               loss='square', n_estimators=800,\n",
       "                                               random_state=44)),\n",
       "                            ('Catboost',\n",
       "                             <catboost.core.CatBoostRegressor object at 0x7fed074c2590>),\n",
       "                            ('XGBoost',\n",
       "                             XGBRegressor(base_...\n",
       "                                          gamma=0, gpu_id=None,\n",
       "                                          grow_policy=None,\n",
       "                                          importance_type=None,\n",
       "                                          interaction_constraints=None,\n",
       "                                          learning_rate=0.08, max_bin=None,\n",
       "                                          max_cat_threshold=None,\n",
       "                                          max_cat_to_onehot=None,\n",
       "                                          max_delta_step=None, max_depth=4,\n",
       "                                          max_leaves=None, min_child_weight=8,\n",
       "                                          missing=nan,\n",
       "                                          monotone_constraints=None,\n",
       "                                          n_estimators=5000, n_jobs=None,\n",
       "                                          num_parallel_tree=None,\n",
       "                                          predictor=None, random_state=4, ...))])"
      ]
     },
     "execution_count": 7,
     "metadata": {},
     "output_type": "execute_result"
    }
   ],
   "source": [
    "voting = vot_r([\n",
    "              ('GradientBoosting',gb_r(\n",
    "                learning_rate = 0.01,\n",
    "                loss= 'huber',\n",
    "                max_depth = 8,\n",
    "                n_estimators = 5000,\n",
    "                random_state = 44\n",
    "                )),\n",
    "\n",
    "              ('AdaBoost',adb_r(\n",
    "                n_estimators = 800,\n",
    "                learning_rate = 0.06,\n",
    "                loss = 'square',\n",
    "                random_state = 44\n",
    "                )),\n",
    "              ('Catboost',catb_r(\n",
    "                n_estimators = 10000,\n",
    "                learning_rate =  0.01,    \n",
    "                depth = 4,\n",
    "                verbose = False,\n",
    "                random_seed = 44,\n",
    "                )),\n",
    "\n",
    "              ('XGBoost',xgb_r(\n",
    "                n_estimators = 5000,\n",
    "                learning_rate= 0.08,    \n",
    "                gamma = 0,\n",
    "                max_depth = 4,\n",
    "                min_child_weight= 8,\n",
    "                random_state= 4\n",
    "                ))\n",
    "            ])\n",
    "\n",
    "\n",
    "print(\"Number of models in the regressor: {0}\".format(len(voting.estimators)))\n",
    "\n",
    "# Fitting the models on X_train y_train\n",
    "voting.fit(X_train, np.ravel(y_train))"
   ]
  },
  {
   "cell_type": "code",
   "execution_count": 8,
   "id": "c977db64",
   "metadata": {},
   "outputs": [
    {
     "name": "stdout",
     "output_type": "stream",
     "text": [
      "Number of models in the regressor: 4\n"
     ]
    },
    {
     "data": {
      "text/html": [
       "<style>#sk-container-id-2 {color: black;background-color: white;}#sk-container-id-2 pre{padding: 0;}#sk-container-id-2 div.sk-toggleable {background-color: white;}#sk-container-id-2 label.sk-toggleable__label {cursor: pointer;display: block;width: 100%;margin-bottom: 0;padding: 0.3em;box-sizing: border-box;text-align: center;}#sk-container-id-2 label.sk-toggleable__label-arrow:before {content: \"▸\";float: left;margin-right: 0.25em;color: #696969;}#sk-container-id-2 label.sk-toggleable__label-arrow:hover:before {color: black;}#sk-container-id-2 div.sk-estimator:hover label.sk-toggleable__label-arrow:before {color: black;}#sk-container-id-2 div.sk-toggleable__content {max-height: 0;max-width: 0;overflow: hidden;text-align: left;background-color: #f0f8ff;}#sk-container-id-2 div.sk-toggleable__content pre {margin: 0.2em;color: black;border-radius: 0.25em;background-color: #f0f8ff;}#sk-container-id-2 input.sk-toggleable__control:checked~div.sk-toggleable__content {max-height: 200px;max-width: 100%;overflow: auto;}#sk-container-id-2 input.sk-toggleable__control:checked~label.sk-toggleable__label-arrow:before {content: \"▾\";}#sk-container-id-2 div.sk-estimator input.sk-toggleable__control:checked~label.sk-toggleable__label {background-color: #d4ebff;}#sk-container-id-2 div.sk-label input.sk-toggleable__control:checked~label.sk-toggleable__label {background-color: #d4ebff;}#sk-container-id-2 input.sk-hidden--visually {border: 0;clip: rect(1px 1px 1px 1px);clip: rect(1px, 1px, 1px, 1px);height: 1px;margin: -1px;overflow: hidden;padding: 0;position: absolute;width: 1px;}#sk-container-id-2 div.sk-estimator {font-family: monospace;background-color: #f0f8ff;border: 1px dotted black;border-radius: 0.25em;box-sizing: border-box;margin-bottom: 0.5em;}#sk-container-id-2 div.sk-estimator:hover {background-color: #d4ebff;}#sk-container-id-2 div.sk-parallel-item::after {content: \"\";width: 100%;border-bottom: 1px solid gray;flex-grow: 1;}#sk-container-id-2 div.sk-label:hover label.sk-toggleable__label {background-color: #d4ebff;}#sk-container-id-2 div.sk-serial::before {content: \"\";position: absolute;border-left: 1px solid gray;box-sizing: border-box;top: 0;bottom: 0;left: 50%;z-index: 0;}#sk-container-id-2 div.sk-serial {display: flex;flex-direction: column;align-items: center;background-color: white;padding-right: 0.2em;padding-left: 0.2em;position: relative;}#sk-container-id-2 div.sk-item {position: relative;z-index: 1;}#sk-container-id-2 div.sk-parallel {display: flex;align-items: stretch;justify-content: center;background-color: white;position: relative;}#sk-container-id-2 div.sk-item::before, #sk-container-id-2 div.sk-parallel-item::before {content: \"\";position: absolute;border-left: 1px solid gray;box-sizing: border-box;top: 0;bottom: 0;left: 50%;z-index: -1;}#sk-container-id-2 div.sk-parallel-item {display: flex;flex-direction: column;z-index: 1;position: relative;background-color: white;}#sk-container-id-2 div.sk-parallel-item:first-child::after {align-self: flex-end;width: 50%;}#sk-container-id-2 div.sk-parallel-item:last-child::after {align-self: flex-start;width: 50%;}#sk-container-id-2 div.sk-parallel-item:only-child::after {width: 0;}#sk-container-id-2 div.sk-dashed-wrapped {border: 1px dashed gray;margin: 0 0.4em 0.5em 0.4em;box-sizing: border-box;padding-bottom: 0.4em;background-color: white;}#sk-container-id-2 div.sk-label label {font-family: monospace;font-weight: bold;display: inline-block;line-height: 1.2em;}#sk-container-id-2 div.sk-label-container {text-align: center;}#sk-container-id-2 div.sk-container {/* jupyter's `normalize.less` sets `[hidden] { display: none; }` but bootstrap.min.css set `[hidden] { display: none !important; }` so we also need the `!important` here to be able to override the default hidden behavior on the sphinx rendered scikit-learn.org. See: https://github.com/scikit-learn/scikit-learn/issues/21755 */display: inline-block !important;position: relative;}#sk-container-id-2 div.sk-text-repr-fallback {display: none;}</style><div id=\"sk-container-id-2\" class=\"sk-top-container\"><div class=\"sk-text-repr-fallback\"><pre>VotingRegressor(estimators=[(&#x27;AdaBoost&#x27;,\n",
       "                             AdaBoostRegressor(learning_rate=0.06,\n",
       "                                               loss=&#x27;square&#x27;, n_estimators=800,\n",
       "                                               random_state=44)),\n",
       "                            (&#x27;Catboost&#x27;,\n",
       "                             &lt;catboost.core.CatBoostRegressor object at 0x7fed074c29e0&gt;),\n",
       "                            (&#x27;XGBoost&#x27;,\n",
       "                             XGBRegressor(base_score=None, booster=None,\n",
       "                                          callbacks=None,\n",
       "                                          colsample_bylevel=None,\n",
       "                                          colsample_bynode=None,\n",
       "                                          colsample_bytree=None,\n",
       "                                          early_stopping_round...\n",
       "                                          gamma=0, gpu_id=None,\n",
       "                                          grow_policy=None,\n",
       "                                          importance_type=None,\n",
       "                                          interaction_constraints=None,\n",
       "                                          learning_rate=0.08, max_bin=None,\n",
       "                                          max_cat_threshold=None,\n",
       "                                          max_cat_to_onehot=None,\n",
       "                                          max_delta_step=None, max_depth=4,\n",
       "                                          max_leaves=None, min_child_weight=8,\n",
       "                                          missing=nan,\n",
       "                                          monotone_constraints=None,\n",
       "                                          n_estimators=5000, n_jobs=None,\n",
       "                                          num_parallel_tree=None,\n",
       "                                          predictor=None, random_state=4, ...))])</pre><b>In a Jupyter environment, please rerun this cell to show the HTML representation or trust the notebook. <br />On GitHub, the HTML representation is unable to render, please try loading this page with nbviewer.org.</b></div><div class=\"sk-container\" hidden><div class=\"sk-item sk-dashed-wrapped\"><div class=\"sk-label-container\"><div class=\"sk-label sk-toggleable\"><input class=\"sk-toggleable__control sk-hidden--visually\" id=\"sk-estimator-id-6\" type=\"checkbox\" ><label for=\"sk-estimator-id-6\" class=\"sk-toggleable__label sk-toggleable__label-arrow\">VotingRegressor</label><div class=\"sk-toggleable__content\"><pre>VotingRegressor(estimators=[(&#x27;AdaBoost&#x27;,\n",
       "                             AdaBoostRegressor(learning_rate=0.06,\n",
       "                                               loss=&#x27;square&#x27;, n_estimators=800,\n",
       "                                               random_state=44)),\n",
       "                            (&#x27;Catboost&#x27;,\n",
       "                             &lt;catboost.core.CatBoostRegressor object at 0x7fed074c29e0&gt;),\n",
       "                            (&#x27;XGBoost&#x27;,\n",
       "                             XGBRegressor(base_score=None, booster=None,\n",
       "                                          callbacks=None,\n",
       "                                          colsample_bylevel=None,\n",
       "                                          colsample_bynode=None,\n",
       "                                          colsample_bytree=None,\n",
       "                                          early_stopping_round...\n",
       "                                          gamma=0, gpu_id=None,\n",
       "                                          grow_policy=None,\n",
       "                                          importance_type=None,\n",
       "                                          interaction_constraints=None,\n",
       "                                          learning_rate=0.08, max_bin=None,\n",
       "                                          max_cat_threshold=None,\n",
       "                                          max_cat_to_onehot=None,\n",
       "                                          max_delta_step=None, max_depth=4,\n",
       "                                          max_leaves=None, min_child_weight=8,\n",
       "                                          missing=nan,\n",
       "                                          monotone_constraints=None,\n",
       "                                          n_estimators=5000, n_jobs=None,\n",
       "                                          num_parallel_tree=None,\n",
       "                                          predictor=None, random_state=4, ...))])</pre></div></div></div><div class=\"sk-parallel\"><div class=\"sk-parallel-item\"><div class=\"sk-item\"><div class=\"sk-label-container\"><div class=\"sk-label sk-toggleable\"><label>AdaBoost</label></div></div><div class=\"sk-serial\"><div class=\"sk-item\"><div class=\"sk-estimator sk-toggleable\"><input class=\"sk-toggleable__control sk-hidden--visually\" id=\"sk-estimator-id-7\" type=\"checkbox\" ><label for=\"sk-estimator-id-7\" class=\"sk-toggleable__label sk-toggleable__label-arrow\">AdaBoostRegressor</label><div class=\"sk-toggleable__content\"><pre>AdaBoostRegressor(learning_rate=0.06, loss=&#x27;square&#x27;, n_estimators=800,\n",
       "                  random_state=44)</pre></div></div></div></div></div></div><div class=\"sk-parallel-item\"><div class=\"sk-item\"><div class=\"sk-label-container\"><div class=\"sk-label sk-toggleable\"><label>Catboost</label></div></div><div class=\"sk-serial\"><div class=\"sk-item\"><div class=\"sk-estimator sk-toggleable\"><input class=\"sk-toggleable__control sk-hidden--visually\" id=\"sk-estimator-id-8\" type=\"checkbox\" ><label for=\"sk-estimator-id-8\" class=\"sk-toggleable__label sk-toggleable__label-arrow\">CatBoostRegressor</label><div class=\"sk-toggleable__content\"><pre>&lt;catboost.core.CatBoostRegressor object at 0x7fed074c29e0&gt;</pre></div></div></div></div></div></div><div class=\"sk-parallel-item\"><div class=\"sk-item\"><div class=\"sk-label-container\"><div class=\"sk-label sk-toggleable\"><label>XGBoost</label></div></div><div class=\"sk-serial\"><div class=\"sk-item\"><div class=\"sk-estimator sk-toggleable\"><input class=\"sk-toggleable__control sk-hidden--visually\" id=\"sk-estimator-id-9\" type=\"checkbox\" ><label for=\"sk-estimator-id-9\" class=\"sk-toggleable__label sk-toggleable__label-arrow\">XGBRegressor</label><div class=\"sk-toggleable__content\"><pre>XGBRegressor(base_score=None, booster=None, callbacks=None,\n",
       "             colsample_bylevel=None, colsample_bynode=None,\n",
       "             colsample_bytree=None, early_stopping_rounds=None,\n",
       "             enable_categorical=False, eval_metric=None, feature_types=None,\n",
       "             gamma=0, gpu_id=None, grow_policy=None, importance_type=None,\n",
       "             interaction_constraints=None, learning_rate=0.08, max_bin=None,\n",
       "             max_cat_threshold=None, max_cat_to_onehot=None,\n",
       "             max_delta_step=None, max_depth=4, max_leaves=None,\n",
       "             min_child_weight=8, missing=nan, monotone_constraints=None,\n",
       "             n_estimators=5000, n_jobs=None, num_parallel_tree=None,\n",
       "             predictor=None, random_state=4, ...)</pre></div></div></div></div></div></div></div></div></div></div>"
      ],
      "text/plain": [
       "VotingRegressor(estimators=[('AdaBoost',\n",
       "                             AdaBoostRegressor(learning_rate=0.06,\n",
       "                                               loss='square', n_estimators=800,\n",
       "                                               random_state=44)),\n",
       "                            ('Catboost',\n",
       "                             <catboost.core.CatBoostRegressor object at 0x7fed074c29e0>),\n",
       "                            ('XGBoost',\n",
       "                             XGBRegressor(base_score=None, booster=None,\n",
       "                                          callbacks=None,\n",
       "                                          colsample_bylevel=None,\n",
       "                                          colsample_bynode=None,\n",
       "                                          colsample_bytree=None,\n",
       "                                          early_stopping_round...\n",
       "                                          gamma=0, gpu_id=None,\n",
       "                                          grow_policy=None,\n",
       "                                          importance_type=None,\n",
       "                                          interaction_constraints=None,\n",
       "                                          learning_rate=0.08, max_bin=None,\n",
       "                                          max_cat_threshold=None,\n",
       "                                          max_cat_to_onehot=None,\n",
       "                                          max_delta_step=None, max_depth=4,\n",
       "                                          max_leaves=None, min_child_weight=8,\n",
       "                                          missing=nan,\n",
       "                                          monotone_constraints=None,\n",
       "                                          n_estimators=5000, n_jobs=None,\n",
       "                                          num_parallel_tree=None,\n",
       "                                          predictor=None, random_state=4, ...))])"
      ]
     },
     "execution_count": 8,
     "metadata": {},
     "output_type": "execute_result"
    }
   ],
   "source": [
    "# Voting regressor without Gradient Boosting to see the absence effect\n",
    "voting1 = vot_r([\n",
    "              ('AdaBoost',adb_r(\n",
    "                n_estimators = 800,\n",
    "                learning_rate = 0.06,\n",
    "                loss = 'square',\n",
    "                random_state = 44\n",
    "                )),\n",
    "              ('Catboost',catb_r(\n",
    "                n_estimators = 10000,\n",
    "                learning_rate =  0.01,    \n",
    "                depth = 4,\n",
    "                verbose = False,\n",
    "                random_seed = 44,\n",
    "                )),\n",
    "\n",
    "              ('XGBoost',xgb_r(\n",
    "                n_estimators = 5000,\n",
    "                learning_rate= 0.08,    \n",
    "                gamma = 0,\n",
    "                max_depth = 4,\n",
    "                min_child_weight= 8,\n",
    "                random_state= 4\n",
    "                ))\n",
    "            ])\n",
    "\n",
    "\n",
    "print(\"Number of models in the regressor: {0}\".format(len(voting.estimators)))\n",
    "\n",
    "# Fitting the models on X_train y_train\n",
    "voting1.fit(X_train, np.ravel(y_train))"
   ]
  },
  {
   "cell_type": "markdown",
   "id": "73d1d775",
   "metadata": {},
   "source": [
    "<h5 style=\"color: green;\">Cross validating the voting regressors</h5>"
   ]
  },
  {
   "cell_type": "code",
   "execution_count": 9,
   "id": "41016643",
   "metadata": {},
   "outputs": [
    {
     "data": {
      "text/plain": [
       "array([0.18254154, 0.18622521, 0.17320738, 0.10929177, 0.09685262,\n",
       "       0.07186553, 0.08085285, 0.34545313, 0.10451934, 0.25307131])"
      ]
     },
     "execution_count": 9,
     "metadata": {},
     "output_type": "execute_result"
    }
   ],
   "source": [
    "voting_rmse = rmse_cv(voting,X_train,y_train)\n",
    "voting_rmse"
   ]
  },
  {
   "cell_type": "code",
   "execution_count": 10,
   "id": "57131c46",
   "metadata": {},
   "outputs": [
    {
     "data": {
      "text/plain": [
       "0.16038806799596111"
      ]
     },
     "execution_count": 10,
     "metadata": {},
     "output_type": "execute_result"
    }
   ],
   "source": [
    "voting_rmse.mean()"
   ]
  },
  {
   "cell_type": "code",
   "execution_count": 11,
   "id": "9749a42d",
   "metadata": {},
   "outputs": [
    {
     "data": {
      "text/plain": [
       "array([0.20549264, 0.21100912, 0.17641687, 0.11883174, 0.1103785 ,\n",
       "       0.08381637, 0.10083639, 0.41778353, 0.12151107, 0.24469423])"
      ]
     },
     "execution_count": 11,
     "metadata": {},
     "output_type": "execute_result"
    }
   ],
   "source": [
    "# voting without GradientBoosting cross validation\n",
    "voting1_rmse = rmse_cv(voting1,X_train,y_train)\n",
    "voting1_rmse\n"
   ]
  },
  {
   "cell_type": "code",
   "execution_count": 12,
   "id": "5f57c254",
   "metadata": {},
   "outputs": [
    {
     "data": {
      "text/plain": [
       "0.1790770443858052"
      ]
     },
     "execution_count": 12,
     "metadata": {},
     "output_type": "execute_result"
    }
   ],
   "source": [
    "voting1_rmse.mean()"
   ]
  },
  {
   "cell_type": "markdown",
   "id": "bf922bb0",
   "metadata": {},
   "source": [
    "<b>\n",
    "Above, it is clear that the exclusion of the GradientBoosting regressor increases the errors worsening the voting <br>regressor performance, albeit marginal.\n",
    "</b>"
   ]
  },
  {
   "cell_type": "markdown",
   "id": "3bef5d48",
   "metadata": {},
   "source": [
    "<h3 style=\"color: green;\">GradientBoosting regressor best model</h3>"
   ]
  },
  {
   "cell_type": "code",
   "execution_count": 13,
   "id": "95f141e1",
   "metadata": {},
   "outputs": [
    {
     "data": {
      "text/html": [
       "<style>#sk-container-id-3 {color: black;background-color: white;}#sk-container-id-3 pre{padding: 0;}#sk-container-id-3 div.sk-toggleable {background-color: white;}#sk-container-id-3 label.sk-toggleable__label {cursor: pointer;display: block;width: 100%;margin-bottom: 0;padding: 0.3em;box-sizing: border-box;text-align: center;}#sk-container-id-3 label.sk-toggleable__label-arrow:before {content: \"▸\";float: left;margin-right: 0.25em;color: #696969;}#sk-container-id-3 label.sk-toggleable__label-arrow:hover:before {color: black;}#sk-container-id-3 div.sk-estimator:hover label.sk-toggleable__label-arrow:before {color: black;}#sk-container-id-3 div.sk-toggleable__content {max-height: 0;max-width: 0;overflow: hidden;text-align: left;background-color: #f0f8ff;}#sk-container-id-3 div.sk-toggleable__content pre {margin: 0.2em;color: black;border-radius: 0.25em;background-color: #f0f8ff;}#sk-container-id-3 input.sk-toggleable__control:checked~div.sk-toggleable__content {max-height: 200px;max-width: 100%;overflow: auto;}#sk-container-id-3 input.sk-toggleable__control:checked~label.sk-toggleable__label-arrow:before {content: \"▾\";}#sk-container-id-3 div.sk-estimator input.sk-toggleable__control:checked~label.sk-toggleable__label {background-color: #d4ebff;}#sk-container-id-3 div.sk-label input.sk-toggleable__control:checked~label.sk-toggleable__label {background-color: #d4ebff;}#sk-container-id-3 input.sk-hidden--visually {border: 0;clip: rect(1px 1px 1px 1px);clip: rect(1px, 1px, 1px, 1px);height: 1px;margin: -1px;overflow: hidden;padding: 0;position: absolute;width: 1px;}#sk-container-id-3 div.sk-estimator {font-family: monospace;background-color: #f0f8ff;border: 1px dotted black;border-radius: 0.25em;box-sizing: border-box;margin-bottom: 0.5em;}#sk-container-id-3 div.sk-estimator:hover {background-color: #d4ebff;}#sk-container-id-3 div.sk-parallel-item::after {content: \"\";width: 100%;border-bottom: 1px solid gray;flex-grow: 1;}#sk-container-id-3 div.sk-label:hover label.sk-toggleable__label {background-color: #d4ebff;}#sk-container-id-3 div.sk-serial::before {content: \"\";position: absolute;border-left: 1px solid gray;box-sizing: border-box;top: 0;bottom: 0;left: 50%;z-index: 0;}#sk-container-id-3 div.sk-serial {display: flex;flex-direction: column;align-items: center;background-color: white;padding-right: 0.2em;padding-left: 0.2em;position: relative;}#sk-container-id-3 div.sk-item {position: relative;z-index: 1;}#sk-container-id-3 div.sk-parallel {display: flex;align-items: stretch;justify-content: center;background-color: white;position: relative;}#sk-container-id-3 div.sk-item::before, #sk-container-id-3 div.sk-parallel-item::before {content: \"\";position: absolute;border-left: 1px solid gray;box-sizing: border-box;top: 0;bottom: 0;left: 50%;z-index: -1;}#sk-container-id-3 div.sk-parallel-item {display: flex;flex-direction: column;z-index: 1;position: relative;background-color: white;}#sk-container-id-3 div.sk-parallel-item:first-child::after {align-self: flex-end;width: 50%;}#sk-container-id-3 div.sk-parallel-item:last-child::after {align-self: flex-start;width: 50%;}#sk-container-id-3 div.sk-parallel-item:only-child::after {width: 0;}#sk-container-id-3 div.sk-dashed-wrapped {border: 1px dashed gray;margin: 0 0.4em 0.5em 0.4em;box-sizing: border-box;padding-bottom: 0.4em;background-color: white;}#sk-container-id-3 div.sk-label label {font-family: monospace;font-weight: bold;display: inline-block;line-height: 1.2em;}#sk-container-id-3 div.sk-label-container {text-align: center;}#sk-container-id-3 div.sk-container {/* jupyter's `normalize.less` sets `[hidden] { display: none; }` but bootstrap.min.css set `[hidden] { display: none !important; }` so we also need the `!important` here to be able to override the default hidden behavior on the sphinx rendered scikit-learn.org. See: https://github.com/scikit-learn/scikit-learn/issues/21755 */display: inline-block !important;position: relative;}#sk-container-id-3 div.sk-text-repr-fallback {display: none;}</style><div id=\"sk-container-id-3\" class=\"sk-top-container\"><div class=\"sk-text-repr-fallback\"><pre>GradientBoostingRegressor(learning_rate=0.01, loss=&#x27;huber&#x27;, max_depth=8,\n",
       "                          n_estimators=5000, random_state=44)</pre><b>In a Jupyter environment, please rerun this cell to show the HTML representation or trust the notebook. <br />On GitHub, the HTML representation is unable to render, please try loading this page with nbviewer.org.</b></div><div class=\"sk-container\" hidden><div class=\"sk-item\"><div class=\"sk-estimator sk-toggleable\"><input class=\"sk-toggleable__control sk-hidden--visually\" id=\"sk-estimator-id-10\" type=\"checkbox\" checked><label for=\"sk-estimator-id-10\" class=\"sk-toggleable__label sk-toggleable__label-arrow\">GradientBoostingRegressor</label><div class=\"sk-toggleable__content\"><pre>GradientBoostingRegressor(learning_rate=0.01, loss=&#x27;huber&#x27;, max_depth=8,\n",
       "                          n_estimators=5000, random_state=44)</pre></div></div></div></div></div>"
      ],
      "text/plain": [
       "GradientBoostingRegressor(learning_rate=0.01, loss='huber', max_depth=8,\n",
       "                          n_estimators=5000, random_state=44)"
      ]
     },
     "execution_count": 13,
     "metadata": {},
     "output_type": "execute_result"
    }
   ],
   "source": [
    "GB_reg = gb_r(\n",
    "    learning_rate = 0.01,\n",
    "    loss= 'huber',\n",
    "    max_depth = 8,\n",
    "    n_estimators = 5000,\n",
    "    random_state = 44\n",
    "    )\n",
    "\n",
    "GB_reg.fit(X_train, np.ravel(y_train))"
   ]
  },
  {
   "cell_type": "markdown",
   "id": "82d78cf0",
   "metadata": {},
   "source": [
    "<h5 style=\"color: green;\">Cross validating the GradientBoosting regressor model</h5>"
   ]
  },
  {
   "cell_type": "code",
   "execution_count": 14,
   "id": "3689c582",
   "metadata": {},
   "outputs": [
    {
     "data": {
      "text/plain": [
       "array([0.16173457, 0.28136786, 0.21490791, 0.1285231 , 0.1039263 ,\n",
       "       0.10847872, 0.06504552, 0.15985712, 0.08263817, 0.3004285 ])"
      ]
     },
     "execution_count": 14,
     "metadata": {},
     "output_type": "execute_result"
    }
   ],
   "source": [
    "GB_reg_rmse = rmse_cv(GB_reg,X_train,y_train)\n",
    "GB_reg_rmse"
   ]
  },
  {
   "cell_type": "code",
   "execution_count": 15,
   "id": "eadc0c9f",
   "metadata": {},
   "outputs": [
    {
     "data": {
      "text/plain": [
       "(0.16069077892999434, 0.16038806799596111, 0.1790770443858052)"
      ]
     },
     "execution_count": 15,
     "metadata": {},
     "output_type": "execute_result"
    }
   ],
   "source": [
    "GB_reg_rmse.mean(), voting_rmse.mean(),voting1_rmse.mean()"
   ]
  },
  {
   "cell_type": "markdown",
   "id": "5a4502c0",
   "metadata": {},
   "source": [
    "<p>\n",
    "The cross validation output indicates that there is a difference between voting regressor and the <br> GradientBoosting regressor. It's the fact that the GradientBoosting model is powerful enough to be highly<br> predictive on it's own that the voting regressor can be discarded.<br><br>Further, there maybe efficiency improvement in deploying one model instead of an ensemble.\n",
    "</p>"
   ]
  },
  {
   "cell_type": "markdown",
   "id": "9d8d4b5e",
   "metadata": {},
   "source": [
    "<h3 style=\"color: green;\">Working with the best model, GradientBoosting regressor</h3>"
   ]
  },
  {
   "cell_type": "code",
   "execution_count": 16,
   "id": "8f03c38a",
   "metadata": {},
   "outputs": [
    {
     "name": "stdout",
     "output_type": "stream",
     "text": [
      "Training RMSE: 4.059208008334534e-05\n",
      "Training R-squared: 0.999999998352283\n",
      "\n",
      "\n",
      "Test RMSE: 0.08178946293036564\n",
      "Test R-squared: 0.9944698277788455\n"
     ]
    }
   ],
   "source": [
    "\n",
    "# predict y_train\n",
    "train_y_pred = GB_reg.predict(X_train)\n",
    "\n",
    "# Retrieve the training rmse,r2_score\n",
    "print(\"Training RMSE: {}\".format(np.sqrt(mean_squared_error(y_train,train_y_pred))))\n",
    "print(\"Training R-squared: {}\\n\".format(r2_score(y_train,train_y_pred)))\n",
    "\n",
    "\n",
    "test_y_pred = GB_reg.predict(X_test)\n",
    "# Retrieve the test rmse,r2_score\n",
    "print(\"\\nTest RMSE: {}\".format(np.sqrt(mean_squared_error(y_test,test_y_pred))))\n",
    "print(\"Test R-squared: {}\".format(r2_score(y_test,test_y_pred)))"
   ]
  },
  {
   "cell_type": "markdown",
   "id": "8c7fc4b7",
   "metadata": {},
   "source": [
    "<h3 style=\"color: green;\">Feature importance for GradientBoosting regressor</h3>"
   ]
  },
  {
   "cell_type": "code",
   "execution_count": 17,
   "id": "17b57f8b",
   "metadata": {},
   "outputs": [
    {
     "data": {
      "image/png": "[encoded data removed]",
      "text/plain": [
       "<Figure size 640x480 with 1 Axes>"
      ]
     },
     "metadata": {},
     "output_type": "display_data"
    }
   ],
   "source": [
    "GBR_imp = pd.Series(GB_reg.feature_importances_, \n",
    "                    index=X_train.columns)\n",
    "\n",
    "# plotting importance\n",
    "# figure background\n",
    "fig = plt.figure()\n",
    "fig.patch.set_facecolor('#212121')\n",
    "fig.patch.set_alpha(0.95)\n",
    "\n",
    "ax = fig.add_subplot(111)\n",
    "ax.patch.set_facecolor('#212121')\n",
    "ax.patch.set_alpha(1.0)\n",
    "ax.yaxis.label.set_color('lime')\n",
    "ax.xaxis.label.set_color('lime')\n",
    "ax.title.set_color('lime')\n",
    "ax.tick_params(colors='lime', which='both')\n",
    "\n",
    "\n",
    "GBR_imp.nlargest(19).sort_values().plot(ax=ax,\n",
    "                                        kind='barh', \n",
    "                                        color='red',\n",
    "                                        title='GradientBoosting feature importance\\nImpurity based')\n",
    "plt.show()"
   ]
  },
  {
   "cell_type": "markdown",
   "id": "13a7e412",
   "metadata": {},
   "source": [
    "<h3 style=\"color: green;\">Exporting the best model from GridSearchCV</h3>\n",
    "This is done for extracting feature importance list"
   ]
  },
  {
   "cell_type": "code",
   "execution_count": 63,
   "id": "24712b1e",
   "metadata": {},
   "outputs": [
    {
     "data": {
      "text/plain": [
       "['../8. Models/Regressor_models/GB_reg_gridsearch_best_model']"
      ]
     },
     "execution_count": 63,
     "metadata": {},
     "output_type": "execute_result"
    }
   ],
   "source": [
    "joblib.dump(GB_reg, \"../8. Models/Regressor_models/GB_reg_gridsearch_best_model\")"
   ]
  },
  {
   "cell_type": "code",
   "execution_count": null,
   "id": "466b6ff6",
   "metadata": {},
   "outputs": [],
   "source": []
  }
 ],
 "metadata": {
  "kernelspec": {
   "display_name": "Python 3 (ipykernel)",
   "language": "python",
   "name": "python3"
  },
  "language_info": {
   "codemirror_mode": {
    "name": "ipython",
    "version": 3
   },
   "file_extension": ".py",
   "mimetype": "text/x-python",
   "name": "python",
   "nbconvert_exporter": "python",
   "pygments_lexer": "ipython3",
   "version": "3.10.12"
  }
 },
 "nbformat": 4,
 "nbformat_minor": 5
}
