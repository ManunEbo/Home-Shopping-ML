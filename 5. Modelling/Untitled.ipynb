{
 "cells": [
  {
   "cell_type": "code",
   "execution_count": null,
   "id": "242c8816",
   "metadata": {},
   "outputs": [],
   "source": [
    "keys = ['AdaBoost','Catboost','LightGBM','GradientBoosting',\n",
    "          'RandomForest','XGBoost']\n",
    "\n",
    "\n",
    "models_list = {\n",
    "    'AdaBoost': adb_r(\n",
    "            n_estimators = 5000,\n",
    "            learning_rate = 0.03,\n",
    "            loss = 'square',\n",
    "            random_state = 44      \n",
    "    ),\n",
    "    'Catboost': catb_r(\n",
    "            learning_rate = 0.06,\n",
    "            n_estimators = 10000,\n",
    "            depth = 4,            \n",
    "            random_seed = 44,\n",
    "            verbose = False\n",
    "    ),\n",
    "    \n",
    "    'LightGBM': lgbm_r(\n",
    "            n_estimators = 5000,\n",
    "            learning_rate = 0.06,\n",
    "            max_depth = 4\n",
    "    ),\n",
    "    \n",
    "    'GradientBoosting': gb_r(\n",
    "            n_estimators = 10000,\n",
    "            learning_rate = 0.01,\n",
    "            max_depth = 8,\n",
    "            loss = 'huber'\n",
    "            random_state = 44       \n",
    "    ),\n",
    "    \n",
    "    'RandomForest': rf_r(\n",
    "            n_estimators = 1500,\n",
    "            max_depth = 12,\n",
    "            min_samples_split = 1,\n",
    "            random_state = 44     \n",
    "    ),\n",
    "    'XGBoost':xgb_r(\n",
    "            n_estimators = 1500,\n",
    "            learning_rate = 0.1,\n",
    "            max_depth = 4,\n",
    "            min_child_weight = 8,\n",
    "            gamma = 0,\n",
    "            random_state = 4\n",
    "    )\n",
    "}"
   ]
  },
  {
   "cell_type": "code",
   "execution_count": null,
   "id": "7d135218",
   "metadata": {},
   "outputs": [],
   "source": [
    "key_model_params = []\n",
    "\n",
    "for key in keys:\n",
    "    string = []\n",
    "    \n",
    "    rmse = rmse_cv(models_list[key],X_train, y_train)\n",
    "    \n",
    "    string.append(key)\n",
    "    string.append(rmse.mean())\n",
    "    \n",
    "    key_model_params.append(string)"
   ]
  },
  {
   "cell_type": "code",
   "execution_count": null,
   "id": "7a3375f0",
   "metadata": {},
   "outputs": [],
   "source": [
    "Cv_10_regressor = pd.DataFrame(key_model_params, \n",
    "                                columns =['Model',\n",
    "                                          'rmse_cv'])\n",
    "\n",
    "Cv_10_regressor.sort_values(by=['rmse_cv'], \n",
    "                                  ascending=True)"
   ]
  }
 ],
 "metadata": {
  "kernelspec": {
   "display_name": "Python 3 (ipykernel)",
   "language": "python",
   "name": "python3"
  },
  "language_info": {
   "codemirror_mode": {
    "name": "ipython",
    "version": 3
   },
   "file_extension": ".py",
   "mimetype": "text/x-python",
   "name": "python",
   "nbconvert_exporter": "python",
   "pygments_lexer": "ipython3",
   "version": "3.10.12"
  }
 },
 "nbformat": 4,
 "nbformat_minor": 5
}
