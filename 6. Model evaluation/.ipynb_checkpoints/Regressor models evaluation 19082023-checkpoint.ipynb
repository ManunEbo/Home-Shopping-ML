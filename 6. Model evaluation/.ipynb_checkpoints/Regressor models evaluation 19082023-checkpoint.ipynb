{
 "cells": [
  {
   "cell_type": "markdown",
   "id": "cc593844",
   "metadata": {},
   "source": [
    "<h1 style=\"color: green;\">Evaluating regressor final model</h1>\n",
    "<p>\n",
    "The following tasks are accomplished in this section:\n",
    "<ul>\n",
    "<li>Final feature selection using selectfrom on the best model</li>\n",
    "<li>Final model training</li>\n",
    "<li>Validate the final model</li>\n",
    "<li>Feature importance top features model</li>\n",
    "<li>Exporting the evaluated best model</li>\n",
    "</ul>\n",
    "</p>"
   ]
  },
  {
   "cell_type": "markdown",
   "id": "02a94981",
   "metadata": {},
   "source": [
    "<h1 style=\"color: green;\">Import libraries</h1>"
   ]
  },
  {
   "cell_type": "code",
   "execution_count": 1,
   "id": "7883ebbb",
   "metadata": {},
   "outputs": [],
   "source": [
    "import pandas as pd\n",
    "import numpy as np\n",
    "import matplotlib\n",
    "import matplotlib.pyplot as plt\n",
    "import seaborn as sb\n",
    "\n",
    "from sklearn.ensemble import GradientBoostingRegressor as gb_r\n",
    "\n",
    "from sklearn.ensemble import VotingRegressor as vot_r\n",
    "\n",
    "\n",
    "from sklearn.preprocessing import StandardScaler\n",
    "\n",
    "from sklearn.model_selection import GridSearchCV\n",
    "from sklearn.model_selection import cross_val_score\n",
    "\n",
    "from sklearn.metrics import make_scorer\n",
    "from sklearn.metrics import mean_squared_error\n",
    "from sklearn.metrics import explained_variance_score\n",
    "from sklearn.metrics import r2_score\n",
    "\n",
    "# Feature selection\n",
    "from sklearn.feature_selection import SelectFromModel\n",
    "\n",
    "\n",
    "import joblib\n",
    "\n",
    "import warnings\n",
    "warnings.filterwarnings('ignore')"
   ]
  },
  {
   "cell_type": "markdown",
   "id": "046e000f",
   "metadata": {},
   "source": [
    "<h1 style=\"color: green;\">Load the data</h1>"
   ]
  },
  {
   "cell_type": "code",
   "execution_count": 2,
   "id": "129d17fc",
   "metadata": {},
   "outputs": [],
   "source": [
    "X_train = pd.read_csv(\"../2. Data/homeshopping_Regressor_X_train.csv\")\n",
    "X_test = pd.read_csv(\"../2. Data/homeshopping_Regressor_X_test.csv\")"
   ]
  },
  {
   "cell_type": "code",
   "execution_count": 3,
   "id": "4b02598c",
   "metadata": {},
   "outputs": [
    {
     "data": {
      "text/html": [
       "<div>\n",
       "<style scoped>\n",
       "    .dataframe tbody tr th:only-of-type {\n",
       "        vertical-align: middle;\n",
       "    }\n",
       "\n",
       "    .dataframe tbody tr th {\n",
       "        vertical-align: top;\n",
       "    }\n",
       "\n",
       "    .dataframe thead th {\n",
       "        text-align: right;\n",
       "    }\n",
       "</style>\n",
       "<table border=\"1\" class=\"dataframe\">\n",
       "  <thead>\n",
       "    <tr style=\"text-align: right;\">\n",
       "      <th></th>\n",
       "      <th>Total_Nbr_of_Items</th>\n",
       "      <th>Total_Price</th>\n",
       "      <th>Date_diff</th>\n",
       "      <th>Nbr_trips_per_wk</th>\n",
       "      <th>Nbr_items_per_wk</th>\n",
       "      <th>Total_Exp_wk_perc</th>\n",
       "      <th>hour</th>\n",
       "      <th>Drinks</th>\n",
       "      <th>Bread_wk</th>\n",
       "      <th>Bread_exp_wk</th>\n",
       "      <th>...</th>\n",
       "      <th>Week_day_name_Monday</th>\n",
       "      <th>Week_day_name_Saturday</th>\n",
       "      <th>Week_day_name_Sunday</th>\n",
       "      <th>Week_day_name_Thursday</th>\n",
       "      <th>Week_day_name_Tuesday</th>\n",
       "      <th>Week_day_name_Wednesday</th>\n",
       "      <th>Part_of_day_Afternoon</th>\n",
       "      <th>Part_of_day_Evening</th>\n",
       "      <th>Part_of_day_Morning</th>\n",
       "      <th>target</th>\n",
       "    </tr>\n",
       "  </thead>\n",
       "  <tbody>\n",
       "    <tr>\n",
       "      <th>0</th>\n",
       "      <td>-0.839123</td>\n",
       "      <td>-0.116272</td>\n",
       "      <td>-0.516401</td>\n",
       "      <td>-0.786982</td>\n",
       "      <td>-2.325070</td>\n",
       "      <td>0.958724</td>\n",
       "      <td>-0.281813</td>\n",
       "      <td>-0.540089</td>\n",
       "      <td>-1.338859</td>\n",
       "      <td>-0.489901</td>\n",
       "      <td>...</td>\n",
       "      <td>-0.456258</td>\n",
       "      <td>-0.484347</td>\n",
       "      <td>-0.299122</td>\n",
       "      <td>2.461060</td>\n",
       "      <td>-0.387298</td>\n",
       "      <td>-0.419686</td>\n",
       "      <td>1.031079</td>\n",
       "      <td>-0.373429</td>\n",
       "      <td>-0.709670</td>\n",
       "      <td>-0.360978</td>\n",
       "    </tr>\n",
       "    <tr>\n",
       "      <th>1</th>\n",
       "      <td>1.789132</td>\n",
       "      <td>0.101658</td>\n",
       "      <td>0.463288</td>\n",
       "      <td>-0.504160</td>\n",
       "      <td>-0.999776</td>\n",
       "      <td>1.714483</td>\n",
       "      <td>-0.534346</td>\n",
       "      <td>0.589188</td>\n",
       "      <td>-0.415046</td>\n",
       "      <td>0.897160</td>\n",
       "      <td>...</td>\n",
       "      <td>-0.456258</td>\n",
       "      <td>2.064634</td>\n",
       "      <td>-0.299122</td>\n",
       "      <td>-0.406329</td>\n",
       "      <td>-0.387298</td>\n",
       "      <td>-0.419686</td>\n",
       "      <td>-0.969858</td>\n",
       "      <td>-0.373429</td>\n",
       "      <td>1.409105</td>\n",
       "      <td>-0.316871</td>\n",
       "    </tr>\n",
       "    <tr>\n",
       "      <th>2</th>\n",
       "      <td>-0.138255</td>\n",
       "      <td>-0.131116</td>\n",
       "      <td>-0.516401</td>\n",
       "      <td>-1.352626</td>\n",
       "      <td>-1.467527</td>\n",
       "      <td>1.564838</td>\n",
       "      <td>0.728321</td>\n",
       "      <td>-0.540089</td>\n",
       "      <td>-0.415046</td>\n",
       "      <td>-0.489901</td>\n",
       "      <td>...</td>\n",
       "      <td>-0.456258</td>\n",
       "      <td>-0.484347</td>\n",
       "      <td>-0.299122</td>\n",
       "      <td>-0.406329</td>\n",
       "      <td>-0.387298</td>\n",
       "      <td>2.382734</td>\n",
       "      <td>1.031079</td>\n",
       "      <td>-0.373429</td>\n",
       "      <td>-0.709670</td>\n",
       "      <td>-0.392313</td>\n",
       "    </tr>\n",
       "    <tr>\n",
       "      <th>3</th>\n",
       "      <td>1.088264</td>\n",
       "      <td>-0.164677</td>\n",
       "      <td>0.789851</td>\n",
       "      <td>-0.504160</td>\n",
       "      <td>-0.999776</td>\n",
       "      <td>1.297044</td>\n",
       "      <td>1.485921</td>\n",
       "      <td>0.589188</td>\n",
       "      <td>-0.415046</td>\n",
       "      <td>-0.120018</td>\n",
       "      <td>...</td>\n",
       "      <td>-0.456258</td>\n",
       "      <td>-0.484347</td>\n",
       "      <td>-0.299122</td>\n",
       "      <td>2.461060</td>\n",
       "      <td>-0.387298</td>\n",
       "      <td>-0.419686</td>\n",
       "      <td>-0.969858</td>\n",
       "      <td>2.677882</td>\n",
       "      <td>-0.709670</td>\n",
       "      <td>-0.396774</td>\n",
       "    </tr>\n",
       "    <tr>\n",
       "      <th>4</th>\n",
       "      <td>-0.839123</td>\n",
       "      <td>-0.131116</td>\n",
       "      <td>-0.516401</td>\n",
       "      <td>-0.221339</td>\n",
       "      <td>0.247559</td>\n",
       "      <td>0.049752</td>\n",
       "      <td>-1.291946</td>\n",
       "      <td>-0.540089</td>\n",
       "      <td>0.508766</td>\n",
       "      <td>-0.489901</td>\n",
       "      <td>...</td>\n",
       "      <td>-0.456258</td>\n",
       "      <td>-0.484347</td>\n",
       "      <td>-0.299122</td>\n",
       "      <td>-0.406329</td>\n",
       "      <td>2.581989</td>\n",
       "      <td>-0.419686</td>\n",
       "      <td>-0.969858</td>\n",
       "      <td>-0.373429</td>\n",
       "      <td>1.409105</td>\n",
       "      <td>-0.278559</td>\n",
       "    </tr>\n",
       "  </tbody>\n",
       "</table>\n",
       "<p>5 rows × 76 columns</p>\n",
       "</div>"
      ],
      "text/plain": [
       "   Total_Nbr_of_Items  Total_Price  Date_diff  Nbr_trips_per_wk  \\\n",
       "0           -0.839123    -0.116272  -0.516401         -0.786982   \n",
       "1            1.789132     0.101658   0.463288         -0.504160   \n",
       "2           -0.138255    -0.131116  -0.516401         -1.352626   \n",
       "3            1.088264    -0.164677   0.789851         -0.504160   \n",
       "4           -0.839123    -0.131116  -0.516401         -0.221339   \n",
       "\n",
       "   Nbr_items_per_wk  Total_Exp_wk_perc      hour    Drinks  Bread_wk  \\\n",
       "0         -2.325070           0.958724 -0.281813 -0.540089 -1.338859   \n",
       "1         -0.999776           1.714483 -0.534346  0.589188 -0.415046   \n",
       "2         -1.467527           1.564838  0.728321 -0.540089 -0.415046   \n",
       "3         -0.999776           1.297044  1.485921  0.589188 -0.415046   \n",
       "4          0.247559           0.049752 -1.291946 -0.540089  0.508766   \n",
       "\n",
       "   Bread_exp_wk  ...  Week_day_name_Monday  Week_day_name_Saturday  \\\n",
       "0     -0.489901  ...             -0.456258               -0.484347   \n",
       "1      0.897160  ...             -0.456258                2.064634   \n",
       "2     -0.489901  ...             -0.456258               -0.484347   \n",
       "3     -0.120018  ...             -0.456258               -0.484347   \n",
       "4     -0.489901  ...             -0.456258               -0.484347   \n",
       "\n",
       "   Week_day_name_Sunday  Week_day_name_Thursday  Week_day_name_Tuesday  \\\n",
       "0             -0.299122                2.461060              -0.387298   \n",
       "1             -0.299122               -0.406329              -0.387298   \n",
       "2             -0.299122               -0.406329              -0.387298   \n",
       "3             -0.299122                2.461060              -0.387298   \n",
       "4             -0.299122               -0.406329               2.581989   \n",
       "\n",
       "   Week_day_name_Wednesday  Part_of_day_Afternoon  Part_of_day_Evening  \\\n",
       "0                -0.419686               1.031079            -0.373429   \n",
       "1                -0.419686              -0.969858            -0.373429   \n",
       "2                 2.382734               1.031079            -0.373429   \n",
       "3                -0.419686              -0.969858             2.677882   \n",
       "4                -0.419686              -0.969858            -0.373429   \n",
       "\n",
       "   Part_of_day_Morning    target  \n",
       "0            -0.709670 -0.360978  \n",
       "1             1.409105 -0.316871  \n",
       "2            -0.709670 -0.392313  \n",
       "3            -0.709670 -0.396774  \n",
       "4             1.409105 -0.278559  \n",
       "\n",
       "[5 rows x 76 columns]"
      ]
     },
     "execution_count": 3,
     "metadata": {},
     "output_type": "execute_result"
    }
   ],
   "source": [
    "X_train.head()"
   ]
  },
  {
   "cell_type": "code",
   "execution_count": 4,
   "id": "0237236c",
   "metadata": {},
   "outputs": [],
   "source": [
    "# Extract y_train and y_test from X_train and X_test\n",
    "y_train = X_train.target.values\n",
    "y_test = X_test.target.values\n",
    "\n",
    "# drop y_train and y_test from X_train and X_test\n",
    "X_train.drop(['target'], axis=1, inplace=True)\n",
    "X_test.drop(['target'], axis=1, inplace=True)"
   ]
  },
  {
   "cell_type": "markdown",
   "id": "cb452d35",
   "metadata": {},
   "source": [
    "<h1 style=\"color: green;\">Final feature selection using selectfrom </h1>"
   ]
  },
  {
   "cell_type": "code",
   "execution_count": 5,
   "id": "8a1b0b83",
   "metadata": {},
   "outputs": [],
   "source": [
    "GBR = gb_r(\n",
    "    learning_rate = 0.01,\n",
    "    loss= 'huber',\n",
    "    max_depth = 8,\n",
    "    n_estimators = 5000,\n",
    "    random_state = 44\n",
    "    )"
   ]
  },
  {
   "cell_type": "code",
   "execution_count": 6,
   "id": "1064b919",
   "metadata": {},
   "outputs": [
    {
     "data": {
      "text/html": [
       "<style>#sk-container-id-1 {color: black;background-color: white;}#sk-container-id-1 pre{padding: 0;}#sk-container-id-1 div.sk-toggleable {background-color: white;}#sk-container-id-1 label.sk-toggleable__label {cursor: pointer;display: block;width: 100%;margin-bottom: 0;padding: 0.3em;box-sizing: border-box;text-align: center;}#sk-container-id-1 label.sk-toggleable__label-arrow:before {content: \"▸\";float: left;margin-right: 0.25em;color: #696969;}#sk-container-id-1 label.sk-toggleable__label-arrow:hover:before {color: black;}#sk-container-id-1 div.sk-estimator:hover label.sk-toggleable__label-arrow:before {color: black;}#sk-container-id-1 div.sk-toggleable__content {max-height: 0;max-width: 0;overflow: hidden;text-align: left;background-color: #f0f8ff;}#sk-container-id-1 div.sk-toggleable__content pre {margin: 0.2em;color: black;border-radius: 0.25em;background-color: #f0f8ff;}#sk-container-id-1 input.sk-toggleable__control:checked~div.sk-toggleable__content {max-height: 200px;max-width: 100%;overflow: auto;}#sk-container-id-1 input.sk-toggleable__control:checked~label.sk-toggleable__label-arrow:before {content: \"▾\";}#sk-container-id-1 div.sk-estimator input.sk-toggleable__control:checked~label.sk-toggleable__label {background-color: #d4ebff;}#sk-container-id-1 div.sk-label input.sk-toggleable__control:checked~label.sk-toggleable__label {background-color: #d4ebff;}#sk-container-id-1 input.sk-hidden--visually {border: 0;clip: rect(1px 1px 1px 1px);clip: rect(1px, 1px, 1px, 1px);height: 1px;margin: -1px;overflow: hidden;padding: 0;position: absolute;width: 1px;}#sk-container-id-1 div.sk-estimator {font-family: monospace;background-color: #f0f8ff;border: 1px dotted black;border-radius: 0.25em;box-sizing: border-box;margin-bottom: 0.5em;}#sk-container-id-1 div.sk-estimator:hover {background-color: #d4ebff;}#sk-container-id-1 div.sk-parallel-item::after {content: \"\";width: 100%;border-bottom: 1px solid gray;flex-grow: 1;}#sk-container-id-1 div.sk-label:hover label.sk-toggleable__label {background-color: #d4ebff;}#sk-container-id-1 div.sk-serial::before {content: \"\";position: absolute;border-left: 1px solid gray;box-sizing: border-box;top: 0;bottom: 0;left: 50%;z-index: 0;}#sk-container-id-1 div.sk-serial {display: flex;flex-direction: column;align-items: center;background-color: white;padding-right: 0.2em;padding-left: 0.2em;position: relative;}#sk-container-id-1 div.sk-item {position: relative;z-index: 1;}#sk-container-id-1 div.sk-parallel {display: flex;align-items: stretch;justify-content: center;background-color: white;position: relative;}#sk-container-id-1 div.sk-item::before, #sk-container-id-1 div.sk-parallel-item::before {content: \"\";position: absolute;border-left: 1px solid gray;box-sizing: border-box;top: 0;bottom: 0;left: 50%;z-index: -1;}#sk-container-id-1 div.sk-parallel-item {display: flex;flex-direction: column;z-index: 1;position: relative;background-color: white;}#sk-container-id-1 div.sk-parallel-item:first-child::after {align-self: flex-end;width: 50%;}#sk-container-id-1 div.sk-parallel-item:last-child::after {align-self: flex-start;width: 50%;}#sk-container-id-1 div.sk-parallel-item:only-child::after {width: 0;}#sk-container-id-1 div.sk-dashed-wrapped {border: 1px dashed gray;margin: 0 0.4em 0.5em 0.4em;box-sizing: border-box;padding-bottom: 0.4em;background-color: white;}#sk-container-id-1 div.sk-label label {font-family: monospace;font-weight: bold;display: inline-block;line-height: 1.2em;}#sk-container-id-1 div.sk-label-container {text-align: center;}#sk-container-id-1 div.sk-container {/* jupyter's `normalize.less` sets `[hidden] { display: none; }` but bootstrap.min.css set `[hidden] { display: none !important; }` so we also need the `!important` here to be able to override the default hidden behavior on the sphinx rendered scikit-learn.org. See: https://github.com/scikit-learn/scikit-learn/issues/21755 */display: inline-block !important;position: relative;}#sk-container-id-1 div.sk-text-repr-fallback {display: none;}</style><div id=\"sk-container-id-1\" class=\"sk-top-container\"><div class=\"sk-text-repr-fallback\"><pre>SelectFromModel(estimator=GradientBoostingRegressor(learning_rate=0.01,\n",
       "                                                    loss=&#x27;huber&#x27;, max_depth=8,\n",
       "                                                    n_estimators=5000,\n",
       "                                                    random_state=44))</pre><b>In a Jupyter environment, please rerun this cell to show the HTML representation or trust the notebook. <br />On GitHub, the HTML representation is unable to render, please try loading this page with nbviewer.org.</b></div><div class=\"sk-container\" hidden><div class=\"sk-item sk-dashed-wrapped\"><div class=\"sk-label-container\"><div class=\"sk-label sk-toggleable\"><input class=\"sk-toggleable__control sk-hidden--visually\" id=\"sk-estimator-id-1\" type=\"checkbox\" ><label for=\"sk-estimator-id-1\" class=\"sk-toggleable__label sk-toggleable__label-arrow\">SelectFromModel</label><div class=\"sk-toggleable__content\"><pre>SelectFromModel(estimator=GradientBoostingRegressor(learning_rate=0.01,\n",
       "                                                    loss=&#x27;huber&#x27;, max_depth=8,\n",
       "                                                    n_estimators=5000,\n",
       "                                                    random_state=44))</pre></div></div></div><div class=\"sk-parallel\"><div class=\"sk-parallel-item\"><div class=\"sk-item\"><div class=\"sk-label-container\"><div class=\"sk-label sk-toggleable\"><input class=\"sk-toggleable__control sk-hidden--visually\" id=\"sk-estimator-id-2\" type=\"checkbox\" ><label for=\"sk-estimator-id-2\" class=\"sk-toggleable__label sk-toggleable__label-arrow\">estimator: GradientBoostingRegressor</label><div class=\"sk-toggleable__content\"><pre>GradientBoostingRegressor(learning_rate=0.01, loss=&#x27;huber&#x27;, max_depth=8,\n",
       "                          n_estimators=5000, random_state=44)</pre></div></div></div><div class=\"sk-serial\"><div class=\"sk-item\"><div class=\"sk-estimator sk-toggleable\"><input class=\"sk-toggleable__control sk-hidden--visually\" id=\"sk-estimator-id-3\" type=\"checkbox\" ><label for=\"sk-estimator-id-3\" class=\"sk-toggleable__label sk-toggleable__label-arrow\">GradientBoostingRegressor</label><div class=\"sk-toggleable__content\"><pre>GradientBoostingRegressor(learning_rate=0.01, loss=&#x27;huber&#x27;, max_depth=8,\n",
       "                          n_estimators=5000, random_state=44)</pre></div></div></div></div></div></div></div></div></div></div>"
      ],
      "text/plain": [
       "SelectFromModel(estimator=GradientBoostingRegressor(learning_rate=0.01,\n",
       "                                                    loss='huber', max_depth=8,\n",
       "                                                    n_estimators=5000,\n",
       "                                                    random_state=44))"
      ]
     },
     "execution_count": 6,
     "metadata": {},
     "output_type": "execute_result"
    }
   ],
   "source": [
    "# Below final feature selection is done with SelectFromModel\n",
    "\n",
    "sel_ = SelectFromModel(GBR)\n",
    "\n",
    "# Fitting the SelectFromModel with the data\n",
    "sel_.fit(X_train, y_train)"
   ]
  },
  {
   "cell_type": "code",
   "execution_count": 7,
   "id": "b69d5309",
   "metadata": {},
   "outputs": [
    {
     "data": {
      "text/plain": [
       "10"
      ]
     },
     "execution_count": 7,
     "metadata": {},
     "output_type": "execute_result"
    }
   ],
   "source": [
    "# Count of the number of features selected\n",
    "selected_feat = X_train.columns[(sel_.get_support())]\n",
    "\n",
    "len(selected_feat)"
   ]
  },
  {
   "cell_type": "markdown",
   "id": "2da0c512",
   "metadata": {},
   "source": [
    "<b style=\"color: red;\">Note the selected number of features is less than the expected numbers given feature importance .i.e. this is suspicious</b>"
   ]
  },
  {
   "cell_type": "code",
   "execution_count": 8,
   "id": "0f8a1588",
   "metadata": {},
   "outputs": [
    {
     "data": {
      "text/plain": [
       "Index(['Total_Price', 'Nbr_trips_per_wk', 'Nbr_items_per_wk',\n",
       "       'Total_Exp_wk_perc', 'Cooking_base_wk', 'Breakfast_wk', 'Transport_wk',\n",
       "       'Electronics_wk', 'Education_wk', 'Cosmetics_and_selfcare_wk'],\n",
       "      dtype='object')"
      ]
     },
     "execution_count": 8,
     "metadata": {},
     "output_type": "execute_result"
    }
   ],
   "source": [
    "# Listing the features\n",
    "selected_feat"
   ]
  },
  {
   "cell_type": "markdown",
   "id": "229b3ea5",
   "metadata": {},
   "source": [
    "<h3 style=\"color: green;\">Comparing the importance list and the selected features list to see if they are the same </h3>"
   ]
  },
  {
   "cell_type": "code",
   "execution_count": 9,
   "id": "0dc887c0",
   "metadata": {},
   "outputs": [],
   "source": [
    "GB_reg = joblib.load(\"../8. Models/Regressor_models/GB_reg_gridsearch_best_model\")"
   ]
  },
  {
   "cell_type": "code",
   "execution_count": 10,
   "id": "91e4affb",
   "metadata": {},
   "outputs": [],
   "source": [
    "GBR_imp = pd.Series(GB_reg.feature_importances_, \n",
    "                    index=X_train.columns)"
   ]
  },
  {
   "cell_type": "code",
   "execution_count": 11,
   "id": "60f443be",
   "metadata": {},
   "outputs": [
    {
     "data": {
      "text/plain": [
       "Index(['Breakfast_wk', 'Nbr_items_per_wk', 'Cooking_base_wk', 'Transport_wk',\n",
       "       'Cosmetics_and_selfcare_wk', 'Electronics_wk', 'Education_wk',\n",
       "       'Total_Exp_wk_perc', 'Total_Price', 'Nbr_trips_per_wk'],\n",
       "      dtype='object')"
      ]
     },
     "execution_count": 11,
     "metadata": {},
     "output_type": "execute_result"
    }
   ],
   "source": [
    "# Putting the feature importance in a list\n",
    "importance_list = GBR_imp.nlargest(10).sort_values().index\n",
    "importance_list"
   ]
  },
  {
   "cell_type": "code",
   "execution_count": 12,
   "id": "d7b01b9f",
   "metadata": {},
   "outputs": [],
   "source": [
    "importance_list = pd.Series(importance_list)"
   ]
  },
  {
   "cell_type": "code",
   "execution_count": 13,
   "id": "f96b800e",
   "metadata": {},
   "outputs": [
    {
     "data": {
      "text/plain": [
       "0    True\n",
       "2    True\n",
       "4    True\n",
       "6    True\n",
       "5    True\n",
       "1    True\n",
       "9    True\n",
       "7    True\n",
       "8    True\n",
       "3    True\n",
       "dtype: bool"
      ]
     },
     "execution_count": 13,
     "metadata": {},
     "output_type": "execute_result"
    }
   ],
   "source": [
    "importance_list.sort_values() == selected_feat.sort_values()"
   ]
  },
  {
   "cell_type": "markdown",
   "id": "d9352ef6",
   "metadata": {},
   "source": [
    "Above,it is shown that the feature importance, top ten list, is exactly the same as the feature selection list."
   ]
  },
  {
   "cell_type": "markdown",
   "id": "269494ef",
   "metadata": {},
   "source": [
    "<h1 style=\"color: green;\">Final model </h1>\n",
    "<p>\n",
    "Now that the final feature selection is done, the best model, hyperparameter tuned from GridSearchCV, will be<br>\n",
    "re-run using the final features from the SelectFromModel output.<br>\n",
    "This is done to streamline the data preprocessing into an efficient pipeline for making predictions faster.\n",
    "</p>"
   ]
  },
  {
   "cell_type": "markdown",
   "id": "43116f51",
   "metadata": {},
   "source": [
    "<h3 style=\"color: green;\">Import the unscaled model data</h3>"
   ]
  },
  {
   "cell_type": "code",
   "execution_count": 14,
   "id": "67a635c8",
   "metadata": {},
   "outputs": [],
   "source": [
    "X_train_unscaled = pd.read_csv(\"../2. Data/X_train_unscaled.csv\")\n",
    "X_test_unscaled = pd.read_csv(\"../2. Data/X_test_unscaled.csv\")"
   ]
  },
  {
   "cell_type": "code",
   "execution_count": 15,
   "id": "628bd5aa",
   "metadata": {},
   "outputs": [],
   "source": [
    "# Extracting the target\n",
    "y_train = X_train_unscaled.y_train\n",
    "y_test = X_test_unscaled.y_test"
   ]
  },
  {
   "cell_type": "code",
   "execution_count": 16,
   "id": "1191b3bc",
   "metadata": {},
   "outputs": [],
   "source": [
    "X_train_unscaled = X_train_unscaled[selected_feat]\n",
    "X_test_unscaled = X_test_unscaled[selected_feat]"
   ]
  },
  {
   "cell_type": "code",
   "execution_count": 17,
   "id": "1931036b",
   "metadata": {},
   "outputs": [
    {
     "data": {
      "text/plain": [
       "((621, 10), (267, 10))"
      ]
     },
     "execution_count": 17,
     "metadata": {},
     "output_type": "execute_result"
    }
   ],
   "source": [
    "# checking the shapes of the datasets\n",
    "X_train_unscaled.shape, X_test_unscaled.shape"
   ]
  },
  {
   "cell_type": "markdown",
   "id": "f459e3e0",
   "metadata": {},
   "source": [
    "<h3 style=\"color: green;\">Scaling X_train and X_test</h3>"
   ]
  },
  {
   "cell_type": "code",
   "execution_count": 18,
   "id": "369a093d",
   "metadata": {},
   "outputs": [],
   "source": [
    "X_scaler = StandardScaler().set_output(transform=\"pandas\")\n",
    "X_scaler.fit(X_train_unscaled)\n",
    "\n",
    "# Saving the X_scaler using joblib\n",
    "# joblib.dump(X_scaler, \"../8. Models/StandardScaler_models/X_Scaler_19082023\")\n",
    "\n",
    "X_train_final = X_scaler.transform(X_train_unscaled)\n",
    "X_test_final = X_scaler.transform(X_test_unscaled)"
   ]
  },
  {
   "cell_type": "code",
   "execution_count": 19,
   "id": "15312baf",
   "metadata": {},
   "outputs": [
    {
     "data": {
      "text/html": [
       "<div>\n",
       "<style scoped>\n",
       "    .dataframe tbody tr th:only-of-type {\n",
       "        vertical-align: middle;\n",
       "    }\n",
       "\n",
       "    .dataframe tbody tr th {\n",
       "        vertical-align: top;\n",
       "    }\n",
       "\n",
       "    .dataframe thead th {\n",
       "        text-align: right;\n",
       "    }\n",
       "</style>\n",
       "<table border=\"1\" class=\"dataframe\">\n",
       "  <thead>\n",
       "    <tr style=\"text-align: right;\">\n",
       "      <th></th>\n",
       "      <th>Total_Price</th>\n",
       "      <th>Nbr_trips_per_wk</th>\n",
       "      <th>Nbr_items_per_wk</th>\n",
       "      <th>Total_Exp_wk_perc</th>\n",
       "      <th>Cooking_base_wk</th>\n",
       "      <th>Breakfast_wk</th>\n",
       "      <th>Transport_wk</th>\n",
       "      <th>Electronics_wk</th>\n",
       "      <th>Education_wk</th>\n",
       "      <th>Cosmetics_and_selfcare_wk</th>\n",
       "    </tr>\n",
       "  </thead>\n",
       "  <tbody>\n",
       "    <tr>\n",
       "      <th>0</th>\n",
       "      <td>0.184136</td>\n",
       "      <td>-0.479869</td>\n",
       "      <td>-0.784424</td>\n",
       "      <td>-2.040103</td>\n",
       "      <td>0.209359</td>\n",
       "      <td>-0.212712</td>\n",
       "      <td>-0.163119</td>\n",
       "      <td>2.155373</td>\n",
       "      <td>-0.28943</td>\n",
       "      <td>-0.038553</td>\n",
       "    </tr>\n",
       "    <tr>\n",
       "      <th>1</th>\n",
       "      <td>1.196071</td>\n",
       "      <td>-0.479869</td>\n",
       "      <td>-1.593605</td>\n",
       "      <td>-0.194649</td>\n",
       "      <td>0.209359</td>\n",
       "      <td>-0.212712</td>\n",
       "      <td>-0.163119</td>\n",
       "      <td>-0.309612</td>\n",
       "      <td>-0.28943</td>\n",
       "      <td>-0.038553</td>\n",
       "    </tr>\n",
       "    <tr>\n",
       "      <th>2</th>\n",
       "      <td>0.184136</td>\n",
       "      <td>-1.416972</td>\n",
       "      <td>-1.593605</td>\n",
       "      <td>-2.040103</td>\n",
       "      <td>0.209359</td>\n",
       "      <td>-0.212712</td>\n",
       "      <td>-0.163119</td>\n",
       "      <td>-0.309612</td>\n",
       "      <td>-0.28943</td>\n",
       "      <td>-0.038553</td>\n",
       "    </tr>\n",
       "    <tr>\n",
       "      <th>3</th>\n",
       "      <td>-0.827799</td>\n",
       "      <td>-0.479869</td>\n",
       "      <td>-1.593605</td>\n",
       "      <td>-2.040103</td>\n",
       "      <td>0.209359</td>\n",
       "      <td>-0.212712</td>\n",
       "      <td>-0.163119</td>\n",
       "      <td>-0.309612</td>\n",
       "      <td>-0.28943</td>\n",
       "      <td>-0.038553</td>\n",
       "    </tr>\n",
       "    <tr>\n",
       "      <th>4</th>\n",
       "      <td>0.184136</td>\n",
       "      <td>-0.479869</td>\n",
       "      <td>0.024758</td>\n",
       "      <td>-1.117376</td>\n",
       "      <td>0.209359</td>\n",
       "      <td>-0.212712</td>\n",
       "      <td>-0.163119</td>\n",
       "      <td>-0.309612</td>\n",
       "      <td>-0.28943</td>\n",
       "      <td>2.355608</td>\n",
       "    </tr>\n",
       "  </tbody>\n",
       "</table>\n",
       "</div>"
      ],
      "text/plain": [
       "   Total_Price  Nbr_trips_per_wk  Nbr_items_per_wk  Total_Exp_wk_perc  \\\n",
       "0     0.184136         -0.479869         -0.784424          -2.040103   \n",
       "1     1.196071         -0.479869         -1.593605          -0.194649   \n",
       "2     0.184136         -1.416972         -1.593605          -2.040103   \n",
       "3    -0.827799         -0.479869         -1.593605          -2.040103   \n",
       "4     0.184136         -0.479869          0.024758          -1.117376   \n",
       "\n",
       "   Cooking_base_wk  Breakfast_wk  Transport_wk  Electronics_wk  Education_wk  \\\n",
       "0         0.209359     -0.212712     -0.163119        2.155373      -0.28943   \n",
       "1         0.209359     -0.212712     -0.163119       -0.309612      -0.28943   \n",
       "2         0.209359     -0.212712     -0.163119       -0.309612      -0.28943   \n",
       "3         0.209359     -0.212712     -0.163119       -0.309612      -0.28943   \n",
       "4         0.209359     -0.212712     -0.163119       -0.309612      -0.28943   \n",
       "\n",
       "   Cosmetics_and_selfcare_wk  \n",
       "0                  -0.038553  \n",
       "1                  -0.038553  \n",
       "2                  -0.038553  \n",
       "3                  -0.038553  \n",
       "4                   2.355608  "
      ]
     },
     "execution_count": 19,
     "metadata": {},
     "output_type": "execute_result"
    }
   ],
   "source": [
    "X_train_final.head()"
   ]
  },
  {
   "cell_type": "code",
   "execution_count": 20,
   "id": "efe2bdbc",
   "metadata": {},
   "outputs": [
    {
     "data": {
      "text/html": [
       "<div>\n",
       "<style scoped>\n",
       "    .dataframe tbody tr th:only-of-type {\n",
       "        vertical-align: middle;\n",
       "    }\n",
       "\n",
       "    .dataframe tbody tr th {\n",
       "        vertical-align: top;\n",
       "    }\n",
       "\n",
       "    .dataframe thead th {\n",
       "        text-align: right;\n",
       "    }\n",
       "</style>\n",
       "<table border=\"1\" class=\"dataframe\">\n",
       "  <thead>\n",
       "    <tr style=\"text-align: right;\">\n",
       "      <th></th>\n",
       "      <th>Total_Price</th>\n",
       "      <th>Nbr_trips_per_wk</th>\n",
       "      <th>Nbr_items_per_wk</th>\n",
       "      <th>Total_Exp_wk_perc</th>\n",
       "      <th>Cooking_base_wk</th>\n",
       "      <th>Breakfast_wk</th>\n",
       "      <th>Transport_wk</th>\n",
       "      <th>Electronics_wk</th>\n",
       "      <th>Education_wk</th>\n",
       "      <th>Cosmetics_and_selfcare_wk</th>\n",
       "    </tr>\n",
       "  </thead>\n",
       "  <tbody>\n",
       "    <tr>\n",
       "      <th>0</th>\n",
       "      <td>-0.827799</td>\n",
       "      <td>1.394336</td>\n",
       "      <td>0.024758</td>\n",
       "      <td>0.728078</td>\n",
       "      <td>0.209359</td>\n",
       "      <td>-0.212712</td>\n",
       "      <td>-0.163119</td>\n",
       "      <td>-0.309612</td>\n",
       "      <td>-0.28943</td>\n",
       "      <td>-0.038553</td>\n",
       "    </tr>\n",
       "    <tr>\n",
       "      <th>1</th>\n",
       "      <td>0.184136</td>\n",
       "      <td>0.457234</td>\n",
       "      <td>-0.784424</td>\n",
       "      <td>0.728078</td>\n",
       "      <td>-1.547558</td>\n",
       "      <td>-0.212712</td>\n",
       "      <td>-0.163119</td>\n",
       "      <td>-0.309612</td>\n",
       "      <td>-0.28943</td>\n",
       "      <td>-1.235634</td>\n",
       "    </tr>\n",
       "    <tr>\n",
       "      <th>2</th>\n",
       "      <td>-0.827799</td>\n",
       "      <td>-0.479869</td>\n",
       "      <td>0.833939</td>\n",
       "      <td>0.728078</td>\n",
       "      <td>-1.547558</td>\n",
       "      <td>-0.212712</td>\n",
       "      <td>-0.163119</td>\n",
       "      <td>-0.309612</td>\n",
       "      <td>-0.28943</td>\n",
       "      <td>-0.038553</td>\n",
       "    </tr>\n",
       "    <tr>\n",
       "      <th>3</th>\n",
       "      <td>-0.827799</td>\n",
       "      <td>-0.479869</td>\n",
       "      <td>0.833939</td>\n",
       "      <td>0.728078</td>\n",
       "      <td>0.209359</td>\n",
       "      <td>-0.212712</td>\n",
       "      <td>-0.163119</td>\n",
       "      <td>-0.309612</td>\n",
       "      <td>-0.28943</td>\n",
       "      <td>-0.038553</td>\n",
       "    </tr>\n",
       "    <tr>\n",
       "      <th>4</th>\n",
       "      <td>1.196071</td>\n",
       "      <td>-0.479869</td>\n",
       "      <td>-1.593605</td>\n",
       "      <td>0.728078</td>\n",
       "      <td>0.209359</td>\n",
       "      <td>-0.212712</td>\n",
       "      <td>-0.163119</td>\n",
       "      <td>-0.309612</td>\n",
       "      <td>-0.28943</td>\n",
       "      <td>-0.038553</td>\n",
       "    </tr>\n",
       "  </tbody>\n",
       "</table>\n",
       "</div>"
      ],
      "text/plain": [
       "   Total_Price  Nbr_trips_per_wk  Nbr_items_per_wk  Total_Exp_wk_perc  \\\n",
       "0    -0.827799          1.394336          0.024758           0.728078   \n",
       "1     0.184136          0.457234         -0.784424           0.728078   \n",
       "2    -0.827799         -0.479869          0.833939           0.728078   \n",
       "3    -0.827799         -0.479869          0.833939           0.728078   \n",
       "4     1.196071         -0.479869         -1.593605           0.728078   \n",
       "\n",
       "   Cooking_base_wk  Breakfast_wk  Transport_wk  Electronics_wk  Education_wk  \\\n",
       "0         0.209359     -0.212712     -0.163119       -0.309612      -0.28943   \n",
       "1        -1.547558     -0.212712     -0.163119       -0.309612      -0.28943   \n",
       "2        -1.547558     -0.212712     -0.163119       -0.309612      -0.28943   \n",
       "3         0.209359     -0.212712     -0.163119       -0.309612      -0.28943   \n",
       "4         0.209359     -0.212712     -0.163119       -0.309612      -0.28943   \n",
       "\n",
       "   Cosmetics_and_selfcare_wk  \n",
       "0                  -0.038553  \n",
       "1                  -1.235634  \n",
       "2                  -0.038553  \n",
       "3                  -0.038553  \n",
       "4                  -0.038553  "
      ]
     },
     "execution_count": 20,
     "metadata": {},
     "output_type": "execute_result"
    }
   ],
   "source": [
    "X_test_final.head()"
   ]
  },
  {
   "cell_type": "markdown",
   "id": "b2ec307c",
   "metadata": {},
   "source": [
    "<h3 style=\"color: green;\">Loading and applying the y_scaler</h3>"
   ]
  },
  {
   "cell_type": "code",
   "execution_count": 21,
   "id": "783762bc",
   "metadata": {},
   "outputs": [],
   "source": [
    "y_scaler =  joblib.load(\"../8. Models/StandardScaler_models/y_scaler26072023\")"
   ]
  },
  {
   "cell_type": "code",
   "execution_count": 22,
   "id": "28f943c9",
   "metadata": {},
   "outputs": [],
   "source": [
    "# Reshaping y_train and y_test\n",
    "y_train = y_train.values.reshape(-1,1)\n",
    "y_test = y_test.values.reshape(-1,1)\n",
    "\n",
    "\n",
    "y_train_final = y_scaler.transform(y_train)\n",
    "y_test_final = y_scaler.transform(y_test)"
   ]
  },
  {
   "cell_type": "markdown",
   "id": "52f48a67",
   "metadata": {},
   "source": [
    "<h1 style=\"color: green;\">Final model training</h1>"
   ]
  },
  {
   "cell_type": "code",
   "execution_count": 23,
   "id": "c6adb0db",
   "metadata": {},
   "outputs": [],
   "source": [
    "GBR_final = gb_r(\n",
    "    learning_rate = 0.01,\n",
    "    loss= 'huber',\n",
    "    max_depth = 8,\n",
    "    n_estimators = 5000,\n",
    "    random_state = 44\n",
    "    )"
   ]
  },
  {
   "cell_type": "code",
   "execution_count": 24,
   "id": "d4215111",
   "metadata": {},
   "outputs": [
    {
     "data": {
      "text/html": [
       "<style>#sk-container-id-2 {color: black;background-color: white;}#sk-container-id-2 pre{padding: 0;}#sk-container-id-2 div.sk-toggleable {background-color: white;}#sk-container-id-2 label.sk-toggleable__label {cursor: pointer;display: block;width: 100%;margin-bottom: 0;padding: 0.3em;box-sizing: border-box;text-align: center;}#sk-container-id-2 label.sk-toggleable__label-arrow:before {content: \"▸\";float: left;margin-right: 0.25em;color: #696969;}#sk-container-id-2 label.sk-toggleable__label-arrow:hover:before {color: black;}#sk-container-id-2 div.sk-estimator:hover label.sk-toggleable__label-arrow:before {color: black;}#sk-container-id-2 div.sk-toggleable__content {max-height: 0;max-width: 0;overflow: hidden;text-align: left;background-color: #f0f8ff;}#sk-container-id-2 div.sk-toggleable__content pre {margin: 0.2em;color: black;border-radius: 0.25em;background-color: #f0f8ff;}#sk-container-id-2 input.sk-toggleable__control:checked~div.sk-toggleable__content {max-height: 200px;max-width: 100%;overflow: auto;}#sk-container-id-2 input.sk-toggleable__control:checked~label.sk-toggleable__label-arrow:before {content: \"▾\";}#sk-container-id-2 div.sk-estimator input.sk-toggleable__control:checked~label.sk-toggleable__label {background-color: #d4ebff;}#sk-container-id-2 div.sk-label input.sk-toggleable__control:checked~label.sk-toggleable__label {background-color: #d4ebff;}#sk-container-id-2 input.sk-hidden--visually {border: 0;clip: rect(1px 1px 1px 1px);clip: rect(1px, 1px, 1px, 1px);height: 1px;margin: -1px;overflow: hidden;padding: 0;position: absolute;width: 1px;}#sk-container-id-2 div.sk-estimator {font-family: monospace;background-color: #f0f8ff;border: 1px dotted black;border-radius: 0.25em;box-sizing: border-box;margin-bottom: 0.5em;}#sk-container-id-2 div.sk-estimator:hover {background-color: #d4ebff;}#sk-container-id-2 div.sk-parallel-item::after {content: \"\";width: 100%;border-bottom: 1px solid gray;flex-grow: 1;}#sk-container-id-2 div.sk-label:hover label.sk-toggleable__label {background-color: #d4ebff;}#sk-container-id-2 div.sk-serial::before {content: \"\";position: absolute;border-left: 1px solid gray;box-sizing: border-box;top: 0;bottom: 0;left: 50%;z-index: 0;}#sk-container-id-2 div.sk-serial {display: flex;flex-direction: column;align-items: center;background-color: white;padding-right: 0.2em;padding-left: 0.2em;position: relative;}#sk-container-id-2 div.sk-item {position: relative;z-index: 1;}#sk-container-id-2 div.sk-parallel {display: flex;align-items: stretch;justify-content: center;background-color: white;position: relative;}#sk-container-id-2 div.sk-item::before, #sk-container-id-2 div.sk-parallel-item::before {content: \"\";position: absolute;border-left: 1px solid gray;box-sizing: border-box;top: 0;bottom: 0;left: 50%;z-index: -1;}#sk-container-id-2 div.sk-parallel-item {display: flex;flex-direction: column;z-index: 1;position: relative;background-color: white;}#sk-container-id-2 div.sk-parallel-item:first-child::after {align-self: flex-end;width: 50%;}#sk-container-id-2 div.sk-parallel-item:last-child::after {align-self: flex-start;width: 50%;}#sk-container-id-2 div.sk-parallel-item:only-child::after {width: 0;}#sk-container-id-2 div.sk-dashed-wrapped {border: 1px dashed gray;margin: 0 0.4em 0.5em 0.4em;box-sizing: border-box;padding-bottom: 0.4em;background-color: white;}#sk-container-id-2 div.sk-label label {font-family: monospace;font-weight: bold;display: inline-block;line-height: 1.2em;}#sk-container-id-2 div.sk-label-container {text-align: center;}#sk-container-id-2 div.sk-container {/* jupyter's `normalize.less` sets `[hidden] { display: none; }` but bootstrap.min.css set `[hidden] { display: none !important; }` so we also need the `!important` here to be able to override the default hidden behavior on the sphinx rendered scikit-learn.org. See: https://github.com/scikit-learn/scikit-learn/issues/21755 */display: inline-block !important;position: relative;}#sk-container-id-2 div.sk-text-repr-fallback {display: none;}</style><div id=\"sk-container-id-2\" class=\"sk-top-container\"><div class=\"sk-text-repr-fallback\"><pre>GradientBoostingRegressor(learning_rate=0.01, loss=&#x27;huber&#x27;, max_depth=8,\n",
       "                          n_estimators=5000, random_state=44)</pre><b>In a Jupyter environment, please rerun this cell to show the HTML representation or trust the notebook. <br />On GitHub, the HTML representation is unable to render, please try loading this page with nbviewer.org.</b></div><div class=\"sk-container\" hidden><div class=\"sk-item\"><div class=\"sk-estimator sk-toggleable\"><input class=\"sk-toggleable__control sk-hidden--visually\" id=\"sk-estimator-id-4\" type=\"checkbox\" checked><label for=\"sk-estimator-id-4\" class=\"sk-toggleable__label sk-toggleable__label-arrow\">GradientBoostingRegressor</label><div class=\"sk-toggleable__content\"><pre>GradientBoostingRegressor(learning_rate=0.01, loss=&#x27;huber&#x27;, max_depth=8,\n",
       "                          n_estimators=5000, random_state=44)</pre></div></div></div></div></div>"
      ],
      "text/plain": [
       "GradientBoostingRegressor(learning_rate=0.01, loss='huber', max_depth=8,\n",
       "                          n_estimators=5000, random_state=44)"
      ]
     },
     "execution_count": 24,
     "metadata": {},
     "output_type": "execute_result"
    }
   ],
   "source": [
    "# Fit the model with the final features coming from final feature selection, selected_feat\n",
    "GBR_final.fit(X_train_final, y_train_final)"
   ]
  },
  {
   "cell_type": "markdown",
   "id": "91d5b99a",
   "metadata": {},
   "source": [
    "<h3 style=\"color: green;\">Function to return rmse via cross validation</h3>"
   ]
  },
  {
   "cell_type": "code",
   "execution_count": 25,
   "id": "5dd02e10",
   "metadata": {},
   "outputs": [],
   "source": [
    "# RMSE function\n",
    "def rmse_cv(model,X,y):\n",
    "    rmse = np.sqrt(-cross_val_score(model,X,y, scoring=\"neg_mean_squared_error\",cv=10))\n",
    "    return rmse"
   ]
  },
  {
   "cell_type": "markdown",
   "id": "19fd1ae9",
   "metadata": {},
   "source": [
    "<h1 style=\"color: green;\">Validate the final model</h1>"
   ]
  },
  {
   "cell_type": "code",
   "execution_count": 26,
   "id": "ab81e19d",
   "metadata": {},
   "outputs": [
    {
     "data": {
      "text/plain": [
       "array([0.12046125, 0.08576313, 0.1211172 , 0.08352534, 0.08733528,\n",
       "       0.06609049, 0.04977268, 0.11988486, 0.10774361, 0.14709096])"
      ]
     },
     "execution_count": 26,
     "metadata": {},
     "output_type": "execute_result"
    }
   ],
   "source": [
    "GBR_final_rmse = rmse_cv(GBR_final,\n",
    "                         X_train_final, \n",
    "                         y_train_final)\n",
    "GBR_final_rmse"
   ]
  },
  {
   "cell_type": "code",
   "execution_count": 27,
   "id": "6f323dbe",
   "metadata": {},
   "outputs": [
    {
     "data": {
      "text/plain": [
       "0.09887848026156836"
      ]
     },
     "execution_count": 27,
     "metadata": {},
     "output_type": "execute_result"
    }
   ],
   "source": [
    "GBR_final_rmse.mean()"
   ]
  },
  {
   "cell_type": "markdown",
   "id": "d1fb0e48",
   "metadata": {},
   "source": [
    "<h3 style=\"color: green;\">Working with the final model</h3>"
   ]
  },
  {
   "cell_type": "code",
   "execution_count": 28,
   "id": "58ba9e74",
   "metadata": {},
   "outputs": [
    {
     "name": "stdout",
     "output_type": "stream",
     "text": [
      "Training RMSE: 0.06244115401078224\n",
      "Training R-squared: 0.9139782551624824\n",
      "\n",
      "\n",
      "Test RMSE: 0.08003129445782502\n",
      "Test R-squared: 0.8313381584644343\n"
     ]
    }
   ],
   "source": [
    "\n",
    "# predict y_train\n",
    "train_y_pred_final = GBR_final.predict(X_train_final)\n",
    "\n",
    "# Retrieve the training rmse,r2_score\n",
    "print(\"Training RMSE: {}\".format(np.sqrt(mean_squared_error(y_train_final,train_y_pred_final))))\n",
    "print(\"Training R-squared: {}\\n\".format(r2_score(y_train_final,train_y_pred_final)))\n",
    "\n",
    "\n",
    "test_y_pred_final = GBR_final.predict(X_test_final)\n",
    "# Retrieve the test rmse,r2_score\n",
    "print(\"\\nTest RMSE: {}\".format(np.sqrt(mean_squared_error(y_test_final,test_y_pred_final))))\n",
    "print(\"Test R-squared: {}\".format(r2_score(y_test_final,test_y_pred_final)))"
   ]
  },
  {
   "cell_type": "markdown",
   "id": "7532b03b",
   "metadata": {},
   "source": [
    "<b style=\"color: green;\">GridSearchCV best model train and test R-squared</b>\n",
    "\n",
    "<ul>\n",
    "<li>Train R-squared: 0.999999998352283</li>\n",
    "<li>Test R-squared: 0.9944698277788455</li>\n",
    "</ul>\n"
   ]
  },
  {
   "cell_type": "code",
   "execution_count": 29,
   "id": "12ea0a4b",
   "metadata": {},
   "outputs": [
    {
     "name": "stdout",
     "output_type": "stream",
     "text": [
      "Train R-squared difference 0.08602174333154008\n",
      "Test R-squared difference 0.16403883230803176\n"
     ]
    }
   ],
   "source": [
    "train_r2_diff = (0.999999998352283 - 0.9139782551624824)/ 0.999999998352283\n",
    "test_r2_diff = (0.9944698277788455 - 0.8313381584644343 )/0.9944698277788455\n",
    "\n",
    "print(f\"Train R-squared difference {train_r2_diff}\")\n",
    "print(f\"Test R-squared difference {test_r2_diff}\")"
   ]
  },
  {
   "cell_type": "markdown",
   "id": "7adb13a3",
   "metadata": {},
   "source": [
    "<b style=\"color: red;\">The drop in train and test R-squared in comparison to the GridSearchCV best model is a <br> little unsatisfactory, lets try a top 17 features from feature importance\n",
    "to see if the R-squared will increase.</b>"
   ]
  },
  {
   "cell_type": "markdown",
   "id": "aa0ff8b4",
   "metadata": {},
   "source": [
    "<h1 style=\"color: green;\">Feature importance top 17 model</h1>"
   ]
  },
  {
   "cell_type": "code",
   "execution_count": 30,
   "id": "626e09ea",
   "metadata": {},
   "outputs": [],
   "source": [
    "feat_imp_lst = GBR_imp.nlargest(17).sort_values().index"
   ]
  },
  {
   "cell_type": "code",
   "execution_count": 31,
   "id": "f0ededd6",
   "metadata": {},
   "outputs": [],
   "source": [
    "X_train_unscaled17 = pd.read_csv(\"../2. Data/X_train_unscaled.csv\")\n",
    "X_test_unscaled17 = pd.read_csv(\"../2. Data/X_test_unscaled.csv\")"
   ]
  },
  {
   "cell_type": "code",
   "execution_count": 32,
   "id": "09db5aa7",
   "metadata": {},
   "outputs": [
    {
     "data": {
      "text/plain": [
       "((621, 74), (267, 74))"
      ]
     },
     "execution_count": 32,
     "metadata": {},
     "output_type": "execute_result"
    }
   ],
   "source": [
    "X_train_unscaled17.shape, X_test_unscaled17.shape"
   ]
  },
  {
   "cell_type": "code",
   "execution_count": 33,
   "id": "fc252c4c",
   "metadata": {},
   "outputs": [],
   "source": [
    "# Extracting the target\n",
    "y_train17 = X_train_unscaled17.y_train\n",
    "y_test17 = X_test_unscaled17.y_test"
   ]
  },
  {
   "cell_type": "code",
   "execution_count": 34,
   "id": "45586230",
   "metadata": {},
   "outputs": [],
   "source": [
    "# Reshaping y_train and y_test\n",
    "y_train17 = y_train17.values.reshape(-1,1)\n",
    "y_test17 = y_test17.values.reshape(-1,1)\n",
    "\n",
    "# transforming the y values\n",
    "y_train17 = y_scaler.transform(y_train17)\n",
    "y_test17 = y_scaler.transform(y_test17)"
   ]
  },
  {
   "cell_type": "code",
   "execution_count": 35,
   "id": "c292d05c",
   "metadata": {},
   "outputs": [],
   "source": [
    "X_train_imp17 = X_train_unscaled17[feat_imp_lst]\n",
    "X_test_imp17 = X_test_unscaled17[feat_imp_lst]"
   ]
  },
  {
   "cell_type": "markdown",
   "id": "2761e5d3",
   "metadata": {},
   "source": [
    "<h3 style=\"color: green;\">Scaling X_train and X_test</h3>"
   ]
  },
  {
   "cell_type": "code",
   "execution_count": 36,
   "id": "1c8b9fce",
   "metadata": {},
   "outputs": [
    {
     "data": {
      "text/plain": [
       "Index(['Drinks_wk', 'Fruit_wk', 'Tech_and_services_wk', 'Snacks_wk',\n",
       "       'Vegetables_wk', 'Bread_wk', 'Raw_meats_wk', 'Breakfast_wk',\n",
       "       'Nbr_items_per_wk', 'Cooking_base_wk', 'Transport_wk',\n",
       "       'Cosmetics_and_selfcare_wk', 'Electronics_wk', 'Education_wk',\n",
       "       'Total_Exp_wk_perc', 'Total_Price', 'Nbr_trips_per_wk'],\n",
       "      dtype='object')"
      ]
     },
     "execution_count": 36,
     "metadata": {},
     "output_type": "execute_result"
    }
   ],
   "source": [
    "# HERE*\n",
    "X_train_imp17.columns"
   ]
  },
  {
   "cell_type": "code",
   "execution_count": 37,
   "id": "b99e0561",
   "metadata": {},
   "outputs": [],
   "source": [
    "# Scaling X values\n",
    "X_scaler17 = StandardScaler().set_output(transform=\"pandas\")\n",
    "X_scaler17.fit(X_train_imp17)\n",
    "\n",
    "# Saving the X_scaler using joblib\n",
    "joblib.dump(X_scaler17, \"../8. Models/StandardScaler_models/Regressor_X_Scaler_19082023\")\n",
    "\n",
    "X_train_imp17 = X_scaler17.transform(X_train_imp17)\n",
    "X_test_imp17 = X_scaler17.transform(X_test_imp17)"
   ]
  },
  {
   "cell_type": "markdown",
   "id": "e2c54435",
   "metadata": {},
   "source": [
    "<h3 style=\"color: green;\">Instantiating the feature importance top 17 model</h3>"
   ]
  },
  {
   "cell_type": "code",
   "execution_count": 38,
   "id": "1cebcb5d",
   "metadata": {},
   "outputs": [],
   "source": [
    "# re-modelling\n",
    "GBR_final17 = gb_r(\n",
    "    learning_rate = 0.01,\n",
    "    loss= 'huber',\n",
    "    max_depth = 8,\n",
    "    n_estimators = 5000,\n",
    "    random_state = 44\n",
    "    )"
   ]
  },
  {
   "cell_type": "code",
   "execution_count": 39,
   "id": "f9e3fc16",
   "metadata": {
    "scrolled": true
   },
   "outputs": [
    {
     "data": {
      "text/html": [
       "<style>#sk-container-id-3 {color: black;background-color: white;}#sk-container-id-3 pre{padding: 0;}#sk-container-id-3 div.sk-toggleable {background-color: white;}#sk-container-id-3 label.sk-toggleable__label {cursor: pointer;display: block;width: 100%;margin-bottom: 0;padding: 0.3em;box-sizing: border-box;text-align: center;}#sk-container-id-3 label.sk-toggleable__label-arrow:before {content: \"▸\";float: left;margin-right: 0.25em;color: #696969;}#sk-container-id-3 label.sk-toggleable__label-arrow:hover:before {color: black;}#sk-container-id-3 div.sk-estimator:hover label.sk-toggleable__label-arrow:before {color: black;}#sk-container-id-3 div.sk-toggleable__content {max-height: 0;max-width: 0;overflow: hidden;text-align: left;background-color: #f0f8ff;}#sk-container-id-3 div.sk-toggleable__content pre {margin: 0.2em;color: black;border-radius: 0.25em;background-color: #f0f8ff;}#sk-container-id-3 input.sk-toggleable__control:checked~div.sk-toggleable__content {max-height: 200px;max-width: 100%;overflow: auto;}#sk-container-id-3 input.sk-toggleable__control:checked~label.sk-toggleable__label-arrow:before {content: \"▾\";}#sk-container-id-3 div.sk-estimator input.sk-toggleable__control:checked~label.sk-toggleable__label {background-color: #d4ebff;}#sk-container-id-3 div.sk-label input.sk-toggleable__control:checked~label.sk-toggleable__label {background-color: #d4ebff;}#sk-container-id-3 input.sk-hidden--visually {border: 0;clip: rect(1px 1px 1px 1px);clip: rect(1px, 1px, 1px, 1px);height: 1px;margin: -1px;overflow: hidden;padding: 0;position: absolute;width: 1px;}#sk-container-id-3 div.sk-estimator {font-family: monospace;background-color: #f0f8ff;border: 1px dotted black;border-radius: 0.25em;box-sizing: border-box;margin-bottom: 0.5em;}#sk-container-id-3 div.sk-estimator:hover {background-color: #d4ebff;}#sk-container-id-3 div.sk-parallel-item::after {content: \"\";width: 100%;border-bottom: 1px solid gray;flex-grow: 1;}#sk-container-id-3 div.sk-label:hover label.sk-toggleable__label {background-color: #d4ebff;}#sk-container-id-3 div.sk-serial::before {content: \"\";position: absolute;border-left: 1px solid gray;box-sizing: border-box;top: 0;bottom: 0;left: 50%;z-index: 0;}#sk-container-id-3 div.sk-serial {display: flex;flex-direction: column;align-items: center;background-color: white;padding-right: 0.2em;padding-left: 0.2em;position: relative;}#sk-container-id-3 div.sk-item {position: relative;z-index: 1;}#sk-container-id-3 div.sk-parallel {display: flex;align-items: stretch;justify-content: center;background-color: white;position: relative;}#sk-container-id-3 div.sk-item::before, #sk-container-id-3 div.sk-parallel-item::before {content: \"\";position: absolute;border-left: 1px solid gray;box-sizing: border-box;top: 0;bottom: 0;left: 50%;z-index: -1;}#sk-container-id-3 div.sk-parallel-item {display: flex;flex-direction: column;z-index: 1;position: relative;background-color: white;}#sk-container-id-3 div.sk-parallel-item:first-child::after {align-self: flex-end;width: 50%;}#sk-container-id-3 div.sk-parallel-item:last-child::after {align-self: flex-start;width: 50%;}#sk-container-id-3 div.sk-parallel-item:only-child::after {width: 0;}#sk-container-id-3 div.sk-dashed-wrapped {border: 1px dashed gray;margin: 0 0.4em 0.5em 0.4em;box-sizing: border-box;padding-bottom: 0.4em;background-color: white;}#sk-container-id-3 div.sk-label label {font-family: monospace;font-weight: bold;display: inline-block;line-height: 1.2em;}#sk-container-id-3 div.sk-label-container {text-align: center;}#sk-container-id-3 div.sk-container {/* jupyter's `normalize.less` sets `[hidden] { display: none; }` but bootstrap.min.css set `[hidden] { display: none !important; }` so we also need the `!important` here to be able to override the default hidden behavior on the sphinx rendered scikit-learn.org. See: https://github.com/scikit-learn/scikit-learn/issues/21755 */display: inline-block !important;position: relative;}#sk-container-id-3 div.sk-text-repr-fallback {display: none;}</style><div id=\"sk-container-id-3\" class=\"sk-top-container\"><div class=\"sk-text-repr-fallback\"><pre>GradientBoostingRegressor(learning_rate=0.01, loss=&#x27;huber&#x27;, max_depth=8,\n",
       "                          n_estimators=5000, random_state=44)</pre><b>In a Jupyter environment, please rerun this cell to show the HTML representation or trust the notebook. <br />On GitHub, the HTML representation is unable to render, please try loading this page with nbviewer.org.</b></div><div class=\"sk-container\" hidden><div class=\"sk-item\"><div class=\"sk-estimator sk-toggleable\"><input class=\"sk-toggleable__control sk-hidden--visually\" id=\"sk-estimator-id-5\" type=\"checkbox\" checked><label for=\"sk-estimator-id-5\" class=\"sk-toggleable__label sk-toggleable__label-arrow\">GradientBoostingRegressor</label><div class=\"sk-toggleable__content\"><pre>GradientBoostingRegressor(learning_rate=0.01, loss=&#x27;huber&#x27;, max_depth=8,\n",
       "                          n_estimators=5000, random_state=44)</pre></div></div></div></div></div>"
      ],
      "text/plain": [
       "GradientBoostingRegressor(learning_rate=0.01, loss='huber', max_depth=8,\n",
       "                          n_estimators=5000, random_state=44)"
      ]
     },
     "execution_count": 39,
     "metadata": {},
     "output_type": "execute_result"
    }
   ],
   "source": [
    "# Fit the model with the final features coming from final feature selection, selected_feat\n",
    "GBR_final17.fit(X_train_imp17, y_train17)"
   ]
  },
  {
   "cell_type": "markdown",
   "id": "b5ad2c83",
   "metadata": {},
   "source": [
    "<h3 style=\"color: green;\">Cross validation of top 17 model</h3>"
   ]
  },
  {
   "cell_type": "code",
   "execution_count": 40,
   "id": "953bba2c",
   "metadata": {},
   "outputs": [
    {
     "data": {
      "text/plain": [
       "array([0.03864696, 0.04633325, 0.08606091, 0.02679531, 0.06557623,\n",
       "       0.03779362, 0.03437654, 0.05989641, 0.06896883, 0.10202766])"
      ]
     },
     "execution_count": 40,
     "metadata": {},
     "output_type": "execute_result"
    }
   ],
   "source": [
    "# validate the model\n",
    "GBR17_rmse = rmse_cv(GBR_final17,X_train_imp17, y_train17)\n",
    "GBR17_rmse"
   ]
  },
  {
   "cell_type": "code",
   "execution_count": 41,
   "id": "bca53863",
   "metadata": {},
   "outputs": [
    {
     "data": {
      "text/plain": [
       "0.05664757175954478"
      ]
     },
     "execution_count": 41,
     "metadata": {},
     "output_type": "execute_result"
    }
   ],
   "source": [
    "GBR17_rmse.mean()"
   ]
  },
  {
   "cell_type": "markdown",
   "id": "02cd7403",
   "metadata": {},
   "source": [
    "<h3 style=\"color: green;\">Working with the top 17 model</h3>"
   ]
  },
  {
   "cell_type": "code",
   "execution_count": 42,
   "id": "b2f6656f",
   "metadata": {},
   "outputs": [
    {
     "name": "stdout",
     "output_type": "stream",
     "text": [
      "Training RMSE: 0.0074689320425792224\n",
      "Training R-squared: 0.998769211523354\n",
      "\n",
      "\n",
      "Test RMSE: 0.051886601546174416\n",
      "Test R-squared: 0.9291063057793933\n"
     ]
    }
   ],
   "source": [
    "\n",
    "# predict y_train\n",
    "train_y_pred17 = GBR_final17.predict(X_train_imp17)\n",
    "\n",
    "# Retrieve the training rmse,r2_score\n",
    "print(\"Training RMSE: {}\".format(np.sqrt(mean_squared_error(y_train17,train_y_pred17))))\n",
    "print(\"Training R-squared: {}\\n\".format(r2_score(y_train17,train_y_pred17)))\n",
    "\n",
    "\n",
    "test_y_pred_17 = GBR_final17.predict(X_test_imp17)\n",
    "# Retrieve the test rmse,r2_score\n",
    "print(\"\\nTest RMSE: {}\".format(np.sqrt(mean_squared_error(y_test17,test_y_pred_17))))\n",
    "print(\"Test R-squared: {}\".format(r2_score(y_test17,test_y_pred_17)))"
   ]
  },
  {
   "cell_type": "code",
   "execution_count": 43,
   "id": "847141b3",
   "metadata": {},
   "outputs": [
    {
     "data": {
      "text/plain": [
       "0.7671232876712328"
      ]
     },
     "execution_count": 43,
     "metadata": {},
     "output_type": "execute_result"
    }
   ],
   "source": [
    "(73-17)/73"
   ]
  },
  {
   "cell_type": "markdown",
   "id": "a6d3dc88",
   "metadata": {},
   "source": [
    "<b style=\"color: green;\">GridSearchCV best model train and test R-squared</b>\n",
    "\n",
    "<ul>\n",
    "<li>Train R-squared: 0.999999998352283</li>\n",
    "<li>Test R-squared: 0.9944698277788455</li>\n",
    "</ul>\n"
   ]
  },
  {
   "cell_type": "code",
   "execution_count": 44,
   "id": "f1d006d7",
   "metadata": {},
   "outputs": [
    {
     "name": "stdout",
     "output_type": "stream",
     "text": [
      "Train R-squared difference 0.0011437632627788687\n",
      "Test R-squared difference 0.060878706247525\n"
     ]
    }
   ],
   "source": [
    "train_r2_diff = (0.999999998352283 - 0.9988562350913888)/ 0.999999998352283\n",
    "test_r2_diff = (0.9944698277788455 - 0.9339277912614704 )/0.9944698277788455\n",
    "\n",
    "print(f\"Train R-squared difference {train_r2_diff}\")\n",
    "print(f\"Test R-squared difference {test_r2_diff}\")"
   ]
  },
  {
   "cell_type": "markdown",
   "id": "50236a1c",
   "metadata": {},
   "source": [
    "<p>\n",
    "The above R-squared is ideal given that the original model had 73 features and the feature importance top 17 has<br>reduced it by 56 features, <b>77% reduction</b> with a 6% loss in test R-squared.<br>\n",
    "Below, this model will be exported for deployment.\n",
    "</p>"
   ]
  },
  {
   "cell_type": "markdown",
   "id": "3d7aeb7c",
   "metadata": {},
   "source": [
    "<h3 style=\"color: green;\">Export X_train_imp17 and X_test_imp17 for explaining the model with shap </h3>"
   ]
  },
  {
   "cell_type": "code",
   "execution_count": 45,
   "id": "51470421",
   "metadata": {},
   "outputs": [],
   "source": [
    "X_train_imp17.to_csv(\"../2. Data/Regressor_X_train_final.csv\",index=False)\n",
    "X_test_imp17.to_csv(\"../2. Data/Regressor_X_test_final.csv\",index=False)"
   ]
  },
  {
   "cell_type": "markdown",
   "id": "2f34f273",
   "metadata": {},
   "source": [
    "<h1 style=\"color: green;\">Save the final model, feature importance top 17</h1>"
   ]
  },
  {
   "cell_type": "code",
   "execution_count": 46,
   "id": "4c0ee2c8",
   "metadata": {},
   "outputs": [
    {
     "data": {
      "text/plain": [
       "['../8. Models/Regressor_models/GBRegressor_19082023']"
      ]
     },
     "execution_count": 46,
     "metadata": {},
     "output_type": "execute_result"
    }
   ],
   "source": [
    "joblib.dump(GBR_final17, \"../8. Models/Regressor_models/GBRegressor_19082023\")"
   ]
  },
  {
   "cell_type": "code",
   "execution_count": null,
   "id": "a7630e5c",
   "metadata": {},
   "outputs": [],
   "source": []
  }
 ],
 "metadata": {
  "kernelspec": {
   "display_name": "Python 3 (ipykernel)",
   "language": "python",
   "name": "python3"
  },
  "language_info": {
   "codemirror_mode": {
    "name": "ipython",
    "version": 3
   },
   "file_extension": ".py",
   "mimetype": "text/x-python",
   "name": "python",
   "nbconvert_exporter": "python",
   "pygments_lexer": "ipython3",
   "version": "3.10.12"
  }
 },
 "nbformat": 4,
 "nbformat_minor": 5
}
