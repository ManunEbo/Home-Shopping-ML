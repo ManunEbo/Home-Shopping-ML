{
 "cells": [
  {
   "cell_type": "markdown",
   "id": "fbc81b0a",
   "metadata": {},
   "source": [
    "<h1 style=\"color: green;\">Summary</h1>\n",
    "\n",
    "<p>\n",
    "The following tasks are accomplished in this section:\n",
    "<ul>\n",
    "<li>Evaluating the CatBoost model</li>\n",
    "<li>Comparing the CatBoost with the Random forest model</li>\n",
    "<li>Visualizing Predicted probabilities by class attribute</li>\n",
    "<li>Visualizing the distribution of predicted probability of class 1</li>\n",
    "<li>Sensitivity threshold tuning</li>\n",
    "<li>Receiver operating Characteristic Curve (ROC Curves) and Area Under the Curve (AUC)</li>\n",
    "<li>Selecting Sensitivity and Specificity from ROC using a function</li>\n",
    "<li>Visualizing sensitivity vs specificity threshold ranges</li>\n",
    "</ul>\n",
    "\n",
    "</p>"
   ]
  },
  {
   "cell_type": "markdown",
   "id": "e08c0617",
   "metadata": {},
   "source": [
    "<h1 style=\"color: green;\">Import libraries</h1>"
   ]
  },
  {
   "cell_type": "code",
   "execution_count": 1,
   "id": "a3752e0a",
   "metadata": {},
   "outputs": [],
   "source": [
    "import pandas as pd\n",
    "import numpy as np\n",
    "import seaborn as sb\n",
    "import matplotlib.pyplot as plt\n",
    "\n",
    "# Scaling the values\n",
    "from sklearn.preprocessing import binarize\n",
    "\n",
    "# Metrics Accuracy\n",
    "from sklearn.metrics import \\\n",
    "accuracy_score, confusion_matrix, recall_score, roc_curve,roc_auc_score\n",
    "\n",
    "# joblib for storing models\n",
    "import joblib\n",
    "\n",
    "import warnings\n",
    "warnings.filterwarnings('ignore')"
   ]
  },
  {
   "cell_type": "markdown",
   "id": "d17184ba",
   "metadata": {},
   "source": [
    "<h1 style=\"color: green;\">Import data</h1>"
   ]
  },
  {
   "cell_type": "code",
   "execution_count": 2,
   "id": "bf2f85e4",
   "metadata": {},
   "outputs": [],
   "source": [
    "X_test_catb = pd.read_csv(\"../2. Data/Classif_X_test_catb.csv\")\n",
    "X_test_rfc = pd.read_csv(\"../2. Data/Classif_X_test_rfc.csv\")"
   ]
  },
  {
   "cell_type": "code",
   "execution_count": 3,
   "id": "ba4866eb",
   "metadata": {
    "scrolled": true
   },
   "outputs": [],
   "source": [
    "# Extracting y_test for catb\n",
    "y_test_catb = X_test_catb.target\n",
    "\n",
    "# droping target from X_test_catb\n",
    "X_test_catb.drop(['target'], axis=1, inplace=True)"
   ]
  },
  {
   "cell_type": "code",
   "execution_count": 4,
   "id": "d0285c15",
   "metadata": {},
   "outputs": [],
   "source": [
    "# Extracting y_test_rfc from X_test_rfc\n",
    "y_test_rfc = X_test_rfc.target\n",
    "\n",
    "# Dropping target from X_test_rfc\n",
    "X_test_rfc.drop(['target'], axis=1, inplace=True)"
   ]
  },
  {
   "cell_type": "code",
   "execution_count": 5,
   "id": "29e2fee4",
   "metadata": {},
   "outputs": [
    {
     "data": {
      "text/plain": [
       "((267, 76), (267, 19))"
      ]
     },
     "execution_count": 5,
     "metadata": {},
     "output_type": "execute_result"
    }
   ],
   "source": [
    "X_test_rfc.shape, X_test_catb.shape"
   ]
  },
  {
   "cell_type": "markdown",
   "id": "5ab3ad37",
   "metadata": {},
   "source": [
    "<h1 style=\"color: green;\">Load stored models</h1>"
   ]
  },
  {
   "cell_type": "code",
   "execution_count": 6,
   "id": "22f6d756",
   "metadata": {},
   "outputs": [],
   "source": [
    "catb_final = joblib.load('../8. Models/Classifier_models/catboost_classifier14082023')\n",
    "rfc = joblib.load('../8. Models/Classifier_models/random_forest_classifier14082023')"
   ]
  },
  {
   "cell_type": "markdown",
   "id": "ee56efe6",
   "metadata": {},
   "source": [
    "<h1 style=\"color: green;\">Evaluating the CatBoost model</h1>"
   ]
  },
  {
   "cell_type": "code",
   "execution_count": 7,
   "id": "d8769dce",
   "metadata": {},
   "outputs": [
    {
     "data": {
      "text/plain": [
       "(267,)"
      ]
     },
     "execution_count": 7,
     "metadata": {},
     "output_type": "execute_result"
    }
   ],
   "source": [
    "final_y_pred = catb_final.predict(X_test_catb)\n",
    "final_y_pred.shape"
   ]
  },
  {
   "cell_type": "code",
   "execution_count": 8,
   "id": "f0e65268",
   "metadata": {},
   "outputs": [
    {
     "data": {
      "text/plain": [
       "array([[199,   0],\n",
       "       [  2,  66]])"
      ]
     },
     "execution_count": 8,
     "metadata": {},
     "output_type": "execute_result"
    }
   ],
   "source": [
    "final_confusion_matrix = confusion_matrix(y_test_catb,final_y_pred)\n",
    "final_confusion_matrix"
   ]
  },
  {
   "cell_type": "markdown",
   "id": "210401b1",
   "metadata": {},
   "source": [
    "<h1>\n",
    "$\\begin {bmatrix} n=267 & Predicted: 0 & Predicted: 1 & Totals\n",
    "\\\\ Actual: 0 & 199 & 0 & 199\n",
    "\\\\ Actual: 1 & 2 & 66  & 68\n",
    "\\\\ Totals: & 201 & 66 & 267\n",
    "\\end{bmatrix}$\n",
    "</h1>"
   ]
  },
  {
   "cell_type": "markdown",
   "id": "6702cf22",
   "metadata": {},
   "source": [
    "<p>\n",
    "As can be seen one unit has shifted from true positive to false negative, relative to the previous CatBoost model.<br> This will have a negative effect on confusion matrix derived metrics such as precision and recall.\n",
    "</p>"
   ]
  },
  {
   "cell_type": "code",
   "execution_count": 9,
   "id": "0e344797",
   "metadata": {},
   "outputs": [],
   "source": [
    "# unraveling the confusion matrix\n",
    "final_tn,final_fp,final_fn,final_tp = confusion_matrix(y_test_catb,final_y_pred).ravel()"
   ]
  },
  {
   "cell_type": "markdown",
   "id": "f9335251",
   "metadata": {},
   "source": [
    "<h3 style=\"color: green;\">Sensitivity(recall)</h3>"
   ]
  },
  {
   "cell_type": "code",
   "execution_count": 10,
   "id": "33f4f9d1",
   "metadata": {},
   "outputs": [
    {
     "name": "stdout",
     "output_type": "stream",
     "text": [
      "Model 1 sensitivity via recall_score: 0.9705882352941176\n"
     ]
    }
   ],
   "source": [
    "final_sensitivity = recall_score(y_test_catb,final_y_pred)\n",
    "print(\"Model 1 sensitivity via recall_score: {}\".format(final_sensitivity))"
   ]
  },
  {
   "cell_type": "code",
   "execution_count": 11,
   "id": "b9cfdb88",
   "metadata": {},
   "outputs": [
    {
     "data": {
      "text/plain": [
       "0.9852941176470589"
      ]
     },
     "execution_count": 11,
     "metadata": {},
     "output_type": "execute_result"
    }
   ],
   "source": [
    "# previous sensitivity for balanced data model\n",
    "m2_sensitivity = 0.9852941176470589\n",
    "m2_sensitivity"
   ]
  },
  {
   "cell_type": "code",
   "execution_count": 12,
   "id": "1d37f65f",
   "metadata": {},
   "outputs": [
    {
     "data": {
      "text/plain": [
       "-0.014925373134328417"
      ]
     },
     "execution_count": 12,
     "metadata": {},
     "output_type": "execute_result"
    }
   ],
   "source": [
    "# Sensitivity percentage improvement comparison between previous model and final selection\n",
    "(final_sensitivity - m2_sensitivity)/m2_sensitivity\n",
    "# There is a -0.15% drop in sensitivity from performing feature selection"
   ]
  },
  {
   "cell_type": "markdown",
   "id": "0f683c1f",
   "metadata": {},
   "source": [
    "<h3 style=\"color: green;\">Specificity</h3>"
   ]
  },
  {
   "cell_type": "code",
   "execution_count": 13,
   "id": "257f493d",
   "metadata": {},
   "outputs": [
    {
     "name": "stdout",
     "output_type": "stream",
     "text": [
      "Model 1 specificity: 1.0\n"
     ]
    }
   ],
   "source": [
    "final_Specificity = final_tn/(final_tn + final_fp)\n",
    "print(\"Model 1 specificity: {}\".format(final_Specificity))"
   ]
  },
  {
   "cell_type": "markdown",
   "id": "731862ff",
   "metadata": {},
   "source": [
    "<h3 style=\"color: green;\">Precision</h3>"
   ]
  },
  {
   "cell_type": "code",
   "execution_count": 14,
   "id": "1c664750",
   "metadata": {},
   "outputs": [
    {
     "name": "stdout",
     "output_type": "stream",
     "text": [
      "Final model precision: 1.0\n"
     ]
    }
   ],
   "source": [
    "final_precision = final_tp / (final_tp + final_fp)\n",
    "print(\"Final model precision: {}\".format(final_precision))"
   ]
  },
  {
   "cell_type": "markdown",
   "id": "eefc50e7",
   "metadata": {},
   "source": [
    "<h1 style=\"color: green;\">\n",
    "Comparing the CatBoost model with the Random forest model\n",
    "</h1>"
   ]
  },
  {
   "cell_type": "markdown",
   "id": "f2d38790",
   "metadata": {},
   "source": [
    "<h3 style=\"color: green;\">Predicted probabilities</h3>\n",
    "<p>\n",
    "In binary classification classifier models assign prediction to the class 0 or 1 based on a defaullt probability<br>threshold, 0.5 i.e. a probability greater than or equal to 0.5 is assigned to 1 while probability less than 0.5 is assigned to the class 0.<br><br>The better the model the higher the probability it will assign to observations labeled as target class 1 and<br>the lower the probability it will assign to the same observation for class 0.<br><br>Below a comparison is made between the final model, CatBoost, and the Random forest model in how the probabilities are assigned.\n",
    "\n",
    "</p>"
   ]
  },
  {
   "cell_type": "markdown",
   "id": "ee87af04",
   "metadata": {},
   "source": [
    "<h3 style=\"color: green\">Visualizing Predicted probabilities by class attribute</h3>"
   ]
  },
  {
   "cell_type": "markdown",
   "id": "242025db",
   "metadata": {},
   "source": [
    "<p style=\"color: red;\">Balanced data model (Random Forest) predicted probabilities </p>"
   ]
  },
  {
   "cell_type": "code",
   "execution_count": 15,
   "id": "ef573282",
   "metadata": {},
   "outputs": [
    {
     "data": {
      "text/html": [
       "<div>\n",
       "<style scoped>\n",
       "    .dataframe tbody tr th:only-of-type {\n",
       "        vertical-align: middle;\n",
       "    }\n",
       "\n",
       "    .dataframe tbody tr th {\n",
       "        vertical-align: top;\n",
       "    }\n",
       "\n",
       "    .dataframe thead th {\n",
       "        text-align: right;\n",
       "    }\n",
       "</style>\n",
       "<table border=\"1\" class=\"dataframe\">\n",
       "  <thead>\n",
       "    <tr style=\"text-align: right;\">\n",
       "      <th></th>\n",
       "      <th>class_0</th>\n",
       "      <th>class_1</th>\n",
       "    </tr>\n",
       "  </thead>\n",
       "  <tbody>\n",
       "    <tr>\n",
       "      <th>0</th>\n",
       "      <td>0.936243</td>\n",
       "      <td>0.063757</td>\n",
       "    </tr>\n",
       "    <tr>\n",
       "      <th>1</th>\n",
       "      <td>0.982798</td>\n",
       "      <td>0.017202</td>\n",
       "    </tr>\n",
       "    <tr>\n",
       "      <th>2</th>\n",
       "      <td>0.880350</td>\n",
       "      <td>0.119650</td>\n",
       "    </tr>\n",
       "    <tr>\n",
       "      <th>3</th>\n",
       "      <td>0.322408</td>\n",
       "      <td>0.677592</td>\n",
       "    </tr>\n",
       "    <tr>\n",
       "      <th>4</th>\n",
       "      <td>0.927959</td>\n",
       "      <td>0.072041</td>\n",
       "    </tr>\n",
       "  </tbody>\n",
       "</table>\n",
       "</div>"
      ],
      "text/plain": [
       "    class_0   class_1\n",
       "0  0.936243  0.063757\n",
       "1  0.982798  0.017202\n",
       "2  0.880350  0.119650\n",
       "3  0.322408  0.677592\n",
       "4  0.927959  0.072041"
      ]
     },
     "execution_count": 15,
     "metadata": {},
     "output_type": "execute_result"
    }
   ],
   "source": [
    "m3_pred_prob_all = rfc.predict_proba(X_test_rfc)\n",
    "m3_pred_prob_all_df = pd.DataFrame(m3_pred_prob_all, columns=['class_0','class_1'])\n",
    "m3_pred_prob_all_df.head()"
   ]
  },
  {
   "cell_type": "code",
   "execution_count": 16,
   "id": "fff5e519",
   "metadata": {
    "scrolled": false
   },
   "outputs": [
    {
     "data": {
      "image/png": "[encoded data removed]",
      "text/plain": [
       "<Figure size 1900x800 with 1 Axes>"
      ]
     },
     "metadata": {},
     "output_type": "display_data"
    }
   ],
   "source": [
    "fig = plt.figure(figsize=(19,8))\n",
    "fig.patch.set_facecolor('#212121')\n",
    "fig.patch.set_alpha(0.95)\n",
    "\n",
    "ax = fig.add_subplot(111)\n",
    "ax.patch.set_facecolor('#212121')\n",
    "ax.patch.set_alpha(1.0)\n",
    "ax.yaxis.label.set_color('lime')\n",
    "ax.yaxis.label.set_size(19)\n",
    "ax.xaxis.label.set_color('lime')\n",
    "ax.xaxis.label.set_size(19)\n",
    "ax.title.set_color('lime')\n",
    "ax.tick_params(colors='lime', which='both')\n",
    "\n",
    "plt.scatter(m3_pred_prob_all_df[:30].index,\n",
    "            m3_pred_prob_all_df.class_0[:30], \n",
    "            color='red', \n",
    "            marker='*', \n",
    "            s=(100), \n",
    "            label='Class_0')\n",
    "\n",
    "plt.scatter(m3_pred_prob_all_df[:30].index, \n",
    "            m3_pred_prob_all_df.class_1[:30], \n",
    "            color='lime',\n",
    "            marker='*', \n",
    "            s=(100), \n",
    "            label='Class_1')\n",
    "\n",
    "plt.xlim([-1, 30])\n",
    "plt.ylim([-0.1, 1.2])\n",
    "plt.title('Predicted probabilities by class attribute\\nRandom forest model', fontsize=19)\n",
    "plt.xticks(fontsize=12)\n",
    "plt.yticks(fontsize=12)\n",
    "plt.xlabel('Observation index')\n",
    "plt.ylabel('Probability')\n",
    "# plt.legend(loc=(1.04, 0))\n",
    "plt.grid()\n",
    "plt.legend(loc=(\"best\"))\n",
    "plt.show()"
   ]
  },
  {
   "cell_type": "markdown",
   "id": "bea125ab",
   "metadata": {},
   "source": [
    "<p>\n",
    "The plot above illustrates the predicted probabilities by class attribute for each observation. The probabilities <br>are inversely related i.e. if a high probability is assigned for class_0 then class_1 will be assigned a low probability.<br>The degree of distance between the two probabilities is indicative of the discriminatory power of the model.\n",
    "</p>"
   ]
  },
  {
   "cell_type": "markdown",
   "id": "3d59d4ac",
   "metadata": {},
   "source": [
    "<p style=\"color: red;\">Final features model(CatBoost) predicted probabilities </p>"
   ]
  },
  {
   "cell_type": "code",
   "execution_count": 17,
   "id": "465af40c",
   "metadata": {},
   "outputs": [
    {
     "data": {
      "text/html": [
       "<div>\n",
       "<style scoped>\n",
       "    .dataframe tbody tr th:only-of-type {\n",
       "        vertical-align: middle;\n",
       "    }\n",
       "\n",
       "    .dataframe tbody tr th {\n",
       "        vertical-align: top;\n",
       "    }\n",
       "\n",
       "    .dataframe thead th {\n",
       "        text-align: right;\n",
       "    }\n",
       "</style>\n",
       "<table border=\"1\" class=\"dataframe\">\n",
       "  <thead>\n",
       "    <tr style=\"text-align: right;\">\n",
       "      <th></th>\n",
       "      <th>class_0</th>\n",
       "      <th>class_1</th>\n",
       "    </tr>\n",
       "  </thead>\n",
       "  <tbody>\n",
       "    <tr>\n",
       "      <th>0</th>\n",
       "      <td>0.996558</td>\n",
       "      <td>0.003442</td>\n",
       "    </tr>\n",
       "    <tr>\n",
       "      <th>1</th>\n",
       "      <td>0.998716</td>\n",
       "      <td>0.001284</td>\n",
       "    </tr>\n",
       "    <tr>\n",
       "      <th>2</th>\n",
       "      <td>0.997737</td>\n",
       "      <td>0.002263</td>\n",
       "    </tr>\n",
       "    <tr>\n",
       "      <th>3</th>\n",
       "      <td>0.004712</td>\n",
       "      <td>0.995288</td>\n",
       "    </tr>\n",
       "    <tr>\n",
       "      <th>4</th>\n",
       "      <td>0.998763</td>\n",
       "      <td>0.001237</td>\n",
       "    </tr>\n",
       "  </tbody>\n",
       "</table>\n",
       "</div>"
      ],
      "text/plain": [
       "    class_0   class_1\n",
       "0  0.996558  0.003442\n",
       "1  0.998716  0.001284\n",
       "2  0.997737  0.002263\n",
       "3  0.004712  0.995288\n",
       "4  0.998763  0.001237"
      ]
     },
     "execution_count": 17,
     "metadata": {},
     "output_type": "execute_result"
    }
   ],
   "source": [
    "final_pred_prob_all = catb_final.predict_proba(X_test_rfc)\n",
    "final_pred_prob_all_df = pd.DataFrame(final_pred_prob_all, columns=['class_0','class_1'])\n",
    "final_pred_prob_all_df.head()"
   ]
  },
  {
   "cell_type": "code",
   "execution_count": 18,
   "id": "139cb036",
   "metadata": {},
   "outputs": [
    {
     "data": {
      "image/png": "[encoded data removed]",
      "text/plain": [
       "<Figure size 1900x800 with 1 Axes>"
      ]
     },
     "metadata": {},
     "output_type": "display_data"
    }
   ],
   "source": [
    "fig = plt.figure(figsize=(19,8))\n",
    "fig.patch.set_facecolor('#212121')\n",
    "fig.patch.set_alpha(0.95)\n",
    "\n",
    "ax = fig.add_subplot(111)\n",
    "ax.patch.set_facecolor('#212121')\n",
    "ax.patch.set_alpha(1.0)\n",
    "ax.yaxis.label.set_color('lime')\n",
    "ax.yaxis.label.set_size(19)\n",
    "ax.xaxis.label.set_color('lime')\n",
    "ax.xaxis.label.set_size(19)\n",
    "ax.title.set_color('lime')\n",
    "ax.tick_params(colors='lime', which='both')\n",
    "\n",
    "plt.scatter(final_pred_prob_all_df[:30].index,\n",
    "            final_pred_prob_all_df.class_0[:30], \n",
    "            color='red', \n",
    "            marker='*', \n",
    "            s=(100), \n",
    "            label='Class_0')\n",
    "\n",
    "plt.scatter(final_pred_prob_all_df[:30].index, \n",
    "            final_pred_prob_all_df.class_1[:30], \n",
    "            color='lime',\n",
    "            marker='*', \n",
    "            s=(100), \n",
    "            label='Class_1')\n",
    "\n",
    "plt.xlim([-1, 30])\n",
    "plt.ylim([-0.1, 1.2])\n",
    "plt.title('Predicted probabilities by class attribute\\nCatBoost model', fontsize=19)\n",
    "plt.xticks(fontsize=12)\n",
    "plt.yticks(fontsize=12)\n",
    "plt.xlabel('Observation index')\n",
    "plt.ylabel('Probability')\n",
    "# plt.legend(loc=(1.04, 0))\n",
    "plt.grid()\n",
    "plt.legend(loc=(\"best\"))\n",
    "plt.show()"
   ]
  },
  {
   "cell_type": "markdown",
   "id": "4ab2bf7e",
   "metadata": {},
   "source": [
    "<p>\n",
    "The CatBoost model is clearly better at discriminating than the Random forest model as for the same set of observations<br>the probabilities are completely polarized. This is an ideal scenario, it shows that this model is exceptionally good at discriminating between the class attributes.\n",
    "</p>"
   ]
  },
  {
   "cell_type": "markdown",
   "id": "98e90c1e",
   "metadata": {},
   "source": [
    "<h3 style=\"color: green\">Pedicted probability of class 1 average</h3>"
   ]
  },
  {
   "cell_type": "code",
   "execution_count": 19,
   "id": "8f9cc6fd",
   "metadata": {},
   "outputs": [
    {
     "name": "stdout",
     "output_type": "stream",
     "text": [
      "Average probability of class 1 attribute for Random forest balanced data: 0.2805442487044615\n",
      "Average probability of class 1 attribute for CatBoost: 0.24909646016692008\n"
     ]
    }
   ],
   "source": [
    "# Random forest\n",
    "m3_pred_prob = rfc.predict_proba(X_test_rfc)[:,1]\n",
    "\n",
    "# CatBoost final model\n",
    "final_pred_prob = catb_final.predict_proba(X_test_catb)[:,1]\n",
    "\n",
    "print(\"Average probability of class 1 attribute for Random forest balanced data: {}\".format(m3_pred_prob.mean()))\n",
    "print(\"Average probability of class 1 attribute for CatBoost: {}\".format(final_pred_prob.mean()))\n"
   ]
  },
  {
   "cell_type": "markdown",
   "id": "09c3452f",
   "metadata": {},
   "source": [
    "<p style=\"color: black\">\n",
    "<b>At first look, it appears that the random forest model is assigning higher probabilities to observations than<br>\n",
    "the CatBoost model. However, this is missleading: the CatBoost mean is effected by the majority low values.</b><br><br>Below both the probabilities are plotted using histograms to reveal the distributions.\n",
    "</p>"
   ]
  },
  {
   "cell_type": "markdown",
   "id": "c7bffd8d",
   "metadata": {},
   "source": [
    "<h3 style=\"color: green\">Visualizing the distribution of predicted probability of class 1</h3>"
   ]
  },
  {
   "cell_type": "code",
   "execution_count": 20,
   "id": "e20cc76b",
   "metadata": {},
   "outputs": [
    {
     "data": {
      "image/png": "[encoded data removed]",
      "text/plain": [
       "<Figure size 1440x480 with 2 Axes>"
      ]
     },
     "metadata": {},
     "output_type": "display_data"
    }
   ],
   "source": [
    "sb.set_style('dark')\n",
    "sb.set(rc={'axes.facecolor':'#424242',\n",
    "           'figure.facecolor':'#212121',\n",
    "           'axes.labelcolor':'lime',\n",
    "           'text.color':'lime'})\n",
    "\n",
    "# histogram of predicted probabilities\n",
    "\n",
    "fig, ax = plt.subplots(1, 2, figsize=plt.figaspect(1/3))\n",
    "fig.patch.set_facecolor('#212121')\n",
    "fig.patch.set_alpha(0.95)\n",
    "\n",
    "# plotting RandomForest\n",
    "ax[0].patch.set_facecolor('#212121')\n",
    "ax[0].patch.set_alpha(1.0)\n",
    "ax[0].yaxis.label.set_color('lime')\n",
    "ax[0].xaxis.label.set_color('lime')\n",
    "ax[0].title.set_color('lime')\n",
    "ax[0].tick_params(colors='lime', which='both')\n",
    "ax[0].set(xlabel ='Predicted probability of class 1', ylabel ='Frequency',\n",
    "       xlim =(0, 1), ylim =(0, 250),\n",
    "       title ='Predicted probabilities\\nRandom forest balanced data model')\n",
    "\n",
    "ax[0].hist(m3_pred_prob, bins=4, color='red')\n",
    "\n",
    "# plotting Catboost\n",
    "ax[1].patch.set_facecolor('#212121')\n",
    "ax[1].patch.set_alpha(1.0)\n",
    "ax[1].yaxis.label.set_color('lime')\n",
    "ax[1].xaxis.label.set_color('lime')\n",
    "ax[1].title.set_color('lime')\n",
    "ax[1].tick_params(colors='lime', which='both')\n",
    "ax[1].set(xlabel ='Predicted probability of class 1', ylabel ='Frequency',\n",
    "       xlim =(0, 1), ylim =(0, 250),\n",
    "       title ='Predicted probabilities\\nCatBoost balanced data model')\n",
    "\n",
    "ax[1].hist(final_pred_prob, bins=4, color='red')\n",
    "\n",
    "plt.show()"
   ]
  },
  {
   "cell_type": "code",
   "execution_count": 21,
   "id": "6886ab3d",
   "metadata": {},
   "outputs": [
    {
     "data": {
      "text/plain": [
       "array([[199,   0],\n",
       "       [  2,  66]])"
      ]
     },
     "execution_count": 21,
     "metadata": {},
     "output_type": "execute_result"
    }
   ],
   "source": [
    "final_confusion_matrix"
   ]
  },
  {
   "cell_type": "markdown",
   "id": "4f358af1",
   "metadata": {},
   "source": [
    "<p>\n",
    "The histograms show that the CatBoost model is better at discriminating between the classes: it either assigns a <br>high probability or a low probability for class 1. Further, looking at the high probability assignment the<br> frequency is approximately in the 60s which is indicative of the true positives, 66 in the confusion matrix.<br>\n",
    "This illustrates that the CatBoost model is a very powerful model.<br><br>\n",
    "The Random forest model on the other hand has assigned a wide range of probabilities for class 1 i.e. there is no <br>clean split to distinguish between the class attributes.\n",
    "</p>"
   ]
  },
  {
   "cell_type": "markdown",
   "id": "1b0328ea",
   "metadata": {},
   "source": [
    "<h1 style=\"color: green;\">Sensitivity threshold tuning</h1>"
   ]
  },
  {
   "cell_type": "code",
   "execution_count": 22,
   "id": "cc0be497",
   "metadata": {},
   "outputs": [
    {
     "data": {
      "text/plain": [
       "(267,)"
      ]
     },
     "execution_count": 22,
     "metadata": {},
     "output_type": "execute_result"
    }
   ],
   "source": [
    "m3_y_pred = rfc.predict(X_test_rfc)\n",
    "m3_y_pred.shape"
   ]
  },
  {
   "cell_type": "code",
   "execution_count": 23,
   "id": "f2453742",
   "metadata": {},
   "outputs": [
    {
     "data": {
      "text/plain": [
       "array([[195,   4],\n",
       "       [ 11,  57]])"
      ]
     },
     "execution_count": 23,
     "metadata": {},
     "output_type": "execute_result"
    }
   ],
   "source": [
    "# RandomForest confusion matrix\n",
    "m3_confusion_matrix = confusion_matrix(y_test_rfc,m3_y_pred)\n",
    "m3_confusion_matrix"
   ]
  },
  {
   "cell_type": "code",
   "execution_count": 24,
   "id": "76ba5f68",
   "metadata": {},
   "outputs": [],
   "source": [
    "# unraveling the confusion matrix\n",
    "m3_tn,m3_fp,m3_fn,m3_tp = confusion_matrix(y_test_rfc,m3_y_pred).ravel()"
   ]
  },
  {
   "cell_type": "code",
   "execution_count": 25,
   "id": "7f3147a7",
   "metadata": {},
   "outputs": [
    {
     "data": {
      "text/plain": [
       "array([[199,   0],\n",
       "       [  2,  66]])"
      ]
     },
     "execution_count": 25,
     "metadata": {},
     "output_type": "execute_result"
    }
   ],
   "source": [
    "# CatBoost final model confusion matrix\n",
    "final_confusion_matrix"
   ]
  },
  {
   "cell_type": "markdown",
   "id": "5bd323a2",
   "metadata": {},
   "source": [
    "<p style=\"color: black;\">\n",
    "I'm more concerned about lowering the number of shopping trips I do in a week.<br>\n",
    "For the CatBoost model, I want to increase the sensitivity of the model by shifting the 2 instances in the bottom left corner<br>to the right. For the random forest I want to shift the 11 instances to the right.\n",
    "This can be done by adjusting the probability threshold.<br><br>\n",
    "\n",
    "<b>Note, these levels of sensitivity are excellent and somewhat acceptable, so the following is done mainly to<br> demonstrate knowledge in key areas rather than a neccessity born out of bad models.</b>\n",
    "</p>\n",
    "\n",
    "<p>The superiority of the final model has been adequately illustrated.<br>\n",
    "</p>"
   ]
  },
  {
   "cell_type": "markdown",
   "id": "83fa9747",
   "metadata": {},
   "source": [
    "<p>\n",
    "From the histograms above, it seems a sensible threshold for the final model is between <b>0.25-0.3</b> as the threshold <br>for target=1 classification to transfer the two false negatives into true positives.<br><br>For the Random forest model the optimal threshold may be found in a lower range, <b>0.15-0.20</b> but this would come with a cost of<br>\n",
    "more false positives i.e. observations that are class 0 incorrectly assigned to class 1.\n",
    "</p>"
   ]
  },
  {
   "cell_type": "markdown",
   "id": "8eb40a96",
   "metadata": {},
   "source": [
    "<h3 style=\"color: green;\">Manual threshold tuning</h3>"
   ]
  },
  {
   "cell_type": "markdown",
   "id": "df5ee7b6",
   "metadata": {},
   "source": [
    "<h5 style=\"color: red;\">CatBoost (final model)</h5>"
   ]
  },
  {
   "cell_type": "code",
   "execution_count": 26,
   "id": "51daca26",
   "metadata": {},
   "outputs": [],
   "source": [
    "# Threshold tuning 0.1423\n",
    "final_pred_class_binarize = binarize([final_pred_prob],threshold=0.1423)[0]"
   ]
  },
  {
   "cell_type": "code",
   "execution_count": 27,
   "id": "86fa7ff6",
   "metadata": {},
   "outputs": [
    {
     "data": {
      "text/plain": [
       "array([[199,   0],\n",
       "       [  0,  68]])"
      ]
     },
     "execution_count": 27,
     "metadata": {},
     "output_type": "execute_result"
    }
   ],
   "source": [
    "# new confusion matrix after threshold tuning\n",
    "final_binarize_confusion_matrix = confusion_matrix(y_test_catb,final_pred_class_binarize)\n",
    "final_binarize_confusion_matrix"
   ]
  },
  {
   "cell_type": "markdown",
   "id": "062de613",
   "metadata": {},
   "source": [
    "<p>\n",
    "After a few trials it seems <b>0.1423</b> is the optimal threshold for the final model. Such a low threshold<br>\n",
    "means that the model is even better at assigning low probabilities for target = 0 class i.e. it assigns extemely <br>low probabilities for target = 0  such that any value greater than the threshold is most likely in target = 1 class.<br>\n",
    "<b>Note this model has a clean split i.e. there are no overlaps in the probabilities for either class.</b>\n",
    "</p>"
   ]
  },
  {
   "cell_type": "code",
   "execution_count": 28,
   "id": "b6e91eb3",
   "metadata": {},
   "outputs": [],
   "source": [
    "# unraveling the new confusion matrix\n",
    "final_Binarize_tn,final_Binarize_fp,final_Binarize_fn,final_Binarize_tp = \\\n",
    "confusion_matrix(y_test_catb,final_pred_class_binarize).ravel()"
   ]
  },
  {
   "cell_type": "code",
   "execution_count": 29,
   "id": "a8a288d6",
   "metadata": {},
   "outputs": [
    {
     "name": "stdout",
     "output_type": "stream",
     "text": [
      "Original final model sensitivity: 0.9705882352941176\n",
      "Threshold tuned final model sensitivity: 1.0\n"
     ]
    }
   ],
   "source": [
    "# Sensitivity\n",
    "final_sensitivity_binarize = recall_score(y_test_catb,final_pred_class_binarize)\n",
    "\n",
    "print(\"Original final model sensitivity: {0}\".format(final_sensitivity))\n",
    "print(\"Threshold tuned final model sensitivity: {0}\".format(final_sensitivity_binarize))"
   ]
  },
  {
   "cell_type": "code",
   "execution_count": 30,
   "id": "26c79ac2",
   "metadata": {},
   "outputs": [
    {
     "data": {
      "text/plain": [
       "0.03030303030303031"
      ]
     },
     "execution_count": 30,
     "metadata": {},
     "output_type": "execute_result"
    }
   ],
   "source": [
    "(final_sensitivity_binarize - final_sensitivity)/final_sensitivity"
   ]
  },
  {
   "cell_type": "code",
   "execution_count": 31,
   "id": "4fea3b87",
   "metadata": {},
   "outputs": [
    {
     "name": "stdout",
     "output_type": "stream",
     "text": [
      "Original final model specificity: 1.0\n",
      "Threshold tuned model specificity: 1.0\n"
     ]
    }
   ],
   "source": [
    "# Specificity\n",
    "final_binarize_specificity = final_Binarize_tn/(final_Binarize_tn + final_Binarize_fp)\n",
    "\n",
    "print(\"Original final model specificity: {0}\".format(final_Specificity))\n",
    "print(\"Threshold tuned model specificity: {}\".format(final_binarize_specificity))"
   ]
  },
  {
   "cell_type": "code",
   "execution_count": 32,
   "id": "7be2425b",
   "metadata": {},
   "outputs": [
    {
     "data": {
      "text/plain": [
       "0.0"
      ]
     },
     "execution_count": 32,
     "metadata": {},
     "output_type": "execute_result"
    }
   ],
   "source": [
    "(final_binarize_specificity - final_Specificity)/final_Specificity"
   ]
  },
  {
   "cell_type": "markdown",
   "id": "dd48acfd",
   "metadata": {},
   "source": [
    "<p>\n",
    "Above, there is a 3% improvement in sensitivity resulting from the threshold tuning with the CatBoost model.<br>\n",
    "This comes at no cost with respect to specificity i.e. there is no transfer of true negatives into false positives.<br>\n",
    "Note, this is a reflection of how powerful this model is in discriminating between the class attributes.\n",
    "</p>"
   ]
  },
  {
   "cell_type": "markdown",
   "id": "9bc8098d",
   "metadata": {},
   "source": [
    "<h5 style=\"color: red;\">Random forest</h5>"
   ]
  },
  {
   "cell_type": "code",
   "execution_count": 33,
   "id": "5e5b98e8",
   "metadata": {},
   "outputs": [],
   "source": [
    "m3_sensitivity = recall_score(y_test_rfc,m3_y_pred)"
   ]
  },
  {
   "cell_type": "code",
   "execution_count": 34,
   "id": "4dd85d15",
   "metadata": {},
   "outputs": [],
   "source": [
    "m3_Specificity = m3_tn/(m3_tn + m3_fp)"
   ]
  },
  {
   "cell_type": "code",
   "execution_count": 35,
   "id": "a011b75b",
   "metadata": {},
   "outputs": [],
   "source": [
    "# Threshold tuning\n",
    "m3_pred_class_binarize = binarize([m3_pred_prob],threshold=0.2467)[0]"
   ]
  },
  {
   "cell_type": "code",
   "execution_count": 36,
   "id": "eed42cd7",
   "metadata": {},
   "outputs": [
    {
     "data": {
      "text/plain": [
       "array([[159,  40],\n",
       "       [  0,  68]])"
      ]
     },
     "execution_count": 36,
     "metadata": {},
     "output_type": "execute_result"
    }
   ],
   "source": [
    "# new confusion matrix after threshold tuning\n",
    "m3_binarize_confusion_matrix = confusion_matrix(y_test_rfc,m3_pred_class_binarize)\n",
    "m3_binarize_confusion_matrix"
   ]
  },
  {
   "cell_type": "markdown",
   "id": "f4471ffd",
   "metadata": {},
   "source": [
    "<p>\n",
    "After a few trials it seems 0.2467 is the optimal threshold for the random forest model. Note this model does not<br>have a clean split. This makes it difficult to transfer the false negatives into true positives without<br>\n",
    "increasing the false positives i.e. increasing the sensitivity of the model incurs costs in specificity.<br><br>\n",
    "<b>Sensitivity and specificity are inversely related: increasing one reduces the other; the exception being perfect models.</b>\n",
    "\n",
    "\n",
    "</p>"
   ]
  },
  {
   "cell_type": "code",
   "execution_count": 37,
   "id": "78b2fdc0",
   "metadata": {},
   "outputs": [],
   "source": [
    "# unraveling the rfc binarized confusion matrix\n",
    "rfc_Binarize_tn,rfc_Binarize_fp,rfc_Binarize_fn,rfc_Binarize_tp = \\\n",
    "confusion_matrix(y_test_rfc,m3_pred_class_binarize).ravel()"
   ]
  },
  {
   "cell_type": "code",
   "execution_count": 38,
   "id": "1933b25b",
   "metadata": {},
   "outputs": [
    {
     "name": "stdout",
     "output_type": "stream",
     "text": [
      "Original random forest model sensitivity: 0.8382352941176471\n",
      "Threshold tuned random forest model sensitivity: 1.0\n",
      "Percentage change in sensitivity: 0.16176470588235292\n"
     ]
    }
   ],
   "source": [
    "# Sensitivity\n",
    "rfc_sensitivity_binarize = recall_score(y_test_rfc,m3_pred_class_binarize)\n",
    "\n",
    "print(\"Original random forest model sensitivity: {0}\".format(m3_sensitivity))\n",
    "print(\"Threshold tuned random forest model sensitivity: {0}\".format(rfc_sensitivity_binarize))\n",
    "print(\"Percentage change in sensitivity: {0}\".format((rfc_sensitivity_binarize - m3_sensitivity)/rfc_sensitivity_binarize))"
   ]
  },
  {
   "cell_type": "code",
   "execution_count": 39,
   "id": "bd8d5874",
   "metadata": {},
   "outputs": [
    {
     "name": "stdout",
     "output_type": "stream",
     "text": [
      "Original random forest model specificity: 0.9798994974874372\n",
      "Threshold tuned random forest model specificity: 0.7989949748743719\n",
      "Percentage change in specificity: -0.18461538461538463\n"
     ]
    }
   ],
   "source": [
    "# Specificity\n",
    "rfc_binarize_specificity = rfc_Binarize_tn/(rfc_Binarize_tn + rfc_Binarize_fp)\n",
    "\n",
    "print(\"Original random forest model specificity: {0}\".format(m3_Specificity))\n",
    "print(\"Threshold tuned random forest model specificity: {}\".format(rfc_binarize_specificity))\n",
    "print(\"Percentage change in specificity: {0}\".format((rfc_binarize_specificity - m3_Specificity)/m3_Specificity))"
   ]
  },
  {
   "cell_type": "markdown",
   "id": "488ba2bc",
   "metadata": {},
   "source": [
    "<p>\n",
    "For the random forest model there is a 16% increase in sensitivity resulting from threshold tuning but this<br>\n",
    "incurs a cost of 18% drop in specificity. This reflects the relative inferiority of this random forest model over <br>the CatBoost model.\n",
    "</p>"
   ]
  },
  {
   "cell_type": "markdown",
   "id": "7e771e4f",
   "metadata": {},
   "source": [
    "<h3 style=\"color: green;\">Receiver operating Characteristic Curve (ROC Curves) and Area Under the Curve (AUC)</h3>"
   ]
  },
  {
   "cell_type": "code",
   "execution_count": 40,
   "id": "5f3a51d1",
   "metadata": {},
   "outputs": [],
   "source": [
    "# CatBoost\n",
    "final_fpr, final_tpr, final_thresholds = roc_curve(y_test_catb, final_pred_prob)\n",
    "\n",
    "# Random forest\n",
    "rfc_fpr, rfc_tpr, rfc_thresholds = roc_curve(y_test_rfc, m3_pred_prob)"
   ]
  },
  {
   "cell_type": "code",
   "execution_count": 41,
   "id": "604c2ad2",
   "metadata": {},
   "outputs": [
    {
     "data": {
      "image/png": "[encoded data removed]",
      "text/plain": [
       "<Figure size 960x480 with 2 Axes>"
      ]
     },
     "metadata": {},
     "output_type": "display_data"
    }
   ],
   "source": [
    "sb.set_style('dark')\n",
    "sb.set(rc={'axes.facecolor':'#424242',\n",
    "           'figure.facecolor':'#212121',\n",
    "           'axes.labelcolor':'lime',\n",
    "           'text.color':'lime'})\n",
    "\n",
    "# histogram of predicted probabilities\n",
    "\n",
    "fig, ax = plt.subplots(1, 2, figsize=plt.figaspect(1/2))\n",
    "fig.patch.set_facecolor('#212121')\n",
    "fig.patch.set_alpha(0.95)\n",
    "\n",
    "# plotting RandomForest\n",
    "ax[0].patch.set_facecolor('#212121')\n",
    "ax[0].patch.set_alpha(1.0)\n",
    "ax[0].yaxis.label.set_color('lime')\n",
    "ax[0].xaxis.label.set_color('lime')\n",
    "ax[0].title.set_color('lime')\n",
    "ax[0].tick_params(colors='lime', which='both')\n",
    "ax[0].set(xlabel ='False Positive Rate (1-Specificity)', ylabel ='True Positive Rate (Sensitivity)',\n",
    "       xlim =(0, 1.1), ylim =(0, 1.1),\n",
    "       title ='ROC curve for Random Forest model')\n",
    "\n",
    "ax[0].plot(rfc_fpr, rfc_tpr, color='red')\n",
    "\n",
    "# plotting Catboost\n",
    "ax[1].patch.set_facecolor('#212121')\n",
    "ax[1].patch.set_alpha(1.0)\n",
    "ax[1].yaxis.label.set_color('lime')\n",
    "ax[1].xaxis.label.set_color('lime')\n",
    "ax[1].title.set_color('lime')\n",
    "ax[1].tick_params(colors='lime', which='both')\n",
    "ax[1].set(xlabel ='False Positive Rate (1-Specificity)', ylabel ='True Positive Rate (Sensitivity)',\n",
    "       xlim =(0, 1.1), ylim =(0, 1.1),\n",
    "       title ='ROC curve for Catboost model')\n",
    "\n",
    "ax[1].plot(final_fpr, final_tpr, color='red')\n",
    "\n",
    "plt.tight_layout()\n",
    "plt.show()"
   ]
  },
  {
   "cell_type": "markdown",
   "id": "8c7e609e",
   "metadata": {},
   "source": [
    "<p>The ROC curve is a measure of the discriminatory power of the model in distinguishing between the class attributes.<br>The more the curve hogs the top left hand corner, the better the model i.e. higher sensitivity and specificity.<br>The CatBoost ROC curve covers the entire area/grid while the Random forest ROC curve has a little room<br>left on the top left hand corner.<br>This is yet another illustration of the superiority of the CatBoost model in discriminating between the class attributes(0,1).\n",
    "</p>"
   ]
  },
  {
   "cell_type": "markdown",
   "id": "29a2fb56",
   "metadata": {},
   "source": [
    "<h3 style=\"color: green;\">Area Under the Curve (AUC)</h3>"
   ]
  },
  {
   "cell_type": "code",
   "execution_count": 42,
   "id": "f6240bc8",
   "metadata": {},
   "outputs": [
    {
     "name": "stdout",
     "output_type": "stream",
     "text": [
      "Random forest AUC(Area under the curve): 0.9855897132722437\n",
      "CatBoost AUC(Area under the curve): 1.0\n"
     ]
    }
   ],
   "source": [
    "# AUC(Area under the curve) Random forest\n",
    "\n",
    "print(f\"Random forest AUC(Area under the curve): {roc_auc_score(y_test_rfc, m3_pred_prob)}\")\n",
    "\n",
    "print(f\"CatBoost AUC(Area under the curve): {roc_auc_score(y_test_catb, final_pred_prob)}\")"
   ]
  },
  {
   "cell_type": "markdown",
   "id": "d8b759bf",
   "metadata": {},
   "source": [
    "<p>\n",
    "To complement the ROC curve illustration of the models, the AUC calculations show that the CatBoost model AUC is <br>very high, 0.985, almost 1.0 while the Random forest model AUC is relatively less at 0.986. Note, both are<br>\n",
    "very high AUCs.\n",
    "</p>"
   ]
  },
  {
   "cell_type": "markdown",
   "id": "2e3a4fb9",
   "metadata": {},
   "source": [
    "<h1 style=\"color: green;\">Selecting Sensitivity and Specificity from ROC using a function</h1>"
   ]
  },
  {
   "cell_type": "code",
   "execution_count": 43,
   "id": "0990fb75",
   "metadata": {},
   "outputs": [],
   "source": [
    "# CatBoost\n",
    "final_fpr, final_tpr, final_thresholds = roc_curve(y_test_catb, final_pred_prob)\n",
    "\n",
    "# Random forest\n",
    "rfc_fpr, rfc_tpr, rfc_thresholds = roc_curve(y_test_rfc, m3_pred_prob)"
   ]
  },
  {
   "cell_type": "code",
   "execution_count": 44,
   "id": "61bd6472",
   "metadata": {},
   "outputs": [],
   "source": [
    "# define a function that accepts a threshold and prints sensitivity and specificity\n",
    "def evaluate_threshold(threshold, tpr,fpr, thresholds):\n",
    "    print(\"Sensitivity: \",tpr[thresholds > threshold][-1])\n",
    "    print(\"Specificity: {}\".format(1 -fpr[thresholds > threshold][-1]))"
   ]
  },
  {
   "cell_type": "code",
   "execution_count": 45,
   "id": "39b4d028",
   "metadata": {},
   "outputs": [
    {
     "name": "stdout",
     "output_type": "stream",
     "text": [
      "Sensitivity:  1.0\n",
      "Specificity: 1.0\n"
     ]
    }
   ],
   "source": [
    "# Sensitivity and specificity for CatBoost model with a given threshold, 0.1423\n",
    "evaluate_threshold(0.1423, final_tpr,final_fpr, final_thresholds)"
   ]
  },
  {
   "cell_type": "code",
   "execution_count": 46,
   "id": "05d31516",
   "metadata": {},
   "outputs": [
    {
     "name": "stdout",
     "output_type": "stream",
     "text": [
      "Sensitivity:  1.0\n",
      "Specificity: 0.7989949748743719\n"
     ]
    }
   ],
   "source": [
    "# Sensitivity and specificity for Random forest model with a given threshold, 0.2467\n",
    "evaluate_threshold(0.2467, rfc_tpr, rfc_fpr, rfc_thresholds)"
   ]
  },
  {
   "cell_type": "markdown",
   "id": "19237f35",
   "metadata": {},
   "source": [
    "<p style=\"color: black;\"><b>\n",
    "The function above is very useful, infact it should be the first point of call<br>\n",
    "for threshold tuning.\n",
    "</b></p>"
   ]
  },
  {
   "cell_type": "markdown",
   "id": "cb22303a",
   "metadata": {},
   "source": [
    "<h3 style=\"color: green;\">Visualizing sensitivity vs specificity threshold ranges</h3>"
   ]
  },
  {
   "cell_type": "code",
   "execution_count": 47,
   "id": "7a8dfb1c",
   "metadata": {},
   "outputs": [],
   "source": [
    "# Threshold ranges\n",
    "range_ = [\n",
    "            0.001, 0.002, 0.003, 0.004, 0.005, 0.006, 0.007, 0.008, 0.009, 0.01, 0.015,\n",
    "            0.02, 0.025, 0.03, 0.035, 0.04, 0.045, 0.05, 0.055, 0.06, 0.065, 0.07, 0.075,\n",
    "            0.08, 0.085, 0.09, 0.095, 0.1, 0.11, 0.12, 0.125, 0.13, 0.133,\n",
    "            0.135, 0.137, 0.138, 0.139, 0.14, 0.141, 0.142, 0.143, 0.145, 0.147,\n",
    "            0.149, 0.15, 0.16, 0.17, 0.18, 0.19, 0.2, 0.21, 0.22, 0.23, 0.235, 0.238,\n",
    "            0.24, 0.241, 0.243, 0.244, 0.245, 0.246, 0.247, 0.248, 0.249, 0.25, 0.3, 0.35, 0.4,\n",
    "            0.5, 0.55, 0.6, 0.65, 0.7, 0.75, 0.8, 0.81, 0.82, 0.83, 0.84, 0.85, 0.86, 0.87, 0.88,\n",
    "            0.89, 0.90, 0.91, 0.92, 0.93, 0.94, 0.95, 0.96, 0.97, 0.98, 0.99    \n",
    "         ]"
   ]
  },
  {
   "cell_type": "code",
   "execution_count": 48,
   "id": "70196ea2",
   "metadata": {},
   "outputs": [],
   "source": [
    "def thresholds_illustration(threshold_values, predicted_prob, y_test):\n",
    "    \n",
    "    thresholds_list = []\n",
    "\n",
    "    for value_ in threshold_values:\n",
    "        thresh = []\n",
    "        thresh.append(value_)\n",
    "\n",
    "        # Threshold tuning 0.1423\n",
    "        pred_class_binarize = binarize([predicted_prob],threshold=value_)[0]\n",
    "\n",
    "        # unraveling the new confusion matrix\n",
    "        Binarize_tn,Binarize_fp,Binarize_fn,Binarize_tp = \\\n",
    "        confusion_matrix(y_test, pred_class_binarize).ravel()\n",
    "\n",
    "        # Sensitivity\n",
    "        sensitivity_binarize = recall_score(y_test,pred_class_binarize)\n",
    "        \n",
    "        # Append sensitivity to thresh\n",
    "        thresh.append(sensitivity_binarize)\n",
    "\n",
    "        # Specificity\n",
    "        binarize_specificity = Binarize_tn/(Binarize_tn + Binarize_fp)\n",
    "        \n",
    "        # append specificity\n",
    "        thresh.append(binarize_specificity)\n",
    "\n",
    "        # Append to thresh to thresholds_list\n",
    "        thresholds_list.append(thresh)\n",
    "\n",
    "    return thresholds_list"
   ]
  },
  {
   "cell_type": "code",
   "execution_count": 49,
   "id": "6bcec798",
   "metadata": {},
   "outputs": [],
   "source": [
    "# Retrieve thresholds, sensitivity and specificity data\n",
    "rfc_thresh_data = thresholds_illustration(range_, m3_pred_prob, y_test_rfc)\n",
    "rfc_thresh_data_df = pd.DataFrame(rfc_thresh_data, columns=['threshold', 'sensitivity','specificity'])\n",
    "\n",
    "catb_thresh_data = thresholds_illustration(range_, final_pred_prob, y_test_catb)\n",
    "catb_thresh_data_df = pd.DataFrame(catb_thresh_data, columns=['threshold', 'sensitivity','specificity'])"
   ]
  },
  {
   "cell_type": "code",
   "execution_count": 50,
   "id": "b317706c",
   "metadata": {},
   "outputs": [
    {
     "data": {
      "image/png": "[encoded data removed]",
      "text/plain": [
       "<Figure size 960x480 with 2 Axes>"
      ]
     },
     "metadata": {},
     "output_type": "display_data"
    }
   ],
   "source": [
    "sb.set_style('dark')\n",
    "sb.set(rc={'axes.facecolor':'#424242',\n",
    "           'figure.facecolor':'#212121',\n",
    "           'axes.labelcolor':'lime',\n",
    "           'text.color':'lime'})\n",
    "\n",
    "# histogram of predicted probabilities\n",
    "\n",
    "fig, ax = plt.subplots(1, 2, figsize=plt.figaspect(1/2))\n",
    "fig.patch.set_facecolor('#212121')\n",
    "fig.patch.set_alpha(0.95)\n",
    "\n",
    "# plotting RandomForest\n",
    "ax[0].patch.set_facecolor('#212121')\n",
    "ax[0].patch.set_alpha(1.0)\n",
    "ax[0].yaxis.label.set_color('lime')\n",
    "ax[0].xaxis.label.set_color('lime')\n",
    "ax[0].title.set_color('lime')\n",
    "ax[0].tick_params(colors='lime', which='both')\n",
    "ax[0].set(xlabel ='Threshold', ylabel ='Percentage',\n",
    "       xlim =(0, 1.0), ylim =(0, 1.1),\n",
    "       title ='Sensitivity vs specificity\\nRandom forest model')\n",
    "\n",
    "ax[0].plot(rfc_thresh_data_df.threshold, rfc_thresh_data_df.sensitivity, \n",
    "         color='lime',lw=3.3, label='Sensitivity')\n",
    "ax[0].plot(rfc_thresh_data_df.threshold, rfc_thresh_data_df.specificity, \n",
    "         color='red',lw=3.3, label='Specificity')\n",
    "\n",
    "ax[0].legend()\n",
    "\n",
    "# plotting Catboost\n",
    "ax[1].patch.set_facecolor('#212121')\n",
    "ax[1].patch.set_alpha(1.0)\n",
    "ax[1].yaxis.label.set_color('lime')\n",
    "ax[1].xaxis.label.set_color('lime')\n",
    "ax[1].title.set_color('lime')\n",
    "ax[1].tick_params(colors='lime', which='both')\n",
    "ax[1].set(xlabel ='Threshold', ylabel ='Percentage',\n",
    "       xlim =(0, 1.0), ylim =(0.45, 1.1),\n",
    "       title ='Sensitivity vs specificity\\nCatBoost model')\n",
    "\n",
    "ax[1].plot(catb_thresh_data_df.threshold, catb_thresh_data_df.sensitivity, \n",
    "         color='lime',lw=3.3, label='Sensitivity')\n",
    "ax[1].plot(catb_thresh_data_df.threshold, catb_thresh_data_df.specificity, \n",
    "         color='red',lw=3.3, label='Specificity')\n",
    "ax[1].legend()\n",
    "\n",
    "plt.tight_layout()\n",
    "plt.show()"
   ]
  },
  {
   "cell_type": "markdown",
   "id": "1f6dd0da",
   "metadata": {},
   "source": [
    "<p>\n",
    "The plots show that the CatBoost model sensitivity is not as responsive as the Random forest counterpart at low <br> thresholds. It's only past the 0.8 threshold that it becomes more responsive. This is evidenced by the<br>\n",
    "negative steepening sensitivity curve. This reflects the CatBoost model's assignment of high probability to true <br>positives i.e. observations that are in target class 1 were assigned higher probabilities for class 1.<br>\n",
    "As such they are clustered near 1.<br><br>\n",
    "The specificity of the CatBoost model is highly responsive at low thresholds: This is due to the assignment of<br>\n",
    "low probabilities for class 1 for observations labeled as class 0; equally, assigning high probabilities for<br>\n",
    "class 0 for observations that are labeled as class 0. As a result, all of the true negatives are caught and there <br>are no false positives.<br><br>\n",
    "Since the Random forest model does not discriminate as well, it's sensitivity and specificity are more responsive <br>to variations in thresholds.\n",
    "</p>"
   ]
  },
  {
   "cell_type": "markdown",
   "id": "8e99e1b9",
   "metadata": {},
   "source": [
    "<h1 style=\"color: green;\">Threshold tuning choice</h1>"
   ]
  },
  {
   "cell_type": "markdown",
   "id": "61f62f59",
   "metadata": {},
   "source": [
    "<p>\n",
    "Since the CatBoost model was chosen as the final model and through trial and error in threshold tuning 0.1423 was<br>found to be the optimal threshold, up to 4 decimal places; this is also visible in the sensitivity vs specificity plots above; for deployment <b>0.1423<b/> shall be the threshold for binarization.\n",
    "</p>"
   ]
  },
  {
   "cell_type": "markdown",
   "id": "c63fcd98",
   "metadata": {},
   "source": [
    "<h1 style=\"color: green;\">Conclusion</h1>\n",
    "<p>\n",
    "The superiority of the final model, CatBoost, has been demonstrated. The model has high sensitivity and specificity.<br>With respect to threshold tuning a trial and error process determinded that <b>0.1423</b> is the optimal threshold to capture<br>the false negative and transfer them to true positives.\n",
    "</p>"
   ]
  },
  {
   "cell_type": "code",
   "execution_count": null,
   "id": "1671ee37",
   "metadata": {},
   "outputs": [],
   "source": []
  }
 ],
 "metadata": {
  "kernelspec": {
   "display_name": "Python 3 (ipykernel)",
   "language": "python",
   "name": "python3"
  },
  "language_info": {
   "codemirror_mode": {
    "name": "ipython",
    "version": 3
   },
   "file_extension": ".py",
   "mimetype": "text/x-python",
   "name": "python",
   "nbconvert_exporter": "python",
   "pygments_lexer": "ipython3",
   "version": "3.10.12"
  }
 },
 "nbformat": 4,
 "nbformat_minor": 5
}
