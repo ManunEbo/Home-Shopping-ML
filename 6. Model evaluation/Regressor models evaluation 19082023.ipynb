{
 "cells": [
  {
   "cell_type": "markdown",
   "id": "cc593844",
   "metadata": {},
   "source": [
    "<h1 style=\"color: green;\">Evaluating regressor final model</h1>\n",
    "<p>\n",
    "The following tasks are accomplished in this section:\n",
    "<ul>\n",
    "<li>Final feature selection using selectfrom on the best model</li>\n",
    "<li>Final model training</li>\n",
    "<li>Validate the final model</li>\n",
    "<li>Feature importance top features model</li>\n",
    "<li>Exporting the evaluated best model</li>\n",
    "</ul>\n",
    "</p>"
   ]
  },
  {
   "cell_type": "markdown",
   "id": "02a94981",
   "metadata": {},
   "source": [
    "<h1 style=\"color: green;\">Import libraries</h1>"
   ]
  },
  {
   "cell_type": "code",
   "execution_count": 1,
   "id": "7883ebbb",
   "metadata": {},
   "outputs": [],
   "source": [
    "import pandas as pd\n",
    "import numpy as np\n",
    "import matplotlib\n",
    "import matplotlib.pyplot as plt\n",
    "import seaborn as sb\n",
    "\n",
    "from sklearn.ensemble import GradientBoostingRegressor as gb_r\n",
    "\n",
    "from sklearn.ensemble import VotingRegressor as vot_r\n",
    "\n",
    "\n",
    "from sklearn.preprocessing import StandardScaler\n",
    "\n",
    "from sklearn.model_selection import GridSearchCV\n",
    "from sklearn.model_selection import cross_val_score\n",
    "\n",
    "from sklearn.metrics import make_scorer\n",
    "from sklearn.metrics import mean_squared_error\n",
    "from sklearn.metrics import explained_variance_score\n",
    "from sklearn.metrics import r2_score\n",
    "\n",
    "# Feature selection\n",
    "from sklearn.feature_selection import SelectFromModel\n",
    "\n",
    "\n",
    "import joblib\n",
    "\n",
    "import warnings\n",
    "warnings.filterwarnings('ignore')"
   ]
  },
  {
   "cell_type": "markdown",
   "id": "046e000f",
   "metadata": {},
   "source": [
    "<h1 style=\"color: green;\">Load the data</h1>"
   ]
  },
  {
   "cell_type": "code",
   "execution_count": 2,
   "id": "129d17fc",
   "metadata": {},
   "outputs": [],
   "source": [
    "X_train = pd.read_csv(\"../2. Data/homeshopping_Regressor_X_train.csv\")\n",
    "X_test = pd.read_csv(\"../2. Data/homeshopping_Regressor_X_test.csv\")"
   ]
  },
  {
   "cell_type": "code",
   "execution_count": 3,
   "id": "4b02598c",
   "metadata": {
    "scrolled": true
   },
   "outputs": [
    {
     "data": {
      "text/html": [
       "<div>\n",
       "<style scoped>\n",
       "    .dataframe tbody tr th:only-of-type {\n",
       "        vertical-align: middle;\n",
       "    }\n",
       "\n",
       "    .dataframe tbody tr th {\n",
       "        vertical-align: top;\n",
       "    }\n",
       "\n",
       "    .dataframe thead th {\n",
       "        text-align: right;\n",
       "    }\n",
       "</style>\n",
       "<table border=\"1\" class=\"dataframe\">\n",
       "  <thead>\n",
       "    <tr style=\"text-align: right;\">\n",
       "      <th></th>\n",
       "      <th>Total_Nbr_of_Items</th>\n",
       "      <th>Total_Price</th>\n",
       "      <th>Date_diff</th>\n",
       "      <th>Nbr_trips_per_wk</th>\n",
       "      <th>Nbr_items_per_wk</th>\n",
       "      <th>Total_Exp_wk_perc</th>\n",
       "      <th>hour</th>\n",
       "      <th>Bread_wk</th>\n",
       "      <th>Bread_exp_wk</th>\n",
       "      <th>Bread_wk_exp_perc</th>\n",
       "      <th>...</th>\n",
       "      <th>Week_day_name_Monday</th>\n",
       "      <th>Week_day_name_Saturday</th>\n",
       "      <th>Week_day_name_Sunday</th>\n",
       "      <th>Week_day_name_Thursday</th>\n",
       "      <th>Week_day_name_Tuesday</th>\n",
       "      <th>Week_day_name_Wednesday</th>\n",
       "      <th>Part_of_day_Afternoon</th>\n",
       "      <th>Part_of_day_Evening</th>\n",
       "      <th>Part_of_day_Morning</th>\n",
       "      <th>target</th>\n",
       "    </tr>\n",
       "  </thead>\n",
       "  <tbody>\n",
       "    <tr>\n",
       "      <th>0</th>\n",
       "      <td>0.086329</td>\n",
       "      <td>-0.236649</td>\n",
       "      <td>0.487672</td>\n",
       "      <td>-0.520909</td>\n",
       "      <td>-0.295981</td>\n",
       "      <td>-0.410729</td>\n",
       "      <td>-1.324821</td>\n",
       "      <td>2.398472</td>\n",
       "      <td>1.694186</td>\n",
       "      <td>0.381548</td>\n",
       "      <td>...</td>\n",
       "      <td>-0.449260</td>\n",
       "      <td>-0.483241</td>\n",
       "      <td>-0.326219</td>\n",
       "      <td>-0.393958</td>\n",
       "      <td>2.680951</td>\n",
       "      <td>-0.426978</td>\n",
       "      <td>-0.974374</td>\n",
       "      <td>-0.393958</td>\n",
       "      <td>1.445553</td>\n",
       "      <td>-0.294171</td>\n",
       "    </tr>\n",
       "    <tr>\n",
       "      <th>1</th>\n",
       "      <td>-0.816953</td>\n",
       "      <td>-0.320357</td>\n",
       "      <td>-0.516810</td>\n",
       "      <td>2.902459</td>\n",
       "      <td>0.983922</td>\n",
       "      <td>-0.972653</td>\n",
       "      <td>0.450253</td>\n",
       "      <td>0.566403</td>\n",
       "      <td>-0.473094</td>\n",
       "      <td>-0.494051</td>\n",
       "      <td>...</td>\n",
       "      <td>-0.449260</td>\n",
       "      <td>-0.483241</td>\n",
       "      <td>3.065424</td>\n",
       "      <td>-0.393958</td>\n",
       "      <td>-0.373002</td>\n",
       "      <td>-0.426978</td>\n",
       "      <td>1.026300</td>\n",
       "      <td>-0.393958</td>\n",
       "      <td>-0.691777</td>\n",
       "      <td>0.181543</td>\n",
       "    </tr>\n",
       "    <tr>\n",
       "      <th>2</th>\n",
       "      <td>1.170267</td>\n",
       "      <td>-0.134987</td>\n",
       "      <td>0.822500</td>\n",
       "      <td>-1.376752</td>\n",
       "      <td>-1.350020</td>\n",
       "      <td>0.465925</td>\n",
       "      <td>-0.310493</td>\n",
       "      <td>-0.349632</td>\n",
       "      <td>0.511028</td>\n",
       "      <td>3.008344</td>\n",
       "      <td>...</td>\n",
       "      <td>-0.449260</td>\n",
       "      <td>-0.483241</td>\n",
       "      <td>-0.326219</td>\n",
       "      <td>-0.393958</td>\n",
       "      <td>-0.373002</td>\n",
       "      <td>2.342039</td>\n",
       "      <td>1.026300</td>\n",
       "      <td>-0.393958</td>\n",
       "      <td>-0.691777</td>\n",
       "      <td>-0.330668</td>\n",
       "    </tr>\n",
       "    <tr>\n",
       "      <th>3</th>\n",
       "      <td>-0.455640</td>\n",
       "      <td>-0.307790</td>\n",
       "      <td>-0.181982</td>\n",
       "      <td>0.334933</td>\n",
       "      <td>0.758057</td>\n",
       "      <td>-0.974993</td>\n",
       "      <td>0.450253</td>\n",
       "      <td>0.566403</td>\n",
       "      <td>-0.473094</td>\n",
       "      <td>-0.494051</td>\n",
       "      <td>...</td>\n",
       "      <td>-0.449260</td>\n",
       "      <td>-0.483241</td>\n",
       "      <td>3.065424</td>\n",
       "      <td>-0.393958</td>\n",
       "      <td>-0.373002</td>\n",
       "      <td>-0.426978</td>\n",
       "      <td>1.026300</td>\n",
       "      <td>-0.393958</td>\n",
       "      <td>-0.691777</td>\n",
       "      <td>0.582345</td>\n",
       "    </tr>\n",
       "    <tr>\n",
       "      <th>4</th>\n",
       "      <td>-0.274984</td>\n",
       "      <td>-0.184135</td>\n",
       "      <td>-0.516810</td>\n",
       "      <td>-0.806190</td>\n",
       "      <td>0.231038</td>\n",
       "      <td>-0.460624</td>\n",
       "      <td>0.703836</td>\n",
       "      <td>0.566403</td>\n",
       "      <td>-0.473094</td>\n",
       "      <td>-0.494051</td>\n",
       "      <td>...</td>\n",
       "      <td>2.225881</td>\n",
       "      <td>-0.483241</td>\n",
       "      <td>-0.326219</td>\n",
       "      <td>-0.393958</td>\n",
       "      <td>-0.373002</td>\n",
       "      <td>-0.426978</td>\n",
       "      <td>1.026300</td>\n",
       "      <td>-0.393958</td>\n",
       "      <td>-0.691777</td>\n",
       "      <td>-0.188122</td>\n",
       "    </tr>\n",
       "  </tbody>\n",
       "</table>\n",
       "<p>5 rows × 73 columns</p>\n",
       "</div>"
      ],
      "text/plain": [
       "   Total_Nbr_of_Items  Total_Price  Date_diff  Nbr_trips_per_wk  \\\n",
       "0            0.086329    -0.236649   0.487672         -0.520909   \n",
       "1           -0.816953    -0.320357  -0.516810          2.902459   \n",
       "2            1.170267    -0.134987   0.822500         -1.376752   \n",
       "3           -0.455640    -0.307790  -0.181982          0.334933   \n",
       "4           -0.274984    -0.184135  -0.516810         -0.806190   \n",
       "\n",
       "   Nbr_items_per_wk  Total_Exp_wk_perc      hour  Bread_wk  Bread_exp_wk  \\\n",
       "0         -0.295981          -0.410729 -1.324821  2.398472      1.694186   \n",
       "1          0.983922          -0.972653  0.450253  0.566403     -0.473094   \n",
       "2         -1.350020           0.465925 -0.310493 -0.349632      0.511028   \n",
       "3          0.758057          -0.974993  0.450253  0.566403     -0.473094   \n",
       "4          0.231038          -0.460624  0.703836  0.566403     -0.473094   \n",
       "\n",
       "   Bread_wk_exp_perc  ...  Week_day_name_Monday  Week_day_name_Saturday  \\\n",
       "0           0.381548  ...             -0.449260               -0.483241   \n",
       "1          -0.494051  ...             -0.449260               -0.483241   \n",
       "2           3.008344  ...             -0.449260               -0.483241   \n",
       "3          -0.494051  ...             -0.449260               -0.483241   \n",
       "4          -0.494051  ...              2.225881               -0.483241   \n",
       "\n",
       "   Week_day_name_Sunday  Week_day_name_Thursday  Week_day_name_Tuesday  \\\n",
       "0             -0.326219               -0.393958               2.680951   \n",
       "1              3.065424               -0.393958              -0.373002   \n",
       "2             -0.326219               -0.393958              -0.373002   \n",
       "3              3.065424               -0.393958              -0.373002   \n",
       "4             -0.326219               -0.393958              -0.373002   \n",
       "\n",
       "   Week_day_name_Wednesday  Part_of_day_Afternoon  Part_of_day_Evening  \\\n",
       "0                -0.426978              -0.974374            -0.393958   \n",
       "1                -0.426978               1.026300            -0.393958   \n",
       "2                 2.342039               1.026300            -0.393958   \n",
       "3                -0.426978               1.026300            -0.393958   \n",
       "4                -0.426978               1.026300            -0.393958   \n",
       "\n",
       "   Part_of_day_Morning    target  \n",
       "0             1.445553 -0.294171  \n",
       "1            -0.691777  0.181543  \n",
       "2            -0.691777 -0.330668  \n",
       "3            -0.691777  0.582345  \n",
       "4            -0.691777 -0.188122  \n",
       "\n",
       "[5 rows x 73 columns]"
      ]
     },
     "execution_count": 3,
     "metadata": {},
     "output_type": "execute_result"
    }
   ],
   "source": [
    "X_train.head()"
   ]
  },
  {
   "cell_type": "code",
   "execution_count": 4,
   "id": "0237236c",
   "metadata": {},
   "outputs": [],
   "source": [
    "# Extract y_train and y_test from X_train and X_test\n",
    "y_train = X_train.target.values\n",
    "y_test = X_test.target.values\n",
    "\n",
    "# drop y_train and y_test from X_train and X_test\n",
    "X_train.drop(['target'], axis=1, inplace=True)\n",
    "X_test.drop(['target'], axis=1, inplace=True)"
   ]
  },
  {
   "cell_type": "code",
   "execution_count": 5,
   "id": "6628be07",
   "metadata": {},
   "outputs": [
    {
     "data": {
      "text/plain": [
       "(655, 72)"
      ]
     },
     "execution_count": 5,
     "metadata": {},
     "output_type": "execute_result"
    }
   ],
   "source": [
    "X_train.shape"
   ]
  },
  {
   "cell_type": "code",
   "execution_count": 6,
   "id": "31646a47",
   "metadata": {},
   "outputs": [
    {
     "data": {
      "text/plain": [
       "(281, 72)"
      ]
     },
     "execution_count": 6,
     "metadata": {},
     "output_type": "execute_result"
    }
   ],
   "source": [
    "X_test.shape"
   ]
  },
  {
   "cell_type": "markdown",
   "id": "cb452d35",
   "metadata": {},
   "source": [
    "<h1 style=\"color: green;\">Final feature selection using selectfrom </h1>"
   ]
  },
  {
   "cell_type": "code",
   "execution_count": 7,
   "id": "8a1b0b83",
   "metadata": {},
   "outputs": [],
   "source": [
    "GBR = gb_r(\n",
    "        n_estimators = 10000,\n",
    "        learning_rate = 0.01,\n",
    "        max_depth = 8,\n",
    "        loss = 'huber',\n",
    "        random_state = 44\n",
    "    )"
   ]
  },
  {
   "cell_type": "code",
   "execution_count": 8,
   "id": "1064b919",
   "metadata": {},
   "outputs": [
    {
     "data": {
      "text/html": [
       "<style>#sk-container-id-1 {color: black;background-color: white;}#sk-container-id-1 pre{padding: 0;}#sk-container-id-1 div.sk-toggleable {background-color: white;}#sk-container-id-1 label.sk-toggleable__label {cursor: pointer;display: block;width: 100%;margin-bottom: 0;padding: 0.3em;box-sizing: border-box;text-align: center;}#sk-container-id-1 label.sk-toggleable__label-arrow:before {content: \"▸\";float: left;margin-right: 0.25em;color: #696969;}#sk-container-id-1 label.sk-toggleable__label-arrow:hover:before {color: black;}#sk-container-id-1 div.sk-estimator:hover label.sk-toggleable__label-arrow:before {color: black;}#sk-container-id-1 div.sk-toggleable__content {max-height: 0;max-width: 0;overflow: hidden;text-align: left;background-color: #f0f8ff;}#sk-container-id-1 div.sk-toggleable__content pre {margin: 0.2em;color: black;border-radius: 0.25em;background-color: #f0f8ff;}#sk-container-id-1 input.sk-toggleable__control:checked~div.sk-toggleable__content {max-height: 200px;max-width: 100%;overflow: auto;}#sk-container-id-1 input.sk-toggleable__control:checked~label.sk-toggleable__label-arrow:before {content: \"▾\";}#sk-container-id-1 div.sk-estimator input.sk-toggleable__control:checked~label.sk-toggleable__label {background-color: #d4ebff;}#sk-container-id-1 div.sk-label input.sk-toggleable__control:checked~label.sk-toggleable__label {background-color: #d4ebff;}#sk-container-id-1 input.sk-hidden--visually {border: 0;clip: rect(1px 1px 1px 1px);clip: rect(1px, 1px, 1px, 1px);height: 1px;margin: -1px;overflow: hidden;padding: 0;position: absolute;width: 1px;}#sk-container-id-1 div.sk-estimator {font-family: monospace;background-color: #f0f8ff;border: 1px dotted black;border-radius: 0.25em;box-sizing: border-box;margin-bottom: 0.5em;}#sk-container-id-1 div.sk-estimator:hover {background-color: #d4ebff;}#sk-container-id-1 div.sk-parallel-item::after {content: \"\";width: 100%;border-bottom: 1px solid gray;flex-grow: 1;}#sk-container-id-1 div.sk-label:hover label.sk-toggleable__label {background-color: #d4ebff;}#sk-container-id-1 div.sk-serial::before {content: \"\";position: absolute;border-left: 1px solid gray;box-sizing: border-box;top: 0;bottom: 0;left: 50%;z-index: 0;}#sk-container-id-1 div.sk-serial {display: flex;flex-direction: column;align-items: center;background-color: white;padding-right: 0.2em;padding-left: 0.2em;position: relative;}#sk-container-id-1 div.sk-item {position: relative;z-index: 1;}#sk-container-id-1 div.sk-parallel {display: flex;align-items: stretch;justify-content: center;background-color: white;position: relative;}#sk-container-id-1 div.sk-item::before, #sk-container-id-1 div.sk-parallel-item::before {content: \"\";position: absolute;border-left: 1px solid gray;box-sizing: border-box;top: 0;bottom: 0;left: 50%;z-index: -1;}#sk-container-id-1 div.sk-parallel-item {display: flex;flex-direction: column;z-index: 1;position: relative;background-color: white;}#sk-container-id-1 div.sk-parallel-item:first-child::after {align-self: flex-end;width: 50%;}#sk-container-id-1 div.sk-parallel-item:last-child::after {align-self: flex-start;width: 50%;}#sk-container-id-1 div.sk-parallel-item:only-child::after {width: 0;}#sk-container-id-1 div.sk-dashed-wrapped {border: 1px dashed gray;margin: 0 0.4em 0.5em 0.4em;box-sizing: border-box;padding-bottom: 0.4em;background-color: white;}#sk-container-id-1 div.sk-label label {font-family: monospace;font-weight: bold;display: inline-block;line-height: 1.2em;}#sk-container-id-1 div.sk-label-container {text-align: center;}#sk-container-id-1 div.sk-container {/* jupyter's `normalize.less` sets `[hidden] { display: none; }` but bootstrap.min.css set `[hidden] { display: none !important; }` so we also need the `!important` here to be able to override the default hidden behavior on the sphinx rendered scikit-learn.org. See: https://github.com/scikit-learn/scikit-learn/issues/21755 */display: inline-block !important;position: relative;}#sk-container-id-1 div.sk-text-repr-fallback {display: none;}</style><div id=\"sk-container-id-1\" class=\"sk-top-container\"><div class=\"sk-text-repr-fallback\"><pre>SelectFromModel(estimator=GradientBoostingRegressor(learning_rate=0.01,\n",
       "                                                    loss=&#x27;huber&#x27;, max_depth=8,\n",
       "                                                    n_estimators=10000,\n",
       "                                                    random_state=44))</pre><b>In a Jupyter environment, please rerun this cell to show the HTML representation or trust the notebook. <br />On GitHub, the HTML representation is unable to render, please try loading this page with nbviewer.org.</b></div><div class=\"sk-container\" hidden><div class=\"sk-item sk-dashed-wrapped\"><div class=\"sk-label-container\"><div class=\"sk-label sk-toggleable\"><input class=\"sk-toggleable__control sk-hidden--visually\" id=\"sk-estimator-id-1\" type=\"checkbox\" ><label for=\"sk-estimator-id-1\" class=\"sk-toggleable__label sk-toggleable__label-arrow\">SelectFromModel</label><div class=\"sk-toggleable__content\"><pre>SelectFromModel(estimator=GradientBoostingRegressor(learning_rate=0.01,\n",
       "                                                    loss=&#x27;huber&#x27;, max_depth=8,\n",
       "                                                    n_estimators=10000,\n",
       "                                                    random_state=44))</pre></div></div></div><div class=\"sk-parallel\"><div class=\"sk-parallel-item\"><div class=\"sk-item\"><div class=\"sk-label-container\"><div class=\"sk-label sk-toggleable\"><input class=\"sk-toggleable__control sk-hidden--visually\" id=\"sk-estimator-id-2\" type=\"checkbox\" ><label for=\"sk-estimator-id-2\" class=\"sk-toggleable__label sk-toggleable__label-arrow\">estimator: GradientBoostingRegressor</label><div class=\"sk-toggleable__content\"><pre>GradientBoostingRegressor(learning_rate=0.01, loss=&#x27;huber&#x27;, max_depth=8,\n",
       "                          n_estimators=10000, random_state=44)</pre></div></div></div><div class=\"sk-serial\"><div class=\"sk-item\"><div class=\"sk-estimator sk-toggleable\"><input class=\"sk-toggleable__control sk-hidden--visually\" id=\"sk-estimator-id-3\" type=\"checkbox\" ><label for=\"sk-estimator-id-3\" class=\"sk-toggleable__label sk-toggleable__label-arrow\">GradientBoostingRegressor</label><div class=\"sk-toggleable__content\"><pre>GradientBoostingRegressor(learning_rate=0.01, loss=&#x27;huber&#x27;, max_depth=8,\n",
       "                          n_estimators=10000, random_state=44)</pre></div></div></div></div></div></div></div></div></div></div>"
      ],
      "text/plain": [
       "SelectFromModel(estimator=GradientBoostingRegressor(learning_rate=0.01,\n",
       "                                                    loss='huber', max_depth=8,\n",
       "                                                    n_estimators=10000,\n",
       "                                                    random_state=44))"
      ]
     },
     "execution_count": 8,
     "metadata": {},
     "output_type": "execute_result"
    }
   ],
   "source": [
    "# Below final feature selection is done with SelectFromModel\n",
    "\n",
    "sel_ = SelectFromModel(GBR)\n",
    "\n",
    "# Fitting the SelectFromModel with the data\n",
    "sel_.fit(X_train, y_train)"
   ]
  },
  {
   "cell_type": "code",
   "execution_count": 9,
   "id": "b69d5309",
   "metadata": {},
   "outputs": [
    {
     "data": {
      "text/plain": [
       "12"
      ]
     },
     "execution_count": 9,
     "metadata": {},
     "output_type": "execute_result"
    }
   ],
   "source": [
    "# Count of the number of features selected\n",
    "selected_feat = X_train.columns[(sel_.get_support())]\n",
    "\n",
    "len(selected_feat)"
   ]
  },
  {
   "cell_type": "markdown",
   "id": "2da0c512",
   "metadata": {},
   "source": [
    "<b style=\"color: red;\">Note the selected number of features is less than the expected numbers given feature importance .i.e. this is suspicious</b>"
   ]
  },
  {
   "cell_type": "code",
   "execution_count": 10,
   "id": "0f8a1588",
   "metadata": {},
   "outputs": [
    {
     "data": {
      "text/plain": [
       "Index(['Total_Price', 'Nbr_trips_per_wk', 'Total_Exp_wk_perc', 'Raw_meats_wk',\n",
       "       'Vegetables_wk', 'Cooking_base_wk', 'Breakfast_wk', 'Transport_wk',\n",
       "       'Electronics_wk', 'Education_wk', 'Cosmetics_and_selfcare_wk',\n",
       "       'Clothes_and_shoes_wk'],\n",
       "      dtype='object')"
      ]
     },
     "execution_count": 10,
     "metadata": {},
     "output_type": "execute_result"
    }
   ],
   "source": [
    "# Listing the features\n",
    "selected_feat"
   ]
  },
  {
   "cell_type": "markdown",
   "id": "229b3ea5",
   "metadata": {},
   "source": [
    "<h3 style=\"color: green;\">Comparing the importance list and the selected features list to see if they are the same </h3>"
   ]
  },
  {
   "cell_type": "code",
   "execution_count": 11,
   "id": "0dc887c0",
   "metadata": {},
   "outputs": [],
   "source": [
    "GB_reg = joblib.load(\"../8. Models/Regressor_models/GB_reg_gridsearch_best_model\")"
   ]
  },
  {
   "cell_type": "code",
   "execution_count": 12,
   "id": "91e4affb",
   "metadata": {},
   "outputs": [],
   "source": [
    "GBR_imp = pd.Series(GB_reg.feature_importances_, \n",
    "                    index=X_train.columns)"
   ]
  },
  {
   "cell_type": "code",
   "execution_count": 13,
   "id": "60f443be",
   "metadata": {},
   "outputs": [
    {
     "data": {
      "text/plain": [
       "Index(['Clothes_and_shoes_wk', 'Breakfast_wk', 'Cooking_base_wk',\n",
       "       'Vegetables_wk', 'Transport_wk', 'Cosmetics_and_selfcare_wk',\n",
       "       'Raw_meats_wk', 'Electronics_wk', 'Education_wk', 'Total_Exp_wk_perc',\n",
       "       'Total_Price', 'Nbr_trips_per_wk'],\n",
       "      dtype='object')"
      ]
     },
     "execution_count": 13,
     "metadata": {},
     "output_type": "execute_result"
    }
   ],
   "source": [
    "# Putting the feature importance in a list\n",
    "importance_list = GBR_imp.nlargest(12).sort_values().index\n",
    "importance_list"
   ]
  },
  {
   "cell_type": "code",
   "execution_count": 14,
   "id": "d7b01b9f",
   "metadata": {},
   "outputs": [],
   "source": [
    "importance_list = pd.Series(importance_list)"
   ]
  },
  {
   "cell_type": "code",
   "execution_count": 15,
   "id": "f96b800e",
   "metadata": {},
   "outputs": [
    {
     "data": {
      "text/plain": [
       "1     True\n",
       "0     True\n",
       "2     True\n",
       "5     True\n",
       "8     True\n",
       "7     True\n",
       "11    True\n",
       "6     True\n",
       "9     True\n",
       "10    True\n",
       "4     True\n",
       "3     True\n",
       "dtype: bool"
      ]
     },
     "execution_count": 15,
     "metadata": {},
     "output_type": "execute_result"
    }
   ],
   "source": [
    "importance_list.sort_values() == selected_feat.sort_values()"
   ]
  },
  {
   "cell_type": "markdown",
   "id": "d9352ef6",
   "metadata": {},
   "source": [
    "Above,it is shown that the feature importance, top ten list, is exactly the same as the feature selection list."
   ]
  },
  {
   "cell_type": "markdown",
   "id": "269494ef",
   "metadata": {},
   "source": [
    "<h1 style=\"color: green;\">Final model </h1>\n",
    "<p>\n",
    "Now that the final feature selection is done, the best model, hyperparameter tuned from GridSearchCV, will be<br>\n",
    "re-run using the final features from the SelectFromModel output.<br>\n",
    "This is done to streamline the data preprocessing into an efficient pipeline for making predictions faster.\n",
    "</p>"
   ]
  },
  {
   "cell_type": "markdown",
   "id": "43116f51",
   "metadata": {},
   "source": [
    "<h3 style=\"color: green;\">Import the unscaled model data</h3>"
   ]
  },
  {
   "cell_type": "code",
   "execution_count": 16,
   "id": "67a635c8",
   "metadata": {},
   "outputs": [],
   "source": [
    "X_train_unscaled = pd.read_csv(\"../2. Data/X_train_unscaled.csv\")\n",
    "X_test_unscaled = pd.read_csv(\"../2. Data/X_test_unscaled.csv\")"
   ]
  },
  {
   "cell_type": "code",
   "execution_count": 17,
   "id": "628bd5aa",
   "metadata": {},
   "outputs": [],
   "source": [
    "# Extracting the target\n",
    "y_train = X_train_unscaled.y_train\n",
    "y_test = X_test_unscaled.y_test"
   ]
  },
  {
   "cell_type": "code",
   "execution_count": 18,
   "id": "1191b3bc",
   "metadata": {},
   "outputs": [],
   "source": [
    "X_train_unscaled = X_train_unscaled[selected_feat]\n",
    "X_test_unscaled = X_test_unscaled[selected_feat]"
   ]
  },
  {
   "cell_type": "code",
   "execution_count": 19,
   "id": "1931036b",
   "metadata": {},
   "outputs": [
    {
     "data": {
      "text/plain": [
       "((655, 12), (281, 12))"
      ]
     },
     "execution_count": 19,
     "metadata": {},
     "output_type": "execute_result"
    }
   ],
   "source": [
    "# checking the shapes of the datasets\n",
    "X_train_unscaled.shape, X_test_unscaled.shape"
   ]
  },
  {
   "cell_type": "markdown",
   "id": "f459e3e0",
   "metadata": {},
   "source": [
    "<h3 style=\"color: green;\">Scaling X_train and X_test</h3>"
   ]
  },
  {
   "cell_type": "code",
   "execution_count": 20,
   "id": "369a093d",
   "metadata": {},
   "outputs": [],
   "source": [
    "X_scaler = StandardScaler().set_output(transform=\"pandas\")\n",
    "X_scaler.fit(X_train_unscaled)\n",
    "\n",
    "# Saving the X_scaler using joblib\n",
    "joblib.dump(X_scaler, \"../8. Models/StandardScaler_models/Regressor_X_Scaler_19082023\")\n",
    "\n",
    "\n",
    "X_train_final = X_scaler.transform(X_train_unscaled)\n",
    "X_test_final = X_scaler.transform(X_test_unscaled)"
   ]
  },
  {
   "cell_type": "code",
   "execution_count": 21,
   "id": "15312baf",
   "metadata": {},
   "outputs": [
    {
     "data": {
      "text/html": [
       "<div>\n",
       "<style scoped>\n",
       "    .dataframe tbody tr th:only-of-type {\n",
       "        vertical-align: middle;\n",
       "    }\n",
       "\n",
       "    .dataframe tbody tr th {\n",
       "        vertical-align: top;\n",
       "    }\n",
       "\n",
       "    .dataframe thead th {\n",
       "        text-align: right;\n",
       "    }\n",
       "</style>\n",
       "<table border=\"1\" class=\"dataframe\">\n",
       "  <thead>\n",
       "    <tr style=\"text-align: right;\">\n",
       "      <th></th>\n",
       "      <th>Total_Price</th>\n",
       "      <th>Nbr_trips_per_wk</th>\n",
       "      <th>Total_Exp_wk_perc</th>\n",
       "      <th>Raw_meats_wk</th>\n",
       "      <th>Vegetables_wk</th>\n",
       "      <th>Cooking_base_wk</th>\n",
       "      <th>Breakfast_wk</th>\n",
       "      <th>Transport_wk</th>\n",
       "      <th>Electronics_wk</th>\n",
       "      <th>Education_wk</th>\n",
       "      <th>Cosmetics_and_selfcare_wk</th>\n",
       "      <th>Clothes_and_shoes_wk</th>\n",
       "    </tr>\n",
       "  </thead>\n",
       "  <tbody>\n",
       "    <tr>\n",
       "      <th>0</th>\n",
       "      <td>-0.236649</td>\n",
       "      <td>-0.520909</td>\n",
       "      <td>-0.410729</td>\n",
       "      <td>0.245447</td>\n",
       "      <td>0.170240</td>\n",
       "      <td>0.842990</td>\n",
       "      <td>-0.556881</td>\n",
       "      <td>-0.214979</td>\n",
       "      <td>-0.234370</td>\n",
       "      <td>0.489776</td>\n",
       "      <td>0.820683</td>\n",
       "      <td>-0.336270</td>\n",
       "    </tr>\n",
       "    <tr>\n",
       "      <th>1</th>\n",
       "      <td>-0.320357</td>\n",
       "      <td>2.902459</td>\n",
       "      <td>-0.972653</td>\n",
       "      <td>-0.408080</td>\n",
       "      <td>-1.378474</td>\n",
       "      <td>-0.484314</td>\n",
       "      <td>-0.556881</td>\n",
       "      <td>0.168703</td>\n",
       "      <td>-0.234370</td>\n",
       "      <td>1.295814</td>\n",
       "      <td>1.363660</td>\n",
       "      <td>0.810902</td>\n",
       "    </tr>\n",
       "    <tr>\n",
       "      <th>2</th>\n",
       "      <td>-0.134987</td>\n",
       "      <td>-1.376752</td>\n",
       "      <td>0.465925</td>\n",
       "      <td>-1.061607</td>\n",
       "      <td>-0.410528</td>\n",
       "      <td>-0.484314</td>\n",
       "      <td>0.152763</td>\n",
       "      <td>-0.214979</td>\n",
       "      <td>-0.234370</td>\n",
       "      <td>-0.316262</td>\n",
       "      <td>-0.808248</td>\n",
       "      <td>-0.336270</td>\n",
       "    </tr>\n",
       "    <tr>\n",
       "      <th>3</th>\n",
       "      <td>-0.307790</td>\n",
       "      <td>0.334933</td>\n",
       "      <td>-0.974993</td>\n",
       "      <td>0.245447</td>\n",
       "      <td>0.170240</td>\n",
       "      <td>0.179338</td>\n",
       "      <td>0.152763</td>\n",
       "      <td>-0.214979</td>\n",
       "      <td>2.608449</td>\n",
       "      <td>-0.316262</td>\n",
       "      <td>0.820683</td>\n",
       "      <td>-0.336270</td>\n",
       "    </tr>\n",
       "    <tr>\n",
       "      <th>4</th>\n",
       "      <td>-0.184135</td>\n",
       "      <td>-0.806190</td>\n",
       "      <td>-0.460624</td>\n",
       "      <td>3.513080</td>\n",
       "      <td>0.363830</td>\n",
       "      <td>-0.484314</td>\n",
       "      <td>0.862408</td>\n",
       "      <td>-0.214979</td>\n",
       "      <td>-0.234370</td>\n",
       "      <td>-0.316262</td>\n",
       "      <td>-0.808248</td>\n",
       "      <td>-0.336270</td>\n",
       "    </tr>\n",
       "  </tbody>\n",
       "</table>\n",
       "</div>"
      ],
      "text/plain": [
       "   Total_Price  Nbr_trips_per_wk  Total_Exp_wk_perc  Raw_meats_wk  \\\n",
       "0    -0.236649         -0.520909          -0.410729      0.245447   \n",
       "1    -0.320357          2.902459          -0.972653     -0.408080   \n",
       "2    -0.134987         -1.376752           0.465925     -1.061607   \n",
       "3    -0.307790          0.334933          -0.974993      0.245447   \n",
       "4    -0.184135         -0.806190          -0.460624      3.513080   \n",
       "\n",
       "   Vegetables_wk  Cooking_base_wk  Breakfast_wk  Transport_wk  Electronics_wk  \\\n",
       "0       0.170240         0.842990     -0.556881     -0.214979       -0.234370   \n",
       "1      -1.378474        -0.484314     -0.556881      0.168703       -0.234370   \n",
       "2      -0.410528        -0.484314      0.152763     -0.214979       -0.234370   \n",
       "3       0.170240         0.179338      0.152763     -0.214979        2.608449   \n",
       "4       0.363830        -0.484314      0.862408     -0.214979       -0.234370   \n",
       "\n",
       "   Education_wk  Cosmetics_and_selfcare_wk  Clothes_and_shoes_wk  \n",
       "0      0.489776                   0.820683             -0.336270  \n",
       "1      1.295814                   1.363660              0.810902  \n",
       "2     -0.316262                  -0.808248             -0.336270  \n",
       "3     -0.316262                   0.820683             -0.336270  \n",
       "4     -0.316262                  -0.808248             -0.336270  "
      ]
     },
     "execution_count": 21,
     "metadata": {},
     "output_type": "execute_result"
    }
   ],
   "source": [
    "X_train_final.head()"
   ]
  },
  {
   "cell_type": "code",
   "execution_count": 22,
   "id": "efe2bdbc",
   "metadata": {},
   "outputs": [
    {
     "data": {
      "text/html": [
       "<div>\n",
       "<style scoped>\n",
       "    .dataframe tbody tr th:only-of-type {\n",
       "        vertical-align: middle;\n",
       "    }\n",
       "\n",
       "    .dataframe tbody tr th {\n",
       "        vertical-align: top;\n",
       "    }\n",
       "\n",
       "    .dataframe thead th {\n",
       "        text-align: right;\n",
       "    }\n",
       "</style>\n",
       "<table border=\"1\" class=\"dataframe\">\n",
       "  <thead>\n",
       "    <tr style=\"text-align: right;\">\n",
       "      <th></th>\n",
       "      <th>Total_Price</th>\n",
       "      <th>Nbr_trips_per_wk</th>\n",
       "      <th>Total_Exp_wk_perc</th>\n",
       "      <th>Raw_meats_wk</th>\n",
       "      <th>Vegetables_wk</th>\n",
       "      <th>Cooking_base_wk</th>\n",
       "      <th>Breakfast_wk</th>\n",
       "      <th>Transport_wk</th>\n",
       "      <th>Electronics_wk</th>\n",
       "      <th>Education_wk</th>\n",
       "      <th>Cosmetics_and_selfcare_wk</th>\n",
       "      <th>Clothes_and_shoes_wk</th>\n",
       "    </tr>\n",
       "  </thead>\n",
       "  <tbody>\n",
       "    <tr>\n",
       "      <th>0</th>\n",
       "      <td>-0.089654</td>\n",
       "      <td>-0.806190</td>\n",
       "      <td>-0.001911</td>\n",
       "      <td>-0.408080</td>\n",
       "      <td>-0.410528</td>\n",
       "      <td>0.179338</td>\n",
       "      <td>0.862408</td>\n",
       "      <td>-0.214979</td>\n",
       "      <td>-0.23437</td>\n",
       "      <td>-0.316262</td>\n",
       "      <td>-0.808248</td>\n",
       "      <td>0.810902</td>\n",
       "    </tr>\n",
       "    <tr>\n",
       "      <th>1</th>\n",
       "      <td>-0.008639</td>\n",
       "      <td>-0.520909</td>\n",
       "      <td>-0.133278</td>\n",
       "      <td>1.552500</td>\n",
       "      <td>0.751008</td>\n",
       "      <td>-0.484314</td>\n",
       "      <td>0.152763</td>\n",
       "      <td>-0.214979</td>\n",
       "      <td>-0.23437</td>\n",
       "      <td>-0.316262</td>\n",
       "      <td>-0.265271</td>\n",
       "      <td>-0.336270</td>\n",
       "    </tr>\n",
       "    <tr>\n",
       "      <th>2</th>\n",
       "      <td>-0.109852</td>\n",
       "      <td>-0.520909</td>\n",
       "      <td>0.806925</td>\n",
       "      <td>0.898973</td>\n",
       "      <td>-0.604117</td>\n",
       "      <td>-0.484314</td>\n",
       "      <td>-0.556881</td>\n",
       "      <td>-0.214979</td>\n",
       "      <td>-0.23437</td>\n",
       "      <td>-0.316262</td>\n",
       "      <td>0.277706</td>\n",
       "      <td>-0.336270</td>\n",
       "    </tr>\n",
       "    <tr>\n",
       "      <th>3</th>\n",
       "      <td>-0.015372</td>\n",
       "      <td>-0.235629</td>\n",
       "      <td>-0.094086</td>\n",
       "      <td>0.898973</td>\n",
       "      <td>0.557419</td>\n",
       "      <td>-0.484314</td>\n",
       "      <td>1.572052</td>\n",
       "      <td>-0.214979</td>\n",
       "      <td>-0.23437</td>\n",
       "      <td>-0.316262</td>\n",
       "      <td>-0.808248</td>\n",
       "      <td>0.810902</td>\n",
       "    </tr>\n",
       "    <tr>\n",
       "      <th>4</th>\n",
       "      <td>-0.332476</td>\n",
       "      <td>1.190775</td>\n",
       "      <td>-0.966108</td>\n",
       "      <td>0.245447</td>\n",
       "      <td>0.944598</td>\n",
       "      <td>0.179338</td>\n",
       "      <td>-0.556881</td>\n",
       "      <td>-0.214979</td>\n",
       "      <td>-0.23437</td>\n",
       "      <td>-0.316262</td>\n",
       "      <td>-0.265271</td>\n",
       "      <td>3.105245</td>\n",
       "    </tr>\n",
       "  </tbody>\n",
       "</table>\n",
       "</div>"
      ],
      "text/plain": [
       "   Total_Price  Nbr_trips_per_wk  Total_Exp_wk_perc  Raw_meats_wk  \\\n",
       "0    -0.089654         -0.806190          -0.001911     -0.408080   \n",
       "1    -0.008639         -0.520909          -0.133278      1.552500   \n",
       "2    -0.109852         -0.520909           0.806925      0.898973   \n",
       "3    -0.015372         -0.235629          -0.094086      0.898973   \n",
       "4    -0.332476          1.190775          -0.966108      0.245447   \n",
       "\n",
       "   Vegetables_wk  Cooking_base_wk  Breakfast_wk  Transport_wk  Electronics_wk  \\\n",
       "0      -0.410528         0.179338      0.862408     -0.214979        -0.23437   \n",
       "1       0.751008        -0.484314      0.152763     -0.214979        -0.23437   \n",
       "2      -0.604117        -0.484314     -0.556881     -0.214979        -0.23437   \n",
       "3       0.557419        -0.484314      1.572052     -0.214979        -0.23437   \n",
       "4       0.944598         0.179338     -0.556881     -0.214979        -0.23437   \n",
       "\n",
       "   Education_wk  Cosmetics_and_selfcare_wk  Clothes_and_shoes_wk  \n",
       "0     -0.316262                  -0.808248              0.810902  \n",
       "1     -0.316262                  -0.265271             -0.336270  \n",
       "2     -0.316262                   0.277706             -0.336270  \n",
       "3     -0.316262                  -0.808248              0.810902  \n",
       "4     -0.316262                  -0.265271              3.105245  "
      ]
     },
     "execution_count": 22,
     "metadata": {},
     "output_type": "execute_result"
    }
   ],
   "source": [
    "X_test_final.head()"
   ]
  },
  {
   "cell_type": "code",
   "execution_count": 23,
   "id": "33fc4627",
   "metadata": {},
   "outputs": [
    {
     "data": {
      "text/plain": [
       "((655, 12), (281, 12))"
      ]
     },
     "execution_count": 23,
     "metadata": {},
     "output_type": "execute_result"
    }
   ],
   "source": [
    "X_train_final.shape, X_test_final.shape"
   ]
  },
  {
   "cell_type": "markdown",
   "id": "b2ec307c",
   "metadata": {},
   "source": [
    "<h3 style=\"color: green;\">Scaling y_train and y_test</h3>"
   ]
  },
  {
   "cell_type": "code",
   "execution_count": 24,
   "id": "269b055e",
   "metadata": {},
   "outputs": [
    {
     "data": {
      "text/plain": [
       "['../8. Models/StandardScaler_models/y_scaler26072023']"
      ]
     },
     "execution_count": 24,
     "metadata": {},
     "output_type": "execute_result"
    }
   ],
   "source": [
    "# Reshaping y_train and y_test\n",
    "y_train = y_train.values.reshape(-1,1)\n",
    "y_test = y_test.values.reshape(-1,1)\n",
    "\n",
    "y_scaler = StandardScaler()\n",
    "y_scaler.fit(y_train)\n",
    "\n",
    "# Save the y_scaler\n",
    "joblib.dump(y_scaler, \"../8. Models/StandardScaler_models/y_scaler26072023\")"
   ]
  },
  {
   "cell_type": "code",
   "execution_count": 25,
   "id": "783762bc",
   "metadata": {},
   "outputs": [],
   "source": [
    "# transform train and test sets\n",
    "y_train_final = y_scaler.transform(y_train)\n",
    "y_test_final = y_scaler.transform(y_test)"
   ]
  },
  {
   "cell_type": "markdown",
   "id": "52f48a67",
   "metadata": {},
   "source": [
    "<h1 style=\"color: green;\">Final model training</h1>"
   ]
  },
  {
   "cell_type": "code",
   "execution_count": 29,
   "id": "c6adb0db",
   "metadata": {},
   "outputs": [],
   "source": [
    "GBR_final = gb_r(\n",
    "    n_estimators = 10000,\n",
    "    learning_rate = 0.01,\n",
    "    max_depth = 8,\n",
    "    loss = 'huber',\n",
    "    random_state = 44\n",
    "    )"
   ]
  },
  {
   "cell_type": "code",
   "execution_count": 30,
   "id": "d4215111",
   "metadata": {},
   "outputs": [
    {
     "data": {
      "text/html": [
       "<style>#sk-container-id-2 {color: black;background-color: white;}#sk-container-id-2 pre{padding: 0;}#sk-container-id-2 div.sk-toggleable {background-color: white;}#sk-container-id-2 label.sk-toggleable__label {cursor: pointer;display: block;width: 100%;margin-bottom: 0;padding: 0.3em;box-sizing: border-box;text-align: center;}#sk-container-id-2 label.sk-toggleable__label-arrow:before {content: \"▸\";float: left;margin-right: 0.25em;color: #696969;}#sk-container-id-2 label.sk-toggleable__label-arrow:hover:before {color: black;}#sk-container-id-2 div.sk-estimator:hover label.sk-toggleable__label-arrow:before {color: black;}#sk-container-id-2 div.sk-toggleable__content {max-height: 0;max-width: 0;overflow: hidden;text-align: left;background-color: #f0f8ff;}#sk-container-id-2 div.sk-toggleable__content pre {margin: 0.2em;color: black;border-radius: 0.25em;background-color: #f0f8ff;}#sk-container-id-2 input.sk-toggleable__control:checked~div.sk-toggleable__content {max-height: 200px;max-width: 100%;overflow: auto;}#sk-container-id-2 input.sk-toggleable__control:checked~label.sk-toggleable__label-arrow:before {content: \"▾\";}#sk-container-id-2 div.sk-estimator input.sk-toggleable__control:checked~label.sk-toggleable__label {background-color: #d4ebff;}#sk-container-id-2 div.sk-label input.sk-toggleable__control:checked~label.sk-toggleable__label {background-color: #d4ebff;}#sk-container-id-2 input.sk-hidden--visually {border: 0;clip: rect(1px 1px 1px 1px);clip: rect(1px, 1px, 1px, 1px);height: 1px;margin: -1px;overflow: hidden;padding: 0;position: absolute;width: 1px;}#sk-container-id-2 div.sk-estimator {font-family: monospace;background-color: #f0f8ff;border: 1px dotted black;border-radius: 0.25em;box-sizing: border-box;margin-bottom: 0.5em;}#sk-container-id-2 div.sk-estimator:hover {background-color: #d4ebff;}#sk-container-id-2 div.sk-parallel-item::after {content: \"\";width: 100%;border-bottom: 1px solid gray;flex-grow: 1;}#sk-container-id-2 div.sk-label:hover label.sk-toggleable__label {background-color: #d4ebff;}#sk-container-id-2 div.sk-serial::before {content: \"\";position: absolute;border-left: 1px solid gray;box-sizing: border-box;top: 0;bottom: 0;left: 50%;z-index: 0;}#sk-container-id-2 div.sk-serial {display: flex;flex-direction: column;align-items: center;background-color: white;padding-right: 0.2em;padding-left: 0.2em;position: relative;}#sk-container-id-2 div.sk-item {position: relative;z-index: 1;}#sk-container-id-2 div.sk-parallel {display: flex;align-items: stretch;justify-content: center;background-color: white;position: relative;}#sk-container-id-2 div.sk-item::before, #sk-container-id-2 div.sk-parallel-item::before {content: \"\";position: absolute;border-left: 1px solid gray;box-sizing: border-box;top: 0;bottom: 0;left: 50%;z-index: -1;}#sk-container-id-2 div.sk-parallel-item {display: flex;flex-direction: column;z-index: 1;position: relative;background-color: white;}#sk-container-id-2 div.sk-parallel-item:first-child::after {align-self: flex-end;width: 50%;}#sk-container-id-2 div.sk-parallel-item:last-child::after {align-self: flex-start;width: 50%;}#sk-container-id-2 div.sk-parallel-item:only-child::after {width: 0;}#sk-container-id-2 div.sk-dashed-wrapped {border: 1px dashed gray;margin: 0 0.4em 0.5em 0.4em;box-sizing: border-box;padding-bottom: 0.4em;background-color: white;}#sk-container-id-2 div.sk-label label {font-family: monospace;font-weight: bold;display: inline-block;line-height: 1.2em;}#sk-container-id-2 div.sk-label-container {text-align: center;}#sk-container-id-2 div.sk-container {/* jupyter's `normalize.less` sets `[hidden] { display: none; }` but bootstrap.min.css set `[hidden] { display: none !important; }` so we also need the `!important` here to be able to override the default hidden behavior on the sphinx rendered scikit-learn.org. See: https://github.com/scikit-learn/scikit-learn/issues/21755 */display: inline-block !important;position: relative;}#sk-container-id-2 div.sk-text-repr-fallback {display: none;}</style><div id=\"sk-container-id-2\" class=\"sk-top-container\"><div class=\"sk-text-repr-fallback\"><pre>GradientBoostingRegressor(learning_rate=0.01, loss=&#x27;huber&#x27;, max_depth=8,\n",
       "                          n_estimators=10000, random_state=44)</pre><b>In a Jupyter environment, please rerun this cell to show the HTML representation or trust the notebook. <br />On GitHub, the HTML representation is unable to render, please try loading this page with nbviewer.org.</b></div><div class=\"sk-container\" hidden><div class=\"sk-item\"><div class=\"sk-estimator sk-toggleable\"><input class=\"sk-toggleable__control sk-hidden--visually\" id=\"sk-estimator-id-4\" type=\"checkbox\" checked><label for=\"sk-estimator-id-4\" class=\"sk-toggleable__label sk-toggleable__label-arrow\">GradientBoostingRegressor</label><div class=\"sk-toggleable__content\"><pre>GradientBoostingRegressor(learning_rate=0.01, loss=&#x27;huber&#x27;, max_depth=8,\n",
       "                          n_estimators=10000, random_state=44)</pre></div></div></div></div></div>"
      ],
      "text/plain": [
       "GradientBoostingRegressor(learning_rate=0.01, loss='huber', max_depth=8,\n",
       "                          n_estimators=10000, random_state=44)"
      ]
     },
     "execution_count": 30,
     "metadata": {},
     "output_type": "execute_result"
    }
   ],
   "source": [
    "# Fit the model with the final features coming from final feature selection, selected_feat\n",
    "GBR_final.fit(X_train_final, y_train_final)"
   ]
  },
  {
   "cell_type": "markdown",
   "id": "91d5b99a",
   "metadata": {},
   "source": [
    "<h3 style=\"color: green;\">Function to return rmse via cross validation</h3>"
   ]
  },
  {
   "cell_type": "code",
   "execution_count": 31,
   "id": "5dd02e10",
   "metadata": {},
   "outputs": [],
   "source": [
    "# RMSE function\n",
    "def rmse_cv(model,X,y):\n",
    "    rmse = np.sqrt(-cross_val_score(model,X,y, scoring=\"neg_mean_squared_error\",cv=10))\n",
    "    return rmse"
   ]
  },
  {
   "cell_type": "markdown",
   "id": "19fd1ae9",
   "metadata": {},
   "source": [
    "<h1 style=\"color: green;\">Validate the final model</h1>"
   ]
  },
  {
   "cell_type": "code",
   "execution_count": 32,
   "id": "ab81e19d",
   "metadata": {},
   "outputs": [
    {
     "data": {
      "text/plain": [
       "array([0.10355018, 0.16102061, 0.06539326, 0.18600653, 0.02769128,\n",
       "       0.169261  , 0.07578411, 0.15284987, 0.03050855, 0.35681287])"
      ]
     },
     "execution_count": 32,
     "metadata": {},
     "output_type": "execute_result"
    }
   ],
   "source": [
    "GBR_final_rmse = rmse_cv(GBR_final,\n",
    "                         X_train_final, \n",
    "                         y_train_final)\n",
    "GBR_final_rmse"
   ]
  },
  {
   "cell_type": "code",
   "execution_count": 33,
   "id": "6f323dbe",
   "metadata": {},
   "outputs": [
    {
     "data": {
      "text/plain": [
       "0.1328878244998829"
      ]
     },
     "execution_count": 33,
     "metadata": {},
     "output_type": "execute_result"
    }
   ],
   "source": [
    "GBR_final_rmse.mean()"
   ]
  },
  {
   "cell_type": "markdown",
   "id": "d1fb0e48",
   "metadata": {},
   "source": [
    "<h3 style=\"color: green;\">R-squared final model</h3>"
   ]
  },
  {
   "cell_type": "code",
   "execution_count": 34,
   "id": "58ba9e74",
   "metadata": {},
   "outputs": [
    {
     "name": "stdout",
     "output_type": "stream",
     "text": [
      "Training RMSE: 8.48277299443116e-06\n",
      "Training R-squared: 0.9999999999280426\n",
      "\n",
      "\n",
      "Test RMSE: 0.11393531137554058\n",
      "Test R-squared: 0.9897797583092969\n"
     ]
    }
   ],
   "source": [
    "# predict y_train\n",
    "train_y_pred_final = GBR_final.predict(X_train_final)\n",
    "\n",
    "# Retrieve the training rmse,r2_score\n",
    "print(\"Training RMSE: {}\".format(np.sqrt(mean_squared_error(y_train_final,train_y_pred_final))))\n",
    "print(\"Training R-squared: {}\\n\".format(r2_score(y_train_final,train_y_pred_final)))\n",
    "\n",
    "test_y_pred_final = GBR_final.predict(X_test_final)\n",
    "# Retrieve the test rmse,r2_score\n",
    "print(\"\\nTest RMSE: {}\".format(np.sqrt(mean_squared_error(y_test_final,test_y_pred_final))))\n",
    "print(\"Test R-squared: {}\".format(r2_score(y_test_final,test_y_pred_final)))"
   ]
  },
  {
   "cell_type": "markdown",
   "id": "7532b03b",
   "metadata": {},
   "source": [
    "<b style=\"color: green;\">GridSearchCV best model train and test R-squared</b>\n",
    "\n",
    "<ul>\n",
    "<li>Train R-squared: 0.999999998352283</li>\n",
    "<li>Test R-squared: 0.9944698277788455</li>\n",
    "</ul>\n"
   ]
  },
  {
   "cell_type": "markdown",
   "id": "ad02b5cc",
   "metadata": {},
   "source": [
    "<h3 style=\"color: green;\">Change in R-squared final model in comparison to GridSearchCV best model</h3>"
   ]
  },
  {
   "cell_type": "code",
   "execution_count": 35,
   "id": "12ea0a4b",
   "metadata": {},
   "outputs": [
    {
     "name": "stdout",
     "output_type": "stream",
     "text": [
      "Train R-squared difference -1.5757595254613337e-09\n",
      "Test R-squared difference 0.004716150594557444\n"
     ]
    }
   ],
   "source": [
    "train_r2_diff = (0.999999998352283 - r2_score(y_train_final,train_y_pred_final))/ 0.999999998352283\n",
    "test_r2_diff = (0.9944698277788455 - r2_score(y_test_final,test_y_pred_final) )/0.9944698277788455\n",
    "\n",
    "print(f\"Train R-squared difference {train_r2_diff}\")\n",
    "print(f\"Test R-squared difference {test_r2_diff}\")"
   ]
  },
  {
   "cell_type": "markdown",
   "id": "7adb13a3",
   "metadata": {},
   "source": [
    "<p>\n",
    "The final model has 12 features and a test R-squared of 0.99, this is outstanding results i.e. in reducing the<br>\n",
    "feature space by 83% the model still accounts for 99% of the variation.<br><br>\n",
    "<b>Note however, this is suspicious: the number of features differ from the feature importance i.e. there are features that were deemed important from the GridSearch best model feature importance, which are not included in the selection.</b>\n",
    "\n",
    "\n",
    "\n",
    "\n",
    "\n",
    "\n",
    "</p>"
   ]
  },
  {
   "cell_type": "markdown",
   "id": "3d7aeb7c",
   "metadata": {},
   "source": [
    "<h3 style=\"color: green;\">Export X_train and X_test for explaining the model with shap </h3>"
   ]
  },
  {
   "cell_type": "code",
   "execution_count": 36,
   "id": "51470421",
   "metadata": {},
   "outputs": [],
   "source": [
    "X_train_final.to_csv(\"../2. Data/Regressor_X_train_final.csv\",index=False)\n",
    "X_test_final.to_csv(\"../2. Data/Regressor_X_test_final.csv\",index=False)"
   ]
  },
  {
   "cell_type": "markdown",
   "id": "2f34f273",
   "metadata": {},
   "source": [
    "<h1 style=\"color: green;\">Save the final model</h1>"
   ]
  },
  {
   "cell_type": "code",
   "execution_count": 37,
   "id": "4c0ee2c8",
   "metadata": {},
   "outputs": [],
   "source": [
    "joblib.dump(GBR_final17, \"../8. Models/Regressor_models/GBRegressor_19082023\")"
   ]
  },
  {
   "cell_type": "code",
   "execution_count": null,
   "id": "a7630e5c",
   "metadata": {},
   "outputs": [],
   "source": []
  }
 ],
 "metadata": {
  "kernelspec": {
   "display_name": "Python 3 (ipykernel)",
   "language": "python",
   "name": "python3"
  },
  "language_info": {
   "codemirror_mode": {
    "name": "ipython",
    "version": 3
   },
   "file_extension": ".py",
   "mimetype": "text/x-python",
   "name": "python",
   "nbconvert_exporter": "python",
   "pygments_lexer": "ipython3",
   "version": "3.10.12"
  }
 },
 "nbformat": 4,
 "nbformat_minor": 5
}
