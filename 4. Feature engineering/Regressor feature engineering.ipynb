{
 "cells": [
  {
   "cell_type": "markdown",
   "id": "07e8c5cc",
   "metadata": {},
   "source": [
    "<h1 style=\"color: green;\">Considerations for time series</h1>\n",
    "<p>\n",
    "Data leakage is the introduction of information about the target of a data mining problem,<br>\n",
    "which should not be legitimately available to mine from.<br>\n",
    "\n",
    "\n",
    "Data leakage is the creation of unexpected additional information in the training data<br>\n",
    "allowing a model or machine learning algorithm to make unrealistically good predictions.<br>\n",
    "\n",
    "\n",
    "Data leakage is the unintentional introduction of predictive information about the target<br>\n",
    "by the data collection, aggregation and preparation process.<br>\n",
    "\n",
    "In processing data for the classifier model, the data has not been split to account for<br>\n",
    "the data timestamp i.e. the data is randomly sampled so there is relatively future data<br>\n",
    "points in training and testing datasets. This is called data leakage. However since<br>\n",
    "time series has suspicious performance, it is waved:<br><br>\n",
    "<strong>\n",
    "Michael Burry did not have a time series/forcasting model that predicted an imenent<br>\n",
    "stock market crash in 2008. Instead, Michael stumbled onto data which indicated<br>\n",
    "a serious problem in the subprime lending, the rest is common sense.</strong><br><br>\n",
    "<strong>\n",
    "Back in 2006-2007 no financial forcasting models successfully predicted the crash in 2008:<br> \n",
    "they didn't have the data that indicated a serious problem in the underlying assets, subprime lending.</strong><br><br>\n",
    "<strong>\n",
    "Forecasting models do well when there is data supporting the trend:<br>\n",
    "you can see a wave building by the sea side and follow it until it collapses but you can't<br>\n",
    "predict where and when it will collapse with certainty. Nore where and when the next one will arise<br>\n",
    "with certainty unless you have multiple detectors beneath the waters.</strong><br><br>\n",
    "<strong>\n",
    "But you know in advance that one will arise, eventually.</strong><br><br>\n",
    "<strong>\n",
    "So the question, is time series real data science?</strong><br>\n",
    "\n",
    "\n",
    "\n",
    "</p>"
   ]
  },
  {
   "cell_type": "code",
   "execution_count": null,
   "id": "90d19517",
   "metadata": {},
   "outputs": [],
   "source": []
  },
  {
   "cell_type": "code",
   "execution_count": null,
   "id": "1b3c5c5e",
   "metadata": {},
   "outputs": [],
   "source": []
  },
  {
   "cell_type": "code",
   "execution_count": null,
   "id": "089e3225",
   "metadata": {},
   "outputs": [],
   "source": []
  },
  {
   "cell_type": "code",
   "execution_count": null,
   "id": "a109f9ce",
   "metadata": {},
   "outputs": [],
   "source": []
  },
  {
   "cell_type": "code",
   "execution_count": null,
   "id": "f4127f19",
   "metadata": {},
   "outputs": [],
   "source": []
  },
  {
   "cell_type": "code",
   "execution_count": null,
   "id": "bb5f3a4f",
   "metadata": {},
   "outputs": [],
   "source": []
  },
  {
   "cell_type": "code",
   "execution_count": null,
   "id": "91129fac",
   "metadata": {},
   "outputs": [],
   "source": []
  },
  {
   "cell_type": "code",
   "execution_count": null,
   "id": "c232fccc",
   "metadata": {},
   "outputs": [],
   "source": []
  },
  {
   "cell_type": "code",
   "execution_count": null,
   "id": "075fa7bf",
   "metadata": {},
   "outputs": [],
   "source": []
  },
  {
   "cell_type": "code",
   "execution_count": null,
   "id": "d405bc1d",
   "metadata": {},
   "outputs": [],
   "source": []
  },
  {
   "cell_type": "code",
   "execution_count": null,
   "id": "b23e9848",
   "metadata": {},
   "outputs": [],
   "source": []
  },
  {
   "cell_type": "code",
   "execution_count": null,
   "id": "d1d14361",
   "metadata": {},
   "outputs": [],
   "source": []
  },
  {
   "cell_type": "code",
   "execution_count": null,
   "id": "b700f37e",
   "metadata": {},
   "outputs": [],
   "source": []
  },
  {
   "cell_type": "code",
   "execution_count": null,
   "id": "82d3dd7a",
   "metadata": {},
   "outputs": [],
   "source": []
  },
  {
   "cell_type": "code",
   "execution_count": null,
   "id": "b8aaec9f",
   "metadata": {},
   "outputs": [],
   "source": []
  },
  {
   "cell_type": "code",
   "execution_count": null,
   "id": "b8a7e786",
   "metadata": {},
   "outputs": [],
   "source": []
  }
 ],
 "metadata": {
  "kernelspec": {
   "display_name": "Python 3 (ipykernel)",
   "language": "python",
   "name": "python3"
  },
  "language_info": {
   "codemirror_mode": {
    "name": "ipython",
    "version": 3
   },
   "file_extension": ".py",
   "mimetype": "text/x-python",
   "name": "python",
   "nbconvert_exporter": "python",
   "pygments_lexer": "ipython3",
   "version": "3.10.12"
  }
 },
 "nbformat": 4,
 "nbformat_minor": 5
}
